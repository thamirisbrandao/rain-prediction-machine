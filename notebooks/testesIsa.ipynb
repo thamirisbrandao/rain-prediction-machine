{
 "cells": [
  {
   "cell_type": "code",
   "execution_count": 3,
   "id": "df6c9d8e",
   "metadata": {},
   "outputs": [
    {
     "name": "stdout",
     "output_type": "stream",
     "text": [
      "The autoreload extension is already loaded. To reload it, use:\n",
      "  %reload_ext autoreload\n"
     ]
    }
   ],
   "source": [
    "%load_ext autoreload\n",
    "%autoreload 2\n",
    "from tensorflow.keras.layers.experimental.preprocessing import Normalization\n",
    "from tensorflow.keras.models import Sequential\n",
    "from tensorflow.keras.layers import Dense, SimpleRNN, Flatten, LSTM\n",
    "import pandas as pd\n",
    "import numpy as np"
   ]
  },
  {
   "cell_type": "code",
   "execution_count": 8,
   "id": "d1a004ac",
   "metadata": {},
   "outputs": [],
   "source": [
    "from RainPredictionMachine.data import CleanDataRpm\n",
    "clean_data = CleanDataRpm()\n",
    "df = clean_data.clean_data(1)"
   ]
  },
  {
   "cell_type": "code",
   "execution_count": 12,
   "id": "8fb34886",
   "metadata": {},
   "outputs": [
    {
     "name": "stderr",
     "output_type": "stream",
     "text": [
      "/Users/isabelagaio/.pyenv/versions/3.8.12/envs/rain-prediction-machine/lib/python3.8/site-packages/sklearn/preprocessing/_label.py:115: DataConversionWarning: A column-vector y was passed when a 1d array was expected. Please change the shape of y to (n_samples, ), for example using ravel().\n",
      "  y = column_or_1d(y, warn=True)\n"
     ]
    },
    {
     "ename": "TypeError",
     "evalue": "__init__() takes 2 positional arguments but 4 were given",
     "output_type": "error",
     "traceback": [
      "\u001b[0;31m---------------------------------------------------------------------------\u001b[0m",
      "\u001b[0;31mTypeError\u001b[0m                                 Traceback (most recent call last)",
      "Input \u001b[0;32mIn [12]\u001b[0m, in \u001b[0;36m<cell line: 3>\u001b[0;34m()\u001b[0m\n\u001b[1;32m      1\u001b[0m \u001b[38;5;28;01mfrom\u001b[39;00m \u001b[38;5;21;01mRainPredictionMachine\u001b[39;00m\u001b[38;5;21;01m.\u001b[39;00m\u001b[38;5;21;01mTrainer\u001b[39;00m \u001b[38;5;28;01mimport\u001b[39;00m pipe_creator\n\u001b[1;32m      2\u001b[0m \u001b[38;5;28;01mfrom\u001b[39;00m \u001b[38;5;21;01msklearn\u001b[39;00m \u001b[38;5;28;01mimport\u001b[39;00m set_config\n\u001b[0;32m----> 3\u001b[0m full_pipe, X_train, y_train  \u001b[38;5;241m=\u001b[39m \u001b[43mpipe_creator\u001b[49m\u001b[43m(\u001b[49m\u001b[43mdf\u001b[49m\u001b[43m)\u001b[49m\n\u001b[1;32m      4\u001b[0m set_config(display\u001b[38;5;241m=\u001b[39m\u001b[38;5;124m\"\u001b[39m\u001b[38;5;124mdiagram\u001b[39m\u001b[38;5;124m\"\u001b[39m)\n\u001b[1;32m      5\u001b[0m full_pipe\n",
      "File \u001b[0;32m~/code/IsabelaGaio/thamirisbrandao/rain-prediction-machine/RainPredictionMachine/Trainer.py:91\u001b[0m, in \u001b[0;36mpipe_creator\u001b[0;34m(df)\u001b[0m\n\u001b[1;32m     89\u001b[0m #realizando as operações em paralelo\n\u001b[1;32m     90\u001b[0m from sklearn.compose import ColumnTransformer\n\u001b[0;32m---> 91\u001b[0m col_trans = ColumnTransformer([\n\u001b[1;32m     92\u001b[0m     ('scaling ', scaling_pipe,[ 'Pres',\n\u001b[1;32m     93\u001b[0m                                 'Pres_max',\n",
      "\u001b[0;31mTypeError\u001b[0m: __init__() takes 2 positional arguments but 4 were given"
     ]
    }
   ],
   "source": [
    "from RainPredictionMachine.Trainer import pipe_creator\n",
    "from sklearn import set_config\n",
    "full_pipe, X_train, y_train  = pipe_creator(df)\n",
    "set_config(display=\"diagram\")\n",
    "full_pipe"
   ]
  },
  {
   "cell_type": "code",
   "execution_count": null,
   "id": "5ad32bbe",
   "metadata": {},
   "outputs": [],
   "source": [
    "X_train_t.shape"
   ]
  },
  {
   "cell_type": "code",
   "execution_count": null,
   "id": "376ba147",
   "metadata": {},
   "outputs": [],
   "source": [
    "X_test_t.shape"
   ]
  },
  {
   "cell_type": "code",
   "execution_count": null,
   "id": "c4e039b7",
   "metadata": {},
   "outputs": [],
   "source": [
    "X_train_t1 = np.expand_dims(X_train_t, 2)"
   ]
  },
  {
   "cell_type": "code",
   "execution_count": null,
   "id": "516d8671",
   "metadata": {},
   "outputs": [],
   "source": [
    "X_train_t1.shape"
   ]
  },
  {
   "cell_type": "code",
   "execution_count": null,
   "id": "d36f8b4e",
   "metadata": {},
   "outputs": [],
   "source": [
    "X_test_t1 = np.expand_dims(X_test_t, 2)"
   ]
  },
  {
   "cell_type": "code",
   "execution_count": null,
   "id": "5f7f342b",
   "metadata": {},
   "outputs": [],
   "source": [
    "X_test_t1.shape"
   ]
  },
  {
   "cell_type": "code",
   "execution_count": null,
   "id": "939f2db6",
   "metadata": {},
   "outputs": [],
   "source": [
    "from tensorflow.keras.preprocessing.sequence import pad_sequences\n",
    "\n",
    "X_pad = pad_sequences(X_train_t1)\n",
    "X_pad = pad_sequences(X_train_t1, dtype= 'float32', padding= 'post', value=-1) \n",
    "X_pad.sort()"
   ]
  },
  {
   "cell_type": "code",
   "execution_count": null,
   "id": "de53c3d6",
   "metadata": {},
   "outputs": [],
   "source": [
    "normalizer = Normalization()\n",
    "normalizer.adapt(X_train_t)\n",
    "normalizer(X_train_t)[0]"
   ]
  },
  {
   "cell_type": "code",
   "execution_count": null,
   "id": "fdcbf379",
   "metadata": {},
   "outputs": [],
   "source": [
    "norm = Normalization()\n",
    "\n",
    "model = Sequential()\n",
    "\n",
    "model.add(norm)\n",
    "\n",
    "model.add(LSTM(units=20, activation='tanh'))\n",
    "model.add(Dense(10, activation=\"tanh\"))\n",
    "model.add(Dense(4, activation=\"softmax\"))\n",
    "\n",
    "model.compile(loss='categorical_crossentropy',\n",
    "                  optimizer='rmsprop',\n",
    "                  metrics=['accurancy'])\n",
    "\n",
    "model.fit(X_test_t1, y_train)\n"
   ]
  },
  {
   "cell_type": "code",
   "execution_count": null,
   "id": "a8add721",
   "metadata": {},
   "outputs": [],
   "source": [
    "model.summary()"
   ]
  },
  {
   "cell_type": "code",
   "execution_count": null,
   "id": "8911c2e4",
   "metadata": {},
   "outputs": [],
   "source": [
    "from tensorflow.keras.callbacks import EarlyStopping\n",
    "es = EarlyStopping(patience=5, restore_best_weights=True)\n",
    "\n",
    "model.fit(X_train_t1, y_train, batch_size=16, epochs=1000, verbose=1,\n",
    "         validation_split=0.2,\n",
    "          callbacks=[es])"
   ]
  },
  {
   "cell_type": "code",
   "execution_count": null,
   "id": "66932dbf",
   "metadata": {},
   "outputs": [],
   "source": []
  }
 ],
 "metadata": {
  "kernelspec": {
   "display_name": "Python 3 (ipykernel)",
   "language": "python",
   "name": "python3"
  },
  "language_info": {
   "codemirror_mode": {
    "name": "ipython",
    "version": 3
   },
   "file_extension": ".py",
   "mimetype": "text/x-python",
   "name": "python",
   "nbconvert_exporter": "python",
   "pygments_lexer": "ipython3",
   "version": "3.8.12"
  },
  "toc": {
   "base_numbering": 1,
   "nav_menu": {},
   "number_sections": true,
   "sideBar": true,
   "skip_h1_title": false,
   "title_cell": "Table of Contents",
   "title_sidebar": "Contents",
   "toc_cell": false,
   "toc_position": {},
   "toc_section_display": true,
   "toc_window_display": false
  }
 },
 "nbformat": 4,
 "nbformat_minor": 5
}
