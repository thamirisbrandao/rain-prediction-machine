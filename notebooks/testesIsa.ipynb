{
 "cells": [
  {
   "cell_type": "code",
   "execution_count": 1,
   "id": "df6c9d8e",
   "metadata": {},
   "outputs": [],
   "source": [
    "%load_ext autoreload\n",
    "%autoreload 2\n",
    "from tensorflow.keras.models import Sequential\n",
    "from tensorflow.keras.layers import Dense, SimpleRNN, Flatten, LSTM\n",
    "import pandas as pd\n",
    "import numpy as np"
   ]
  },
  {
   "cell_type": "code",
   "execution_count": 2,
   "id": "d1a004ac",
   "metadata": {},
   "outputs": [],
   "source": [
    "from RainPredictionMachine.data import CleanDataRpm\n",
    "cleaner = CleanDataRpm()\n",
    "df = cleaner.clean_data(1)"
   ]
  },
  {
   "cell_type": "code",
   "execution_count": 3,
   "id": "75017ffd",
   "metadata": {},
   "outputs": [
    {
     "data": {
      "text/plain": [
       "{'Pres': {0: 957.9, 1: 958.0},\n",
       " 'Pres_max': {0: 957.9, 1: 958.3},\n",
       " 'Pres_min': {0: 957.1, 1: 957.9},\n",
       " 'Radiacao': {0: 0.0, 1: 0.0},\n",
       " 'Temp': {0: 21.7, 1: 21.4},\n",
       " 'Temp_orvalho': {0: 21.7, 1: 21.4},\n",
       " 'Temp_max': {0: 23.7, 1: 21.7},\n",
       " 'Temp_min': {0: 21.7, 1: 21.4},\n",
       " 'Temp_orvalho_max': {0: 23.7, 1: 21.6},\n",
       " 'Temp_orvalho_min': {0: 21.7, 1: 21.4},\n",
       " 'Umid_max': {0: 100.0, 1: 100.0},\n",
       " 'Umid_min': {0: 100.0, 1: 100.0},\n",
       " 'Umid': {0: 100.0, 1: 100.0},\n",
       " 'Dir_vento': {0: 130.5, 1: 109.0},\n",
       " 'Rajada_vento': {0: 3.75, 1: 5.4},\n",
       " 'Vel_vento': {0: 2.1, 1: 3.35},\n",
       " 'Latitude': {0: -21.927251, 1: -21.927251},\n",
       " 'Longitude': {0: -50.490251, 1: -50.490251},\n",
       " 'Altitude': {0: 498.0, 1: 498.0},\n",
       " 'datahora': {0: Timestamp('2021-01-01 00:00:00+0000', tz='UTC'),\n",
       "  1: Timestamp('2021-01-01 01:00:00+0000', tz='UTC')},\n",
       " 'classe_chuva': {0: 0, 1: 0}}"
      ]
     },
     "execution_count": 3,
     "metadata": {},
     "output_type": "execute_result"
    }
   ],
   "source": [
    "df.head(2).to_dict()"
   ]
  },
  {
   "cell_type": "code",
   "execution_count": 4,
   "id": "7c0aa934",
   "metadata": {},
   "outputs": [
    {
     "data": {
      "text/plain": [
       "Pres                0\n",
       "Pres_max            0\n",
       "Pres_min            0\n",
       "Radiacao            0\n",
       "Temp                0\n",
       "Temp_orvalho        0\n",
       "Temp_max            0\n",
       "Temp_min            0\n",
       "Temp_orvalho_max    0\n",
       "Temp_orvalho_min    0\n",
       "Umid_max            0\n",
       "Umid_min            0\n",
       "Umid                0\n",
       "Dir_vento           0\n",
       "Rajada_vento        0\n",
       "Vel_vento           0\n",
       "Latitude            0\n",
       "Longitude           0\n",
       "Altitude            0\n",
       "datahora            0\n",
       "classe_chuva        0\n",
       "dtype: int64"
      ]
     },
     "execution_count": 4,
     "metadata": {},
     "output_type": "execute_result"
    }
   ],
   "source": [
    "df.isnull().sum()"
   ]
  },
  {
   "cell_type": "code",
   "execution_count": 5,
   "id": "aae54245",
   "metadata": {},
   "outputs": [],
   "source": [
    "def subsample_sequence(df, length):\n",
    "    index = np.random.randint(0, df.shape[0] - length)\n",
    "    df_sample = df.iloc[index:index+length]\n",
    "    \n",
    "    return df_sample"
   ]
  },
  {
   "cell_type": "code",
   "execution_count": 6,
   "id": "f3311cf4",
   "metadata": {
    "scrolled": false
   },
   "outputs": [
    {
     "data": {
      "text/html": [
       "<div>\n",
       "<style scoped>\n",
       "    .dataframe tbody tr th:only-of-type {\n",
       "        vertical-align: middle;\n",
       "    }\n",
       "\n",
       "    .dataframe tbody tr th {\n",
       "        vertical-align: top;\n",
       "    }\n",
       "\n",
       "    .dataframe thead th {\n",
       "        text-align: right;\n",
       "    }\n",
       "</style>\n",
       "<table border=\"1\" class=\"dataframe\">\n",
       "  <thead>\n",
       "    <tr style=\"text-align: right;\">\n",
       "      <th></th>\n",
       "      <th>Pres</th>\n",
       "      <th>Pres_max</th>\n",
       "      <th>Pres_min</th>\n",
       "      <th>Radiacao</th>\n",
       "      <th>Temp</th>\n",
       "      <th>Temp_orvalho</th>\n",
       "      <th>Temp_max</th>\n",
       "      <th>Temp_min</th>\n",
       "      <th>Temp_orvalho_max</th>\n",
       "      <th>Temp_orvalho_min</th>\n",
       "      <th>...</th>\n",
       "      <th>Umid_min</th>\n",
       "      <th>Umid</th>\n",
       "      <th>Dir_vento</th>\n",
       "      <th>Rajada_vento</th>\n",
       "      <th>Vel_vento</th>\n",
       "      <th>Latitude</th>\n",
       "      <th>Longitude</th>\n",
       "      <th>Altitude</th>\n",
       "      <th>datahora</th>\n",
       "      <th>classe_chuva</th>\n",
       "    </tr>\n",
       "  </thead>\n",
       "  <tbody>\n",
       "    <tr>\n",
       "      <th>1334</th>\n",
       "      <td>955.7</td>\n",
       "      <td>956.0</td>\n",
       "      <td>955.7</td>\n",
       "      <td>3135.0</td>\n",
       "      <td>27.7</td>\n",
       "      <td>22.9</td>\n",
       "      <td>28.3</td>\n",
       "      <td>26.5</td>\n",
       "      <td>23.7</td>\n",
       "      <td>22.3</td>\n",
       "      <td>...</td>\n",
       "      <td>74.0</td>\n",
       "      <td>75.0</td>\n",
       "      <td>166.0</td>\n",
       "      <td>4.25</td>\n",
       "      <td>2.00</td>\n",
       "      <td>-21.927251</td>\n",
       "      <td>-50.490251</td>\n",
       "      <td>498.0</td>\n",
       "      <td>2021-02-25 14:00:00+00:00</td>\n",
       "      <td>0</td>\n",
       "    </tr>\n",
       "    <tr>\n",
       "      <th>1335</th>\n",
       "      <td>955.4</td>\n",
       "      <td>955.8</td>\n",
       "      <td>955.4</td>\n",
       "      <td>3587.8</td>\n",
       "      <td>29.0</td>\n",
       "      <td>24.4</td>\n",
       "      <td>29.3</td>\n",
       "      <td>27.6</td>\n",
       "      <td>24.4</td>\n",
       "      <td>22.6</td>\n",
       "      <td>...</td>\n",
       "      <td>68.0</td>\n",
       "      <td>76.0</td>\n",
       "      <td>123.5</td>\n",
       "      <td>3.00</td>\n",
       "      <td>1.55</td>\n",
       "      <td>-21.927251</td>\n",
       "      <td>-50.490251</td>\n",
       "      <td>498.0</td>\n",
       "      <td>2021-02-25 15:00:00+00:00</td>\n",
       "      <td>0</td>\n",
       "    </tr>\n",
       "    <tr>\n",
       "      <th>1336</th>\n",
       "      <td>954.6</td>\n",
       "      <td>955.4</td>\n",
       "      <td>954.6</td>\n",
       "      <td>3484.4</td>\n",
       "      <td>29.7</td>\n",
       "      <td>22.8</td>\n",
       "      <td>30.6</td>\n",
       "      <td>28.9</td>\n",
       "      <td>24.5</td>\n",
       "      <td>22.8</td>\n",
       "      <td>...</td>\n",
       "      <td>65.0</td>\n",
       "      <td>67.0</td>\n",
       "      <td>202.0</td>\n",
       "      <td>7.10</td>\n",
       "      <td>2.90</td>\n",
       "      <td>-21.927251</td>\n",
       "      <td>-50.490251</td>\n",
       "      <td>498.0</td>\n",
       "      <td>2021-02-25 16:00:00+00:00</td>\n",
       "      <td>0</td>\n",
       "    </tr>\n",
       "    <tr>\n",
       "      <th>1337</th>\n",
       "      <td>953.6</td>\n",
       "      <td>954.6</td>\n",
       "      <td>953.6</td>\n",
       "      <td>3352.4</td>\n",
       "      <td>32.0</td>\n",
       "      <td>23.3</td>\n",
       "      <td>32.3</td>\n",
       "      <td>29.5</td>\n",
       "      <td>24.8</td>\n",
       "      <td>22.4</td>\n",
       "      <td>...</td>\n",
       "      <td>57.0</td>\n",
       "      <td>60.0</td>\n",
       "      <td>135.0</td>\n",
       "      <td>6.45</td>\n",
       "      <td>2.90</td>\n",
       "      <td>-21.927251</td>\n",
       "      <td>-50.490251</td>\n",
       "      <td>498.0</td>\n",
       "      <td>2021-02-25 17:00:00+00:00</td>\n",
       "      <td>0</td>\n",
       "    </tr>\n",
       "    <tr>\n",
       "      <th>1338</th>\n",
       "      <td>951.8</td>\n",
       "      <td>953.6</td>\n",
       "      <td>951.8</td>\n",
       "      <td>2525.1</td>\n",
       "      <td>31.4</td>\n",
       "      <td>22.5</td>\n",
       "      <td>32.4</td>\n",
       "      <td>30.7</td>\n",
       "      <td>23.9</td>\n",
       "      <td>21.7</td>\n",
       "      <td>...</td>\n",
       "      <td>55.0</td>\n",
       "      <td>59.0</td>\n",
       "      <td>173.5</td>\n",
       "      <td>9.10</td>\n",
       "      <td>4.40</td>\n",
       "      <td>-21.927251</td>\n",
       "      <td>-50.490251</td>\n",
       "      <td>498.0</td>\n",
       "      <td>2021-02-25 18:00:00+00:00</td>\n",
       "      <td>0</td>\n",
       "    </tr>\n",
       "  </tbody>\n",
       "</table>\n",
       "<p>5 rows × 21 columns</p>\n",
       "</div>"
      ],
      "text/plain": [
       "       Pres  Pres_max  Pres_min  Radiacao  Temp  Temp_orvalho  Temp_max  \\\n",
       "1334  955.7     956.0     955.7    3135.0  27.7          22.9      28.3   \n",
       "1335  955.4     955.8     955.4    3587.8  29.0          24.4      29.3   \n",
       "1336  954.6     955.4     954.6    3484.4  29.7          22.8      30.6   \n",
       "1337  953.6     954.6     953.6    3352.4  32.0          23.3      32.3   \n",
       "1338  951.8     953.6     951.8    2525.1  31.4          22.5      32.4   \n",
       "\n",
       "      Temp_min  Temp_orvalho_max  Temp_orvalho_min  ...  Umid_min  Umid  \\\n",
       "1334      26.5              23.7              22.3  ...      74.0  75.0   \n",
       "1335      27.6              24.4              22.6  ...      68.0  76.0   \n",
       "1336      28.9              24.5              22.8  ...      65.0  67.0   \n",
       "1337      29.5              24.8              22.4  ...      57.0  60.0   \n",
       "1338      30.7              23.9              21.7  ...      55.0  59.0   \n",
       "\n",
       "      Dir_vento  Rajada_vento  Vel_vento   Latitude  Longitude  Altitude  \\\n",
       "1334      166.0          4.25       2.00 -21.927251 -50.490251     498.0   \n",
       "1335      123.5          3.00       1.55 -21.927251 -50.490251     498.0   \n",
       "1336      202.0          7.10       2.90 -21.927251 -50.490251     498.0   \n",
       "1337      135.0          6.45       2.90 -21.927251 -50.490251     498.0   \n",
       "1338      173.5          9.10       4.40 -21.927251 -50.490251     498.0   \n",
       "\n",
       "                      datahora classe_chuva  \n",
       "1334 2021-02-25 14:00:00+00:00            0  \n",
       "1335 2021-02-25 15:00:00+00:00            0  \n",
       "1336 2021-02-25 16:00:00+00:00            0  \n",
       "1337 2021-02-25 17:00:00+00:00            0  \n",
       "1338 2021-02-25 18:00:00+00:00            0  \n",
       "\n",
       "[5 rows x 21 columns]"
      ]
     },
     "execution_count": 6,
     "metadata": {},
     "output_type": "execute_result"
    }
   ],
   "source": [
    "df_sample = subsample_sequence(df,48)\n",
    "df_sample.head()"
   ]
  },
  {
   "cell_type": "code",
   "execution_count": 7,
   "id": "c3900c33",
   "metadata": {},
   "outputs": [],
   "source": [
    "def split_subsample_sequence(df, length):\n",
    "    '''Create one single random (X,y) pair'''\n",
    "    \n",
    "    df_subsample = subsample_sequence(df, length)\n",
    "    y_sample = df_subsample['classe_chuva'].iloc[length - 24:]\n",
    "    \n",
    "    X_sample = df_subsample.drop(columns= ['classe_chuva', 'datahora'])[0:length -24]\n",
    "    X_sample = X_sample.values\n",
    "   \n",
    "    return np.array(X_sample), np.array(y_sample)"
   ]
  },
  {
   "cell_type": "code",
   "execution_count": 8,
   "id": "4cba9741",
   "metadata": {},
   "outputs": [
    {
     "data": {
      "text/plain": [
       "(24, 19)"
      ]
     },
     "execution_count": 8,
     "metadata": {},
     "output_type": "execute_result"
    }
   ],
   "source": [
    "X,y = split_subsample_sequence(df,48)\n",
    "X.shape"
   ]
  },
  {
   "cell_type": "code",
   "execution_count": 46,
   "id": "e6966c87",
   "metadata": {},
   "outputs": [
    {
     "data": {
      "text/plain": [
       "array([0, 0, 0, 0, 0, 0, 0, 0, 0, 0, 0, 0, 0, 0, 0, 0, 0, 0, 0, 0, 0, 0,\n",
       "       0, 0])"
      ]
     },
     "execution_count": 46,
     "metadata": {},
     "output_type": "execute_result"
    }
   ],
   "source": [
    "y"
   ]
  },
  {
   "cell_type": "code",
   "execution_count": 10,
   "id": "22e41029",
   "metadata": {},
   "outputs": [
    {
     "data": {
      "text/plain": [
       "(array([[ 9.6560000e+02,  9.6570000e+02,  9.6520000e+02,  1.5695000e+03,\n",
       "          1.9400000e+01,  1.2400000e+01,  1.9400000e+01,  1.5700000e+01,\n",
       "          1.2500000e+01,  1.1800000e+01,  7.8000000e+01,  6.3000000e+01,\n",
       "          6.4000000e+01,  1.1800000e+02,  7.6000000e+00,  4.6000000e+00,\n",
       "         -2.1927251e+01, -5.0490251e+01,  4.9800000e+02],\n",
       "        [ 9.6530000e+02,  9.6570000e+02,  9.6530000e+02,  2.0360000e+03,\n",
       "          2.1800000e+01,  1.2200000e+01,  2.1900000e+01,  1.9300000e+01,\n",
       "          1.2800000e+01,  1.1100000e+01,  6.4000000e+01,  5.1000000e+01,\n",
       "          5.4000000e+01,  1.0000000e+02,  7.5000000e+00,  4.5000000e+00,\n",
       "         -2.1927251e+01, -5.0490251e+01,  4.9800000e+02],\n",
       "        [ 9.6480000e+02,  9.6540000e+02,  9.6480000e+02,  2.4155000e+03,\n",
       "          2.3700000e+01,  1.1300000e+01,  2.3700000e+01,  2.1700000e+01,\n",
       "          1.1900000e+01,  1.0800000e+01,  5.4000000e+01,  4.5000000e+01,\n",
       "          4.6000000e+01,  9.1000000e+01,  7.3000000e+00,  4.2000000e+00,\n",
       "         -2.1927251e+01, -5.0490251e+01,  4.9800000e+02],\n",
       "        [ 9.6390000e+02,  9.6490000e+02,  9.6390000e+02,  2.3653000e+03,\n",
       "          2.4200000e+01,  1.0300000e+01,  2.4700000e+01,  2.3300000e+01,\n",
       "          1.1700000e+01,  1.0200000e+01,  4.7000000e+01,  4.1000000e+01,\n",
       "          4.2000000e+01,  9.2000000e+01,  7.4000000e+00,  4.6000000e+00,\n",
       "         -2.1927251e+01, -5.0490251e+01,  4.9800000e+02],\n",
       "        [ 9.6310000e+02,  9.6390000e+02,  9.6310000e+02,  2.2322000e+03,\n",
       "          2.4900000e+01,  9.6000000e+00,  2.5400000e+01,  2.4100000e+01,\n",
       "          1.1000000e+01,  9.2000000e+00,  4.3000000e+01,  3.7000000e+01,\n",
       "          3.8000000e+01,  7.2000000e+01,  7.7000000e+00,  3.3000000e+00,\n",
       "         -2.1927251e+01, -5.0490251e+01,  4.9800000e+02],\n",
       "        [ 9.6260000e+02,  9.6310000e+02,  9.6250000e+02,  2.0052000e+03,\n",
       "          2.5900000e+01,  9.0000000e+00,  2.5900000e+01,  2.4900000e+01,\n",
       "          1.0600000e+01,  8.1000000e+00,  4.0000000e+01,  3.4000000e+01,\n",
       "          3.4000000e+01,  5.9000000e+01,  6.0000000e+00,  2.2000000e+00,\n",
       "         -2.1927251e+01, -5.0490251e+01,  4.9800000e+02],\n",
       "        [ 9.6250000e+02,  9.6260000e+02,  9.6240000e+02,  1.4378000e+03,\n",
       "          2.5300000e+01,  8.8000000e+00,  2.5900000e+01,  2.5200000e+01,\n",
       "          9.6000000e+00,  8.3000000e+00,  3.6000000e+01,  3.4000000e+01,\n",
       "          3.5000000e+01,  1.1300000e+02,  5.1000000e+00,  2.5000000e+00,\n",
       "         -2.1927251e+01, -5.0490251e+01,  4.9800000e+02],\n",
       "        [ 9.6250000e+02,  9.6250000e+02,  9.6240000e+02,  7.5850000e+02,\n",
       "          2.4700000e+01,  9.0000000e+00,  2.5800000e+01,  2.4700000e+01,\n",
       "          9.1000000e+00,  8.3000000e+00,  3.7000000e+01,  3.3000000e+01,\n",
       "          3.7000000e+01,  1.0000000e+02,  5.1000000e+00,  2.2000000e+00,\n",
       "         -2.1927251e+01, -5.0490251e+01,  4.9800000e+02],\n",
       "        [ 9.6290000e+02,  9.6290000e+02,  9.6250000e+02,  1.0800000e+02,\n",
       "          2.1300000e+01,  8.9000000e+00,  2.4700000e+01,  2.1300000e+01,\n",
       "          9.3000000e+00,  8.8000000e+00,  4.5000000e+01,  3.7000000e+01,\n",
       "          4.5000000e+01,  1.3500000e+02,  4.4000000e+00,  1.4000000e+00,\n",
       "         -2.1927251e+01, -5.0490251e+01,  4.9800000e+02],\n",
       "        [ 9.6310000e+02,  9.6310000e+02,  9.6290000e+02,  0.0000000e+00,\n",
       "          2.1000000e+01,  8.8000000e+00,  2.1300000e+01,  2.0100000e+01,\n",
       "          9.1000000e+00,  8.7000000e+00,  4.8000000e+01,  4.5000000e+01,\n",
       "          4.6000000e+01,  1.4300000e+02,  2.3000000e+00,  1.1000000e+00,\n",
       "         -2.1927251e+01, -5.0490251e+01,  4.9800000e+02],\n",
       "        [ 9.6370000e+02,  9.6370000e+02,  9.6310000e+02,  0.0000000e+00,\n",
       "          2.0300000e+01,  8.6000000e+00,  2.1200000e+01,  2.0300000e+01,\n",
       "          8.9000000e+00,  8.5000000e+00,  4.7000000e+01,  4.5000000e+01,\n",
       "          4.7000000e+01,  1.3700000e+02,  3.2000000e+00,  1.8000000e+00,\n",
       "         -2.1927251e+01, -5.0490251e+01,  4.9800000e+02],\n",
       "        [ 9.6390000e+02,  9.6400000e+02,  9.6360000e+02,  0.0000000e+00,\n",
       "          1.8800000e+01,  1.0100000e+01,  2.0300000e+01,  1.8800000e+01,\n",
       "          1.0100000e+01,  8.6000000e+00,  5.7000000e+01,  4.7000000e+01,\n",
       "          5.7000000e+01,  1.2400000e+02,  3.6000000e+00,  2.4000000e+00,\n",
       "         -2.1927251e+01, -5.0490251e+01,  4.9800000e+02],\n",
       "        [ 9.6420000e+02,  9.6420000e+02,  9.6390000e+02,  0.0000000e+00,\n",
       "          1.8500000e+01,  1.0300000e+01,  1.9100000e+01,  1.8300000e+01,\n",
       "          1.0500000e+01,  1.0100000e+01,  6.0000000e+01,  5.7000000e+01,\n",
       "          5.9000000e+01,  1.7200000e+02,  4.2000000e+00,  2.5000000e+00,\n",
       "         -2.1927251e+01, -5.0490251e+01,  4.9800000e+02],\n",
       "        [ 9.6430000e+02,  9.6430000e+02,  9.6410000e+02,  0.0000000e+00,\n",
       "          1.7500000e+01,  1.0100000e+01,  1.8800000e+01,  1.7400000e+01,\n",
       "          1.0500000e+01,  1.0000000e+01,  6.2000000e+01,  5.8000000e+01,\n",
       "          6.2000000e+01,  1.8200000e+02,  4.8000000e+00,  3.4000000e+00,\n",
       "         -2.1927251e+01, -5.0490251e+01,  4.9800000e+02],\n",
       "        [ 9.6430000e+02,  9.6440000e+02,  9.6430000e+02,  0.0000000e+00,\n",
       "          1.6800000e+01,  1.0400000e+01,  1.7400000e+01,  1.6600000e+01,\n",
       "          1.0500000e+01,  1.0100000e+01,  6.7000000e+01,  6.2000000e+01,\n",
       "          6.6000000e+01,  1.5300000e+02,  4.7000000e+00,  2.7000000e+00,\n",
       "         -2.1927251e+01, -5.0490251e+01,  4.9800000e+02],\n",
       "        [ 9.6420000e+02,  9.6430000e+02,  9.6410000e+02,  0.0000000e+00,\n",
       "          1.7000000e+01,  1.0400000e+01,  1.7500000e+01,  1.6400000e+01,\n",
       "          1.0500000e+01,  1.0200000e+01,  6.7000000e+01,  6.3000000e+01,\n",
       "          6.5000000e+01,  1.3000000e+02,  5.3000000e+00,  3.3000000e+00,\n",
       "         -2.1927251e+01, -5.0490251e+01,  4.9800000e+02],\n",
       "        [ 9.6410000e+02,  9.6420000e+02,  9.6400000e+02,  0.0000000e+00,\n",
       "          1.5000000e+01,  1.1300000e+01,  1.7100000e+01,  1.4500000e+01,\n",
       "          1.1300000e+01,  1.0400000e+01,  8.0000000e+01,  6.5000000e+01,\n",
       "          7.8000000e+01,  1.3200000e+02,  5.3000000e+00,  3.0000000e+00,\n",
       "         -2.1927251e+01, -5.0490251e+01,  4.9800000e+02],\n",
       "        [ 9.6390000e+02,  9.6410000e+02,  9.6380000e+02,  0.0000000e+00,\n",
       "          1.5500000e+01,  1.1700000e+01,  1.5700000e+01,  1.5000000e+01,\n",
       "          1.1800000e+01,  1.1200000e+01,  7.8000000e+01,  7.6000000e+01,\n",
       "          7.8000000e+01,  1.2400000e+02,  5.7000000e+00,  3.5000000e+00,\n",
       "         -2.1927251e+01, -5.0490251e+01,  4.9800000e+02],\n",
       "        [ 9.6380000e+02,  9.6390000e+02,  9.6380000e+02,  0.0000000e+00,\n",
       "          1.4800000e+01,  1.1900000e+01,  1.5500000e+01,  1.4800000e+01,\n",
       "          1.2100000e+01,  1.1700000e+01,  8.3000000e+01,  7.8000000e+01,\n",
       "          8.2000000e+01,  1.3200000e+02,  5.8000000e+00,  3.4000000e+00,\n",
       "         -2.1927251e+01, -5.0490251e+01,  4.9800000e+02],\n",
       "        [ 9.6400000e+02,  9.6400000e+02,  9.6380000e+02,  0.0000000e+00,\n",
       "          1.3400000e+01,  1.2000000e+01,  1.5000000e+01,  1.3400000e+01,\n",
       "          1.2100000e+01,  1.1700000e+01,  9.2000000e+01,  8.2000000e+01,\n",
       "          9.2000000e+01,  1.7500000e+02,  6.0000000e+00,  2.4000000e+00,\n",
       "         -2.1927251e+01, -5.0490251e+01,  4.9800000e+02],\n",
       "        [ 9.6450000e+02,  9.6450000e+02,  9.6400000e+02,  9.8550000e+01,\n",
       "          1.2700000e+01,  1.2300000e+01,  1.3300000e+01,  1.2700000e+01,\n",
       "          1.2400000e+01,  1.1900000e+01,  9.8000000e+01,  9.2000000e+01,\n",
       "          9.7000000e+01,  1.8000000e+02,  4.3000000e+00,  2.5000000e+00,\n",
       "         -2.1927251e+01, -5.0490251e+01,  4.9800000e+02],\n",
       "        [ 9.6520000e+02,  9.6520000e+02,  9.6450000e+02,  0.0000000e+00,\n",
       "          1.2200000e+01,  1.2100000e+01,  1.2700000e+01,  1.2200000e+01,\n",
       "          1.2400000e+01,  1.2100000e+01,  1.0000000e+02,  9.7000000e+01,\n",
       "          1.0000000e+02,  1.7600000e+02,  5.0000000e+00,  3.4000000e+00,\n",
       "         -2.1927251e+01, -5.0490251e+01,  4.9800000e+02],\n",
       "        [ 9.6590000e+02,  9.6590000e+02,  9.6520000e+02,  1.8680000e+02,\n",
       "          1.3200000e+01,  1.2200000e+01,  1.3200000e+01,  1.2100000e+01,\n",
       "          1.2300000e+01,  1.2100000e+01,  1.0000000e+02,  9.3000000e+01,\n",
       "          9.4000000e+01,  1.7200000e+02,  5.5000000e+00,  3.0000000e+00,\n",
       "         -2.1927251e+01, -5.0490251e+01,  4.9800000e+02],\n",
       "        [ 9.6660000e+02,  9.6660000e+02,  9.6590000e+02,  7.4440000e+02,\n",
       "          1.6100000e+01,  1.2400000e+01,  1.6100000e+01,  1.3200000e+01,\n",
       "          1.2900000e+01,  1.2000000e+01,  9.4000000e+01,  7.8000000e+01,\n",
       "          7.8000000e+01,  1.3900000e+02,  4.7000000e+00,  2.6000000e+00,\n",
       "         -2.1927251e+01, -5.0490251e+01,  4.9800000e+02]]),\n",
       " array([0, 0, 0, 0, 0, 0, 0, 0, 0, 0, 0, 0, 0, 0, 0, 0, 0, 0, 0, 0, 0, 0,\n",
       "        0, 0]))"
      ]
     },
     "execution_count": 10,
     "metadata": {},
     "output_type": "execute_result"
    }
   ],
   "source": [
    "X,y "
   ]
  },
  {
   "cell_type": "code",
   "execution_count": 11,
   "id": "1bdd2b86",
   "metadata": {},
   "outputs": [],
   "source": [
    "def get_X_y(df, n_sequences, length):\n",
    "    '''Return a list of samples (X, y)'''\n",
    "    X, y = [], []\n",
    "\n",
    "    for i in range(n_sequences):\n",
    "        (xi, yi) = split_subsample_sequence(df, length)\n",
    "        X.append(xi)\n",
    "        y.append(yi)\n",
    "        \n",
    "    X = np.array(X)\n",
    "    y = np.array(y)\n",
    "    return X, y"
   ]
  },
  {
   "cell_type": "code",
   "execution_count": 12,
   "id": "fe294076",
   "metadata": {},
   "outputs": [
    {
     "data": {
      "text/plain": [
       "7008.0"
      ]
     },
     "execution_count": 12,
     "metadata": {},
     "output_type": "execute_result"
    }
   ],
   "source": [
    "df.shape[0]*0.8"
   ]
  },
  {
   "cell_type": "code",
   "execution_count": 13,
   "id": "e2f5dcbb",
   "metadata": {},
   "outputs": [],
   "source": [
    "train_size = int(df.shape[0]*0.8)\n",
    "df_train = df.iloc[:train_size,:]\n",
    "df_test = df.iloc[train_size:,:]"
   ]
  },
  {
   "cell_type": "code",
   "execution_count": 49,
   "id": "981ac0ec",
   "metadata": {},
   "outputs": [
    {
     "data": {
      "text/plain": [
       "classe_chuva\n",
       "0               6580\n",
       "1                391\n",
       "2                 34\n",
       "3                  3\n",
       "dtype: int64"
      ]
     },
     "execution_count": 49,
     "metadata": {},
     "output_type": "execute_result"
    }
   ],
   "source": [
    "df_train.value_counts(['classe_chuva'])"
   ]
  },
  {
   "cell_type": "code",
   "execution_count": 15,
   "id": "cdcb1345",
   "metadata": {},
   "outputs": [
    {
     "data": {
      "text/plain": [
       "(1752, 21)"
      ]
     },
     "execution_count": 15,
     "metadata": {},
     "output_type": "execute_result"
    }
   ],
   "source": [
    "df_test.shape"
   ]
  },
  {
   "cell_type": "code",
   "execution_count": 50,
   "id": "72d01955",
   "metadata": {},
   "outputs": [],
   "source": [
    "X_train,y_train = get_X_y(df_train,6000,72)"
   ]
  },
  {
   "cell_type": "code",
   "execution_count": 51,
   "id": "b37de02c",
   "metadata": {},
   "outputs": [],
   "source": [
    "X_test,y_test = get_X_y(df_test,6000,72)"
   ]
  },
  {
   "cell_type": "code",
   "execution_count": 52,
   "id": "2aefdf82",
   "metadata": {},
   "outputs": [
    {
     "data": {
      "text/plain": [
       "(6000, 24)"
      ]
     },
     "execution_count": 52,
     "metadata": {},
     "output_type": "execute_result"
    }
   ],
   "source": [
    "y_train.shape"
   ]
  },
  {
   "cell_type": "code",
   "execution_count": 53,
   "id": "871dbb27",
   "metadata": {},
   "outputs": [
    {
     "data": {
      "text/plain": [
       "(6000, 24, 4)"
      ]
     },
     "execution_count": 53,
     "metadata": {},
     "output_type": "execute_result"
    }
   ],
   "source": [
    "from sklearn.preprocessing import LabelEncoder\n",
    "from tensorflow.keras.utils import to_categorical\n",
    "\n",
    "# label = LabelEncoder()\n",
    "# y_enc = label.fit_transform(y.reshape((-1,)))\n",
    "y_cat = to_categorical(y_train)\n",
    "y_cat.shape"
   ]
  },
  {
   "cell_type": "code",
   "execution_count": 54,
   "id": "196a061b",
   "metadata": {},
   "outputs": [],
   "source": [
    "from tensorflow.keras.layers.experimental.preprocessing import Normalization\n",
    "\n",
    "norm = Normalization()\n",
    "norm.adapt(X_train)"
   ]
  },
  {
   "cell_type": "code",
   "execution_count": 55,
   "id": "427fc114",
   "metadata": {},
   "outputs": [
    {
     "name": "stdout",
     "output_type": "stream",
     "text": [
      "Model: \"sequential_6\"\n",
      "_________________________________________________________________\n",
      " Layer (type)                Output Shape              Param #   \n",
      "=================================================================\n",
      " normalization_1 (Normalizat  (None, None, 19)         39        \n",
      " ion)                                                            \n",
      "                                                                 \n",
      " lstm_6 (LSTM)               (None, 20)                3200      \n",
      "                                                                 \n",
      " dense_12 (Dense)            (None, 10)                210       \n",
      "                                                                 \n",
      " dense_13 (Dense)            (None, 24)                264       \n",
      "                                                                 \n",
      "=================================================================\n",
      "Total params: 3,713\n",
      "Trainable params: 3,674\n",
      "Non-trainable params: 39\n",
      "_________________________________________________________________\n"
     ]
    }
   ],
   "source": [
    "model = Sequential()\n",
    "\n",
    "model.add(norm)\n",
    "\n",
    "model.add(LSTM(units=20, activation='tanh'))\n",
    "model.add(Dense(10, activation=\"tanh\"))\n",
    "model.add(Dense(24, activation=\"sigmoid\"))\n",
    "\n",
    "model.compile(loss='binary_crossentropy',\n",
    "                  optimizer='rmsprop',\n",
    "                  metrics=['accuracy'])\n",
    "\n",
    "model.summary()"
   ]
  },
  {
   "cell_type": "code",
   "execution_count": 56,
   "id": "e24322a7",
   "metadata": {},
   "outputs": [
    {
     "name": "stdout",
     "output_type": "stream",
     "text": [
      "Epoch 1/10\n",
      "150/150 [==============================] - 2s 9ms/step - loss: 0.4031 - accuracy: 0.0144 - val_loss: 0.2787 - val_accuracy: 0.0158\n",
      "Epoch 2/10\n",
      "150/150 [==============================] - 1s 7ms/step - loss: 0.2394 - accuracy: 0.0104 - val_loss: 0.2187 - val_accuracy: 0.0150\n",
      "Epoch 3/10\n",
      "150/150 [==============================] - 1s 7ms/step - loss: 0.1990 - accuracy: 0.0096 - val_loss: 0.1990 - val_accuracy: 0.0125\n",
      "Epoch 4/10\n",
      "150/150 [==============================] - 1s 7ms/step - loss: 0.1887 - accuracy: 0.0146 - val_loss: 0.1881 - val_accuracy: 0.0167\n",
      "Epoch 5/10\n",
      "150/150 [==============================] - 1s 8ms/step - loss: 0.1833 - accuracy: 0.0148 - val_loss: 0.1849 - val_accuracy: 0.0200\n",
      "Epoch 6/10\n",
      "150/150 [==============================] - 1s 7ms/step - loss: 0.1774 - accuracy: 0.0160 - val_loss: 0.1786 - val_accuracy: 0.0150\n",
      "Epoch 7/10\n",
      "150/150 [==============================] - 1s 7ms/step - loss: 0.1716 - accuracy: 0.0194 - val_loss: 0.1757 - val_accuracy: 0.0225\n",
      "Epoch 8/10\n",
      "150/150 [==============================] - 1s 7ms/step - loss: 0.1683 - accuracy: 0.0215 - val_loss: 0.1692 - val_accuracy: 0.0300\n",
      "Epoch 9/10\n",
      "150/150 [==============================] - 1s 8ms/step - loss: 0.1647 - accuracy: 0.0240 - val_loss: 0.1713 - val_accuracy: 0.0308\n",
      "Epoch 10/10\n",
      "150/150 [==============================] - 1s 7ms/step - loss: 0.1619 - accuracy: 0.0254 - val_loss: 0.1650 - val_accuracy: 0.0292\n"
     ]
    },
    {
     "data": {
      "text/plain": [
       "<keras.callbacks.History at 0x1a4971a90>"
      ]
     },
     "execution_count": 56,
     "metadata": {},
     "output_type": "execute_result"
    }
   ],
   "source": [
    "from tensorflow.keras.callbacks import EarlyStopping\n",
    "\n",
    "es = EarlyStopping(patience=3, restore_best_weights=True)\n",
    "\n",
    "model.fit(X_train, y_train, batch_size=32, epochs=10, verbose=1,\n",
    "         validation_split=0.2,\n",
    "          callbacks=[es])"
   ]
  },
  {
   "cell_type": "code",
   "execution_count": 57,
   "id": "3f960324",
   "metadata": {},
   "outputs": [
    {
     "data": {
      "text/plain": [
       "array([0.18924662, 0.14047703, 0.14976066, 0.13902634, 0.1015662 ,\n",
       "       0.11022925, 0.13106924, 0.12687644, 0.07358918, 0.09618524,\n",
       "       0.12700406, 0.07777372, 0.09970671, 0.10007277, 0.06561902,\n",
       "       0.08878124, 0.12322101, 0.0796552 , 0.11537322, 0.13690105,\n",
       "       0.13954476, 0.17154408, 0.18975788, 0.14096951], dtype=float32)"
      ]
     },
     "execution_count": 57,
     "metadata": {},
     "output_type": "execute_result"
    }
   ],
   "source": [
    "model.predict(X_test)[0]"
   ]
  }
 ],
 "metadata": {
  "kernelspec": {
   "display_name": "Python 3 (ipykernel)",
   "language": "python",
   "name": "python3"
  },
  "language_info": {
   "codemirror_mode": {
    "name": "ipython",
    "version": 3
   },
   "file_extension": ".py",
   "mimetype": "text/x-python",
   "name": "python",
   "nbconvert_exporter": "python",
   "pygments_lexer": "ipython3",
   "version": "3.8.12"
  },
  "toc": {
   "base_numbering": 1,
   "nav_menu": {},
   "number_sections": true,
   "sideBar": true,
   "skip_h1_title": false,
   "title_cell": "Table of Contents",
   "title_sidebar": "Contents",
   "toc_cell": false,
   "toc_position": {},
   "toc_section_display": true,
   "toc_window_display": false
  }
 },
 "nbformat": 4,
 "nbformat_minor": 5
}
