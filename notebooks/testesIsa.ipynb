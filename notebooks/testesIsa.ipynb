{
 "cells": [
  {
   "cell_type": "code",
   "execution_count": 1,
   "id": "df6c9d8e",
   "metadata": {},
   "outputs": [],
   "source": [
    "%load_ext autoreload\n",
    "%autoreload 2\n",
    "from tensorflow.keras.models import Sequential\n",
    "from tensorflow.keras.layers import Dense, SimpleRNN, Flatten, LSTM\n",
    "import pandas as pd\n",
    "import numpy as np"
   ]
  },
  {
   "cell_type": "code",
   "execution_count": 2,
   "id": "d1a004ac",
   "metadata": {},
   "outputs": [],
   "source": [
    "from RainPredictionMachine.data import CleanDataRpm\n",
    "cleaner = CleanDataRpm()\n",
    "df = cleaner.clean_data(1)"
   ]
  },
  {
   "cell_type": "code",
   "execution_count": 3,
   "id": "75017ffd",
   "metadata": {},
   "outputs": [
    {
     "data": {
      "text/plain": [
       "{'Chuva': {0: 0.0, 1: 0.0},\n",
       " 'Pres': {0: 957.9, 1: 958.0},\n",
       " 'Pres_max': {0: 957.9, 1: 958.3},\n",
       " 'Pres_min': {0: 957.1, 1: 957.9},\n",
       " 'Radiacao': {0: 0.0, 1: 0.0},\n",
       " 'Temp': {0: 21.7, 1: 21.4},\n",
       " 'Temp_orvalho': {0: 21.7, 1: 21.4},\n",
       " 'Temp_max': {0: 23.7, 1: 21.7},\n",
       " 'Temp_min': {0: 21.7, 1: 21.4},\n",
       " 'Temp_orvalho_max': {0: 23.7, 1: 21.6},\n",
       " 'Temp_orvalho_min': {0: 21.7, 1: 21.4},\n",
       " 'Umid_max': {0: 100.0, 1: 100.0},\n",
       " 'Umid_min': {0: 100.0, 1: 100.0},\n",
       " 'Umid': {0: 100.0, 1: 100.0},\n",
       " 'Dir_vento': {0: 130.5, 1: 109.0},\n",
       " 'Rajada_vento': {0: 3.75, 1: 5.4},\n",
       " 'Vel_vento': {0: 2.1, 1: 3.35},\n",
       " 'Latitude': {0: -21.927251, 1: -21.927251},\n",
       " 'Longitude': {0: -50.490251, 1: -50.490251},\n",
       " 'Altitude': {0: 498.0, 1: 498.0},\n",
       " 'datahora': {0: Timestamp('2021-01-01 00:00:00+0000', tz='UTC'),\n",
       "  1: Timestamp('2021-01-01 01:00:00+0000', tz='UTC')},\n",
       " 'classe_chuva': {0: 0, 1: 0}}"
      ]
     },
     "execution_count": 3,
     "metadata": {},
     "output_type": "execute_result"
    }
   ],
   "source": [
    "df.head(2).to_dict()"
   ]
  },
  {
   "cell_type": "code",
   "execution_count": 4,
   "id": "7c0aa934",
   "metadata": {},
   "outputs": [
    {
     "data": {
      "text/plain": [
       "Chuva               0\n",
       "Pres                0\n",
       "Pres_max            0\n",
       "Pres_min            0\n",
       "Radiacao            0\n",
       "Temp                0\n",
       "Temp_orvalho        0\n",
       "Temp_max            0\n",
       "Temp_min            0\n",
       "Temp_orvalho_max    0\n",
       "Temp_orvalho_min    0\n",
       "Umid_max            0\n",
       "Umid_min            0\n",
       "Umid                0\n",
       "Dir_vento           0\n",
       "Rajada_vento        0\n",
       "Vel_vento           0\n",
       "Latitude            0\n",
       "Longitude           0\n",
       "Altitude            0\n",
       "datahora            0\n",
       "classe_chuva        0\n",
       "dtype: int64"
      ]
     },
     "execution_count": 4,
     "metadata": {},
     "output_type": "execute_result"
    }
   ],
   "source": [
    "df.isnull().sum()"
   ]
  },
  {
   "cell_type": "code",
   "execution_count": 5,
   "id": "aae54245",
   "metadata": {},
   "outputs": [],
   "source": [
    "def subsample_sequence(df, length):\n",
    "    index = np.random.randint(0, df.shape[0] - length)\n",
    "    df_sample = df.iloc[index:index+length]\n",
    "    \n",
    "    return df_sample"
   ]
  },
  {
   "cell_type": "code",
   "execution_count": 6,
   "id": "f3311cf4",
   "metadata": {
    "scrolled": false
   },
   "outputs": [
    {
     "data": {
      "text/html": [
       "<div>\n",
       "<style scoped>\n",
       "    .dataframe tbody tr th:only-of-type {\n",
       "        vertical-align: middle;\n",
       "    }\n",
       "\n",
       "    .dataframe tbody tr th {\n",
       "        vertical-align: top;\n",
       "    }\n",
       "\n",
       "    .dataframe thead th {\n",
       "        text-align: right;\n",
       "    }\n",
       "</style>\n",
       "<table border=\"1\" class=\"dataframe\">\n",
       "  <thead>\n",
       "    <tr style=\"text-align: right;\">\n",
       "      <th></th>\n",
       "      <th>Chuva</th>\n",
       "      <th>Pres</th>\n",
       "      <th>Pres_max</th>\n",
       "      <th>Pres_min</th>\n",
       "      <th>Radiacao</th>\n",
       "      <th>Temp</th>\n",
       "      <th>Temp_orvalho</th>\n",
       "      <th>Temp_max</th>\n",
       "      <th>Temp_min</th>\n",
       "      <th>Temp_orvalho_max</th>\n",
       "      <th>...</th>\n",
       "      <th>Umid_min</th>\n",
       "      <th>Umid</th>\n",
       "      <th>Dir_vento</th>\n",
       "      <th>Rajada_vento</th>\n",
       "      <th>Vel_vento</th>\n",
       "      <th>Latitude</th>\n",
       "      <th>Longitude</th>\n",
       "      <th>Altitude</th>\n",
       "      <th>datahora</th>\n",
       "      <th>classe_chuva</th>\n",
       "    </tr>\n",
       "  </thead>\n",
       "  <tbody>\n",
       "    <tr>\n",
       "      <th>2122</th>\n",
       "      <td>0.000000</td>\n",
       "      <td>955.600000</td>\n",
       "      <td>955.600000</td>\n",
       "      <td>955.000000</td>\n",
       "      <td>49.200000</td>\n",
       "      <td>19.600000</td>\n",
       "      <td>19.600000</td>\n",
       "      <td>20.100000</td>\n",
       "      <td>18.800000</td>\n",
       "      <td>20.000000</td>\n",
       "      <td>...</td>\n",
       "      <td>100.000000</td>\n",
       "      <td>100.000000</td>\n",
       "      <td>107.000000</td>\n",
       "      <td>2.400000</td>\n",
       "      <td>0.500000</td>\n",
       "      <td>-21.927251</td>\n",
       "      <td>-50.490251</td>\n",
       "      <td>498.0</td>\n",
       "      <td>2021-03-30 10:00:00+00:00</td>\n",
       "      <td>0</td>\n",
       "    </tr>\n",
       "    <tr>\n",
       "      <th>2123</th>\n",
       "      <td>0.000000</td>\n",
       "      <td>956.100000</td>\n",
       "      <td>956.200000</td>\n",
       "      <td>955.600000</td>\n",
       "      <td>558.500000</td>\n",
       "      <td>22.000000</td>\n",
       "      <td>20.900000</td>\n",
       "      <td>22.100000</td>\n",
       "      <td>19.600000</td>\n",
       "      <td>21.000000</td>\n",
       "      <td>...</td>\n",
       "      <td>90.000000</td>\n",
       "      <td>93.000000</td>\n",
       "      <td>37.000000</td>\n",
       "      <td>2.700000</td>\n",
       "      <td>1.800000</td>\n",
       "      <td>-21.927251</td>\n",
       "      <td>-50.490251</td>\n",
       "      <td>498.0</td>\n",
       "      <td>2021-03-30 11:00:00+00:00</td>\n",
       "      <td>0</td>\n",
       "    </tr>\n",
       "    <tr>\n",
       "      <th>2124</th>\n",
       "      <td>0.118347</td>\n",
       "      <td>957.201226</td>\n",
       "      <td>957.464789</td>\n",
       "      <td>956.940262</td>\n",
       "      <td>829.614453</td>\n",
       "      <td>23.506298</td>\n",
       "      <td>15.272879</td>\n",
       "      <td>24.208814</td>\n",
       "      <td>22.826405</td>\n",
       "      <td>15.814165</td>\n",
       "      <td>...</td>\n",
       "      <td>61.544826</td>\n",
       "      <td>64.635291</td>\n",
       "      <td>147.019878</td>\n",
       "      <td>5.888722</td>\n",
       "      <td>2.862701</td>\n",
       "      <td>-21.927251</td>\n",
       "      <td>-50.490251</td>\n",
       "      <td>498.0</td>\n",
       "      <td>2021-03-30 12:00:00+00:00</td>\n",
       "      <td>1</td>\n",
       "    </tr>\n",
       "    <tr>\n",
       "      <th>2125</th>\n",
       "      <td>0.000000</td>\n",
       "      <td>956.700000</td>\n",
       "      <td>956.800000</td>\n",
       "      <td>956.600000</td>\n",
       "      <td>2201.800000</td>\n",
       "      <td>26.200000</td>\n",
       "      <td>21.500000</td>\n",
       "      <td>26.600000</td>\n",
       "      <td>24.000000</td>\n",
       "      <td>21.600000</td>\n",
       "      <td>...</td>\n",
       "      <td>70.000000</td>\n",
       "      <td>75.000000</td>\n",
       "      <td>222.000000</td>\n",
       "      <td>3.400000</td>\n",
       "      <td>1.200000</td>\n",
       "      <td>-21.927251</td>\n",
       "      <td>-50.490251</td>\n",
       "      <td>498.0</td>\n",
       "      <td>2021-03-30 13:00:00+00:00</td>\n",
       "      <td>0</td>\n",
       "    </tr>\n",
       "    <tr>\n",
       "      <th>2126</th>\n",
       "      <td>0.000000</td>\n",
       "      <td>956.400000</td>\n",
       "      <td>956.700000</td>\n",
       "      <td>956.400000</td>\n",
       "      <td>2886.600000</td>\n",
       "      <td>27.800000</td>\n",
       "      <td>20.800000</td>\n",
       "      <td>28.300000</td>\n",
       "      <td>26.200000</td>\n",
       "      <td>21.800000</td>\n",
       "      <td>...</td>\n",
       "      <td>62.000000</td>\n",
       "      <td>66.000000</td>\n",
       "      <td>251.000000</td>\n",
       "      <td>4.900000</td>\n",
       "      <td>2.200000</td>\n",
       "      <td>-21.927251</td>\n",
       "      <td>-50.490251</td>\n",
       "      <td>498.0</td>\n",
       "      <td>2021-03-30 14:00:00+00:00</td>\n",
       "      <td>0</td>\n",
       "    </tr>\n",
       "  </tbody>\n",
       "</table>\n",
       "<p>5 rows × 22 columns</p>\n",
       "</div>"
      ],
      "text/plain": [
       "         Chuva        Pres    Pres_max    Pres_min     Radiacao       Temp  \\\n",
       "2122  0.000000  955.600000  955.600000  955.000000    49.200000  19.600000   \n",
       "2123  0.000000  956.100000  956.200000  955.600000   558.500000  22.000000   \n",
       "2124  0.118347  957.201226  957.464789  956.940262   829.614453  23.506298   \n",
       "2125  0.000000  956.700000  956.800000  956.600000  2201.800000  26.200000   \n",
       "2126  0.000000  956.400000  956.700000  956.400000  2886.600000  27.800000   \n",
       "\n",
       "      Temp_orvalho   Temp_max   Temp_min  Temp_orvalho_max  ...    Umid_min  \\\n",
       "2122     19.600000  20.100000  18.800000         20.000000  ...  100.000000   \n",
       "2123     20.900000  22.100000  19.600000         21.000000  ...   90.000000   \n",
       "2124     15.272879  24.208814  22.826405         15.814165  ...   61.544826   \n",
       "2125     21.500000  26.600000  24.000000         21.600000  ...   70.000000   \n",
       "2126     20.800000  28.300000  26.200000         21.800000  ...   62.000000   \n",
       "\n",
       "            Umid   Dir_vento  Rajada_vento  Vel_vento   Latitude  Longitude  \\\n",
       "2122  100.000000  107.000000      2.400000   0.500000 -21.927251 -50.490251   \n",
       "2123   93.000000   37.000000      2.700000   1.800000 -21.927251 -50.490251   \n",
       "2124   64.635291  147.019878      5.888722   2.862701 -21.927251 -50.490251   \n",
       "2125   75.000000  222.000000      3.400000   1.200000 -21.927251 -50.490251   \n",
       "2126   66.000000  251.000000      4.900000   2.200000 -21.927251 -50.490251   \n",
       "\n",
       "      Altitude                  datahora  classe_chuva  \n",
       "2122     498.0 2021-03-30 10:00:00+00:00             0  \n",
       "2123     498.0 2021-03-30 11:00:00+00:00             0  \n",
       "2124     498.0 2021-03-30 12:00:00+00:00             1  \n",
       "2125     498.0 2021-03-30 13:00:00+00:00             0  \n",
       "2126     498.0 2021-03-30 14:00:00+00:00             0  \n",
       "\n",
       "[5 rows x 22 columns]"
      ]
     },
     "execution_count": 6,
     "metadata": {},
     "output_type": "execute_result"
    }
   ],
   "source": [
    "df_sample = subsample_sequence(df,48)\n",
    "df_sample.head()"
   ]
  },
  {
   "cell_type": "code",
   "execution_count": 7,
   "id": "c3900c33",
   "metadata": {},
   "outputs": [],
   "source": [
    "def split_subsample_sequence(df, length):\n",
    "    '''Create one single random (X,y) pair'''\n",
    "    \n",
    "    df_subsample = subsample_sequence(df, length)\n",
    "    y_sample = df_subsample['classe_chuva'].iloc[length - 24:]\n",
    "    \n",
    "    X_sample = df_subsample.drop(columns= ['classe_chuva', 'datahora'])[0:length -24]\n",
    "    X_sample = X_sample.values\n",
    "   \n",
    "    return np.array(X_sample), np.array(y_sample)"
   ]
  },
  {
   "cell_type": "code",
   "execution_count": 8,
   "id": "4cba9741",
   "metadata": {},
   "outputs": [
    {
     "data": {
      "text/plain": [
       "(24, 20)"
      ]
     },
     "execution_count": 8,
     "metadata": {},
     "output_type": "execute_result"
    }
   ],
   "source": [
    "X,y = split_subsample_sequence(df,48)\n",
    "X.shape"
   ]
  },
  {
   "cell_type": "code",
   "execution_count": 9,
   "id": "e6966c87",
   "metadata": {},
   "outputs": [
    {
     "data": {
      "text/plain": [
       "array([0, 0, 0, 0, 0, 0, 0, 0, 0, 0, 0, 0, 0, 0, 0, 0, 0, 0, 0, 0, 0, 0,\n",
       "       0, 0])"
      ]
     },
     "execution_count": 9,
     "metadata": {},
     "output_type": "execute_result"
    }
   ],
   "source": [
    "y"
   ]
  },
  {
   "cell_type": "code",
   "execution_count": 10,
   "id": "22e41029",
   "metadata": {},
   "outputs": [
    {
     "data": {
      "text/plain": [
       "(array([[ 0.0000000e+00,  9.6020000e+02,  9.6030000e+02,  9.6000000e+02,\n",
       "          0.0000000e+00,  1.5200000e+01,  8.4000000e+00,  1.5600000e+01,\n",
       "          1.5000000e+01,  8.5000000e+00,  7.9000000e+00,  6.4000000e+01,\n",
       "          6.1000000e+01,  6.4000000e+01,  1.2600000e+02,  4.4000000e+00,\n",
       "          2.2000000e+00, -2.1927251e+01, -5.0490251e+01,  4.9800000e+02],\n",
       "        [ 0.0000000e+00,  9.6090000e+02,  9.6090000e+02,  9.6020000e+02,\n",
       "          9.6500000e+01,  1.4800000e+01,  8.8000000e+00,  1.5500000e+01,\n",
       "          1.4800000e+01,  8.8000000e+00,  8.4000000e+00,  6.7000000e+01,\n",
       "          6.4000000e+01,  6.7000000e+01,  1.0800000e+02,  4.8000000e+00,\n",
       "          1.9000000e+00, -2.1927251e+01, -5.0490251e+01,  4.9800000e+02],\n",
       "        [ 0.0000000e+00,  9.6200000e+02,  9.6200000e+02,  9.6100000e+02,\n",
       "          1.9300000e+02,  1.6800000e+01,  9.5000000e+00,  1.6800000e+01,\n",
       "          1.4800000e+01,  9.6000000e+00,  8.7000000e+00,  6.7000000e+01,\n",
       "          6.2000000e+01,  6.2000000e+01,  1.0900000e+02,  3.4000000e+00,\n",
       "          2.2000000e+00, -2.1927251e+01, -5.0490251e+01,  4.9800000e+02],\n",
       "        [ 0.0000000e+00,  9.6290000e+02,  9.6290000e+02,  9.6200000e+02,\n",
       "          8.4840000e+02,  1.9300000e+01,  9.7000000e+00,  1.9300000e+01,\n",
       "          1.6800000e+01,  9.8000000e+00,  9.3000000e+00,  6.2000000e+01,\n",
       "          5.3000000e+01,  5.4000000e+01,  9.3000000e+01,  6.3000000e+00,\n",
       "          4.0000000e+00, -2.1927251e+01, -5.0490251e+01,  4.9800000e+02],\n",
       "        [ 0.0000000e+00,  9.6340000e+02,  9.6340000e+02,  9.6290000e+02,\n",
       "          1.5416000e+03,  2.1500000e+01,  9.6000000e+00,  2.1500000e+01,\n",
       "          1.9300000e+01,  1.0000000e+01,  9.1000000e+00,  5.4000000e+01,\n",
       "          4.7000000e+01,  4.7000000e+01,  6.7000000e+01,  7.7000000e+00,\n",
       "          5.0000000e+00, -2.1927251e+01, -5.0490251e+01,  4.9800000e+02],\n",
       "        [ 0.0000000e+00,  9.6330000e+02,  9.6350000e+02,  9.6330000e+02,\n",
       "          2.0936000e+03,  2.3200000e+01,  9.4000000e+00,  2.3400000e+01,\n",
       "          2.1300000e+01,  9.8000000e+00,  8.9000000e+00,  4.7000000e+01,\n",
       "          4.1000000e+01,  4.2000000e+01,  5.8000000e+01,  7.8000000e+00,\n",
       "          4.4000000e+00, -2.1927251e+01, -5.0490251e+01,  4.9800000e+02],\n",
       "        [ 0.0000000e+00,  9.6270000e+02,  9.6330000e+02,  9.6270000e+02,\n",
       "          2.4321000e+03,  2.4200000e+01,  9.8000000e+00,  2.4700000e+01,\n",
       "          2.3100000e+01,  1.0100000e+01,  8.9000000e+00,  4.2000000e+01,\n",
       "          3.8000000e+01,  4.0000000e+01,  6.1000000e+01,  7.0000000e+00,\n",
       "          3.9000000e+00, -2.1927251e+01, -5.0490251e+01,  4.9800000e+02],\n",
       "        [ 0.0000000e+00,  9.6180000e+02,  9.6270000e+02,  9.6180000e+02,\n",
       "          2.5365000e+03,  2.6700000e+01,  9.4000000e+00,  2.6800000e+01,\n",
       "          2.4200000e+01,  1.0400000e+01,  8.3000000e+00,  4.1000000e+01,\n",
       "          3.2000000e+01,  3.4000000e+01,  5.3000000e+01,  6.1000000e+00,\n",
       "          2.5000000e+00, -2.1927251e+01, -5.0490251e+01,  4.9800000e+02],\n",
       "        [ 0.0000000e+00,  9.6080000e+02,  9.6180000e+02,  9.6080000e+02,\n",
       "          2.3988000e+03,  2.8100000e+01,  7.3000000e+00,  2.8100000e+01,\n",
       "          2.6400000e+01,  9.7000000e+00,  6.6000000e+00,  3.4000000e+01,\n",
       "          2.6000000e+01,  2.7000000e+01,  1.0800000e+02,  4.7000000e+00,\n",
       "          1.3000000e+00, -2.1927251e+01, -5.0490251e+01,  4.9800000e+02],\n",
       "        [ 0.0000000e+00,  9.6020000e+02,  9.6080000e+02,  9.6020000e+02,\n",
       "          2.0326000e+03,  2.7800000e+01,  5.7000000e+00,  2.8500000e+01,\n",
       "          2.7700000e+01,  7.4000000e+00,  4.7000000e+00,  2.7000000e+01,\n",
       "          2.2000000e+01,  2.5000000e+01,  3.1500000e+02,  4.7000000e+00,\n",
       "          1.6000000e+00, -2.1927251e+01, -5.0490251e+01,  4.9800000e+02],\n",
       "        [ 0.0000000e+00,  9.5990000e+02,  9.6020000e+02,  9.5990000e+02,\n",
       "          1.2319000e+03,  2.7900000e+01,  7.0000000e+00,  2.8500000e+01,\n",
       "          2.7400000e+01,  7.4000000e+00,  5.5000000e+00,  2.8000000e+01,\n",
       "          2.4000000e+01,  2.7000000e+01,  2.5400000e+02,  4.7000000e+00,\n",
       "          1.3000000e+00, -2.1927251e+01, -5.0490251e+01,  4.9800000e+02],\n",
       "        [ 0.0000000e+00,  9.5980000e+02,  9.5990000e+02,  9.5980000e+02,\n",
       "          8.9610000e+02,  2.7000000e+01,  7.2000000e+00,  2.8400000e+01,\n",
       "          2.7000000e+01,  7.3000000e+00,  6.1000000e+00,  2.8000000e+01,\n",
       "          2.5000000e+01,  2.8000000e+01,  1.8500000e+02,  4.2000000e+00,\n",
       "          2.1000000e+00, -2.1927251e+01, -5.0490251e+01,  4.9800000e+02],\n",
       "        [ 0.0000000e+00,  9.6010000e+02,  9.6010000e+02,  9.5970000e+02,\n",
       "          1.5180000e+02,  2.5100000e+01,  7.1000000e+00,  2.7000000e+01,\n",
       "          2.5000000e+01,  7.1000000e+00,  6.7000000e+00,  3.2000000e+01,\n",
       "          2.7000000e+01,  3.2000000e+01,  2.0400000e+02,  3.6000000e+00,\n",
       "          1.1000000e+00, -2.1927251e+01, -5.0490251e+01,  4.9800000e+02],\n",
       "        [ 0.0000000e+00,  9.6050000e+02,  9.6050000e+02,  9.6010000e+02,\n",
       "          0.0000000e+00,  2.4100000e+01,  7.3000000e+00,  2.5100000e+01,\n",
       "          2.4100000e+01,  7.3000000e+00,  6.7000000e+00,  3.4000000e+01,\n",
       "          3.2000000e+01,  3.4000000e+01,  2.1700000e+02,  4.6000000e+00,\n",
       "          2.3000000e+00, -2.1927251e+01, -5.0490251e+01,  4.9800000e+02],\n",
       "        [ 0.0000000e+00,  9.6090000e+02,  9.6090000e+02,  9.6050000e+02,\n",
       "          0.0000000e+00,  2.2600000e+01,  8.3000000e+00,  2.4300000e+01,\n",
       "          2.2600000e+01,  8.3000000e+00,  7.3000000e+00,  4.0000000e+01,\n",
       "          3.4000000e+01,  4.0000000e+01,  1.8500000e+02,  4.9000000e+00,\n",
       "          3.2000000e+00, -2.1927251e+01, -5.0490251e+01,  4.9800000e+02],\n",
       "        [ 0.0000000e+00,  9.6140000e+02,  9.6140000e+02,  9.6090000e+02,\n",
       "          0.0000000e+00,  2.1600000e+01,  8.6000000e+00,  2.2500000e+01,\n",
       "          2.1200000e+01,  8.7000000e+00,  8.4000000e+00,  4.4000000e+01,\n",
       "          4.0000000e+01,  4.3000000e+01,  1.9200000e+02,  5.2000000e+00,\n",
       "          3.2000000e+00, -2.1927251e+01, -5.0490251e+01,  4.9800000e+02],\n",
       "        [ 0.0000000e+00,  9.6160000e+02,  9.6160000e+02,  9.6140000e+02,\n",
       "          0.0000000e+00,  2.1300000e+01,  8.5000000e+00,  2.1900000e+01,\n",
       "          2.1100000e+01,  8.6000000e+00,  8.5000000e+00,  4.5000000e+01,\n",
       "          4.2000000e+01,  4.4000000e+01,  1.8200000e+02,  5.7000000e+00,\n",
       "          3.3000000e+00, -2.1927251e+01, -5.0490251e+01,  4.9800000e+02],\n",
       "        [ 0.0000000e+00,  9.6170000e+02,  9.6170000e+02,  9.6160000e+02,\n",
       "          0.0000000e+00,  2.0700000e+01,  8.6000000e+00,  2.1300000e+01,\n",
       "          2.0400000e+01,  8.6000000e+00,  8.5000000e+00,  4.7000000e+01,\n",
       "          4.4000000e+01,  4.6000000e+01,  1.8000000e+02,  6.0000000e+00,\n",
       "          3.1000000e+00, -2.1927251e+01, -5.0490251e+01,  4.9800000e+02],\n",
       "        [ 0.0000000e+00,  9.6140000e+02,  9.6180000e+02,  9.6140000e+02,\n",
       "          0.0000000e+00,  2.0400000e+01,  8.4000000e+00,  2.0900000e+01,\n",
       "          2.0100000e+01,  8.7000000e+00,  8.4000000e+00,  4.7000000e+01,\n",
       "          4.5000000e+01,  4.6000000e+01,  1.7500000e+02,  5.2000000e+00,\n",
       "          2.6000000e+00, -2.1927251e+01, -5.0490251e+01,  4.9800000e+02],\n",
       "        [ 0.0000000e+00,  9.6150000e+02,  9.6160000e+02,  9.6140000e+02,\n",
       "          0.0000000e+00,  1.9400000e+01,  8.5000000e+00,  2.0500000e+01,\n",
       "          1.9400000e+01,  8.7000000e+00,  8.4000000e+00,  4.9000000e+01,\n",
       "          4.6000000e+01,  4.9000000e+01,  1.9700000e+02,  5.3000000e+00,\n",
       "          2.7000000e+00, -2.1927251e+01, -5.0490251e+01,  4.9800000e+02],\n",
       "        [ 0.0000000e+00,  9.6140000e+02,  9.6160000e+02,  9.6140000e+02,\n",
       "          0.0000000e+00,  1.8400000e+01,  8.7000000e+00,  1.9400000e+01,\n",
       "          1.8400000e+01,  8.7000000e+00,  8.5000000e+00,  5.3000000e+01,\n",
       "          4.9000000e+01,  5.3000000e+01,  1.8500000e+02,  5.7000000e+00,\n",
       "          3.2000000e+00, -2.1927251e+01, -5.0490251e+01,  4.9800000e+02],\n",
       "        [ 0.0000000e+00,  9.6080000e+02,  9.6140000e+02,  9.6080000e+02,\n",
       "          0.0000000e+00,  1.8200000e+01,  8.9000000e+00,  1.8400000e+01,\n",
       "          1.7800000e+01,  9.0000000e+00,  8.7000000e+00,  5.6000000e+01,\n",
       "          5.3000000e+01,  5.4000000e+01,  1.7700000e+02,  5.0000000e+00,\n",
       "          2.6000000e+00, -2.1927251e+01, -5.0490251e+01,  4.9800000e+02],\n",
       "        [ 0.0000000e+00,  9.6050000e+02,  9.6080000e+02,  9.6050000e+02,\n",
       "          0.0000000e+00,  1.8300000e+01,  8.8000000e+00,  1.8600000e+01,\n",
       "          1.8200000e+01,  8.9000000e+00,  8.8000000e+00,  5.4000000e+01,\n",
       "          5.3000000e+01,  5.4000000e+01,  1.7300000e+02,  4.2000000e+00,\n",
       "          1.9000000e+00, -2.1927251e+01, -5.0490251e+01,  4.9800000e+02],\n",
       "        [ 0.0000000e+00,  9.6030000e+02,  9.6050000e+02,  9.6030000e+02,\n",
       "          0.0000000e+00,  1.9100000e+01,  8.3000000e+00,  1.9100000e+01,\n",
       "          1.8300000e+01,  8.8000000e+00,  8.2000000e+00,  5.4000000e+01,\n",
       "          4.9000000e+01,  4.9000000e+01,  1.7700000e+02,  3.4000000e+00,\n",
       "          1.9000000e+00, -2.1927251e+01, -5.0490251e+01,  4.9800000e+02]]),\n",
       " array([0, 0, 0, 0, 0, 0, 0, 0, 0, 0, 0, 0, 0, 0, 0, 0, 0, 0, 0, 0, 0, 0,\n",
       "        0, 0]))"
      ]
     },
     "execution_count": 10,
     "metadata": {},
     "output_type": "execute_result"
    }
   ],
   "source": [
    "X,y "
   ]
  },
  {
   "cell_type": "code",
   "execution_count": 11,
   "id": "1bdd2b86",
   "metadata": {},
   "outputs": [],
   "source": [
    "def get_X_y(df, n_sequences, length):\n",
    "    '''Return a list of samples (X, y)'''\n",
    "    X, y = [], []\n",
    "\n",
    "    for i in range(n_sequences):\n",
    "        (xi, yi) = split_subsample_sequence(df, length)\n",
    "        X.append(xi)\n",
    "        y.append(yi)\n",
    "        \n",
    "    X = np.array(X)\n",
    "    y = np.array(y)\n",
    "    return X, y"
   ]
  },
  {
   "cell_type": "code",
   "execution_count": 12,
   "id": "fe294076",
   "metadata": {},
   "outputs": [
    {
     "data": {
      "text/plain": [
       "7008.0"
      ]
     },
     "execution_count": 12,
     "metadata": {},
     "output_type": "execute_result"
    }
   ],
   "source": [
    "df.shape[0]*0.8"
   ]
  },
  {
   "cell_type": "code",
   "execution_count": 13,
   "id": "e2f5dcbb",
   "metadata": {},
   "outputs": [],
   "source": [
    "train_size = int(df.shape[0]*0.8)\n",
    "df_train = df.iloc[:train_size,:]\n",
    "df_test = df.iloc[train_size:,:]"
   ]
  },
  {
   "cell_type": "code",
   "execution_count": 14,
   "id": "981ac0ec",
   "metadata": {},
   "outputs": [
    {
     "data": {
      "text/plain": [
       "classe_chuva\n",
       "0               6580\n",
       "1                391\n",
       "2                 34\n",
       "3                  3\n",
       "dtype: int64"
      ]
     },
     "execution_count": 14,
     "metadata": {},
     "output_type": "execute_result"
    }
   ],
   "source": [
    "df_train.value_counts(['classe_chuva'])"
   ]
  },
  {
   "cell_type": "code",
   "execution_count": 15,
   "id": "cdcb1345",
   "metadata": {},
   "outputs": [
    {
     "data": {
      "text/plain": [
       "(1752, 22)"
      ]
     },
     "execution_count": 15,
     "metadata": {},
     "output_type": "execute_result"
    }
   ],
   "source": [
    "df_test.shape"
   ]
  },
  {
   "cell_type": "code",
   "execution_count": 16,
   "id": "72d01955",
   "metadata": {},
   "outputs": [],
   "source": [
    "X_train,y_train = get_X_y(df_train,6000,72)"
   ]
  },
  {
   "cell_type": "code",
   "execution_count": 17,
   "id": "b37de02c",
   "metadata": {},
   "outputs": [],
   "source": [
    "X_test,y_test = get_X_y(df_test,6000,72)"
   ]
  },
  {
   "cell_type": "code",
   "execution_count": 18,
   "id": "2aefdf82",
   "metadata": {},
   "outputs": [
    {
     "data": {
      "text/plain": [
       "(6000, 24)"
      ]
     },
     "execution_count": 18,
     "metadata": {},
     "output_type": "execute_result"
    }
   ],
   "source": [
    "y_train.shape"
   ]
  },
  {
   "cell_type": "code",
   "execution_count": 19,
   "id": "871dbb27",
   "metadata": {},
   "outputs": [
    {
     "data": {
      "text/plain": [
       "(6000, 24, 4)"
      ]
     },
     "execution_count": 19,
     "metadata": {},
     "output_type": "execute_result"
    }
   ],
   "source": [
    "from sklearn.preprocessing import LabelEncoder\n",
    "from tensorflow.keras.utils import to_categorical\n",
    "\n",
    "# label = LabelEncoder()\n",
    "# y_enc = label.fit_transform(y.reshape((-1,)))\n",
    "y_cat = to_categorical(y_train)\n",
    "y_cat.shape"
   ]
  },
  {
   "cell_type": "code",
   "execution_count": 20,
   "id": "196a061b",
   "metadata": {},
   "outputs": [
    {
     "name": "stderr",
     "output_type": "stream",
     "text": [
      "2022-03-24 09:06:51.005914: I tensorflow/core/platform/cpu_feature_guard.cc:151] This TensorFlow binary is optimized with oneAPI Deep Neural Network Library (oneDNN) to use the following CPU instructions in performance-critical operations:  SSE4.2\n",
      "To enable them in other operations, rebuild TensorFlow with the appropriate compiler flags.\n"
     ]
    }
   ],
   "source": [
    "from tensorflow.keras.layers.experimental.preprocessing import Normalization\n",
    "\n",
    "norm = Normalization()\n",
    "norm.adapt(X_train)"
   ]
  },
  {
   "cell_type": "code",
   "execution_count": 21,
   "id": "427fc114",
   "metadata": {},
   "outputs": [
    {
     "name": "stdout",
     "output_type": "stream",
     "text": [
      "Model: \"sequential\"\n",
      "_________________________________________________________________\n",
      " Layer (type)                Output Shape              Param #   \n",
      "=================================================================\n",
      " normalization (Normalizatio  (None, None, 20)         41        \n",
      " n)                                                              \n",
      "                                                                 \n",
      " lstm (LSTM)                 (None, 20)                3280      \n",
      "                                                                 \n",
      " dense (Dense)               (None, 10)                210       \n",
      "                                                                 \n",
      " dense_1 (Dense)             (None, 24)                264       \n",
      "                                                                 \n",
      "=================================================================\n",
      "Total params: 3,795\n",
      "Trainable params: 3,754\n",
      "Non-trainable params: 41\n",
      "_________________________________________________________________\n"
     ]
    }
   ],
   "source": [
    "model = Sequential()\n",
    "\n",
    "model.add(norm)\n",
    "\n",
    "model.add(LSTM(units=20, activation='tanh'))\n",
    "model.add(Dense(10, activation=\"tanh\"))\n",
    "model.add(Dense(24, activation=\"sigmoid\"))\n",
    "\n",
    "model.compile(loss='binary_crossentropy',\n",
    "                  optimizer='rmsprop',\n",
    "                  metrics=['accuracy'])\n",
    "\n",
    "model.summary()"
   ]
  },
  {
   "cell_type": "code",
   "execution_count": 22,
   "id": "e24322a7",
   "metadata": {},
   "outputs": [
    {
     "name": "stdout",
     "output_type": "stream",
     "text": [
      "Epoch 1/10\n",
      "150/150 [==============================] - 2s 8ms/step - loss: 0.4191 - accuracy: 0.0125 - val_loss: 0.2862 - val_accuracy: 0.0133\n",
      "Epoch 2/10\n",
      "150/150 [==============================] - 1s 6ms/step - loss: 0.2395 - accuracy: 0.0110 - val_loss: 0.2284 - val_accuracy: 0.0175\n",
      "Epoch 3/10\n",
      "150/150 [==============================] - 1s 6ms/step - loss: 0.2052 - accuracy: 0.0137 - val_loss: 0.2040 - val_accuracy: 0.0117\n",
      "Epoch 4/10\n",
      "150/150 [==============================] - 1s 6ms/step - loss: 0.1882 - accuracy: 0.0146 - val_loss: 0.1897 - val_accuracy: 0.0158\n",
      "Epoch 5/10\n",
      "150/150 [==============================] - 1s 6ms/step - loss: 0.1771 - accuracy: 0.0127 - val_loss: 0.1787 - val_accuracy: 0.0108\n",
      "Epoch 6/10\n",
      "150/150 [==============================] - 1s 6ms/step - loss: 0.1703 - accuracy: 0.0121 - val_loss: 0.1729 - val_accuracy: 0.0125\n",
      "Epoch 7/10\n",
      "150/150 [==============================] - 1s 6ms/step - loss: 0.1660 - accuracy: 0.0131 - val_loss: 0.1733 - val_accuracy: 0.0100\n",
      "Epoch 8/10\n",
      "150/150 [==============================] - 1s 7ms/step - loss: 0.1632 - accuracy: 0.0129 - val_loss: 0.1697 - val_accuracy: 0.0108\n",
      "Epoch 9/10\n",
      "150/150 [==============================] - 1s 7ms/step - loss: 0.1617 - accuracy: 0.0146 - val_loss: 0.1653 - val_accuracy: 0.0117\n",
      "Epoch 10/10\n",
      "150/150 [==============================] - 1s 6ms/step - loss: 0.1593 - accuracy: 0.0160 - val_loss: 0.1642 - val_accuracy: 0.0133\n"
     ]
    },
    {
     "data": {
      "text/plain": [
       "<keras.callbacks.History at 0x1a582bdc0>"
      ]
     },
     "execution_count": 22,
     "metadata": {},
     "output_type": "execute_result"
    }
   ],
   "source": [
    "from tensorflow.keras.callbacks import EarlyStopping\n",
    "\n",
    "es = EarlyStopping(patience=3, restore_best_weights=True)\n",
    "\n",
    "model.fit(X_train, y_train, batch_size=32, epochs=10, verbose=1,\n",
    "         validation_split=0.2,\n",
    "          callbacks=[es])"
   ]
  },
  {
   "cell_type": "code",
   "execution_count": 23,
   "id": "3f960324",
   "metadata": {},
   "outputs": [
    {
     "data": {
      "text/plain": [
       "array([0.0204567 , 0.02107978, 0.0151518 , 0.01571482, 0.01991513,\n",
       "       0.0170511 , 0.01246396, 0.01454297, 0.01182646, 0.01037672,\n",
       "       0.01331779, 0.01705784, 0.02010471, 0.01637325, 0.01310965,\n",
       "       0.02093032, 0.02258494, 0.01668856, 0.01950866, 0.02388427,\n",
       "       0.02403748, 0.02877757, 0.02385899, 0.02777055], dtype=float32)"
      ]
     },
     "execution_count": 23,
     "metadata": {},
     "output_type": "execute_result"
    }
   ],
   "source": [
    "model.predict(X_test)[0]"
   ]
  }
 ],
 "metadata": {
  "kernelspec": {
   "display_name": "Python 3 (ipykernel)",
   "language": "python",
   "name": "python3"
  },
  "language_info": {
   "codemirror_mode": {
    "name": "ipython",
    "version": 3
   },
   "file_extension": ".py",
   "mimetype": "text/x-python",
   "name": "python",
   "nbconvert_exporter": "python",
   "pygments_lexer": "ipython3",
   "version": "3.8.12"
  },
  "toc": {
   "base_numbering": 1,
   "nav_menu": {},
   "number_sections": true,
   "sideBar": true,
   "skip_h1_title": false,
   "title_cell": "Table of Contents",
   "title_sidebar": "Contents",
   "toc_cell": false,
   "toc_position": {},
   "toc_section_display": true,
   "toc_window_display": false
  }
 },
 "nbformat": 4,
 "nbformat_minor": 5
}
