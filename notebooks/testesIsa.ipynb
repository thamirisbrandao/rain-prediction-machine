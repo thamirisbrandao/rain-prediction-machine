{
 "cells": [
  {
   "cell_type": "code",
   "execution_count": 1,
   "id": "df6c9d8e",
   "metadata": {},
   "outputs": [
    {
     "name": "stderr",
     "output_type": "stream",
     "text": [
      "2022-03-23 10:15:10.788945: W tensorflow/stream_executor/platform/default/dso_loader.cc:64] Could not load dynamic library 'libcudart.so.11.0'; dlerror: libcudart.so.11.0: cannot open shared object file: No such file or directory\n",
      "2022-03-23 10:15:10.789061: I tensorflow/stream_executor/cuda/cudart_stub.cc:29] Ignore above cudart dlerror if you do not have a GPU set up on your machine.\n"
     ]
    }
   ],
   "source": [
    "%load_ext autoreload\n",
    "%autoreload 2\n",
    "from tensorflow.keras.models import Sequential\n",
    "from tensorflow.keras.layers import Dense, SimpleRNN, Flatten, LSTM\n",
    "import pandas as pd\n",
    "import numpy as np"
   ]
  },
  {
   "cell_type": "code",
   "execution_count": 2,
   "id": "d1a004ac",
   "metadata": {},
   "outputs": [],
   "source": [
    "from RainPredictionMachine.data import CleanDataRpm\n",
    "cleaner = CleanDataRpm()\n",
    "df = cleaner.clean_data(2)"
   ]
  },
  {
   "cell_type": "code",
   "execution_count": 3,
   "id": "75017ffd",
   "metadata": {},
   "outputs": [
    {
     "data": {
      "text/html": [
       "<div>\n",
       "<style scoped>\n",
       "    .dataframe tbody tr th:only-of-type {\n",
       "        vertical-align: middle;\n",
       "    }\n",
       "\n",
       "    .dataframe tbody tr th {\n",
       "        vertical-align: top;\n",
       "    }\n",
       "\n",
       "    .dataframe thead th {\n",
       "        text-align: right;\n",
       "    }\n",
       "</style>\n",
       "<table border=\"1\" class=\"dataframe\">\n",
       "  <thead>\n",
       "    <tr style=\"text-align: right;\">\n",
       "      <th></th>\n",
       "      <th>Chuva</th>\n",
       "      <th>Pres</th>\n",
       "      <th>Pres_max</th>\n",
       "      <th>Pres_min</th>\n",
       "      <th>Radiacao</th>\n",
       "      <th>Temp</th>\n",
       "      <th>Temp_orvalho</th>\n",
       "      <th>Temp_max</th>\n",
       "      <th>Temp_min</th>\n",
       "      <th>Temp_orvalho_max</th>\n",
       "      <th>...</th>\n",
       "      <th>Umid</th>\n",
       "      <th>Dir_vento</th>\n",
       "      <th>Rajada_vento</th>\n",
       "      <th>Vel_vento</th>\n",
       "      <th>Estaçao</th>\n",
       "      <th>Latitude</th>\n",
       "      <th>Longitude</th>\n",
       "      <th>Altitude</th>\n",
       "      <th>datahora</th>\n",
       "      <th>classe_chuva</th>\n",
       "    </tr>\n",
       "  </thead>\n",
       "  <tbody>\n",
       "    <tr>\n",
       "      <th>0</th>\n",
       "      <td>0.0</td>\n",
       "      <td>923.1</td>\n",
       "      <td>923.1</td>\n",
       "      <td>922.1</td>\n",
       "      <td>0.0</td>\n",
       "      <td>22.0</td>\n",
       "      <td>20.5</td>\n",
       "      <td>22.2</td>\n",
       "      <td>21.8</td>\n",
       "      <td>20.5</td>\n",
       "      <td>...</td>\n",
       "      <td>92.0</td>\n",
       "      <td>172.0</td>\n",
       "      <td>2.8</td>\n",
       "      <td>0.4</td>\n",
       "      <td>SAO PAULO - INTERLAGOS</td>\n",
       "      <td>-23.724501</td>\n",
       "      <td>-46.677501</td>\n",
       "      <td>771.0</td>\n",
       "      <td>2020-01-01 00:00:00+00:00</td>\n",
       "      <td>nao chove</td>\n",
       "    </tr>\n",
       "    <tr>\n",
       "      <th>1</th>\n",
       "      <td>0.0</td>\n",
       "      <td>923.7</td>\n",
       "      <td>923.7</td>\n",
       "      <td>923.1</td>\n",
       "      <td>0.0</td>\n",
       "      <td>22.1</td>\n",
       "      <td>20.7</td>\n",
       "      <td>22.3</td>\n",
       "      <td>22.0</td>\n",
       "      <td>20.8</td>\n",
       "      <td>...</td>\n",
       "      <td>92.0</td>\n",
       "      <td>101.0</td>\n",
       "      <td>1.8</td>\n",
       "      <td>0.9</td>\n",
       "      <td>SAO PAULO - INTERLAGOS</td>\n",
       "      <td>-23.724501</td>\n",
       "      <td>-46.677501</td>\n",
       "      <td>771.0</td>\n",
       "      <td>2020-01-01 01:00:00+00:00</td>\n",
       "      <td>nao chove</td>\n",
       "    </tr>\n",
       "    <tr>\n",
       "      <th>2</th>\n",
       "      <td>0.0</td>\n",
       "      <td>923.6</td>\n",
       "      <td>923.8</td>\n",
       "      <td>923.6</td>\n",
       "      <td>0.0</td>\n",
       "      <td>23.2</td>\n",
       "      <td>20.1</td>\n",
       "      <td>23.5</td>\n",
       "      <td>22.1</td>\n",
       "      <td>20.8</td>\n",
       "      <td>...</td>\n",
       "      <td>82.0</td>\n",
       "      <td>7.0</td>\n",
       "      <td>3.3</td>\n",
       "      <td>1.2</td>\n",
       "      <td>SAO PAULO - INTERLAGOS</td>\n",
       "      <td>-23.724501</td>\n",
       "      <td>-46.677501</td>\n",
       "      <td>771.0</td>\n",
       "      <td>2020-01-01 02:00:00+00:00</td>\n",
       "      <td>nao chove</td>\n",
       "    </tr>\n",
       "    <tr>\n",
       "      <th>3</th>\n",
       "      <td>0.0</td>\n",
       "      <td>923.1</td>\n",
       "      <td>923.6</td>\n",
       "      <td>923.1</td>\n",
       "      <td>0.0</td>\n",
       "      <td>23.3</td>\n",
       "      <td>19.5</td>\n",
       "      <td>23.6</td>\n",
       "      <td>23.1</td>\n",
       "      <td>20.1</td>\n",
       "      <td>...</td>\n",
       "      <td>79.0</td>\n",
       "      <td>6.0</td>\n",
       "      <td>3.0</td>\n",
       "      <td>1.2</td>\n",
       "      <td>SAO PAULO - INTERLAGOS</td>\n",
       "      <td>-23.724501</td>\n",
       "      <td>-46.677501</td>\n",
       "      <td>771.0</td>\n",
       "      <td>2020-01-01 03:00:00+00:00</td>\n",
       "      <td>nao chove</td>\n",
       "    </tr>\n",
       "    <tr>\n",
       "      <th>4</th>\n",
       "      <td>0.0</td>\n",
       "      <td>922.6</td>\n",
       "      <td>923.1</td>\n",
       "      <td>922.6</td>\n",
       "      <td>0.0</td>\n",
       "      <td>22.9</td>\n",
       "      <td>19.0</td>\n",
       "      <td>23.6</td>\n",
       "      <td>22.8</td>\n",
       "      <td>19.5</td>\n",
       "      <td>...</td>\n",
       "      <td>79.0</td>\n",
       "      <td>345.0</td>\n",
       "      <td>3.5</td>\n",
       "      <td>0.6</td>\n",
       "      <td>SAO PAULO - INTERLAGOS</td>\n",
       "      <td>-23.724501</td>\n",
       "      <td>-46.677501</td>\n",
       "      <td>771.0</td>\n",
       "      <td>2020-01-01 04:00:00+00:00</td>\n",
       "      <td>nao chove</td>\n",
       "    </tr>\n",
       "  </tbody>\n",
       "</table>\n",
       "<p>5 rows × 23 columns</p>\n",
       "</div>"
      ],
      "text/plain": [
       "   Chuva   Pres  Pres_max  Pres_min  Radiacao  Temp  Temp_orvalho  Temp_max  \\\n",
       "0    0.0  923.1     923.1     922.1       0.0  22.0          20.5      22.2   \n",
       "1    0.0  923.7     923.7     923.1       0.0  22.1          20.7      22.3   \n",
       "2    0.0  923.6     923.8     923.6       0.0  23.2          20.1      23.5   \n",
       "3    0.0  923.1     923.6     923.1       0.0  23.3          19.5      23.6   \n",
       "4    0.0  922.6     923.1     922.6       0.0  22.9          19.0      23.6   \n",
       "\n",
       "   Temp_min  Temp_orvalho_max  ...  Umid  Dir_vento  Rajada_vento  Vel_vento  \\\n",
       "0      21.8              20.5  ...  92.0      172.0           2.8        0.4   \n",
       "1      22.0              20.8  ...  92.0      101.0           1.8        0.9   \n",
       "2      22.1              20.8  ...  82.0        7.0           3.3        1.2   \n",
       "3      23.1              20.1  ...  79.0        6.0           3.0        1.2   \n",
       "4      22.8              19.5  ...  79.0      345.0           3.5        0.6   \n",
       "\n",
       "                  Estaçao   Latitude  Longitude Altitude  \\\n",
       "0  SAO PAULO - INTERLAGOS -23.724501 -46.677501    771.0   \n",
       "1  SAO PAULO - INTERLAGOS -23.724501 -46.677501    771.0   \n",
       "2  SAO PAULO - INTERLAGOS -23.724501 -46.677501    771.0   \n",
       "3  SAO PAULO - INTERLAGOS -23.724501 -46.677501    771.0   \n",
       "4  SAO PAULO - INTERLAGOS -23.724501 -46.677501    771.0   \n",
       "\n",
       "                   datahora  classe_chuva  \n",
       "0 2020-01-01 00:00:00+00:00     nao chove  \n",
       "1 2020-01-01 01:00:00+00:00     nao chove  \n",
       "2 2020-01-01 02:00:00+00:00     nao chove  \n",
       "3 2020-01-01 03:00:00+00:00     nao chove  \n",
       "4 2020-01-01 04:00:00+00:00     nao chove  \n",
       "\n",
       "[5 rows x 23 columns]"
      ]
     },
     "execution_count": 3,
     "metadata": {},
     "output_type": "execute_result"
    }
   ],
   "source": [
    "df.head()"
   ]
  },
  {
   "cell_type": "code",
   "execution_count": 4,
   "id": "84001a81",
   "metadata": {},
   "outputs": [],
   "source": [
    "df_test = df.set_index(['Estaçao', 'datahora'])"
   ]
  },
  {
   "cell_type": "code",
   "execution_count": 22,
   "id": "3aa25518",
   "metadata": {},
   "outputs": [],
   "source": [
    "features = ['Pres',\n",
    "            'Pres_max',\n",
    "            'Pres_min',\n",
    "            'Radiacao',\n",
    "            'Temp',\n",
    "            'Temp_orvalho',\n",
    "            'Temp_max',\n",
    "            'Temp_min',\n",
    "            'Temp_orvalho_max',\n",
    "            'Temp_orvalho_min',\n",
    "            'Umid_max',\n",
    "            'Umid_min',\n",
    "            'Umid',\n",
    "            'Rajada_vento',\n",
    "            'Vel_vento',\n",
    "            'Dir_vento']\n",
    "X = []\n",
    "y = []\n",
    "\n",
    "for est in df[\"Estaçao\"].unique():\n",
    "    X_temp = df[df[\"Estaçao\"]==est][features].values\n",
    "    y_temp = df[df[\"Estaçao\"]==est][\"classe_chuva\"].values\n",
    "    X.append(X_temp)\n",
    "    y.append(y_temp)\n",
    "    \n",
    "X = np.array(X)\n",
    "y = np.array(y)"
   ]
  },
  {
   "cell_type": "code",
   "execution_count": 23,
   "id": "54363750",
   "metadata": {},
   "outputs": [
    {
     "data": {
      "text/plain": [
       "(2, 8784, 16)"
      ]
     },
     "execution_count": 23,
     "metadata": {},
     "output_type": "execute_result"
    }
   ],
   "source": [
    "X.shape"
   ]
  },
  {
   "cell_type": "code",
   "execution_count": 26,
   "id": "98c2f95b",
   "metadata": {},
   "outputs": [
    {
     "data": {
      "text/plain": [
       "(2, 8784, 4)"
      ]
     },
     "execution_count": 26,
     "metadata": {},
     "output_type": "execute_result"
    }
   ],
   "source": [
    "from sklearn.preprocessing import LabelEncoder\n",
    "from tensorflow.keras.utils import to_categorical\n",
    "\n",
    "label = LabelEncoder()\n",
    "y_enc = label.fit_transform(y.reshape((-1,)))\n",
    "y_cat = to_categorical(y_enc)\n",
    "y_cat = y_cat.reshape(2,8784,-1)\n",
    "y_cat.shape"
   ]
  },
  {
   "cell_type": "code",
   "execution_count": 28,
   "id": "3ec20a0f",
   "metadata": {},
   "outputs": [],
   "source": [
    "train_size = int(X.shape[1]*0.8)\n",
    "X_train = X[:,:train_size,:]\n",
    "X_test = X[:,train_size:,:]\n",
    "y_train = y_cat[:,:train_size,:]\n",
    "y_test = y_cat[:,train_size:,:]"
   ]
  },
  {
   "cell_type": "code",
   "execution_count": 33,
   "id": "23be1cbe",
   "metadata": {},
   "outputs": [
    {
     "data": {
      "text/plain": [
       "(2, 7027, 16)"
      ]
     },
     "execution_count": 33,
     "metadata": {},
     "output_type": "execute_result"
    }
   ],
   "source": [
    "X_train.shape"
   ]
  },
  {
   "cell_type": "code",
   "execution_count": null,
   "id": "7823d430",
   "metadata": {},
   "outputs": [],
   "source": [
    "from sklearn.pipeline import Pipeline\n",
    "from sklearn.model_selection import train_test_split\n",
    "\n",
    "\n",
    "from sklearn.preprocessing import StandardScaler\n",
    "from sklearn.compose import ColumnTransformer\n",
    "\n",
    "\n",
    "\n",
    "#----------------scaling pipeline----------------\n",
    "scaling_pipe = Pipeline([\n",
    "    ('stdscaler', StandardScaler()),\n",
    "])"
   ]
  },
  {
   "cell_type": "code",
   "execution_count": null,
   "id": "871dbb27",
   "metadata": {},
   "outputs": [],
   "source": [
    "#----------------column transformer----------------\n",
    "#realizando as operações em paralelo\n",
    "col_trans = ColumnTransformer([\n",
    "    ('scaling ', scaling_pipe,[ 'Pres',\n",
    "                                'Pres_max',\n",
    "                                'Pres_min',\n",
    "                                'Radiacao',\n",
    "                                'Temp',\n",
    "                                'Temp_orvalho',\n",
    "                                'Temp_max',\n",
    "                                'Temp_min',\n",
    "                                'Temp_orvalho_max',\n",
    "                                'Temp_orvalho_min',\n",
    "                                'Umid_max',\n",
    "                                'Umid_min',\n",
    "                                'Umid',\n",
    "                                'Rajada_vento',\n",
    "                                'Vel_vento',\n",
    "                                'Dir_vento']), \n",
    "    ('pass', 'passthrough', ['Latitude','Longitude','Altitude'])])\n",
    "\n",
    "full_pipe = Pipeline([\n",
    "    ('column_stransformer', col_trans),\n",
    "#    (\"deep_learning\" , RNN_model ),\n",
    "])\n",
    "full_pipe"
   ]
  },
  {
   "cell_type": "code",
   "execution_count": 34,
   "id": "939f2db6",
   "metadata": {},
   "outputs": [],
   "source": [
    "from tensorflow.keras.preprocessing.sequence import pad_sequences\n",
    "\n",
    "X_train_pad = pad_sequences(X_train, dtype= 'float32', padding= 'post', value=-10000) "
   ]
  },
  {
   "cell_type": "code",
   "execution_count": 35,
   "id": "70a0aa6a",
   "metadata": {},
   "outputs": [
    {
     "name": "stderr",
     "output_type": "stream",
     "text": [
      "2022-03-23 10:59:18.127366: W tensorflow/stream_executor/platform/default/dso_loader.cc:64] Could not load dynamic library 'libcuda.so.1'; dlerror: libcuda.so.1: cannot open shared object file: No such file or directory\n",
      "2022-03-23 10:59:18.127523: W tensorflow/stream_executor/cuda/cuda_driver.cc:269] failed call to cuInit: UNKNOWN ERROR (303)\n",
      "2022-03-23 10:59:18.127624: I tensorflow/stream_executor/cuda/cuda_diagnostics.cc:156] kernel driver does not appear to be running on this host (DESKTOP-9BMAD68): /proc/driver/nvidia/version does not exist\n",
      "2022-03-23 10:59:18.129328: I tensorflow/core/platform/cpu_feature_guard.cc:151] This TensorFlow binary is optimized with oneAPI Deep Neural Network Library (oneDNN) to use the following CPU instructions in performance-critical operations:  AVX2 FMA\n",
      "To enable them in other operations, rebuild TensorFlow with the appropriate compiler flags.\n"
     ]
    }
   ],
   "source": [
    "from tensorflow.keras.layers.experimental.preprocessing import Normalization\n",
    "\n",
    "norm = Normalization()\n",
    "norm.adapt(X_train_pad)"
   ]
  },
  {
   "cell_type": "code",
   "execution_count": 47,
   "id": "fdcbf379",
   "metadata": {},
   "outputs": [
    {
     "name": "stdout",
     "output_type": "stream",
     "text": [
      "Model: \"sequential_6\"\n",
      "_________________________________________________________________\n",
      " Layer (type)                Output Shape              Param #   \n",
      "=================================================================\n",
      " masking_5 (Masking)         (None, 7027, 16)          0         \n",
      "                                                                 \n",
      " normalization_3 (Normalizat  (None, 7027, 16)         33        \n",
      " ion)                                                            \n",
      "                                                                 \n",
      " lstm_5 (LSTM)               (None, 7027, 20)          2960      \n",
      "                                                                 \n",
      " dense_10 (Dense)            (None, 7027, 10)          210       \n",
      "                                                                 \n",
      " dense_11 (Dense)            (None, 7027, 4)           44        \n",
      "                                                                 \n",
      "=================================================================\n",
      "Total params: 3,247\n",
      "Trainable params: 3,214\n",
      "Non-trainable params: 33\n",
      "_________________________________________________________________\n"
     ]
    }
   ],
   "source": [
    "from tensorflow.keras.layers import Masking\n",
    "\n",
    "model = Sequential()\n",
    "\n",
    "model.add(Masking(mask_value=-10000,input_shape=X_train_pad.shape[1:]))\n",
    "model.add(Normalization())\n",
    "\n",
    "model.add(LSTM(units=20, activation='tanh',return_sequences = True))\n",
    "model.add(Dense(10, activation=\"tanh\"))\n",
    "model.add(Dense(4, activation=\"softmax\"))\n",
    "\n",
    "model.compile(loss='categorical_crossentropy',\n",
    "                  optimizer='rmsprop',\n",
    "                  metrics=['accuracy'])\n",
    "\n",
    "model.summary()"
   ]
  },
  {
   "cell_type": "code",
   "execution_count": 43,
   "id": "1699590c",
   "metadata": {
    "scrolled": true
   },
   "outputs": [
    {
     "data": {
      "text/plain": [
       "(2, 7027, 4)"
      ]
     },
     "execution_count": 43,
     "metadata": {},
     "output_type": "execute_result"
    }
   ],
   "source": [
    "y_train.shape"
   ]
  },
  {
   "cell_type": "code",
   "execution_count": 44,
   "id": "793165ac",
   "metadata": {},
   "outputs": [
    {
     "data": {
      "text/plain": [
       "(2, 7027, 16)"
      ]
     },
     "execution_count": 44,
     "metadata": {},
     "output_type": "execute_result"
    }
   ],
   "source": [
    "X_train_pad.shape"
   ]
  },
  {
   "cell_type": "code",
   "execution_count": 48,
   "id": "8911c2e4",
   "metadata": {
    "scrolled": true
   },
   "outputs": [
    {
     "name": "stdout",
     "output_type": "stream",
     "text": [
      "Epoch 1/10\n",
      "1/1 [==============================] - 23s 23s/step - loss: 1.4191 - accuracy: 0.0743 - val_loss: 1.2259 - val_accuracy: 0.0865\n",
      "Epoch 2/10\n",
      "1/1 [==============================] - 8s 8s/step - loss: 1.2083 - accuracy: 0.0990 - val_loss: 1.1462 - val_accuracy: 0.2247\n",
      "Epoch 3/10\n",
      "1/1 [==============================] - 7s 7s/step - loss: 1.1346 - accuracy: 0.2123 - val_loss: 1.0886 - val_accuracy: 0.6318\n",
      "Epoch 4/10\n",
      "1/1 [==============================] - 7s 7s/step - loss: 1.0783 - accuracy: 0.6533 - val_loss: 1.0550 - val_accuracy: 0.6441\n",
      "Epoch 5/10\n",
      "1/1 [==============================] - 7s 7s/step - loss: 1.0442 - accuracy: 0.6647 - val_loss: 1.0237 - val_accuracy: 0.6676\n",
      "Epoch 6/10\n",
      "1/1 [==============================] - 7s 7s/step - loss: 1.0147 - accuracy: 0.6831 - val_loss: 0.9968 - val_accuracy: 0.8548\n",
      "Epoch 7/10\n",
      "1/1 [==============================] - 7s 7s/step - loss: 0.9888 - accuracy: 0.8261 - val_loss: 0.9720 - val_accuracy: 0.8698\n",
      "Epoch 8/10\n",
      "1/1 [==============================] - 7s 7s/step - loss: 0.9653 - accuracy: 0.8366 - val_loss: 0.9498 - val_accuracy: 0.8755\n",
      "Epoch 9/10\n",
      "1/1 [==============================] - 7s 7s/step - loss: 0.9431 - accuracy: 0.8400 - val_loss: 0.9282 - val_accuracy: 0.8876\n",
      "Epoch 10/10\n",
      "1/1 [==============================] - 7s 7s/step - loss: 0.9219 - accuracy: 0.8551 - val_loss: 0.9077 - val_accuracy: 0.9229\n"
     ]
    },
    {
     "data": {
      "text/plain": [
       "<keras.callbacks.History at 0x7f1c2a81dca0>"
      ]
     },
     "execution_count": 48,
     "metadata": {},
     "output_type": "execute_result"
    }
   ],
   "source": [
    "from tensorflow.keras.callbacks import EarlyStopping\n",
    "\n",
    "es = EarlyStopping(patience=3, restore_best_weights=True)\n",
    "\n",
    "model.fit(X_train_pad, y_train, batch_size=32, epochs=10, verbose=1,\n",
    "         validation_split=0.2,\n",
    "          callbacks=[es])"
   ]
  },
  {
   "cell_type": "code",
   "execution_count": null,
   "id": "66932dbf",
   "metadata": {},
   "outputs": [],
   "source": []
  }
 ],
 "metadata": {
  "kernelspec": {
   "display_name": "Python 3 (ipykernel)",
   "language": "python",
   "name": "python3"
  },
  "language_info": {
   "codemirror_mode": {
    "name": "ipython",
    "version": 3
   },
   "file_extension": ".py",
   "mimetype": "text/x-python",
   "name": "python",
   "nbconvert_exporter": "python",
   "pygments_lexer": "ipython3",
   "version": "3.8.12"
  },
  "toc": {
   "base_numbering": 1,
   "nav_menu": {},
   "number_sections": true,
   "sideBar": true,
   "skip_h1_title": false,
   "title_cell": "Table of Contents",
   "title_sidebar": "Contents",
   "toc_cell": false,
   "toc_position": {},
   "toc_section_display": true,
   "toc_window_display": false
  }
 },
 "nbformat": 4,
 "nbformat_minor": 5
}
