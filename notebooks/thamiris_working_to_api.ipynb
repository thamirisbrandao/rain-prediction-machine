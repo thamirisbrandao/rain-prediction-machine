{
 "cells": [
  {
   "cell_type": "code",
   "execution_count": 3,
   "id": "20033681",
   "metadata": {},
   "outputs": [],
   "source": [
    "def predict(pickup_datetime,\n",
    "    datainitial,\n",
    "    pickup_codigoestacao):\n",
    "    #Pegando dados da API do INMET\n",
    "    datainitial = pickup_datetime-3 #, vamos criar pickup_datetime\n",
    "    #timedelta 3 dias date time do pandas\n",
    "    url = f'https://apitempo.inmet.gov.br/estacao/{pickup_datetime}/{datafinal}/{codigoestacao}'\n",
    "    response = requests.get(url).json()\n",
    "    df = pd.DataFrame(response)\n",
    "    df.drop(columns=['DC_NOME', 'UF', 'HR_MEDICAO', 'CD_ESTACAO', 'DT_MEDICAO', 'TEM_SEN'], inplace=True)\n",
    "    df.dropna(inplace=True)\n",
    "    df = df.iloc[-48:].reset_index(drop=True)\n",
    "    df = df[['CHUVA', 'PRE_INS', 'PRE_MAX', 'PRE_MIN', 'RAD_GLO', 'TEM_INS', 'PTO_INS', 'TEM_MAX', 'TEM_MIN', 'PTO_MAX', 'PTO_MIN', 'UMD_MAX', 'UMD_MIN', 'UMD_INS', 'VEN_DIR', 'VEN_RAJ', 'VEN_VEL', 'VL_LATITUDE', 'VL_LONGITUDE']]\n",
    "    df = df.rename(columns={'CHUVA': 'Chuva',\n",
    "                                    'PRE_INS': 'Pres',\n",
    "                                    'PRE_MAX': 'Pres_max',\n",
    "                                    'PRE_MIN': 'Pres_min',\n",
    "                                    'RAD_GLO': 'Radiacao',\n",
    "                                    'TEM_INS': 'Temp',\n",
    "                                    'PTO_INS': 'Temp_orvalho',\n",
    "                                    'TEM_MAX': 'Temp_max',\n",
    "                                    'TEM_MIN': 'Temp_min',\n",
    "                                    'PTO_MAX': 'Temp_orvalho_max',\n",
    "                                    'PTO_MIN': 'Temp_orvalho_min',\n",
    "                                    'UMD_MAX': 'Umid_max',\n",
    "                                    'UMD_MIN': 'Umid_min',\n",
    "                                    'UMD_INS': 'Umid',\n",
    "                                    'VEN_DIR': 'Dir_vento',\n",
    "                                    'VEN_RAJ': 'Rajada_vento',\n",
    "                                    'VEN_VEL': 'Vel_vento',\n",
    "                                    'VL_LATITUDE': 'Latitude',\n",
    "                                    'VL_LONGITUDE': 'Longitude'})\n",
    "    read_csv_to_api = pd.read_csv('/home/thamirisbrandao/code/thamirisbrandao/rain-prediction-machine/raw_data/info_to_api.csv')\n",
    "    alti = read_csv_to_api[read_csv_to_api['CodigoEstacao'] == codigoestacao]['Altitude'].values[0]\n",
    "    df['Altitude'] = alti\n",
    "    X_test = pd.DataFrame(df)\n",
    "    import ipdb; ipdb.set_trace()   \n",
    "    model = get_model('BARRETOS.joblib') #retorna um pipeline\n",
    "    y_pred = model.predict(X_test)\n",
    "    return {'Previsão de chuva em São Paulo': y_pred}\n"
   ]
  },
  {
   "cell_type": "code",
   "execution_count": 9,
   "id": "1814a8d5",
   "metadata": {},
   "outputs": [
    {
     "ename": "TypeError",
     "evalue": "unsupported operand type(s) for -: 'str' and 'int'",
     "output_type": "error",
     "traceback": [
      "\u001b[0;31m---------------------------------------------------------------------------\u001b[0m",
      "\u001b[0;31mTypeError\u001b[0m                                 Traceback (most recent call last)",
      "Input \u001b[0;32mIn [9]\u001b[0m, in \u001b[0;36m<cell line: 1>\u001b[0;34m()\u001b[0m\n\u001b[0;32m----> 1\u001b[0m \u001b[43mpredict\u001b[49m\u001b[43m(\u001b[49m\u001b[38;5;124;43m'\u001b[39;49m\u001b[38;5;124;43m2021-12-03\u001b[39;49m\u001b[38;5;124;43m'\u001b[39;49m\u001b[43m,\u001b[49m\u001b[43m \u001b[49m\u001b[38;5;124;43m'\u001b[39;49m\u001b[38;5;124;43m2021-12-05\u001b[39;49m\u001b[38;5;124;43m'\u001b[39;49m\u001b[43m,\u001b[49m\u001b[43m \u001b[49m\u001b[38;5;124;43m'\u001b[39;49m\u001b[38;5;124;43mA748\u001b[39;49m\u001b[38;5;124;43m'\u001b[39;49m\u001b[43m)\u001b[49m\n",
      "Input \u001b[0;32mIn [3]\u001b[0m, in \u001b[0;36mpredict\u001b[0;34m(pickup_datetime, datainitial, pickup_codigoestacao)\u001b[0m\n\u001b[1;32m      1\u001b[0m \u001b[38;5;28;01mdef\u001b[39;00m \u001b[38;5;21mpredict\u001b[39m(pickup_datetime,\n\u001b[1;32m      2\u001b[0m     datainitial,\n\u001b[1;32m      3\u001b[0m     pickup_codigoestacao):\n\u001b[1;32m      4\u001b[0m     \u001b[38;5;66;03m#Pegando dados da API do INMET\u001b[39;00m\n\u001b[0;32m----> 5\u001b[0m     datainitial \u001b[38;5;241m=\u001b[39m \u001b[43mpickup_datetime\u001b[49m\u001b[38;5;241;43m-\u001b[39;49m\u001b[38;5;241;43m3\u001b[39;49m \u001b[38;5;66;03m#, vamos criar pickup_datetime\u001b[39;00m\n\u001b[1;32m      6\u001b[0m     \u001b[38;5;66;03m#timedelta 3 dias date time do pandas\u001b[39;00m\n\u001b[1;32m      7\u001b[0m     url \u001b[38;5;241m=\u001b[39m \u001b[38;5;124mf\u001b[39m\u001b[38;5;124m'\u001b[39m\u001b[38;5;124mhttps://apitempo.inmet.gov.br/estacao/\u001b[39m\u001b[38;5;132;01m{\u001b[39;00mpickup_datetime\u001b[38;5;132;01m}\u001b[39;00m\u001b[38;5;124m/\u001b[39m\u001b[38;5;132;01m{\u001b[39;00mdatafinal\u001b[38;5;132;01m}\u001b[39;00m\u001b[38;5;124m/\u001b[39m\u001b[38;5;132;01m{\u001b[39;00mcodigoestacao\u001b[38;5;132;01m}\u001b[39;00m\u001b[38;5;124m'\u001b[39m\n",
      "\u001b[0;31mTypeError\u001b[0m: unsupported operand type(s) for -: 'str' and 'int'"
     ]
    }
   ],
   "source": [
    "predict('2021-12-03', '2021-12-05', 'A748')"
   ]
  },
  {
   "cell_type": "code",
   "execution_count": 7,
   "id": "b523d3cb",
   "metadata": {},
   "outputs": [],
   "source": [
    "import requests\n",
    "import pandas as pd\n"
   ]
  },
  {
   "cell_type": "code",
   "execution_count": 8,
   "id": "e330bfa6",
   "metadata": {},
   "outputs": [],
   "source": [
    "\n",
    "import datetime\n",
    "hora_now = datetime.datetime.now()\n",
    "dia_atual = hora_now.strftime(\"%Y-%m-%d\")"
   ]
  },
  {
   "cell_type": "code",
   "execution_count": null,
   "id": "31ac8ed0",
   "metadata": {},
   "outputs": [],
   "source": [
    "dia_pas = (hora_now - datetime.timedelta(days=3)).strftime(\"%Y-%m-%d\")"
   ]
  },
  {
   "cell_type": "code",
   "execution_count": null,
   "id": "35758742",
   "metadata": {},
   "outputs": [],
   "source": [
    "dia_atual"
   ]
  },
  {
   "cell_type": "code",
   "execution_count": null,
   "id": "cd43e8cc",
   "metadata": {},
   "outputs": [],
   "source": [
    "dia_pas"
   ]
  },
  {
   "cell_type": "code",
   "execution_count": null,
   "id": "4d62774f",
   "metadata": {},
   "outputs": [],
   "source": [
    "codigoestacao = 'A748'\n"
   ]
  },
  {
   "cell_type": "code",
   "execution_count": null,
   "id": "8cabfa9f",
   "metadata": {},
   "outputs": [],
   "source": [
    "\n",
    "url = f'https://apitempo.inmet.gov.br/estacao/{dia_pas}/{dia_atual}/{codigoestacao}'\n",
    "response = requests.get(url).json()\n",
    "df = pd.DataFrame(response)"
   ]
  },
  {
   "cell_type": "code",
   "execution_count": null,
   "id": "3a2f2b79",
   "metadata": {},
   "outputs": [],
   "source": [
    "df"
   ]
  },
  {
   "cell_type": "code",
   "execution_count": null,
   "id": "951e0868",
   "metadata": {},
   "outputs": [],
   "source": [
    "df.drop(columns=['DC_NOME', 'UF', 'HR_MEDICAO', 'CD_ESTACAO', 'DT_MEDICAO', 'TEM_SEN'], inplace=True)\n",
    "df.dropna(inplace=True)\n",
    "df = df.iloc[-48:].reset_index(drop=True)\n",
    "df = df[['CHUVA', 'PRE_INS', 'PRE_MAX', 'PRE_MIN', 'RAD_GLO', 'TEM_INS', 'PTO_INS', 'TEM_MAX', 'TEM_MIN', 'PTO_MAX', 'PTO_MIN', 'UMD_MAX', 'UMD_MIN', 'UMD_INS', 'VEN_DIR', 'VEN_RAJ', 'VEN_VEL', 'VL_LATITUDE', 'VL_LONGITUDE']]\n",
    "df = df.rename(columns={'CHUVA': 'Chuva',\n",
    "                                'PRE_INS': 'Pres',\n",
    "                                'PRE_MAX': 'Pres_max',\n",
    "                                'PRE_MIN': 'Pres_min',\n",
    "                                'RAD_GLO': 'Radiacao',\n",
    "                                'TEM_INS': 'Temp',\n",
    "                                'PTO_INS': 'Temp_orvalho',\n",
    "                                'TEM_MAX': 'Temp_max',\n",
    "                                'TEM_MIN': 'Temp_min',\n",
    "                                'PTO_MAX': 'Temp_orvalho_max',\n",
    "                                'PTO_MIN': 'Temp_orvalho_min',\n",
    "                                'UMD_MAX': 'Umid_max',\n",
    "                                'UMD_MIN': 'Umid_min',\n",
    "                                'UMD_INS': 'Umid',\n",
    "                                'VEN_DIR': 'Dir_vento',\n",
    "                                'VEN_RAJ': 'Rajada_vento',\n",
    "                                'VEN_VEL': 'Vel_vento',\n",
    "                                'VL_LATITUDE': 'Latitude',\n",
    "                                'VL_LONGITUDE': 'Longitude'})\n",
    "read_csv_to_api = pd.read_csv('/home/thamirisbrandao/code/thamirisbrandao/rain-prediction-machine/raw_data/info_to_api.csv')\n",
    "alti = read_csv_to_api[read_csv_to_api['CodigoEstacao'] == codigoestacao]['Altitude'].values[0]\n",
    "df['Altitude'] = alti"
   ]
  },
  {
   "cell_type": "code",
   "execution_count": null,
   "id": "10955f6c",
   "metadata": {},
   "outputs": [],
   "source": [
    "df = df.astype(float)"
   ]
  },
  {
   "cell_type": "code",
   "execution_count": null,
   "id": "44c6c9e6",
   "metadata": {},
   "outputs": [],
   "source": [
    "df.head()"
   ]
  },
  {
   "cell_type": "code",
   "execution_count": null,
   "id": "e999f172",
   "metadata": {},
   "outputs": [],
   "source": [
    "import requests\n",
    "import pandas as pd\n",
    "import datetime\n",
    "import joblib\n",
    "\n",
    "read_csv_to_api = pd.read_csv('/home/thamirisbrandao/code/thamirisbrandao/rain-prediction-machine/raw_data/info_to_api.csv')\n",
    "codigosestacao = read_csv_to_api.CodigoEstacao.to_list()\n",
    "nome_modelos = read_csv_to_api.Estacao.apply(lambda name: name.split(' ')[-1]).to_list()\n",
    "codigosestacao = ['A771']\n",
    "nome_modelos = ['INTERLAGOS\t']\n",
    "\n",
    "for codigoestacao, nome_modelo in zip(codigosestacao, nome_modelos):\n",
    "    #Pegando a  hora atual e diminuindo 3 antes\n",
    "    hora_now = datetime.datetime.now()\n",
    "    dia_atual = hora_now.strftime(\"%Y-%m-%d\")\n",
    "    dia_pas = (hora_now - datetime.timedelta(days=2)).strftime(\"%Y-%m-%d\")\n",
    "\n",
    "    #Request da API do INMET\n",
    "    url = f'https://apitempo.inmet.gov.br/estacao/{dia_pas}/{dia_atual}/{codigoestacao}'\n",
    "    response = requests.get(url).json()\n",
    "\n",
    "    #Tratando as informações para prever com nosso modelo\n",
    "    df = pd.DataFrame(response)\n",
    "    dc_nome = df['DC_NOME'][0]\n",
    "    df.drop(columns=['DC_NOME', 'UF', 'HR_MEDICAO', 'CD_ESTACAO', 'DT_MEDICAO', 'TEM_SEN'], inplace=True)\n",
    "    print(df.shape)\n",
    "    df.dropna(inplace=True)\n",
    "    if df.shape[0] == 0:\n",
    "        print('ok')\n",
    "#     df = df.iloc[-48:].reset_index(drop=True)\n",
    "#     df = df[['CHUVA', 'PRE_INS', 'PRE_MAX', 'PRE_MIN', 'RAD_GLO', 'TEM_INS', 'PTO_INS', 'TEM_MAX', 'TEM_MIN', 'PTO_MAX', 'PTO_MIN', 'UMD_MAX', 'UMD_MIN', 'UMD_INS', 'VEN_DIR', 'VEN_RAJ', 'VEN_VEL', 'VL_LATITUDE', 'VL_LONGITUDE']]\n",
    "#     df = df.rename(columns={'CHUVA': 'Chuva',\n",
    "#                                     'PRE_INS': 'Pres',\n",
    "#                                     'PRE_MAX': 'Pres_max',\n",
    "#                                     'PRE_MIN': 'Pres_min',\n",
    "#                                     'RAD_GLO': 'Radiacao',\n",
    "#                                     'TEM_INS': 'Temp',\n",
    "#                                     'PTO_INS': 'Temp_orvalho',\n",
    "#                                     'TEM_MAX': 'Temp_max',\n",
    "#                                     'TEM_MIN': 'Temp_min',\n",
    "#                                     'PTO_MAX': 'Temp_orvalho_max',\n",
    "#                                     'PTO_MIN': 'Temp_orvalho_min',\n",
    "#                                     'UMD_MAX': 'Umid_max',\n",
    "#                                     'UMD_MIN': 'Umid_min',\n",
    "#                                     'UMD_INS': 'Umid',\n",
    "#                                     'VEN_DIR': 'Dir_vento',\n",
    "#                                     'VEN_RAJ': 'Rajada_vento',\n",
    "#                                     'VEN_VEL': 'Vel_vento',\n",
    "#                                     'VL_LATITUDE': 'Latitude',\n",
    "#                                     'VL_LONGITUDE': 'Longitude'})\n",
    "#     #ajustar caminho para pegar os dados de maneira generica\n",
    "#     alti = read_csv_to_api[read_csv_to_api['CodigoEstacao'] == codigoestacao]['Altitude'].values[0]\n",
    "#     #Adicionando coluna que nao veio da API do INMET\n",
    "#     df['Altitude'] = alti\n",
    "#     df = df.astype(float)\n",
    "#     X_test = pd.DataFrame(df).to_numpy().reshape(1,48,20)\n",
    "#     model = joblib.load(f'../{nome_modelo}.joblib') #retorna um pipeline\n",
    "#     y_pred = model.predict(X_test)\n",
    "#     # Ajustando o df para ler no front end\n",
    "#     df_pred = pd.DataFrame(y_pred)\n",
    "#     df_pred['dc_nome'] = dc_nome\n",
    "#     df_pred['Latitude'] = df['Latitude']\n",
    "#     df_pred['Longitude'] = df['Longitude']"
   ]
  },
  {
   "cell_type": "code",
   "execution_count": null,
   "id": "1be5eefd",
   "metadata": {},
   "outputs": [],
   "source": [
    "read_csv_to_api = pd.read_csv('/home/thamirisbrandao/code/thamirisbrandao/rain-prediction-machine/raw_data/info_to_api.csv')\n",
    "nome_modelos = read_csv_to_api.Estacao.apply(lambda name: name.split(' ')[-1]).to_list()"
   ]
  },
  {
   "cell_type": "code",
   "execution_count": null,
   "id": "e51558d9",
   "metadata": {},
   "outputs": [],
   "source": [
    "read_csv_to_api"
   ]
  },
  {
   "cell_type": "code",
   "execution_count": null,
   "id": "80b34ee1",
   "metadata": {},
   "outputs": [],
   "source": [
    "nome_modelos"
   ]
  },
  {
   "cell_type": "code",
   "execution_count": null,
   "id": "b74be3d7",
   "metadata": {},
   "outputs": [],
   "source": [
    "df_pred"
   ]
  },
  {
   "cell_type": "code",
   "execution_count": null,
   "id": "f8424e95",
   "metadata": {},
   "outputs": [],
   "source": [
    "for codigoestacao, nome_modelo in zip(codigosestacao, nome_modelos):\n",
    "    print(codigoestacao)"
   ]
  },
  {
   "cell_type": "code",
   "execution_count": null,
   "id": "07a31964",
   "metadata": {},
   "outputs": [],
   "source": [
    "nome_modelos = read_csv_to_api.Estacao.apply(lambda name: name.split(' ')[-1]).to_list()"
   ]
  },
  {
   "cell_type": "code",
   "execution_count": null,
   "id": "00aabb15",
   "metadata": {},
   "outputs": [],
   "source": [
    "nome_modelos"
   ]
  },
  {
   "cell_type": "code",
   "execution_count": null,
   "id": "da1d1ff9",
   "metadata": {},
   "outputs": [],
   "source": [
    "df_pred = pd.DataFrame(y_pred)"
   ]
  },
  {
   "cell_type": "code",
   "execution_count": null,
   "id": "0f788ba4",
   "metadata": {},
   "outputs": [],
   "source": [
    "dc_nome"
   ]
  },
  {
   "cell_type": "code",
   "execution_count": null,
   "id": "1bcfdaad",
   "metadata": {},
   "outputs": [],
   "source": [
    "df_pred['dc_nome'] = dc_nome\n",
    "df_pred['Latitude'] = df['Latitude']\n",
    "df_pred['Longitude'] = df['Longitude']"
   ]
  },
  {
   "cell_type": "code",
   "execution_count": null,
   "id": "3289c020",
   "metadata": {},
   "outputs": [],
   "source": [
    "df_pred['Latitude'] = df['Latitude']"
   ]
  },
  {
   "cell_type": "code",
   "execution_count": null,
   "id": "d7a6e4e6",
   "metadata": {},
   "outputs": [],
   "source": [
    "df_pred['Longitude'] = df['Longitude']"
   ]
  },
  {
   "cell_type": "code",
   "execution_count": null,
   "id": "b8a86112",
   "metadata": {},
   "outputs": [],
   "source": [
    "df_pred"
   ]
  },
  {
   "cell_type": "code",
   "execution_count": null,
   "id": "95da4dec",
   "metadata": {},
   "outputs": [],
   "source": [
    "teste = requests.get('http://127.0.0.1:8000/predict')"
   ]
  },
  {
   "cell_type": "code",
   "execution_count": null,
   "id": "7a5584bb",
   "metadata": {},
   "outputs": [],
   "source": [
    "teste.json()"
   ]
  },
  {
   "cell_type": "code",
   "execution_count": 10,
   "id": "13b84fec",
   "metadata": {},
   "outputs": [],
   "source": [
    "import joblib"
   ]
  },
  {
   "cell_type": "code",
   "execution_count": 11,
   "id": "06b22b0f",
   "metadata": {},
   "outputs": [
    {
     "data": {
      "text/plain": [
       "'/home/thamirisbrandao/code/thamirisbrandao/rain-prediction-machine/notebooks'"
      ]
     },
     "execution_count": 11,
     "metadata": {},
     "output_type": "execute_result"
    }
   ],
   "source": [
    "pwd"
   ]
  },
  {
   "cell_type": "code",
   "execution_count": 12,
   "id": "cc91600b",
   "metadata": {},
   "outputs": [
    {
     "name": "stderr",
     "output_type": "stream",
     "text": [
      "2022-03-28 11:05:15.542460: W tensorflow/stream_executor/platform/default/dso_loader.cc:64] Could not load dynamic library 'libcudart.so.11.0'; dlerror: libcudart.so.11.0: cannot open shared object file: No such file or directory\n",
      "2022-03-28 11:05:15.542631: I tensorflow/stream_executor/cuda/cudart_stub.cc:29] Ignore above cudart dlerror if you do not have a GPU set up on your machine.\n",
      "2022-03-28 11:05:20.423081: W tensorflow/stream_executor/platform/default/dso_loader.cc:64] Could not load dynamic library 'libcuda.so.1'; dlerror: libcuda.so.1: cannot open shared object file: No such file or directory\n",
      "2022-03-28 11:05:20.423198: W tensorflow/stream_executor/cuda/cuda_driver.cc:269] failed call to cuInit: UNKNOWN ERROR (303)\n",
      "2022-03-28 11:05:20.423242: I tensorflow/stream_executor/cuda/cuda_diagnostics.cc:156] kernel driver does not appear to be running on this host (DESKTOP-5ODF5UT): /proc/driver/nvidia/version does not exist\n",
      "2022-03-28 11:05:20.425451: I tensorflow/core/platform/cpu_feature_guard.cc:151] This TensorFlow binary is optimized with oneAPI Deep Neural Network Library (oneDNN) to use the following CPU instructions in performance-critical operations:  AVX2 AVX512F FMA\n",
      "To enable them in other operations, rebuild TensorFlow with the appropriate compiler flags.\n"
     ]
    }
   ],
   "source": [
    "model = joblib.load('../models_v1/ARCANJO.joblib')"
   ]
  },
  {
   "cell_type": "code",
   "execution_count": 14,
   "id": "ab1fadb1",
   "metadata": {},
   "outputs": [
    {
     "data": {
      "text/plain": [
       "<keras.engine.sequential.Sequential at 0x7fb2ded91250>"
      ]
     },
     "execution_count": 14,
     "metadata": {},
     "output_type": "execute_result"
    }
   ],
   "source": [
    "model"
   ]
  }
 ],
 "metadata": {
  "kernelspec": {
   "display_name": "Python 3 (ipykernel)",
   "language": "python",
   "name": "python3"
  },
  "language_info": {
   "codemirror_mode": {
    "name": "ipython",
    "version": 3
   },
   "file_extension": ".py",
   "mimetype": "text/x-python",
   "name": "python",
   "nbconvert_exporter": "python",
   "pygments_lexer": "ipython3",
   "version": "3.8.12"
  }
 },
 "nbformat": 4,
 "nbformat_minor": 5
}
