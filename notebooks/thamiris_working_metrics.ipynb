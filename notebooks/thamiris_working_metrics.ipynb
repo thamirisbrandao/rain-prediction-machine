{
 "cells": [
  {
   "cell_type": "code",
   "execution_count": 1,
   "id": "7c06eefa",
   "metadata": {},
   "outputs": [
    {
     "name": "stderr",
     "output_type": "stream",
     "text": [
      "2022-03-28 18:02:18.501342: W tensorflow/stream_executor/platform/default/dso_loader.cc:64] Could not load dynamic library 'libcudart.so.11.0'; dlerror: libcudart.so.11.0: cannot open shared object file: No such file or directory\n",
      "2022-03-28 18:02:18.501405: I tensorflow/stream_executor/cuda/cudart_stub.cc:29] Ignore above cudart dlerror if you do not have a GPU set up on your machine.\n"
     ]
    }
   ],
   "source": [
    "import joblib\n",
    "import pandas as pd\n",
    "from RainPredictionMachine.Trainer import *\n",
    "from google.cloud import storage\n",
    "import os\n",
    "from sklearn.metrics import classification_report\n",
    "from sklearn.metrics import accuracy_score, precision_score, recall_score, f1_score\n",
    "import numpy as np\n",
    "from RainPredictionMachine.data import CleanDataRpm\n"
   ]
  },
  {
   "cell_type": "code",
   "execution_count": 2,
   "id": "c409aadb",
   "metadata": {},
   "outputs": [],
   "source": [
    "def download_model(estacao,bucket='rain-prediction-machine', rm=True):\n",
    "    client = storage.Client().bucket(bucket)\n",
    "\n",
    "    storage_location = f'models/{estacao}.joblib'\n",
    "    blob = client.blob(storage_location)\n",
    "    blob.download_to_filename(f'{estacao}.joblib')\n",
    "    print(\"=> estacao downloaded from storage\")\n",
    "    model = joblib.load(f'{estacao}.joblib')\n",
    "    if rm:\n",
    "        os.remove(f'{estacao}.joblib')\n",
    "    return model"
   ]
  },
  {
   "cell_type": "code",
   "execution_count": 3,
   "id": "e2887191",
   "metadata": {},
   "outputs": [
    {
     "name": "stdout",
     "output_type": "stream",
     "text": [
      "=> estacao downloaded from storage\n"
     ]
    },
    {
     "name": "stderr",
     "output_type": "stream",
     "text": [
      "2022-03-28 18:02:21.357260: W tensorflow/stream_executor/platform/default/dso_loader.cc:64] Could not load dynamic library 'libcuda.so.1'; dlerror: libcuda.so.1: cannot open shared object file: No such file or directory\n",
      "2022-03-28 18:02:21.357313: W tensorflow/stream_executor/cuda/cuda_driver.cc:269] failed call to cuInit: UNKNOWN ERROR (303)\n",
      "2022-03-28 18:02:21.357330: I tensorflow/stream_executor/cuda/cuda_diagnostics.cc:156] kernel driver does not appear to be running on this host (DESKTOP-5ODF5UT): /proc/driver/nvidia/version does not exist\n",
      "2022-03-28 18:02:21.357585: I tensorflow/core/platform/cpu_feature_guard.cc:151] This TensorFlow binary is optimized with oneAPI Deep Neural Network Library (oneDNN) to use the following CPU instructions in performance-critical operations:  AVX2 AVX512F FMA\n",
      "To enable them in other operations, rebuild TensorFlow with the appropriate compiler flags.\n"
     ]
    }
   ],
   "source": [
    "model = download_model('BAURU')"
   ]
  },
  {
   "cell_type": "code",
   "execution_count": 4,
   "id": "9a38a399",
   "metadata": {},
   "outputs": [],
   "source": [
    "cleaner = CleanDataRpm()\n",
    "df = cleaner.clean_data(2, gcp=False)\n",
    "\n",
    "X_train, y_train, X_test, y_test = split_train_test(df,6000,72)"
   ]
  },
  {
   "cell_type": "code",
   "execution_count": 5,
   "id": "2a01fb14",
   "metadata": {},
   "outputs": [],
   "source": [
    "X_train = X_train[:,:,:17]\n",
    "X_test = X_test[:,:,:17]"
   ]
  },
  {
   "cell_type": "code",
   "execution_count": 6,
   "id": "dd7de434",
   "metadata": {},
   "outputs": [
    {
     "data": {
      "text/plain": [
       "(6000, 48, 17)"
      ]
     },
     "execution_count": 6,
     "metadata": {},
     "output_type": "execute_result"
    }
   ],
   "source": [
    "X_train.shape"
   ]
  },
  {
   "cell_type": "code",
   "execution_count": 7,
   "id": "a0cf6af3",
   "metadata": {},
   "outputs": [
    {
     "data": {
      "text/plain": [
       "(6000, 48, 17)"
      ]
     },
     "execution_count": 7,
     "metadata": {},
     "output_type": "execute_result"
    }
   ],
   "source": [
    "X_test.shape"
   ]
  },
  {
   "cell_type": "code",
   "execution_count": 8,
   "id": "7b74e1fe",
   "metadata": {},
   "outputs": [
    {
     "name": "stdout",
     "output_type": "stream",
     "text": [
      "188/188 [==============================] - 9s 42ms/step - loss: 1.1557 - mae: 0.1466 - mse: 1.1557 - mape: 10264322.0000\n"
     ]
    },
    {
     "data": {
      "text/plain": [
       "[1.1557224988937378, 0.14656078815460205, 1.1557224988937378, 10264322.0]"
      ]
     },
     "execution_count": 8,
     "metadata": {},
     "output_type": "execute_result"
    }
   ],
   "source": [
    "# 6000 sequencias para as proximas 24 horas\n",
    "model.evaluate(X_test,y_test)"
   ]
  },
  {
   "cell_type": "code",
   "execution_count": 9,
   "id": "4a56a897",
   "metadata": {},
   "outputs": [
    {
     "data": {
      "text/plain": [
       "array([[0.        , 0.        , 0.        , ..., 0.        , 0.        ,\n",
       "        0.        ],\n",
       "       [0.        , 0.        , 0.26333618, ..., 0.        , 0.        ,\n",
       "        0.        ],\n",
       "       [0.        , 0.        , 0.        , ..., 0.        , 0.        ,\n",
       "        0.        ],\n",
       "       ...,\n",
       "       [0.        , 0.        , 0.        , ..., 0.        , 0.        ,\n",
       "        0.        ],\n",
       "       [0.        , 0.        , 0.        , ..., 0.        , 0.        ,\n",
       "        0.        ],\n",
       "       [0.        , 0.        , 0.        , ..., 0.        , 0.        ,\n",
       "        0.        ]], dtype=float32)"
      ]
     },
     "execution_count": 9,
     "metadata": {},
     "output_type": "execute_result"
    }
   ],
   "source": [
    "# Avaliar nossa previsao\n",
    "y_pred = model.predict(X_test)\n",
    "y_pred"
   ]
  },
  {
   "cell_type": "code",
   "execution_count": 10,
   "id": "30c0e248",
   "metadata": {},
   "outputs": [],
   "source": [
    "# Transformar o y_test e y_pred em DataFrame\n",
    "df_y_pred = pd.DataFrame(y_pred).T\n",
    "df_y_test = pd.DataFrame(y_test).T"
   ]
  },
  {
   "cell_type": "code",
   "execution_count": 11,
   "id": "4750b207",
   "metadata": {},
   "outputs": [],
   "source": [
    "def classe_chuva(precipitacao):\n",
    "    mm=precipitacao\n",
    "    if np.isnan(mm):\n",
    "        chuva = \"NaN\"\n",
    "    if mm == 0:\n",
    "        chuva = 0 #'nao chove'\n",
    "    elif mm >0 and mm <=5.0:\n",
    "        chuva = 1 #'fraca'\n",
    "    elif mm >5.0 and mm<=25.0:\n",
    "        chuva = 2 #'moderada'\n",
    "    else:\n",
    "        chuva = 3 #'forte'\n",
    "    return chuva"
   ]
  },
  {
   "cell_type": "code",
   "execution_count": 12,
   "id": "944e3443",
   "metadata": {},
   "outputs": [
    {
     "data": {
      "text/plain": [
       "0  1  2  3  4  5  6  7  8  9  10  11  12  13  14  15  16  17  18  19  20  21  22  23\n",
       "0  0  0  0  0  0  0  0  0  0  0   0   0   0   0   0   0   0   0   0   0   0   0   0     4203\n",
       "                                                                                  1       32\n",
       "1  0  0  0  0  0  0  0  0  0  0   0   0   0   0   0   0   0   0   0   0   0   0   0       27\n",
       "0  0  0  0  0  0  0  0  0  0  0   0   0   0   0   0   0   0   0   0   0   0   1   1       25\n",
       "                                                                          1   1   0       21\n",
       "                                                                                        ... \n",
       "   2  1  1  1  0  1  1  1  0  0   0   0   0   0   0   0   0   0   0   0   0   0   0        1\n",
       "      2  1  0  0  0  0  0  0  0   0   0   0   0   0   0   0   0   0   0   0   0   0        1\n",
       "            1  1  1  1  0  1  1   1   1   0   0   0   0   0   0   2   2   1   0   0        1\n",
       "   0  0  0  0  0  0  0  0  2  1   1   0   1   0   0   1   1   0   1   1   1   2   1        1\n",
       "3  0  1  0  1  1  0  0  0  0  0   0   0   0   0   0   0   0   0   0   0   0   0   0        1\n",
       "Length: 604, dtype: int64"
      ]
     },
     "execution_count": 12,
     "metadata": {},
     "output_type": "execute_result"
    }
   ],
   "source": [
    "# Baseado na nossa classe_chuva, definimos os elemento de acordo com a intensidade da precipitacao\n",
    "df_y_test_categorical = df_y_test.applymap(classe_chuva)\n",
    "df_y_test_categorical.T.value_counts()"
   ]
  },
  {
   "cell_type": "code",
   "execution_count": 13,
   "id": "65c26b14",
   "metadata": {},
   "outputs": [
    {
     "data": {
      "text/plain": [
       "0  1  2  3  4  5  6  7  8  9  10  11  12  13  14  15  16  17  18  19  20  21  22  23\n",
       "0  0  0  0  0  0  0  0  0  0  0   0   0   0   0   0   0   0   0   0   0   0   0   0     5206\n",
       "                     1  0  0  0   0   0   0   0   0   0   0   0   0   0   0   0   0       68\n",
       "         1  0  0  0  0  0  0  0   0   0   0   0   0   0   0   0   0   0   0   0   0       52\n",
       "         0  0  0  0  0  0  0  0   0   0   0   1   0   0   0   0   0   0   0   0   0       41\n",
       "   1  0  0  0  0  0  0  0  0  0   0   0   0   0   0   0   0   0   0   0   0   0   0       31\n",
       "                                                                                        ... \n",
       "      1  0  0  0  1  0  0  0  0   0   0   0   1   0   0   0   0   0   1   2   2   2        1\n",
       "                           1  0   0   0   1   0   1   0   0   0   0   1   1   1   2        1\n",
       "                        1  1  0   0   1   1   1   1   0   0   0   0   1   1   1   2        1\n",
       "            1  1  1  0  0  0  0   0   0   1   1   0   0   0   0   1   2   2   2   1        1\n",
       "   0  0  0  0  0  0  0  0  0  0   0   0   0   0   1   1   0   0   0   0   0   1   1        1\n",
       "Length: 156, dtype: int64"
      ]
     },
     "execution_count": 13,
     "metadata": {},
     "output_type": "execute_result"
    }
   ],
   "source": [
    "df_y_pred_categorical = df_y_pred.applymap(classe_chuva)\n",
    "df_y_pred_categorical.T.value_counts()"
   ]
  },
  {
   "cell_type": "code",
   "execution_count": 14,
   "id": "f5ac90eb",
   "metadata": {},
   "outputs": [
    {
     "data": {
      "text/plain": [
       "0       24\n",
       "1       21\n",
       "2       24\n",
       "3       23\n",
       "4       18\n",
       "        ..\n",
       "5995    22\n",
       "5996    20\n",
       "5997    22\n",
       "5998    24\n",
       "5999    24\n",
       "Length: 6000, dtype: int64"
      ]
     },
     "execution_count": 14,
     "metadata": {},
     "output_type": "execute_result"
    }
   ],
   "source": [
    "# Igualando para saber o quanto acertamos \n",
    "(df_y_test_categorical == df_y_pred_categorical).sum()"
   ]
  },
  {
   "cell_type": "code",
   "execution_count": 15,
   "id": "1401646d",
   "metadata": {},
   "outputs": [
    {
     "data": {
      "text/plain": [
       "132584"
      ]
     },
     "execution_count": 15,
     "metadata": {},
     "output_type": "execute_result"
    }
   ],
   "source": [
    "(df_y_test_categorical == df_y_pred_categorical).sum().sum()"
   ]
  },
  {
   "cell_type": "code",
   "execution_count": 16,
   "id": "535c1f4d",
   "metadata": {},
   "outputs": [
    {
     "data": {
      "text/plain": [
       "0.9207222222222222"
      ]
     },
     "execution_count": 16,
     "metadata": {},
     "output_type": "execute_result"
    }
   ],
   "source": [
    "(df_y_test_categorical == df_y_pred_categorical).sum().sum()/(6000*24) #accuracy  (n_sequences, length)"
   ]
  },
  {
   "cell_type": "code",
   "execution_count": 17,
   "id": "16870497",
   "metadata": {},
   "outputs": [
    {
     "data": {
      "text/plain": [
       "0     0.923167\n",
       "1     0.922667\n",
       "2     0.923500\n",
       "3     0.915667\n",
       "4     0.920000\n",
       "5     0.928333\n",
       "6     0.927000\n",
       "7     0.911500\n",
       "8     0.926833\n",
       "9     0.927833\n",
       "10    0.931667\n",
       "11    0.923167\n",
       "12    0.925833\n",
       "13    0.925167\n",
       "14    0.912000\n",
       "15    0.922667\n",
       "16    0.917833\n",
       "17    0.915833\n",
       "18    0.922667\n",
       "19    0.919333\n",
       "20    0.907667\n",
       "21    0.917833\n",
       "22    0.914333\n",
       "23    0.914833\n",
       "dtype: float64"
      ]
     },
     "execution_count": 17,
     "metadata": {},
     "output_type": "execute_result"
    }
   ],
   "source": [
    "(df_y_test_categorical == df_y_pred_categorical).sum(axis=1)/6000"
   ]
  },
  {
   "cell_type": "code",
   "execution_count": 18,
   "id": "fa1b0bbf",
   "metadata": {},
   "outputs": [
    {
     "data": {
      "text/plain": [
       "(24, 6000)"
      ]
     },
     "execution_count": 18,
     "metadata": {},
     "output_type": "execute_result"
    }
   ],
   "source": [
    "df_y_test_categorical.shape"
   ]
  },
  {
   "cell_type": "code",
   "execution_count": 20,
   "id": "b307a6cf",
   "metadata": {},
   "outputs": [
    {
     "data": {
      "text/plain": [
       "(24, 6000)"
      ]
     },
     "execution_count": 20,
     "metadata": {},
     "output_type": "execute_result"
    }
   ],
   "source": [
    "df_y_pred_categorical.shape"
   ]
  },
  {
   "cell_type": "code",
   "execution_count": 21,
   "id": "32780b15",
   "metadata": {},
   "outputs": [],
   "source": [
    "numpy_y_pred = df_y_pred_categorical.to_numpy()[0,:]\n",
    "numpy_y_test = df_y_test_categorical.to_numpy()[0,:]"
   ]
  },
  {
   "cell_type": "code",
   "execution_count": 22,
   "id": "7e9f475a",
   "metadata": {},
   "outputs": [
    {
     "name": "stderr",
     "output_type": "stream",
     "text": [
      "/home/thamirisbrandao/.pyenv/versions/3.8.12/envs/rain-prediction-machine/lib/python3.8/site-packages/sklearn/metrics/_classification.py:1318: UndefinedMetricWarning: Precision and F-score are ill-defined and being set to 0.0 in labels with no predicted samples. Use `zero_division` parameter to control this behavior.\n",
      "  _warn_prf(average, modifier, msg_start, len(result))\n",
      "/home/thamirisbrandao/.pyenv/versions/3.8.12/envs/rain-prediction-machine/lib/python3.8/site-packages/sklearn/metrics/_classification.py:1318: UndefinedMetricWarning: Precision and F-score are ill-defined and being set to 0.0 in labels with no predicted samples. Use `zero_division` parameter to control this behavior.\n",
      "  _warn_prf(average, modifier, msg_start, len(result))\n",
      "/home/thamirisbrandao/.pyenv/versions/3.8.12/envs/rain-prediction-machine/lib/python3.8/site-packages/sklearn/metrics/_classification.py:1318: UndefinedMetricWarning: Precision and F-score are ill-defined and being set to 0.0 in labels with no predicted samples. Use `zero_division` parameter to control this behavior.\n",
      "  _warn_prf(average, modifier, msg_start, len(result))\n"
     ]
    },
    {
     "data": {
      "text/plain": [
       "{'0': {'precision': 0.9341904923024869,\n",
       "  'recall': 0.9881889763779528,\n",
       "  'f1-score': 0.9604313418558135,\n",
       "  'support': 5588},\n",
       " '1': {'precision': 0.14457831325301204,\n",
       "  'recall': 0.031496062992125984,\n",
       "  'f1-score': 0.05172413793103449,\n",
       "  'support': 381},\n",
       " '2': {'precision': 0.8333333333333334,\n",
       "  'recall': 0.16666666666666666,\n",
       "  'f1-score': 0.2777777777777778,\n",
       "  'support': 30},\n",
       " '3': {'precision': 0.0, 'recall': 0.0, 'f1-score': 0.0, 'support': 1},\n",
       " 'accuracy': 0.9231666666666667,\n",
       " 'macro avg': {'precision': 0.4780255347222081,\n",
       "  'recall': 0.29658792650918636,\n",
       "  'f1-score': 0.3224833143911564,\n",
       "  'support': 6000},\n",
       " 'weighted avg': {'precision': 0.8833901347226156,\n",
       "  'recall': 0.9231666666666667,\n",
       "  'f1-score': 0.8991550946958904,\n",
       "  'support': 6000}}"
      ]
     },
     "execution_count": 22,
     "metadata": {},
     "output_type": "execute_result"
    }
   ],
   "source": [
    "classification_report(numpy_y_test, numpy_y_pred, output_dict=True)"
   ]
  },
  {
   "cell_type": "code",
   "execution_count": 23,
   "id": "05bf9759",
   "metadata": {},
   "outputs": [
    {
     "name": "stderr",
     "output_type": "stream",
     "text": [
      "/home/thamirisbrandao/.pyenv/versions/3.8.12/envs/rain-prediction-machine/lib/python3.8/site-packages/sklearn/metrics/_classification.py:1318: UndefinedMetricWarning: Precision and F-score are ill-defined and being set to 0.0 in labels with no predicted samples. Use `zero_division` parameter to control this behavior.\n",
      "  _warn_prf(average, modifier, msg_start, len(result))\n",
      "/home/thamirisbrandao/.pyenv/versions/3.8.12/envs/rain-prediction-machine/lib/python3.8/site-packages/sklearn/metrics/_classification.py:1318: UndefinedMetricWarning: Precision and F-score are ill-defined and being set to 0.0 in labels with no predicted samples. Use `zero_division` parameter to control this behavior.\n",
      "  _warn_prf(average, modifier, msg_start, len(result))\n",
      "/home/thamirisbrandao/.pyenv/versions/3.8.12/envs/rain-prediction-machine/lib/python3.8/site-packages/sklearn/metrics/_classification.py:1318: UndefinedMetricWarning: Precision and F-score are ill-defined and being set to 0.0 in labels with no predicted samples. Use `zero_division` parameter to control this behavior.\n",
      "  _warn_prf(average, modifier, msg_start, len(result))\n"
     ]
    },
    {
     "data": {
      "text/plain": [
       "{'precision': 0.9341904923024869,\n",
       " 'recall': 0.9881889763779528,\n",
       " 'f1-score': 0.9604313418558135,\n",
       " 'support': 5588}"
      ]
     },
     "execution_count": 23,
     "metadata": {},
     "output_type": "execute_result"
    }
   ],
   "source": [
    "classification_report(numpy_y_test, numpy_y_pred, output_dict=True)['0']"
   ]
  },
  {
   "cell_type": "code",
   "execution_count": 24,
   "id": "520c56cc",
   "metadata": {},
   "outputs": [
    {
     "name": "stderr",
     "output_type": "stream",
     "text": [
      "/home/thamirisbrandao/.pyenv/versions/3.8.12/envs/rain-prediction-machine/lib/python3.8/site-packages/sklearn/metrics/_classification.py:1318: UndefinedMetricWarning: Recall and F-score are ill-defined and being set to 0.0 in labels with no true samples. Use `zero_division` parameter to control this behavior.\n",
      "  _warn_prf(average, modifier, msg_start, len(result))\n",
      "/home/thamirisbrandao/.pyenv/versions/3.8.12/envs/rain-prediction-machine/lib/python3.8/site-packages/sklearn/metrics/_classification.py:1318: UndefinedMetricWarning: Recall and F-score are ill-defined and being set to 0.0 in labels with no true samples. Use `zero_division` parameter to control this behavior.\n",
      "  _warn_prf(average, modifier, msg_start, len(result))\n",
      "/home/thamirisbrandao/.pyenv/versions/3.8.12/envs/rain-prediction-machine/lib/python3.8/site-packages/sklearn/metrics/_classification.py:1318: UndefinedMetricWarning: Recall and F-score are ill-defined and being set to 0.0 in labels with no true samples. Use `zero_division` parameter to control this behavior.\n",
      "  _warn_prf(average, modifier, msg_start, len(result))\n"
     ]
    },
    {
     "ename": "AttributeError",
     "evalue": "'float' object has no attribute 'keys'",
     "output_type": "error",
     "traceback": [
      "\u001b[0;31m---------------------------------------------------------------------------\u001b[0m",
      "\u001b[0;31mAttributeError\u001b[0m                            Traceback (most recent call last)",
      "Input \u001b[0;32mIn [24]\u001b[0m, in \u001b[0;36m<cell line: 3>\u001b[0;34m()\u001b[0m\n\u001b[1;32m      7\u001b[0m dicionario2 \u001b[38;5;241m=\u001b[39m {}\n\u001b[1;32m      8\u001b[0m \u001b[38;5;28;01mfor\u001b[39;00m key \u001b[38;5;129;01min\u001b[39;00m \u001b[38;5;28mlist\u001b[39m(dict_classificacao\u001b[38;5;241m.\u001b[39mkeys())[\u001b[38;5;241m0\u001b[39m:\u001b[38;5;241m5\u001b[39m]:\n\u001b[0;32m----> 9\u001b[0m     \u001b[38;5;28;01mfor\u001b[39;00m key2 \u001b[38;5;129;01min\u001b[39;00m \u001b[38;5;28mlist\u001b[39m(\u001b[43mdict_classificacao\u001b[49m\u001b[43m[\u001b[49m\u001b[43mkey\u001b[49m\u001b[43m]\u001b[49m\u001b[38;5;241;43m.\u001b[39;49m\u001b[43mkeys\u001b[49m()):\n\u001b[1;32m     10\u001b[0m         dicionario2[\u001b[38;5;124mf\u001b[39m\u001b[38;5;124m'\u001b[39m\u001b[38;5;132;01m{\u001b[39;00mkey2\u001b[38;5;132;01m}\u001b[39;00m\u001b[38;5;124m, \u001b[39m\u001b[38;5;132;01m{\u001b[39;00mkey\u001b[38;5;132;01m}\u001b[39;00m\u001b[38;5;124m'\u001b[39m] \u001b[38;5;241m=\u001b[39m dict_classificacao[key][key2]\n\u001b[1;32m     11\u001b[0m classification_reports\u001b[38;5;241m.\u001b[39mappend(dicionario2)\n",
      "\u001b[0;31mAttributeError\u001b[0m: 'float' object has no attribute 'keys'"
     ]
    }
   ],
   "source": [
    "classification_reports = []\n",
    "\n",
    "for i in range(0,24):\n",
    "    numpy_y_pred = df_y_test_categorical.to_numpy()[i,:]\n",
    "    numpy_y_test = df_y_pred_categorical.to_numpy()[i,:]\n",
    "    dict_classificacao = classification_report(numpy_y_test, numpy_y_pred, output_dict=True)\n",
    "    dicionario2 = {}\n",
    "    for key in list(dict_classificacao.keys())[0:5]:\n",
    "        for key2 in list(dict_classificacao[key].keys()):\n",
    "            dicionario2[f'{key2}, {key}'] = dict_classificacao[key][key2]\n",
    "    classification_reports.append(dicionario2)\n",
    "    \n",
    "for i in range(0,24):\n",
    "    numpy_y_pred = df_y_test_categorical.to_numpy()[i,:]\n",
    "    numpy_y_test = df_y_pred_categorical.to_numpy()[i,:]\n",
    "    dict_classificacao = classification_report(numpy_y_test, numpy_y_pred, output_dict=True)\n",
    "    dicionario2 = {}\n",
    "    for key in list(dict_classificacao.keys())[0:4]:\n",
    "#         dicionario2 = dict_classificacao[key]\n",
    "        for key2 in list(dict_classificacao[key].keys()):\n",
    "            dicionario2[f'{key2}, {key}'] = dict_classificacao[key][key2]\n",
    "#             dicionario2.pop(key2)\n",
    "    classification_reports.append(dicionario2)"
   ]
  },
  {
   "cell_type": "code",
   "execution_count": null,
   "id": "6714d7d5",
   "metadata": {},
   "outputs": [],
   "source": []
  }
 ],
 "metadata": {
  "kernelspec": {
   "display_name": "Python 3 (ipykernel)",
   "language": "python",
   "name": "python3"
  },
  "language_info": {
   "codemirror_mode": {
    "name": "ipython",
    "version": 3
   },
   "file_extension": ".py",
   "mimetype": "text/x-python",
   "name": "python",
   "nbconvert_exporter": "python",
   "pygments_lexer": "ipython3",
   "version": "3.8.12"
  }
 },
 "nbformat": 4,
 "nbformat_minor": 5
}
