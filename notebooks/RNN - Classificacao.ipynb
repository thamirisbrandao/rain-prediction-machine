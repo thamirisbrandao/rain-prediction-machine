{
 "cells": [
  {
   "cell_type": "code",
   "execution_count": 2,
   "id": "df6c9d8e",
   "metadata": {},
   "outputs": [
    {
     "name": "stderr",
     "output_type": "stream",
     "text": [
      "2022-03-24 11:34:28.271223: W tensorflow/stream_executor/platform/default/dso_loader.cc:64] Could not load dynamic library 'libcudart.so.11.0'; dlerror: libcudart.so.11.0: cannot open shared object file: No such file or directory\n",
      "2022-03-24 11:34:28.271549: I tensorflow/stream_executor/cuda/cudart_stub.cc:29] Ignore above cudart dlerror if you do not have a GPU set up on your machine.\n"
     ]
    }
   ],
   "source": [
    "%load_ext autoreload\n",
    "%autoreload 2\n",
    "from tensorflow.keras.models import Sequential\n",
    "from tensorflow.keras.layers import Dense, SimpleRNN, Flatten, LSTM\n",
    "import pandas as pd\n",
    "import numpy as np"
   ]
  },
  {
   "cell_type": "code",
   "execution_count": 3,
   "id": "d1a004ac",
   "metadata": {},
   "outputs": [],
   "source": [
    "from RainPredictionMachine.data import CleanDataRpm\n",
    "cleaner = CleanDataRpm()\n",
    "df = cleaner.clean_data(1)"
   ]
  },
  {
   "cell_type": "code",
   "execution_count": 4,
   "id": "75017ffd",
   "metadata": {},
   "outputs": [
    {
     "data": {
      "text/plain": [
       "{'Chuva': {0: 0.0, 1: 0.0},\n",
       " 'Pres': {0: 923.5, 1: 924.0},\n",
       " 'Pres_max': {0: 923.5, 1: 924.0},\n",
       " 'Pres_min': {0: 922.4, 1: 923.5},\n",
       " 'Radiacao': {0: 0.0, 1: 0.0},\n",
       " 'Temp': {0: 21.8, 1: 22.0},\n",
       " 'Temp_orvalho': {0: 18.9, 1: 19.4},\n",
       " 'Temp_max': {0: 22.8, 1: 22.3},\n",
       " 'Temp_min': {0: 21.7, 1: 21.6},\n",
       " 'Temp_orvalho_max': {0: 19.3, 1: 19.7},\n",
       " 'Temp_orvalho_min': {0: 18.7, 1: 18.9},\n",
       " 'Umid_max': {0: 84.0, 1: 86.0},\n",
       " 'Umid_min': {0: 79.0, 1: 84.0},\n",
       " 'Umid': {0: 84.0, 1: 85.0},\n",
       " 'Dir_vento': {0: 164.0, 1: 348.0},\n",
       " 'Rajada_vento': {0: 2.6, 1: 2.0},\n",
       " 'Vel_vento': {0: 0.7, 1: 0.1},\n",
       " 'Latitude': {0: -23.52388888, 1: -23.52388888},\n",
       " 'Longitude': {0: -46.86944443, 1: -46.86944443},\n",
       " 'Altitude': {0: 776.5, 1: 776.5},\n",
       " 'datahora': {0: Timestamp('2020-01-01 00:00:00+0000', tz='UTC'),\n",
       "  1: Timestamp('2020-01-01 01:00:00+0000', tz='UTC')},\n",
       " 'classe_chuva': {0: 0, 1: 0}}"
      ]
     },
     "execution_count": 4,
     "metadata": {},
     "output_type": "execute_result"
    }
   ],
   "source": [
    "df.head(2).to_dict()"
   ]
  },
  {
   "cell_type": "code",
   "execution_count": 5,
   "id": "7c0aa934",
   "metadata": {},
   "outputs": [
    {
     "data": {
      "text/plain": [
       "Chuva               0\n",
       "Pres                0\n",
       "Pres_max            0\n",
       "Pres_min            0\n",
       "Radiacao            0\n",
       "Temp                0\n",
       "Temp_orvalho        0\n",
       "Temp_max            0\n",
       "Temp_min            0\n",
       "Temp_orvalho_max    0\n",
       "Temp_orvalho_min    0\n",
       "Umid_max            0\n",
       "Umid_min            0\n",
       "Umid                0\n",
       "Dir_vento           0\n",
       "Rajada_vento        0\n",
       "Vel_vento           0\n",
       "Latitude            0\n",
       "Longitude           0\n",
       "Altitude            0\n",
       "datahora            0\n",
       "classe_chuva        0\n",
       "dtype: int64"
      ]
     },
     "execution_count": 5,
     "metadata": {},
     "output_type": "execute_result"
    }
   ],
   "source": [
    "df.isnull().sum()"
   ]
  },
  {
   "cell_type": "code",
   "execution_count": 6,
   "id": "aae54245",
   "metadata": {},
   "outputs": [],
   "source": [
    "def subsample_sequence(df, length):\n",
    "    index = np.random.randint(0, df.shape[0] - length)\n",
    "    df_sample = df.iloc[index:index+length]\n",
    "    \n",
    "    return df_sample"
   ]
  },
  {
   "cell_type": "code",
   "execution_count": 7,
   "id": "f3311cf4",
   "metadata": {
    "scrolled": false
   },
   "outputs": [
    {
     "data": {
      "text/html": [
       "<div>\n",
       "<style scoped>\n",
       "    .dataframe tbody tr th:only-of-type {\n",
       "        vertical-align: middle;\n",
       "    }\n",
       "\n",
       "    .dataframe tbody tr th {\n",
       "        vertical-align: top;\n",
       "    }\n",
       "\n",
       "    .dataframe thead th {\n",
       "        text-align: right;\n",
       "    }\n",
       "</style>\n",
       "<table border=\"1\" class=\"dataframe\">\n",
       "  <thead>\n",
       "    <tr style=\"text-align: right;\">\n",
       "      <th></th>\n",
       "      <th>Chuva</th>\n",
       "      <th>Pres</th>\n",
       "      <th>Pres_max</th>\n",
       "      <th>Pres_min</th>\n",
       "      <th>Radiacao</th>\n",
       "      <th>Temp</th>\n",
       "      <th>Temp_orvalho</th>\n",
       "      <th>Temp_max</th>\n",
       "      <th>Temp_min</th>\n",
       "      <th>Temp_orvalho_max</th>\n",
       "      <th>...</th>\n",
       "      <th>Umid_min</th>\n",
       "      <th>Umid</th>\n",
       "      <th>Dir_vento</th>\n",
       "      <th>Rajada_vento</th>\n",
       "      <th>Vel_vento</th>\n",
       "      <th>Latitude</th>\n",
       "      <th>Longitude</th>\n",
       "      <th>Altitude</th>\n",
       "      <th>datahora</th>\n",
       "      <th>classe_chuva</th>\n",
       "    </tr>\n",
       "  </thead>\n",
       "  <tbody>\n",
       "    <tr>\n",
       "      <th>6762</th>\n",
       "      <td>0.0</td>\n",
       "      <td>925.2</td>\n",
       "      <td>925.6</td>\n",
       "      <td>925.2</td>\n",
       "      <td>1448.90</td>\n",
       "      <td>28.0</td>\n",
       "      <td>17.7</td>\n",
       "      <td>28.2</td>\n",
       "      <td>26.4</td>\n",
       "      <td>19.1</td>\n",
       "      <td>...</td>\n",
       "      <td>51.0</td>\n",
       "      <td>54.0</td>\n",
       "      <td>66.0</td>\n",
       "      <td>0.0</td>\n",
       "      <td>0.0</td>\n",
       "      <td>-23.523889</td>\n",
       "      <td>-46.869444</td>\n",
       "      <td>776.5</td>\n",
       "      <td>2020-10-08 18:00:00+00:00</td>\n",
       "      <td>0</td>\n",
       "    </tr>\n",
       "    <tr>\n",
       "      <th>6763</th>\n",
       "      <td>0.0</td>\n",
       "      <td>926.4</td>\n",
       "      <td>926.4</td>\n",
       "      <td>925.2</td>\n",
       "      <td>26.45</td>\n",
       "      <td>20.7</td>\n",
       "      <td>17.9</td>\n",
       "      <td>28.0</td>\n",
       "      <td>20.6</td>\n",
       "      <td>18.9</td>\n",
       "      <td>...</td>\n",
       "      <td>54.0</td>\n",
       "      <td>84.0</td>\n",
       "      <td>104.0</td>\n",
       "      <td>0.0</td>\n",
       "      <td>0.0</td>\n",
       "      <td>-23.523889</td>\n",
       "      <td>-46.869444</td>\n",
       "      <td>776.5</td>\n",
       "      <td>2020-10-08 19:00:00+00:00</td>\n",
       "      <td>0</td>\n",
       "    </tr>\n",
       "    <tr>\n",
       "      <th>6764</th>\n",
       "      <td>0.0</td>\n",
       "      <td>927.1</td>\n",
       "      <td>927.1</td>\n",
       "      <td>926.4</td>\n",
       "      <td>144.75</td>\n",
       "      <td>19.7</td>\n",
       "      <td>17.5</td>\n",
       "      <td>20.7</td>\n",
       "      <td>19.6</td>\n",
       "      <td>17.9</td>\n",
       "      <td>...</td>\n",
       "      <td>84.0</td>\n",
       "      <td>87.0</td>\n",
       "      <td>85.0</td>\n",
       "      <td>0.0</td>\n",
       "      <td>0.0</td>\n",
       "      <td>-23.523889</td>\n",
       "      <td>-46.869444</td>\n",
       "      <td>776.5</td>\n",
       "      <td>2020-10-08 20:00:00+00:00</td>\n",
       "      <td>0</td>\n",
       "    </tr>\n",
       "    <tr>\n",
       "      <th>6765</th>\n",
       "      <td>0.0</td>\n",
       "      <td>927.3</td>\n",
       "      <td>927.5</td>\n",
       "      <td>926.8</td>\n",
       "      <td>0.00</td>\n",
       "      <td>19.9</td>\n",
       "      <td>17.1</td>\n",
       "      <td>19.9</td>\n",
       "      <td>19.6</td>\n",
       "      <td>17.5</td>\n",
       "      <td>...</td>\n",
       "      <td>84.0</td>\n",
       "      <td>84.0</td>\n",
       "      <td>83.0</td>\n",
       "      <td>0.0</td>\n",
       "      <td>0.0</td>\n",
       "      <td>-23.523889</td>\n",
       "      <td>-46.869444</td>\n",
       "      <td>776.5</td>\n",
       "      <td>2020-10-08 21:00:00+00:00</td>\n",
       "      <td>0</td>\n",
       "    </tr>\n",
       "    <tr>\n",
       "      <th>6766</th>\n",
       "      <td>0.0</td>\n",
       "      <td>926.7</td>\n",
       "      <td>927.3</td>\n",
       "      <td>926.6</td>\n",
       "      <td>0.00</td>\n",
       "      <td>20.2</td>\n",
       "      <td>17.0</td>\n",
       "      <td>20.2</td>\n",
       "      <td>19.9</td>\n",
       "      <td>17.3</td>\n",
       "      <td>...</td>\n",
       "      <td>82.0</td>\n",
       "      <td>82.0</td>\n",
       "      <td>28.0</td>\n",
       "      <td>0.0</td>\n",
       "      <td>0.0</td>\n",
       "      <td>-23.523889</td>\n",
       "      <td>-46.869444</td>\n",
       "      <td>776.5</td>\n",
       "      <td>2020-10-08 22:00:00+00:00</td>\n",
       "      <td>0</td>\n",
       "    </tr>\n",
       "  </tbody>\n",
       "</table>\n",
       "<p>5 rows × 22 columns</p>\n",
       "</div>"
      ],
      "text/plain": [
       "      Chuva   Pres  Pres_max  Pres_min  Radiacao  Temp  Temp_orvalho  \\\n",
       "6762    0.0  925.2     925.6     925.2   1448.90  28.0          17.7   \n",
       "6763    0.0  926.4     926.4     925.2     26.45  20.7          17.9   \n",
       "6764    0.0  927.1     927.1     926.4    144.75  19.7          17.5   \n",
       "6765    0.0  927.3     927.5     926.8      0.00  19.9          17.1   \n",
       "6766    0.0  926.7     927.3     926.6      0.00  20.2          17.0   \n",
       "\n",
       "      Temp_max  Temp_min  Temp_orvalho_max  ...  Umid_min  Umid  Dir_vento  \\\n",
       "6762      28.2      26.4              19.1  ...      51.0  54.0       66.0   \n",
       "6763      28.0      20.6              18.9  ...      54.0  84.0      104.0   \n",
       "6764      20.7      19.6              17.9  ...      84.0  87.0       85.0   \n",
       "6765      19.9      19.6              17.5  ...      84.0  84.0       83.0   \n",
       "6766      20.2      19.9              17.3  ...      82.0  82.0       28.0   \n",
       "\n",
       "      Rajada_vento  Vel_vento   Latitude  Longitude  Altitude  \\\n",
       "6762           0.0        0.0 -23.523889 -46.869444     776.5   \n",
       "6763           0.0        0.0 -23.523889 -46.869444     776.5   \n",
       "6764           0.0        0.0 -23.523889 -46.869444     776.5   \n",
       "6765           0.0        0.0 -23.523889 -46.869444     776.5   \n",
       "6766           0.0        0.0 -23.523889 -46.869444     776.5   \n",
       "\n",
       "                      datahora  classe_chuva  \n",
       "6762 2020-10-08 18:00:00+00:00             0  \n",
       "6763 2020-10-08 19:00:00+00:00             0  \n",
       "6764 2020-10-08 20:00:00+00:00             0  \n",
       "6765 2020-10-08 21:00:00+00:00             0  \n",
       "6766 2020-10-08 22:00:00+00:00             0  \n",
       "\n",
       "[5 rows x 22 columns]"
      ]
     },
     "execution_count": 7,
     "metadata": {},
     "output_type": "execute_result"
    }
   ],
   "source": [
    "df_sample = subsample_sequence(df,48)\n",
    "df_sample.head()"
   ]
  },
  {
   "cell_type": "code",
   "execution_count": 8,
   "id": "c3900c33",
   "metadata": {},
   "outputs": [],
   "source": [
    "def split_subsample_sequence(df, length):\n",
    "    '''Create one single random (X,y) pair'''\n",
    "    \n",
    "    df_subsample = subsample_sequence(df, length)\n",
    "    y_sample = df_subsample['classe_chuva'].iloc[length - 24:]\n",
    "    \n",
    "    X_sample = df_subsample.drop(columns= ['classe_chuva', 'datahora'])[0:length -24]\n",
    "    X_sample = X_sample.values\n",
    "   \n",
    "    return np.array(X_sample), np.array(y_sample)"
   ]
  },
  {
   "cell_type": "code",
   "execution_count": 9,
   "id": "4cba9741",
   "metadata": {},
   "outputs": [
    {
     "data": {
      "text/plain": [
       "(24, 20)"
      ]
     },
     "execution_count": 9,
     "metadata": {},
     "output_type": "execute_result"
    }
   ],
   "source": [
    "X,y = split_subsample_sequence(df,48)\n",
    "X.shape"
   ]
  },
  {
   "cell_type": "code",
   "execution_count": 10,
   "id": "e6966c87",
   "metadata": {},
   "outputs": [
    {
     "data": {
      "text/plain": [
       "array([0, 0, 0, 0, 0, 0, 0, 0, 0, 0, 0, 0, 0, 0, 0, 0, 0, 0, 0, 0, 0, 0,\n",
       "       0, 0])"
      ]
     },
     "execution_count": 10,
     "metadata": {},
     "output_type": "execute_result"
    }
   ],
   "source": [
    "y"
   ]
  },
  {
   "cell_type": "code",
   "execution_count": 11,
   "id": "22e41029",
   "metadata": {},
   "outputs": [
    {
     "data": {
      "text/plain": [
       "(array([[ 0.00000000e+00,  9.30300000e+02,  9.30300000e+02,\n",
       "          9.30200000e+02,  0.00000000e+00,  2.79000000e+01,\n",
       "          1.17000000e+01,  2.79000000e+01,  2.69000000e+01,\n",
       "          1.20000000e+01,  1.01000000e+01,  3.90000000e+01,\n",
       "          3.40000000e+01,  3.70000000e+01,  1.34000000e+02,\n",
       "          0.00000000e+00,  0.00000000e+00, -2.35238889e+01,\n",
       "         -4.68694444e+01,  7.76500000e+02],\n",
       "        [ 0.00000000e+00,  9.30700000e+02,  9.30700000e+02,\n",
       "          9.30300000e+02,  0.00000000e+00,  2.50000000e+01,\n",
       "          1.30000000e+01,  2.83000000e+01,  2.50000000e+01,\n",
       "          1.50000000e+01,  1.19000000e+01,  5.20000000e+01,\n",
       "          3.70000000e+01,  4.70000000e+01,  1.88000000e+02,\n",
       "          0.00000000e+00,  0.00000000e+00, -2.35238889e+01,\n",
       "         -4.68694444e+01,  7.76500000e+02],\n",
       "        [ 0.00000000e+00,  9.31200000e+02,  9.31200000e+02,\n",
       "          9.30700000e+02,  0.00000000e+00,  2.28000000e+01,\n",
       "          1.53000000e+01,  2.50000000e+01,  2.28000000e+01,\n",
       "          1.53000000e+01,  1.29000000e+01,  6.30000000e+01,\n",
       "          4.70000000e+01,  6.30000000e+01,  1.20000000e+02,\n",
       "          6.20000000e+00,  1.90000000e+00, -2.35238889e+01,\n",
       "         -4.68694444e+01,  7.76500000e+02],\n",
       "        [ 0.00000000e+00,  9.31600000e+02,  9.31600000e+02,\n",
       "          9.31200000e+02,  0.00000000e+00,  2.14000000e+01,\n",
       "          1.44000000e+01,  2.28000000e+01,  2.14000000e+01,\n",
       "          1.54000000e+01,  1.43000000e+01,  6.40000000e+01,\n",
       "          6.10000000e+01,  6.40000000e+01,  1.04000000e+02,\n",
       "          5.10000000e+00,  0.00000000e+00, -2.35238889e+01,\n",
       "         -4.68694444e+01,  7.76500000e+02],\n",
       "        [ 0.00000000e+00,  9.32200000e+02,  9.32200000e+02,\n",
       "          9.31600000e+02,  5.85100000e+02,  2.00000000e+01,\n",
       "          1.56000000e+01,  2.14000000e+01,  2.00000000e+01,\n",
       "          1.59000000e+01,  1.45000000e+01,  7.60000000e+01,\n",
       "          6.40000000e+01,  7.60000000e+01,  1.11000000e+02,\n",
       "          0.00000000e+00,  0.00000000e+00, -2.35238889e+01,\n",
       "         -4.68694444e+01,  7.76500000e+02],\n",
       "        [ 0.00000000e+00,  9.32900000e+02,  9.32900000e+02,\n",
       "          9.32200000e+02,  8.51200000e+02,  1.90000000e+01,\n",
       "          1.63000000e+01,  2.02000000e+01,  1.90000000e+01,\n",
       "          1.63000000e+01,  1.54000000e+01,  8.40000000e+01,\n",
       "          7.50000000e+01,  8.40000000e+01,  1.31000000e+02,\n",
       "          0.00000000e+00,  0.00000000e+00, -2.35238889e+01,\n",
       "         -4.68694444e+01,  7.76500000e+02],\n",
       "        [ 0.00000000e+00,  9.33000000e+02,  9.33000000e+02,\n",
       "          9.32900000e+02,  6.15800000e+02,  1.84000000e+01,\n",
       "          1.59000000e+01,  1.90000000e+01,  1.84000000e+01,\n",
       "          1.63000000e+01,  1.59000000e+01,  8.70000000e+01,\n",
       "          8.40000000e+01,  8.60000000e+01,  1.10000000e+02,\n",
       "          0.00000000e+00,  0.00000000e+00, -2.35238889e+01,\n",
       "         -4.68694444e+01,  7.76500000e+02],\n",
       "        [ 0.00000000e+00,  9.33000000e+02,  9.33000000e+02,\n",
       "          9.32900000e+02,  1.22790000e+03,  1.77000000e+01,\n",
       "          1.56000000e+01,  1.84000000e+01,  1.77000000e+01,\n",
       "          1.59000000e+01,  1.55000000e+01,  8.80000000e+01,\n",
       "          8.50000000e+01,  8.80000000e+01,  1.45000000e+02,\n",
       "          0.00000000e+00,  0.00000000e+00, -2.35238889e+01,\n",
       "         -4.68694444e+01,  7.76500000e+02],\n",
       "        [ 0.00000000e+00,  9.33000000e+02,  9.33000000e+02,\n",
       "          9.33000000e+02,  1.83980000e+03,  1.73000000e+01,\n",
       "          1.54000000e+01,  1.77000000e+01,  1.72000000e+01,\n",
       "          1.56000000e+01,  1.53000000e+01,  8.90000000e+01,\n",
       "          8.80000000e+01,  8.90000000e+01,  1.30000000e+02,\n",
       "          0.00000000e+00,  0.00000000e+00, -2.35238889e+01,\n",
       "         -4.68694444e+01,  7.76500000e+02],\n",
       "        [ 0.00000000e+00,  9.32700000e+02,  9.33000000e+02,\n",
       "          9.32700000e+02,  2.19430000e+03,  1.68000000e+01,\n",
       "          1.52000000e+01,  1.73000000e+01,  1.68000000e+01,\n",
       "          1.56000000e+01,  1.52000000e+01,  9.00000000e+01,\n",
       "          8.90000000e+01,  9.00000000e+01,  1.57000000e+02,\n",
       "          0.00000000e+00,  0.00000000e+00, -2.35238889e+01,\n",
       "         -4.68694444e+01,  7.76500000e+02],\n",
       "        [ 0.00000000e+00,  9.32300000e+02,  9.32700000e+02,\n",
       "          9.32300000e+02,  2.65070000e+03,  1.65000000e+01,\n",
       "          1.48000000e+01,  1.69000000e+01,  1.65000000e+01,\n",
       "          1.53000000e+01,  1.48000000e+01,  9.10000000e+01,\n",
       "          9.00000000e+01,  9.00000000e+01,  2.11000000e+02,\n",
       "          0.00000000e+00,  0.00000000e+00, -2.35238889e+01,\n",
       "         -4.68694444e+01,  7.76500000e+02],\n",
       "        [ 0.00000000e+00,  9.32200000e+02,  9.32300000e+02,\n",
       "          9.32100000e+02,  2.37980000e+03,  1.54000000e+01,\n",
       "          1.38000000e+01,  1.66000000e+01,  1.53000000e+01,\n",
       "          1.50000000e+01,  1.37000000e+01,  9.00000000e+01,\n",
       "          8.90000000e+01,  9.00000000e+01,  1.33000000e+02,\n",
       "          0.00000000e+00,  0.00000000e+00, -2.35238889e+01,\n",
       "         -4.68694444e+01,  7.76500000e+02],\n",
       "        [ 2.00000000e-01,  9.32000000e+02,  9.32200000e+02,\n",
       "          9.32000000e+02,  1.97650000e+03,  1.49000000e+01,\n",
       "          1.35000000e+01,  1.54000000e+01,  1.49000000e+01,\n",
       "          1.41000000e+01,  1.35000000e+01,  9.20000000e+01,\n",
       "          9.00000000e+01,  9.10000000e+01,  2.29000000e+02,\n",
       "          0.00000000e+00,  0.00000000e+00, -2.35238889e+01,\n",
       "         -4.68694444e+01,  7.76500000e+02],\n",
       "        [ 0.00000000e+00,  9.32200000e+02,  9.32200000e+02,\n",
       "          9.32000000e+02,  2.21130000e+03,  1.43000000e+01,\n",
       "          1.30000000e+01,  1.49000000e+01,  1.43000000e+01,\n",
       "          1.35000000e+01,  1.30000000e+01,  9.20000000e+01,\n",
       "          9.10000000e+01,  9.20000000e+01,  1.72000000e+02,\n",
       "          0.00000000e+00,  0.00000000e+00, -2.35238889e+01,\n",
       "         -4.68694444e+01,  7.76500000e+02],\n",
       "        [ 0.00000000e+00,  9.32900000e+02,  9.32900000e+02,\n",
       "          9.32200000e+02,  1.32060000e+03,  1.35000000e+01,\n",
       "          1.23000000e+01,  1.43000000e+01,  1.35000000e+01,\n",
       "          1.30000000e+01,  1.23000000e+01,  9.20000000e+01,\n",
       "          9.20000000e+01,  9.20000000e+01,  1.77000000e+02,\n",
       "          0.00000000e+00,  0.00000000e+00, -2.35238889e+01,\n",
       "         -4.68694444e+01,  7.76500000e+02],\n",
       "        [ 0.00000000e+00,  9.33500000e+02,  9.33500000e+02,\n",
       "          9.32900000e+02,  1.46650000e+03,  1.39000000e+01,\n",
       "          1.28000000e+01,  1.39000000e+01,  1.33000000e+01,\n",
       "          1.28000000e+01,  1.21000000e+01,  9.30000000e+01,\n",
       "          9.20000000e+01,  9.30000000e+01,  1.35000000e+02,\n",
       "          0.00000000e+00,  0.00000000e+00, -2.35238889e+01,\n",
       "         -4.68694444e+01,  7.76500000e+02],\n",
       "        [ 0.00000000e+00,  9.33700000e+02,  9.33800000e+02,\n",
       "          9.33500000e+02,  2.24730000e+03,  1.74000000e+01,\n",
       "          1.52000000e+01,  1.74000000e+01,  1.39000000e+01,\n",
       "          1.56000000e+01,  1.29000000e+01,  9.50000000e+01,\n",
       "          8.70000000e+01,  8.70000000e+01,  1.69000000e+02,\n",
       "          0.00000000e+00,  0.00000000e+00, -2.35238889e+01,\n",
       "         -4.68694444e+01,  7.76500000e+02],\n",
       "        [ 0.00000000e+00,  9.34100000e+02,  9.34100000e+02,\n",
       "          9.33700000e+02,  2.82000000e+02,  2.13000000e+01,\n",
       "          1.54000000e+01,  2.15000000e+01,  1.74000000e+01,\n",
       "          1.58000000e+01,  1.36000000e+01,  8.70000000e+01,\n",
       "          6.20000000e+01,  6.90000000e+01,  2.70000000e+02,\n",
       "          0.00000000e+00,  0.00000000e+00, -2.35238889e+01,\n",
       "         -4.68694444e+01,  7.76500000e+02],\n",
       "        [ 0.00000000e+00,  9.34400000e+02,  9.34400000e+02,\n",
       "          9.34100000e+02,  0.00000000e+00,  2.41000000e+01,\n",
       "          1.38000000e+01,  2.45000000e+01,  2.13000000e+01,\n",
       "          1.59000000e+01,  1.35000000e+01,  7.00000000e+01,\n",
       "          5.10000000e+01,  5.20000000e+01,  1.55000000e+02,\n",
       "          0.00000000e+00,  0.00000000e+00, -2.35238889e+01,\n",
       "         -4.68694444e+01,  7.76500000e+02],\n",
       "        [ 0.00000000e+00,  9.34100000e+02,  9.34500000e+02,\n",
       "          9.34100000e+02,  0.00000000e+00,  2.61000000e+01,\n",
       "          1.16000000e+01,  2.63000000e+01,  2.40000000e+01,\n",
       "          1.54000000e+01,  1.15000000e+01,  5.50000000e+01,\n",
       "          4.00000000e+01,  4.00000000e+01,  3.21000000e+02,\n",
       "          0.00000000e+00,  0.00000000e+00, -2.35238889e+01,\n",
       "         -4.68694444e+01,  7.76500000e+02],\n",
       "        [ 0.00000000e+00,  9.33400000e+02,  9.34100000e+02,\n",
       "          9.33400000e+02,  0.00000000e+00,  2.67000000e+01,\n",
       "          1.25000000e+01,  2.68000000e+01,  2.46000000e+01,\n",
       "          1.40000000e+01,  1.02000000e+01,  4.80000000e+01,\n",
       "          3.80000000e+01,  4.20000000e+01,  9.70000000e+01,\n",
       "          3.50000000e+00,  4.00000000e-01, -2.35238889e+01,\n",
       "         -4.68694444e+01,  7.76500000e+02],\n",
       "        [ 0.00000000e+00,  9.32900000e+02,  9.33400000e+02,\n",
       "          9.32900000e+02,  0.00000000e+00,  2.72000000e+01,\n",
       "          1.08000000e+01,  2.80000000e+01,  2.60000000e+01,\n",
       "          1.32000000e+01,  9.70000000e+00,  4.40000000e+01,\n",
       "          3.30000000e+01,  3.60000000e+01,  2.68000000e+02,\n",
       "          3.00000000e+00,  0.00000000e+00, -2.35238889e+01,\n",
       "         -4.68694444e+01,  7.76500000e+02],\n",
       "        [ 0.00000000e+00,  9.32100000e+02,  9.32900000e+02,\n",
       "          9.32100000e+02,  2.22500000e+01,  2.74000000e+01,\n",
       "          1.01000000e+01,  2.83000000e+01,  2.67000000e+01,\n",
       "          1.26000000e+01,  9.70000000e+00,  4.00000000e+01,\n",
       "          3.30000000e+01,  3.40000000e+01,  2.45000000e+02,\n",
       "          3.20000000e+00,  2.00000000e-01, -2.35238889e+01,\n",
       "         -4.68694444e+01,  7.76500000e+02],\n",
       "        [ 0.00000000e+00,  9.31500000e+02,  9.32100000e+02,\n",
       "          9.31500000e+02,  0.00000000e+00,  2.74000000e+01,\n",
       "          1.00000000e+01,  2.83000000e+01,  2.66000000e+01,\n",
       "          1.24000000e+01,  9.30000000e+00,  4.10000000e+01,\n",
       "          3.10000000e+01,  3.40000000e+01,  1.22000000e+02,\n",
       "          4.30000000e+00,  8.00000000e-01, -2.35238889e+01,\n",
       "         -4.68694444e+01,  7.76500000e+02]]),\n",
       " array([0, 0, 0, 0, 0, 0, 0, 0, 0, 0, 0, 0, 0, 0, 0, 0, 0, 0, 0, 0, 0, 0,\n",
       "        0, 0]))"
      ]
     },
     "execution_count": 11,
     "metadata": {},
     "output_type": "execute_result"
    }
   ],
   "source": [
    "X,y "
   ]
  },
  {
   "cell_type": "code",
   "execution_count": 12,
   "id": "1bdd2b86",
   "metadata": {},
   "outputs": [],
   "source": [
    "def get_X_y(df, n_sequences, length):\n",
    "    '''Return a list of samples (X, y)'''\n",
    "    X, y = [], []\n",
    "\n",
    "    for i in range(n_sequences):\n",
    "        (xi, yi) = split_subsample_sequence(df, length)\n",
    "        X.append(xi)\n",
    "        y.append(yi)\n",
    "        \n",
    "    X = np.array(X)\n",
    "    y = np.array(y)\n",
    "    return X, y"
   ]
  },
  {
   "cell_type": "code",
   "execution_count": 13,
   "id": "fe294076",
   "metadata": {},
   "outputs": [
    {
     "data": {
      "text/plain": [
       "7027.200000000001"
      ]
     },
     "execution_count": 13,
     "metadata": {},
     "output_type": "execute_result"
    }
   ],
   "source": [
    "df.shape[0]*0.8"
   ]
  },
  {
   "cell_type": "code",
   "execution_count": 14,
   "id": "e2f5dcbb",
   "metadata": {},
   "outputs": [],
   "source": [
    "train_size = int(df.shape[0]*0.8)\n",
    "df_train = df.iloc[:train_size,:]\n",
    "df_test = df.iloc[train_size:,:]"
   ]
  },
  {
   "cell_type": "code",
   "execution_count": 15,
   "id": "981ac0ec",
   "metadata": {},
   "outputs": [
    {
     "data": {
      "text/plain": [
       "classe_chuva\n",
       "0               6538\n",
       "1                449\n",
       "2                 33\n",
       "3                  7\n",
       "dtype: int64"
      ]
     },
     "execution_count": 15,
     "metadata": {},
     "output_type": "execute_result"
    }
   ],
   "source": [
    "df_train.value_counts(['classe_chuva'])"
   ]
  },
  {
   "cell_type": "code",
   "execution_count": 16,
   "id": "cdcb1345",
   "metadata": {},
   "outputs": [
    {
     "data": {
      "text/plain": [
       "(1757, 22)"
      ]
     },
     "execution_count": 16,
     "metadata": {},
     "output_type": "execute_result"
    }
   ],
   "source": [
    "df_test.shape"
   ]
  },
  {
   "cell_type": "code",
   "execution_count": 17,
   "id": "72d01955",
   "metadata": {},
   "outputs": [],
   "source": [
    "X_train,y_train = get_X_y(df_train,6000,72)"
   ]
  },
  {
   "cell_type": "code",
   "execution_count": 18,
   "id": "b37de02c",
   "metadata": {},
   "outputs": [],
   "source": [
    "X_test,y_test = get_X_y(df_test,6000,72)"
   ]
  },
  {
   "cell_type": "code",
   "execution_count": 19,
   "id": "2aefdf82",
   "metadata": {},
   "outputs": [
    {
     "data": {
      "text/plain": [
       "(6000, 24)"
      ]
     },
     "execution_count": 19,
     "metadata": {},
     "output_type": "execute_result"
    }
   ],
   "source": [
    "y_train.shape"
   ]
  },
  {
   "cell_type": "code",
   "execution_count": 20,
   "id": "871dbb27",
   "metadata": {},
   "outputs": [
    {
     "data": {
      "text/plain": [
       "(6000, 24, 4)"
      ]
     },
     "execution_count": 20,
     "metadata": {},
     "output_type": "execute_result"
    }
   ],
   "source": [
    "from sklearn.preprocessing import LabelEncoder\n",
    "from tensorflow.keras.utils import to_categorical\n",
    "\n",
    "# label = LabelEncoder()\n",
    "# y_enc = label.fit_transform(y.reshape((-1,)))\n",
    "y_cat = to_categorical(y_train)\n",
    "y_cat.shape"
   ]
  },
  {
   "cell_type": "code",
   "execution_count": 21,
   "id": "196a061b",
   "metadata": {},
   "outputs": [
    {
     "name": "stderr",
     "output_type": "stream",
     "text": [
      "2022-03-24 11:35:40.776944: W tensorflow/stream_executor/platform/default/dso_loader.cc:64] Could not load dynamic library 'libcuda.so.1'; dlerror: libcuda.so.1: cannot open shared object file: No such file or directory\n",
      "2022-03-24 11:35:40.777726: W tensorflow/stream_executor/cuda/cuda_driver.cc:269] failed call to cuInit: UNKNOWN ERROR (303)\n",
      "2022-03-24 11:35:40.777814: I tensorflow/stream_executor/cuda/cuda_diagnostics.cc:156] kernel driver does not appear to be running on this host (DESKTOP-9BMAD68): /proc/driver/nvidia/version does not exist\n",
      "2022-03-24 11:35:40.880903: I tensorflow/core/platform/cpu_feature_guard.cc:151] This TensorFlow binary is optimized with oneAPI Deep Neural Network Library (oneDNN) to use the following CPU instructions in performance-critical operations:  AVX2 FMA\n",
      "To enable them in other operations, rebuild TensorFlow with the appropriate compiler flags.\n"
     ]
    }
   ],
   "source": [
    "from tensorflow.keras.layers.experimental.preprocessing import Normalization\n",
    "\n",
    "norm = Normalization()\n",
    "norm.adapt(X_train)"
   ]
  },
  {
   "cell_type": "code",
   "execution_count": 22,
   "id": "427fc114",
   "metadata": {},
   "outputs": [
    {
     "name": "stdout",
     "output_type": "stream",
     "text": [
      "Model: \"sequential\"\n",
      "_________________________________________________________________\n",
      " Layer (type)                Output Shape              Param #   \n",
      "=================================================================\n",
      " normalization (Normalizatio  (None, None, 20)         41        \n",
      " n)                                                              \n",
      "                                                                 \n",
      " lstm (LSTM)                 (None, 20)                3280      \n",
      "                                                                 \n",
      " dense (Dense)               (None, 10)                210       \n",
      "                                                                 \n",
      " dense_1 (Dense)             (None, 24)                264       \n",
      "                                                                 \n",
      "=================================================================\n",
      "Total params: 3,795\n",
      "Trainable params: 3,754\n",
      "Non-trainable params: 41\n",
      "_________________________________________________________________\n"
     ]
    }
   ],
   "source": [
    "model = Sequential()\n",
    "\n",
    "model.add(norm)\n",
    "\n",
    "model.add(LSTM(units=20, activation='tanh'))\n",
    "model.add(Dense(10, activation=\"tanh\"))\n",
    "model.add(Dense(24, activation=\"sigmoid\"))\n",
    "\n",
    "model.compile(loss='binary_crossentropy',\n",
    "                  optimizer='rmsprop',\n",
    "                  metrics=['accuracy'])\n",
    "\n",
    "model.summary()"
   ]
  },
  {
   "cell_type": "code",
   "execution_count": null,
   "id": "e24322a7",
   "metadata": {},
   "outputs": [
    {
     "name": "stdout",
     "output_type": "stream",
     "text": [
      "Epoch 1/10\n",
      "150/150 [==============================] - 11s 46ms/step - loss: 0.4421 - accuracy: 0.0188 - val_loss: 0.2955 - val_accuracy: 0.0225\n",
      "Epoch 2/10\n",
      "150/150 [==============================] - 6s 39ms/step - loss: 0.2573 - accuracy: 0.0237 - val_loss: 0.2390 - val_accuracy: 0.0242\n",
      "Epoch 3/10\n",
      "150/150 [==============================] - 7s 49ms/step - loss: 0.2279 - accuracy: 0.0242 - val_loss: 0.2273 - val_accuracy: 0.0342\n",
      "Epoch 4/10\n",
      "150/150 [==============================] - 7s 49ms/step - loss: 0.2214 - accuracy: 0.0913 - val_loss: 0.2251 - val_accuracy: 0.0142\n",
      "Epoch 5/10\n",
      "150/150 [==============================] - 6s 37ms/step - loss: 0.2173 - accuracy: 0.0210 - val_loss: 0.2226 - val_accuracy: 0.0225\n",
      "Epoch 6/10\n",
      "150/150 [==============================] - 7s 50ms/step - loss: 0.2143 - accuracy: 0.0265 - val_loss: 0.2196 - val_accuracy: 0.0308\n",
      "Epoch 7/10\n",
      "150/150 [==============================] - 6s 43ms/step - loss: 0.2119 - accuracy: 0.0498 - val_loss: 0.2165 - val_accuracy: 0.0333\n",
      "Epoch 8/10\n",
      "150/150 [==============================] - 6s 42ms/step - loss: 0.2100 - accuracy: 0.0354 - val_loss: 0.2160 - val_accuracy: 0.0308\n",
      "Epoch 9/10\n",
      "150/150 [==============================] - 6s 40ms/step - loss: 0.2093 - accuracy: 0.0550 - val_loss: 0.2156 - val_accuracy: 0.0317\n",
      "Epoch 10/10\n",
      "150/150 [==============================] - 6s 39ms/step - loss: 0.2075 - accuracy: 0.0450 - val_loss: 0.2137 - val_accuracy: 0.0517\n"
     ]
    }
   ],
   "source": [
    "from tensorflow.keras.callbacks import EarlyStopping\n",
    "\n",
    "es = EarlyStopping(patience=3, restore_best_weights=True)\n",
    "\n",
    "model.fit(X_train, y_train, batch_size=32, epochs=10, verbose=1,\n",
    "         validation_split=0.2,\n",
    "          callbacks=[es])"
   ]
  },
  {
   "cell_type": "code",
   "execution_count": null,
   "id": "3f960324",
   "metadata": {},
   "outputs": [],
   "source": [
    "model.predict(X_test)"
   ]
  },
  {
   "cell_type": "code",
   "execution_count": null,
   "id": "0431164e",
   "metadata": {},
   "outputs": [],
   "source": [
    "# import pickle\n",
    "# with open('df0.pickle', 'rb') as f:\n",
    "#     df1 = pickle.load(f)"
   ]
  }
 ],
 "metadata": {
  "kernelspec": {
   "display_name": "Python 3 (ipykernel)",
   "language": "python",
   "name": "python3"
  },
  "language_info": {
   "codemirror_mode": {
    "name": "ipython",
    "version": 3
   },
   "file_extension": ".py",
   "mimetype": "text/x-python",
   "name": "python",
   "nbconvert_exporter": "python",
   "pygments_lexer": "ipython3",
   "version": "3.8.12"
  },
  "toc": {
   "base_numbering": 1,
   "nav_menu": {},
   "number_sections": true,
   "sideBar": true,
   "skip_h1_title": false,
   "title_cell": "Table of Contents",
   "title_sidebar": "Contents",
   "toc_cell": false,
   "toc_position": {},
   "toc_section_display": true,
   "toc_window_display": false
  }
 },
 "nbformat": 4,
 "nbformat_minor": 5
}
