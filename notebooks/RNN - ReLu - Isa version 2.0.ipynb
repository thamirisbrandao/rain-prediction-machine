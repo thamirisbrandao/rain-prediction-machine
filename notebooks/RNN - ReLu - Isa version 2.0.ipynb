{
 "cells": [
  {
   "cell_type": "code",
   "execution_count": 25,
   "id": "0a3d91d4",
   "metadata": {},
   "outputs": [
    {
     "name": "stdout",
     "output_type": "stream",
     "text": [
      "The autoreload extension is already loaded. To reload it, use:\n",
      "  %reload_ext autoreload\n",
      "CPU times: user 579 µs, sys: 394 µs, total: 973 µs\n",
      "Wall time: 645 µs\n"
     ]
    }
   ],
   "source": [
    "%%time\n",
    "%load_ext autoreload\n",
    "%autoreload 2\n",
    "from tensorflow.keras.models import Sequential\n",
    "from tensorflow.keras.layers import Dense, SimpleRNN, Flatten, LSTM, GRU\n",
    "import pandas as pd\n",
    "import numpy as np"
   ]
  },
  {
   "cell_type": "code",
   "execution_count": 27,
   "id": "9bd4293d",
   "metadata": {},
   "outputs": [
    {
     "data": {
      "text/html": [
       "<div>\n",
       "<style scoped>\n",
       "    .dataframe tbody tr th:only-of-type {\n",
       "        vertical-align: middle;\n",
       "    }\n",
       "\n",
       "    .dataframe tbody tr th {\n",
       "        vertical-align: top;\n",
       "    }\n",
       "\n",
       "    .dataframe thead th {\n",
       "        text-align: right;\n",
       "    }\n",
       "</style>\n",
       "<table border=\"1\" class=\"dataframe\">\n",
       "  <thead>\n",
       "    <tr style=\"text-align: right;\">\n",
       "      <th></th>\n",
       "      <th>Chuva</th>\n",
       "      <th>Pres</th>\n",
       "      <th>Pres_max</th>\n",
       "      <th>Pres_min</th>\n",
       "      <th>Radiacao</th>\n",
       "      <th>Temp</th>\n",
       "      <th>Temp_orvalho</th>\n",
       "      <th>Temp_max</th>\n",
       "      <th>Temp_min</th>\n",
       "      <th>Temp_orvalho_max</th>\n",
       "      <th>...</th>\n",
       "      <th>Umid_min</th>\n",
       "      <th>Umid</th>\n",
       "      <th>Dir_vento</th>\n",
       "      <th>Rajada_vento</th>\n",
       "      <th>Vel_vento</th>\n",
       "      <th>Latitude</th>\n",
       "      <th>Longitude</th>\n",
       "      <th>Altitude</th>\n",
       "      <th>datahora</th>\n",
       "      <th>classe_chuva</th>\n",
       "    </tr>\n",
       "  </thead>\n",
       "  <tbody>\n",
       "    <tr>\n",
       "      <th>0</th>\n",
       "      <td>0.0</td>\n",
       "      <td>923.5</td>\n",
       "      <td>923.5</td>\n",
       "      <td>922.4</td>\n",
       "      <td>0.0</td>\n",
       "      <td>21.8</td>\n",
       "      <td>18.9</td>\n",
       "      <td>22.8</td>\n",
       "      <td>21.7</td>\n",
       "      <td>19.3</td>\n",
       "      <td>...</td>\n",
       "      <td>79.0</td>\n",
       "      <td>84.0</td>\n",
       "      <td>164.0</td>\n",
       "      <td>2.6</td>\n",
       "      <td>0.7</td>\n",
       "      <td>-23.523889</td>\n",
       "      <td>-46.869444</td>\n",
       "      <td>776.5</td>\n",
       "      <td>2020-01-01 00:00:00+00:00</td>\n",
       "      <td>0</td>\n",
       "    </tr>\n",
       "    <tr>\n",
       "      <th>1</th>\n",
       "      <td>0.0</td>\n",
       "      <td>924.0</td>\n",
       "      <td>924.0</td>\n",
       "      <td>923.5</td>\n",
       "      <td>0.0</td>\n",
       "      <td>22.0</td>\n",
       "      <td>19.4</td>\n",
       "      <td>22.3</td>\n",
       "      <td>21.6</td>\n",
       "      <td>19.7</td>\n",
       "      <td>...</td>\n",
       "      <td>84.0</td>\n",
       "      <td>85.0</td>\n",
       "      <td>348.0</td>\n",
       "      <td>2.0</td>\n",
       "      <td>0.1</td>\n",
       "      <td>-23.523889</td>\n",
       "      <td>-46.869444</td>\n",
       "      <td>776.5</td>\n",
       "      <td>2020-01-01 01:00:00+00:00</td>\n",
       "      <td>0</td>\n",
       "    </tr>\n",
       "    <tr>\n",
       "      <th>2</th>\n",
       "      <td>0.0</td>\n",
       "      <td>924.0</td>\n",
       "      <td>924.1</td>\n",
       "      <td>924.0</td>\n",
       "      <td>0.0</td>\n",
       "      <td>22.1</td>\n",
       "      <td>18.6</td>\n",
       "      <td>22.9</td>\n",
       "      <td>22.0</td>\n",
       "      <td>19.9</td>\n",
       "      <td>...</td>\n",
       "      <td>79.0</td>\n",
       "      <td>81.0</td>\n",
       "      <td>20.0</td>\n",
       "      <td>2.2</td>\n",
       "      <td>0.3</td>\n",
       "      <td>-23.523889</td>\n",
       "      <td>-46.869444</td>\n",
       "      <td>776.5</td>\n",
       "      <td>2020-01-01 02:00:00+00:00</td>\n",
       "      <td>0</td>\n",
       "    </tr>\n",
       "    <tr>\n",
       "      <th>3</th>\n",
       "      <td>0.0</td>\n",
       "      <td>923.5</td>\n",
       "      <td>924.1</td>\n",
       "      <td>923.5</td>\n",
       "      <td>0.0</td>\n",
       "      <td>21.4</td>\n",
       "      <td>18.3</td>\n",
       "      <td>22.3</td>\n",
       "      <td>21.4</td>\n",
       "      <td>19.1</td>\n",
       "      <td>...</td>\n",
       "      <td>80.0</td>\n",
       "      <td>82.0</td>\n",
       "      <td>325.0</td>\n",
       "      <td>1.7</td>\n",
       "      <td>0.0</td>\n",
       "      <td>-23.523889</td>\n",
       "      <td>-46.869444</td>\n",
       "      <td>776.5</td>\n",
       "      <td>2020-01-01 03:00:00+00:00</td>\n",
       "      <td>0</td>\n",
       "    </tr>\n",
       "    <tr>\n",
       "      <th>4</th>\n",
       "      <td>0.0</td>\n",
       "      <td>922.9</td>\n",
       "      <td>923.5</td>\n",
       "      <td>922.9</td>\n",
       "      <td>0.0</td>\n",
       "      <td>21.4</td>\n",
       "      <td>18.9</td>\n",
       "      <td>21.6</td>\n",
       "      <td>21.1</td>\n",
       "      <td>18.9</td>\n",
       "      <td>...</td>\n",
       "      <td>82.0</td>\n",
       "      <td>86.0</td>\n",
       "      <td>245.0</td>\n",
       "      <td>1.7</td>\n",
       "      <td>1.0</td>\n",
       "      <td>-23.523889</td>\n",
       "      <td>-46.869444</td>\n",
       "      <td>776.5</td>\n",
       "      <td>2020-01-01 04:00:00+00:00</td>\n",
       "      <td>0</td>\n",
       "    </tr>\n",
       "    <tr>\n",
       "      <th>...</th>\n",
       "      <td>...</td>\n",
       "      <td>...</td>\n",
       "      <td>...</td>\n",
       "      <td>...</td>\n",
       "      <td>...</td>\n",
       "      <td>...</td>\n",
       "      <td>...</td>\n",
       "      <td>...</td>\n",
       "      <td>...</td>\n",
       "      <td>...</td>\n",
       "      <td>...</td>\n",
       "      <td>...</td>\n",
       "      <td>...</td>\n",
       "      <td>...</td>\n",
       "      <td>...</td>\n",
       "      <td>...</td>\n",
       "      <td>...</td>\n",
       "      <td>...</td>\n",
       "      <td>...</td>\n",
       "      <td>...</td>\n",
       "      <td>...</td>\n",
       "    </tr>\n",
       "    <tr>\n",
       "      <th>8779</th>\n",
       "      <td>0.0</td>\n",
       "      <td>924.9</td>\n",
       "      <td>925.1</td>\n",
       "      <td>924.8</td>\n",
       "      <td>0.0</td>\n",
       "      <td>22.8</td>\n",
       "      <td>18.9</td>\n",
       "      <td>23.4</td>\n",
       "      <td>22.8</td>\n",
       "      <td>19.0</td>\n",
       "      <td>...</td>\n",
       "      <td>72.0</td>\n",
       "      <td>78.0</td>\n",
       "      <td>280.0</td>\n",
       "      <td>0.0</td>\n",
       "      <td>0.0</td>\n",
       "      <td>-23.523889</td>\n",
       "      <td>-46.869444</td>\n",
       "      <td>776.5</td>\n",
       "      <td>2020-12-31 19:00:00+00:00</td>\n",
       "      <td>0</td>\n",
       "    </tr>\n",
       "    <tr>\n",
       "      <th>8780</th>\n",
       "      <td>0.0</td>\n",
       "      <td>925.8</td>\n",
       "      <td>925.8</td>\n",
       "      <td>924.9</td>\n",
       "      <td>0.0</td>\n",
       "      <td>21.4</td>\n",
       "      <td>18.6</td>\n",
       "      <td>22.8</td>\n",
       "      <td>21.4</td>\n",
       "      <td>18.9</td>\n",
       "      <td>...</td>\n",
       "      <td>77.0</td>\n",
       "      <td>84.0</td>\n",
       "      <td>211.0</td>\n",
       "      <td>0.0</td>\n",
       "      <td>0.0</td>\n",
       "      <td>-23.523889</td>\n",
       "      <td>-46.869444</td>\n",
       "      <td>776.5</td>\n",
       "      <td>2020-12-31 20:00:00+00:00</td>\n",
       "      <td>0</td>\n",
       "    </tr>\n",
       "    <tr>\n",
       "      <th>8781</th>\n",
       "      <td>0.0</td>\n",
       "      <td>926.7</td>\n",
       "      <td>926.7</td>\n",
       "      <td>925.8</td>\n",
       "      <td>0.0</td>\n",
       "      <td>21.3</td>\n",
       "      <td>19.4</td>\n",
       "      <td>21.4</td>\n",
       "      <td>21.3</td>\n",
       "      <td>19.4</td>\n",
       "      <td>...</td>\n",
       "      <td>84.0</td>\n",
       "      <td>89.0</td>\n",
       "      <td>207.0</td>\n",
       "      <td>0.0</td>\n",
       "      <td>0.0</td>\n",
       "      <td>-23.523889</td>\n",
       "      <td>-46.869444</td>\n",
       "      <td>776.5</td>\n",
       "      <td>2020-12-31 21:00:00+00:00</td>\n",
       "      <td>0</td>\n",
       "    </tr>\n",
       "    <tr>\n",
       "      <th>8782</th>\n",
       "      <td>0.0</td>\n",
       "      <td>926.9</td>\n",
       "      <td>927.1</td>\n",
       "      <td>926.7</td>\n",
       "      <td>214.4</td>\n",
       "      <td>20.1</td>\n",
       "      <td>18.8</td>\n",
       "      <td>21.3</td>\n",
       "      <td>20.1</td>\n",
       "      <td>19.7</td>\n",
       "      <td>...</td>\n",
       "      <td>89.0</td>\n",
       "      <td>92.0</td>\n",
       "      <td>211.0</td>\n",
       "      <td>0.0</td>\n",
       "      <td>0.0</td>\n",
       "      <td>-23.523889</td>\n",
       "      <td>-46.869444</td>\n",
       "      <td>776.5</td>\n",
       "      <td>2020-12-31 22:00:00+00:00</td>\n",
       "      <td>0</td>\n",
       "    </tr>\n",
       "    <tr>\n",
       "      <th>8783</th>\n",
       "      <td>0.0</td>\n",
       "      <td>926.7</td>\n",
       "      <td>926.9</td>\n",
       "      <td>926.6</td>\n",
       "      <td>0.0</td>\n",
       "      <td>20.1</td>\n",
       "      <td>18.8</td>\n",
       "      <td>20.1</td>\n",
       "      <td>19.8</td>\n",
       "      <td>18.8</td>\n",
       "      <td>...</td>\n",
       "      <td>92.0</td>\n",
       "      <td>92.0</td>\n",
       "      <td>274.0</td>\n",
       "      <td>0.0</td>\n",
       "      <td>0.0</td>\n",
       "      <td>-23.523889</td>\n",
       "      <td>-46.869444</td>\n",
       "      <td>776.5</td>\n",
       "      <td>2020-12-31 23:00:00+00:00</td>\n",
       "      <td>0</td>\n",
       "    </tr>\n",
       "  </tbody>\n",
       "</table>\n",
       "<p>8784 rows × 22 columns</p>\n",
       "</div>"
      ],
      "text/plain": [
       "      Chuva   Pres  Pres_max  Pres_min  Radiacao  Temp  Temp_orvalho  \\\n",
       "0       0.0  923.5     923.5     922.4       0.0  21.8          18.9   \n",
       "1       0.0  924.0     924.0     923.5       0.0  22.0          19.4   \n",
       "2       0.0  924.0     924.1     924.0       0.0  22.1          18.6   \n",
       "3       0.0  923.5     924.1     923.5       0.0  21.4          18.3   \n",
       "4       0.0  922.9     923.5     922.9       0.0  21.4          18.9   \n",
       "...     ...    ...       ...       ...       ...   ...           ...   \n",
       "8779    0.0  924.9     925.1     924.8       0.0  22.8          18.9   \n",
       "8780    0.0  925.8     925.8     924.9       0.0  21.4          18.6   \n",
       "8781    0.0  926.7     926.7     925.8       0.0  21.3          19.4   \n",
       "8782    0.0  926.9     927.1     926.7     214.4  20.1          18.8   \n",
       "8783    0.0  926.7     926.9     926.6       0.0  20.1          18.8   \n",
       "\n",
       "      Temp_max  Temp_min  Temp_orvalho_max  ...  Umid_min  Umid  Dir_vento  \\\n",
       "0         22.8      21.7              19.3  ...      79.0  84.0      164.0   \n",
       "1         22.3      21.6              19.7  ...      84.0  85.0      348.0   \n",
       "2         22.9      22.0              19.9  ...      79.0  81.0       20.0   \n",
       "3         22.3      21.4              19.1  ...      80.0  82.0      325.0   \n",
       "4         21.6      21.1              18.9  ...      82.0  86.0      245.0   \n",
       "...        ...       ...               ...  ...       ...   ...        ...   \n",
       "8779      23.4      22.8              19.0  ...      72.0  78.0      280.0   \n",
       "8780      22.8      21.4              18.9  ...      77.0  84.0      211.0   \n",
       "8781      21.4      21.3              19.4  ...      84.0  89.0      207.0   \n",
       "8782      21.3      20.1              19.7  ...      89.0  92.0      211.0   \n",
       "8783      20.1      19.8              18.8  ...      92.0  92.0      274.0   \n",
       "\n",
       "      Rajada_vento  Vel_vento   Latitude  Longitude  Altitude  \\\n",
       "0              2.6        0.7 -23.523889 -46.869444     776.5   \n",
       "1              2.0        0.1 -23.523889 -46.869444     776.5   \n",
       "2              2.2        0.3 -23.523889 -46.869444     776.5   \n",
       "3              1.7        0.0 -23.523889 -46.869444     776.5   \n",
       "4              1.7        1.0 -23.523889 -46.869444     776.5   \n",
       "...            ...        ...        ...        ...       ...   \n",
       "8779           0.0        0.0 -23.523889 -46.869444     776.5   \n",
       "8780           0.0        0.0 -23.523889 -46.869444     776.5   \n",
       "8781           0.0        0.0 -23.523889 -46.869444     776.5   \n",
       "8782           0.0        0.0 -23.523889 -46.869444     776.5   \n",
       "8783           0.0        0.0 -23.523889 -46.869444     776.5   \n",
       "\n",
       "                      datahora  classe_chuva  \n",
       "0    2020-01-01 00:00:00+00:00             0  \n",
       "1    2020-01-01 01:00:00+00:00             0  \n",
       "2    2020-01-01 02:00:00+00:00             0  \n",
       "3    2020-01-01 03:00:00+00:00             0  \n",
       "4    2020-01-01 04:00:00+00:00             0  \n",
       "...                        ...           ...  \n",
       "8779 2020-12-31 19:00:00+00:00             0  \n",
       "8780 2020-12-31 20:00:00+00:00             0  \n",
       "8781 2020-12-31 21:00:00+00:00             0  \n",
       "8782 2020-12-31 22:00:00+00:00             0  \n",
       "8783 2020-12-31 23:00:00+00:00             0  \n",
       "\n",
       "[8784 rows x 22 columns]"
      ]
     },
     "execution_count": 27,
     "metadata": {},
     "output_type": "execute_result"
    }
   ],
   "source": [
    "from RainPredictionMachine.data import CleanDataRpm\n",
    "cleaner = CleanDataRpm()\n",
    "df = cleaner.clean_data(1)\n",
    "df"
   ]
  },
  {
   "cell_type": "code",
   "execution_count": 3,
   "id": "dcb1d083",
   "metadata": {},
   "outputs": [],
   "source": [
    "def subsample_sequence(df, length):\n",
    "    '''returns a random sample sequence from inside a dataframe'''\n",
    "    index = np.random.randint(0, df.shape[0] - length)\n",
    "    df_sample = df.iloc[index:index+length]\n",
    "    \n",
    "    return df_sample"
   ]
  },
  {
   "cell_type": "code",
   "execution_count": 4,
   "id": "df1417d6",
   "metadata": {},
   "outputs": [],
   "source": [
    "def split_subsample_sequence(df, length):\n",
    "    '''Create one single random (X,y) pair'''\n",
    "    \n",
    "    df_subsample = subsample_sequence(df, length)\n",
    "    y_sample = df_subsample['Chuva'].iloc[length - 24:]\n",
    "    \n",
    "    X_sample = df_subsample.drop(columns= ['classe_chuva', 'datahora'])[0:length -24]\n",
    "    X_sample = X_sample.values\n",
    "   \n",
    "    return np.array(X_sample), np.array(y_sample)"
   ]
  },
  {
   "cell_type": "code",
   "execution_count": 5,
   "id": "b7a833d2",
   "metadata": {},
   "outputs": [],
   "source": [
    "def get_X_y(df, n_sequences, length):\n",
    "    '''Return a list of samples (X, y)'''\n",
    "    X, y = [], []\n",
    "\n",
    "    for i in range(n_sequences):\n",
    "        (xi, yi) = split_subsample_sequence(df, length)\n",
    "        X.append(xi)\n",
    "        y.append(yi)\n",
    "        \n",
    "    X = np.array(X)\n",
    "    y = np.array(y)\n",
    "    return X, y"
   ]
  },
  {
   "cell_type": "code",
   "execution_count": 6,
   "id": "26e87e2a",
   "metadata": {},
   "outputs": [],
   "source": [
    "train_size = int(df.shape[0]*0.8)\n",
    "df_train = df.iloc[:train_size,:]\n",
    "df_test = df.iloc[train_size:,:]"
   ]
  },
  {
   "cell_type": "code",
   "execution_count": 7,
   "id": "665e2df9",
   "metadata": {},
   "outputs": [],
   "source": [
    "X_train,y_train = get_X_y(df_train,200,72)"
   ]
  },
  {
   "cell_type": "code",
   "execution_count": 8,
   "id": "99db4dd9",
   "metadata": {},
   "outputs": [],
   "source": [
    "X_test,y_test = get_X_y(df_test,200,72)"
   ]
  },
  {
   "cell_type": "code",
   "execution_count": 9,
   "id": "f4777b38",
   "metadata": {},
   "outputs": [
    {
     "name": "stderr",
     "output_type": "stream",
     "text": [
      "2022-03-24 15:18:27.064469: I tensorflow/core/platform/cpu_feature_guard.cc:151] This TensorFlow binary is optimized with oneAPI Deep Neural Network Library (oneDNN) to use the following CPU instructions in performance-critical operations:  SSE4.2\n",
      "To enable them in other operations, rebuild TensorFlow with the appropriate compiler flags.\n"
     ]
    }
   ],
   "source": [
    "from tensorflow.keras.layers.experimental.preprocessing import Normalization\n",
    "\n",
    "norm = Normalization()\n",
    "norm.adapt(X_train)"
   ]
  },
  {
   "cell_type": "markdown",
   "id": "e706ff69",
   "metadata": {},
   "source": [
    "## Arquitetura da rede"
   ]
  },
  {
   "cell_type": "code",
   "execution_count": 10,
   "id": "50730b86",
   "metadata": {},
   "outputs": [
    {
     "name": "stdout",
     "output_type": "stream",
     "text": [
      "Model: \"sequential\"\n",
      "_________________________________________________________________\n",
      " Layer (type)                Output Shape              Param #   \n",
      "=================================================================\n",
      " normalization (Normalizatio  (None, None, 20)         41        \n",
      " n)                                                              \n",
      "                                                                 \n",
      " lstm (LSTM)                 (None, 100)               48400     \n",
      "                                                                 \n",
      " dense (Dense)               (None, 80)                8080      \n",
      "                                                                 \n",
      " dense_1 (Dense)             (None, 50)                4050      \n",
      "                                                                 \n",
      " dense_2 (Dense)             (None, 24)                1224      \n",
      "                                                                 \n",
      "=================================================================\n",
      "Total params: 61,795\n",
      "Trainable params: 61,754\n",
      "Non-trainable params: 41\n",
      "_________________________________________________________________\n"
     ]
    }
   ],
   "source": [
    "model1 = Sequential()\n",
    "\n",
    "model1.add(norm)\n",
    "\n",
    "model1.add(LSTM(units=100, activation='tanh',return_sequences=False))\n",
    "model1.add(Dense(80, activation=\"tanh\"))\n",
    "model1.add(Dense(50, activation=\"tanh\"))\n",
    "model1.add(Dense(24, activation=\"relu\"))\n",
    "\n",
    "model1.compile(loss='mape',\n",
    "                  optimizer='rmsprop',\n",
    "                  metrics=['mae','mse','mape'])\n",
    "\n",
    "model1.summary()"
   ]
  },
  {
   "cell_type": "code",
   "execution_count": 11,
   "id": "83c83aef",
   "metadata": {},
   "outputs": [
    {
     "name": "stdout",
     "output_type": "stream",
     "text": [
      "Model: \"sequential_1\"\n",
      "_________________________________________________________________\n",
      " Layer (type)                Output Shape              Param #   \n",
      "=================================================================\n",
      " normalization (Normalizatio  (None, None, 20)         41        \n",
      " n)                                                              \n",
      "                                                                 \n",
      " lstm_1 (LSTM)               (None, None, 100)         48400     \n",
      "                                                                 \n",
      " lstm_2 (LSTM)               (None, 50)                30200     \n",
      "                                                                 \n",
      " dense_3 (Dense)             (None, 30)                1530      \n",
      "                                                                 \n",
      " dense_4 (Dense)             (None, 24)                744       \n",
      "                                                                 \n",
      "=================================================================\n",
      "Total params: 80,915\n",
      "Trainable params: 80,874\n",
      "Non-trainable params: 41\n",
      "_________________________________________________________________\n"
     ]
    }
   ],
   "source": [
    "model2 = Sequential()\n",
    "\n",
    "model2.add(norm)\n",
    "\n",
    "model2.add(LSTM(units=100, activation='tanh',return_sequences=True))\n",
    "model2.add(LSTM(units=50, activation='tanh',return_sequences=False))\n",
    "model2.add(Dense(30, activation=\"tanh\"))\n",
    "model2.add(Dense(24, activation=\"relu\"))\n",
    "\n",
    "model2.compile(loss='mape',\n",
    "                  optimizer='rmsprop',\n",
    "                  metrics=['mae','mse','mape'])\n",
    "\n",
    "model2.summary()"
   ]
  },
  {
   "cell_type": "markdown",
   "id": "7fd995e1",
   "metadata": {},
   "source": [
    "## Ajuste"
   ]
  },
  {
   "cell_type": "code",
   "execution_count": 12,
   "id": "1d22b2ab",
   "metadata": {},
   "outputs": [],
   "source": [
    "from tensorflow.keras.callbacks import EarlyStopping\n",
    "\n",
    "es = EarlyStopping(patience=3, restore_best_weights=True)"
   ]
  },
  {
   "cell_type": "code",
   "execution_count": 13,
   "id": "31b3a9d3",
   "metadata": {},
   "outputs": [
    {
     "name": "stdout",
     "output_type": "stream",
     "text": [
      "Epoch 1/10\n",
      "5/5 [==============================] - 2s 105ms/step - loss: 21794372.0000 - mae: 0.1487 - mse: 1.0620 - mape: 21794372.0000 - val_loss: 1415382.5000 - val_mae: 0.1230 - val_mse: 1.1106 - val_mape: 1415382.5000\n",
      "Epoch 2/10\n",
      "5/5 [==============================] - 0s 25ms/step - loss: 102042.6641 - mae: 0.1287 - mse: 1.0646 - mape: 102042.6641 - val_loss: 800492.3750 - val_mae: 0.1224 - val_mse: 1.1105 - val_mape: 800492.3750\n",
      "Epoch 3/10\n",
      "5/5 [==============================] - 0s 24ms/step - loss: 8552.9805 - mae: 0.1286 - mse: 1.0646 - mape: 8552.9805 - val_loss: 865959.0000 - val_mae: 0.1224 - val_mse: 1.1105 - val_mape: 865959.0000\n",
      "Epoch 4/10\n",
      "5/5 [==============================] - 0s 24ms/step - loss: 6.8227 - mae: 0.1286 - mse: 1.0646 - mape: 6.8227 - val_loss: 865959.1875 - val_mae: 0.1224 - val_mse: 1.1105 - val_mape: 865959.1875\n",
      "Epoch 5/10\n",
      "5/5 [==============================] - 0s 25ms/step - loss: 6.8227 - mae: 0.1286 - mse: 1.0646 - mape: 6.8227 - val_loss: 865959.0000 - val_mae: 0.1224 - val_mse: 1.1105 - val_mape: 865959.0000\n",
      "CPU times: user 2.59 s, sys: 219 ms, total: 2.81 s\n",
      "Wall time: 2.17 s\n"
     ]
    },
    {
     "data": {
      "text/plain": [
       "<keras.callbacks.History at 0x1a5750820>"
      ]
     },
     "execution_count": 13,
     "metadata": {},
     "output_type": "execute_result"
    }
   ],
   "source": [
    "%%time\n",
    "model1.fit(X_train, y_train, batch_size=32, epochs=10, verbose=1,\n",
    "         validation_split=0.2,\n",
    "          callbacks=[es])"
   ]
  },
  {
   "cell_type": "code",
   "execution_count": 14,
   "id": "675bfc5a",
   "metadata": {},
   "outputs": [
    {
     "name": "stdout",
     "output_type": "stream",
     "text": [
      "Epoch 1/10\n",
      "5/5 [==============================] - 2s 160ms/step - loss: 33973068.0000 - mae: 0.1604 - mse: 1.0628 - mape: 33973068.0000 - val_loss: 3773502.0000 - val_mae: 0.1251 - val_mse: 1.1101 - val_mape: 3773502.0000\n",
      "Epoch 2/10\n",
      "5/5 [==============================] - 0s 34ms/step - loss: 1743091.6250 - mae: 0.1302 - mse: 1.0639 - mape: 1743091.6250 - val_loss: 788929.0000 - val_mae: 0.1224 - val_mse: 1.1105 - val_mape: 788929.0000\n",
      "Epoch 3/10\n",
      "5/5 [==============================] - 0s 35ms/step - loss: 113781.3906 - mae: 0.1287 - mse: 1.0646 - mape: 113781.3906 - val_loss: 210923.6562 - val_mae: 0.1219 - val_mse: 1.1105 - val_mape: 210923.6562\n",
      "Epoch 4/10\n",
      "5/5 [==============================] - 0s 35ms/step - loss: 10668.0674 - mae: 0.1286 - mse: 1.0646 - mape: 10668.0674 - val_loss: 254742.7969 - val_mae: 0.1219 - val_mse: 1.1105 - val_mape: 254742.7969\n",
      "Epoch 5/10\n",
      "5/5 [==============================] - 0s 35ms/step - loss: 2982.9487 - mae: 0.1286 - mse: 1.0646 - mape: 2982.9487 - val_loss: 202580.9219 - val_mae: 0.1219 - val_mse: 1.1105 - val_mape: 202580.9219\n",
      "Epoch 6/10\n",
      "5/5 [==============================] - 0s 34ms/step - loss: 617.4999 - mae: 0.1286 - mse: 1.0646 - mape: 617.4999 - val_loss: 208799.5938 - val_mae: 0.1219 - val_mse: 1.1105 - val_mape: 208799.5938\n",
      "Epoch 7/10\n",
      "5/5 [==============================] - 0s 35ms/step - loss: 3404.9526 - mae: 0.1286 - mse: 1.0646 - mape: 3404.9526 - val_loss: 177829.0469 - val_mae: 0.1218 - val_mse: 1.1105 - val_mape: 177829.0469\n",
      "Epoch 8/10\n",
      "5/5 [==============================] - 0s 34ms/step - loss: 4029.1890 - mae: 0.1286 - mse: 1.0646 - mape: 4029.1890 - val_loss: 23454.7910 - val_mae: 0.1217 - val_mse: 1.1105 - val_mape: 23454.7910\n",
      "Epoch 9/10\n",
      "5/5 [==============================] - 0s 35ms/step - loss: 13511.1660 - mae: 0.1286 - mse: 1.0646 - mape: 13511.1660 - val_loss: 307783.7500 - val_mae: 0.1220 - val_mse: 1.1103 - val_mape: 307783.7500\n",
      "Epoch 10/10\n",
      "5/5 [==============================] - 0s 33ms/step - loss: 706465.6875 - mae: 0.1293 - mse: 1.0644 - mape: 706465.6875 - val_loss: 6.8750 - val_mae: 0.1217 - val_mse: 1.1105 - val_mape: 6.8750\n",
      "CPU times: user 5.81 s, sys: 508 ms, total: 6.32 s\n",
      "Wall time: 3.94 s\n"
     ]
    },
    {
     "data": {
      "text/plain": [
       "<keras.callbacks.History at 0x1a5c00f40>"
      ]
     },
     "execution_count": 14,
     "metadata": {},
     "output_type": "execute_result"
    }
   ],
   "source": [
    "%%time\n",
    "model2.fit(X_train, y_train, batch_size=32, epochs=10, verbose=1,\n",
    "         validation_split=0.2,\n",
    "          callbacks=[es])"
   ]
  },
  {
   "cell_type": "markdown",
   "id": "93eee68b",
   "metadata": {},
   "source": [
    "## Avaliacao"
   ]
  },
  {
   "cell_type": "code",
   "execution_count": 15,
   "id": "1ce83388",
   "metadata": {},
   "outputs": [],
   "source": [
    "y_pred1 = model1.predict(X_test)\n",
    "y_pred2 = model2.predict(X_test)"
   ]
  },
  {
   "cell_type": "code",
   "execution_count": 16,
   "id": "dd0f8060",
   "metadata": {},
   "outputs": [
    {
     "name": "stdout",
     "output_type": "stream",
     "text": [
      "7/7 [==============================] - 0s 7ms/step - loss: 521664.1562 - mae: 0.0945 - mse: 0.3073 - mape: 521664.1562\n",
      "7/7 [==============================] - 0s 10ms/step - loss: 39291.0039 - mae: 0.0942 - mse: 0.3072 - mape: 39291.0039\n"
     ]
    },
    {
     "data": {
      "text/plain": [
       "[39291.00390625, 0.09421201050281525, 0.30723854899406433, 39291.00390625]"
      ]
     },
     "execution_count": 16,
     "metadata": {},
     "output_type": "execute_result"
    }
   ],
   "source": [
    "model1.evaluate(X_test,y_test)\n",
    "model2.evaluate(X_test,y_test)"
   ]
  },
  {
   "cell_type": "code",
   "execution_count": 17,
   "id": "c88d450f",
   "metadata": {},
   "outputs": [],
   "source": [
    "df_y_test = pd.DataFrame(y_test).T #cada coluna sera o indice para os dias do futuro -XX dias"
   ]
  },
  {
   "cell_type": "code",
   "execution_count": 18,
   "id": "8cff8754",
   "metadata": {},
   "outputs": [],
   "source": [
    "df_y_pred1 = pd.DataFrame(y_pred1).T\n",
    "df_y_pred2 = pd.DataFrame(y_pred2).T"
   ]
  },
  {
   "cell_type": "code",
   "execution_count": 19,
   "id": "cafbd770",
   "metadata": {},
   "outputs": [],
   "source": [
    "def classe_chuva(precipitacao):\n",
    "    mm=precipitacao\n",
    "    if np.isnan(mm):\n",
    "        chuva = \"NaN\"\n",
    "    if mm == 0:\n",
    "        chuva = 0 #'nao chove'\n",
    "    elif mm >0 and mm <=5.0:\n",
    "        chuva = 1 #'fraca'\n",
    "    elif mm >5.0 and mm<=25.0:\n",
    "        chuva = 2 #'moderada'\n",
    "    else:\n",
    "        chuva = 3 #'forte'\n",
    "    return chuva"
   ]
  },
  {
   "cell_type": "code",
   "execution_count": 20,
   "id": "78eb2959",
   "metadata": {},
   "outputs": [],
   "source": [
    "df_y_test_categorical = df_y_test.applymap(classe_chuva)"
   ]
  },
  {
   "cell_type": "code",
   "execution_count": 21,
   "id": "351668b1",
   "metadata": {},
   "outputs": [],
   "source": [
    "df_y_pred_categorical1 = df_y_pred1.applymap(classe_chuva)\n",
    "df_y_pred_categorical2 = df_y_pred2.applymap(classe_chuva)"
   ]
  },
  {
   "cell_type": "code",
   "execution_count": 22,
   "id": "41cb0f2e",
   "metadata": {},
   "outputs": [
    {
     "data": {
      "text/plain": [
       "0      24\n",
       "1      23\n",
       "2      10\n",
       "3      11\n",
       "4      12\n",
       "       ..\n",
       "195    11\n",
       "196    21\n",
       "197    11\n",
       "198    11\n",
       "199    24\n",
       "Length: 200, dtype: int64"
      ]
     },
     "execution_count": 22,
     "metadata": {},
     "output_type": "execute_result"
    }
   ],
   "source": [
    "(df_y_test_categorical == df_y_pred_categorical1).sum() # o quanto acertamos por dia"
   ]
  },
  {
   "cell_type": "code",
   "execution_count": 23,
   "id": "cdb4e0dc",
   "metadata": {},
   "outputs": [],
   "source": [
    "m1acc = (df_y_test_categorical == df_y_pred_categorical1).sum().sum()/(6000*24)\n",
    "m2acc = (df_y_test_categorical == df_y_pred_categorical2).sum().sum()/(6000*24)"
   ]
  },
  {
   "cell_type": "markdown",
   "id": "1837f2a0",
   "metadata": {},
   "source": [
    "## Resultado final"
   ]
  },
  {
   "cell_type": "code",
   "execution_count": 24,
   "id": "a735e665",
   "metadata": {},
   "outputs": [
    {
     "name": "stdout",
     "output_type": "stream",
     "text": [
      "model 1 accuracy: 0.02254861111111111\n",
      "model 2 accuracy: 0.022784722222222224\n"
     ]
    }
   ],
   "source": [
    "print(f'model 1 accuracy: {m1acc}')\n",
    "print(f'model 2 accuracy: {m2acc}')"
   ]
  }
 ],
 "metadata": {
  "kernelspec": {
   "display_name": "Python 3 (ipykernel)",
   "language": "python",
   "name": "python3"
  },
  "language_info": {
   "codemirror_mode": {
    "name": "ipython",
    "version": 3
   },
   "file_extension": ".py",
   "mimetype": "text/x-python",
   "name": "python",
   "nbconvert_exporter": "python",
   "pygments_lexer": "ipython3",
   "version": "3.8.12"
  },
  "toc": {
   "base_numbering": 1,
   "nav_menu": {},
   "number_sections": true,
   "sideBar": true,
   "skip_h1_title": false,
   "title_cell": "Table of Contents",
   "title_sidebar": "Contents",
   "toc_cell": false,
   "toc_position": {},
   "toc_section_display": true,
   "toc_window_display": false
  }
 },
 "nbformat": 4,
 "nbformat_minor": 5
}
