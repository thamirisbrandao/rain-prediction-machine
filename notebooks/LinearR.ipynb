{
 "cells": [
  {
   "cell_type": "code",
   "execution_count": 1,
   "id": "df6c9d8e",
   "metadata": {},
   "outputs": [],
   "source": [
    "%load_ext autoreload\n",
    "%autoreload 2\n",
    "from tensorflow.keras.models import Sequential\n",
    "from tensorflow.keras.layers import Dense, SimpleRNN, Flatten, LSTM\n",
    "import pandas as pd\n",
    "import numpy as np"
   ]
  },
  {
   "cell_type": "code",
   "execution_count": 2,
   "id": "d1a004ac",
   "metadata": {},
   "outputs": [],
   "source": [
    "from RainPredictionMachine.data import CleanDataRpm\n",
    "cleaner = CleanDataRpm()\n",
    "df = cleaner.clean_data(1)"
   ]
  },
  {
   "cell_type": "code",
   "execution_count": 3,
   "id": "75017ffd",
   "metadata": {},
   "outputs": [
    {
     "data": {
      "text/plain": [
       "{'Chuva': {0: 0.0, 1: 0.0},\n",
       " 'Pres': {0: 957.9, 1: 958.0},\n",
       " 'Pres_max': {0: 957.9, 1: 958.3},\n",
       " 'Pres_min': {0: 957.1, 1: 957.9},\n",
       " 'Radiacao': {0: 0.0, 1: 0.0},\n",
       " 'Temp': {0: 21.7, 1: 21.4},\n",
       " 'Temp_orvalho': {0: 21.7, 1: 21.4},\n",
       " 'Temp_max': {0: 23.7, 1: 21.7},\n",
       " 'Temp_min': {0: 21.7, 1: 21.4},\n",
       " 'Temp_orvalho_max': {0: 23.7, 1: 21.6},\n",
       " 'Temp_orvalho_min': {0: 21.7, 1: 21.4},\n",
       " 'Umid_max': {0: 100.0, 1: 100.0},\n",
       " 'Umid_min': {0: 100.0, 1: 100.0},\n",
       " 'Umid': {0: 100.0, 1: 100.0},\n",
       " 'Dir_vento': {0: 130.5, 1: 109.0},\n",
       " 'Rajada_vento': {0: 3.75, 1: 5.4},\n",
       " 'Vel_vento': {0: 2.1, 1: 3.35},\n",
       " 'Latitude': {0: -21.927251, 1: -21.927251},\n",
       " 'Longitude': {0: -50.490251, 1: -50.490251},\n",
       " 'Altitude': {0: 498.0, 1: 498.0},\n",
       " 'datahora': {0: Timestamp('2021-01-01 00:00:00+0000', tz='UTC'),\n",
       "  1: Timestamp('2021-01-01 01:00:00+0000', tz='UTC')},\n",
       " 'classe_chuva': {0: 0, 1: 0}}"
      ]
     },
     "execution_count": 3,
     "metadata": {},
     "output_type": "execute_result"
    }
   ],
   "source": [
    "df.head(2).to_dict()"
   ]
  },
  {
   "cell_type": "code",
   "execution_count": 4,
   "id": "1c2d7f0e",
   "metadata": {},
   "outputs": [
    {
     "data": {
      "text/plain": [
       "Chuva               0\n",
       "Pres                0\n",
       "Pres_max            0\n",
       "Pres_min            0\n",
       "Radiacao            0\n",
       "Temp                0\n",
       "Temp_orvalho        0\n",
       "Temp_max            0\n",
       "Temp_min            0\n",
       "Temp_orvalho_max    0\n",
       "Temp_orvalho_min    0\n",
       "Umid_max            0\n",
       "Umid_min            0\n",
       "Umid                0\n",
       "Dir_vento           0\n",
       "Rajada_vento        0\n",
       "Vel_vento           0\n",
       "Latitude            0\n",
       "Longitude           0\n",
       "Altitude            0\n",
       "datahora            0\n",
       "classe_chuva        0\n",
       "dtype: int64"
      ]
     },
     "execution_count": 4,
     "metadata": {},
     "output_type": "execute_result"
    }
   ],
   "source": [
    "df.isnull().sum()"
   ]
  },
  {
   "cell_type": "code",
   "execution_count": 5,
   "id": "93c52361",
   "metadata": {},
   "outputs": [],
   "source": [
    "def subsample_sequence(df, length):\n",
    "    index = np.random.randint(0, df.shape[0] - length)\n",
    "    df_sample = df.iloc[index:index+length]\n",
    "    \n",
    "    return df_sample"
   ]
  },
  {
   "cell_type": "code",
   "execution_count": 6,
   "id": "3e7737f3",
   "metadata": {
    "scrolled": false
   },
   "outputs": [
    {
     "data": {
      "text/html": [
       "<div>\n",
       "<style scoped>\n",
       "    .dataframe tbody tr th:only-of-type {\n",
       "        vertical-align: middle;\n",
       "    }\n",
       "\n",
       "    .dataframe tbody tr th {\n",
       "        vertical-align: top;\n",
       "    }\n",
       "\n",
       "    .dataframe thead th {\n",
       "        text-align: right;\n",
       "    }\n",
       "</style>\n",
       "<table border=\"1\" class=\"dataframe\">\n",
       "  <thead>\n",
       "    <tr style=\"text-align: right;\">\n",
       "      <th></th>\n",
       "      <th>Chuva</th>\n",
       "      <th>Pres</th>\n",
       "      <th>Pres_max</th>\n",
       "      <th>Pres_min</th>\n",
       "      <th>Radiacao</th>\n",
       "      <th>Temp</th>\n",
       "      <th>Temp_orvalho</th>\n",
       "      <th>Temp_max</th>\n",
       "      <th>Temp_min</th>\n",
       "      <th>Temp_orvalho_max</th>\n",
       "      <th>...</th>\n",
       "      <th>Umid_min</th>\n",
       "      <th>Umid</th>\n",
       "      <th>Dir_vento</th>\n",
       "      <th>Rajada_vento</th>\n",
       "      <th>Vel_vento</th>\n",
       "      <th>Latitude</th>\n",
       "      <th>Longitude</th>\n",
       "      <th>Altitude</th>\n",
       "      <th>datahora</th>\n",
       "      <th>classe_chuva</th>\n",
       "    </tr>\n",
       "  </thead>\n",
       "  <tbody>\n",
       "    <tr>\n",
       "      <th>1136</th>\n",
       "      <td>0.0</td>\n",
       "      <td>950.5</td>\n",
       "      <td>950.5</td>\n",
       "      <td>950.3</td>\n",
       "      <td>0.00</td>\n",
       "      <td>22.4</td>\n",
       "      <td>22.4</td>\n",
       "      <td>23.0</td>\n",
       "      <td>22.2</td>\n",
       "      <td>23.0</td>\n",
       "      <td>...</td>\n",
       "      <td>100.0</td>\n",
       "      <td>100.0</td>\n",
       "      <td>56.0</td>\n",
       "      <td>3.85</td>\n",
       "      <td>1.50</td>\n",
       "      <td>-21.927251</td>\n",
       "      <td>-50.490251</td>\n",
       "      <td>498.0</td>\n",
       "      <td>2021-02-17 08:00:00+00:00</td>\n",
       "      <td>0</td>\n",
       "    </tr>\n",
       "    <tr>\n",
       "      <th>1137</th>\n",
       "      <td>0.0</td>\n",
       "      <td>950.7</td>\n",
       "      <td>950.8</td>\n",
       "      <td>950.4</td>\n",
       "      <td>187.15</td>\n",
       "      <td>22.4</td>\n",
       "      <td>22.4</td>\n",
       "      <td>22.6</td>\n",
       "      <td>21.7</td>\n",
       "      <td>22.6</td>\n",
       "      <td>...</td>\n",
       "      <td>100.0</td>\n",
       "      <td>100.0</td>\n",
       "      <td>46.5</td>\n",
       "      <td>5.35</td>\n",
       "      <td>3.10</td>\n",
       "      <td>-21.927251</td>\n",
       "      <td>-50.490251</td>\n",
       "      <td>498.0</td>\n",
       "      <td>2021-02-17 09:00:00+00:00</td>\n",
       "      <td>0</td>\n",
       "    </tr>\n",
       "    <tr>\n",
       "      <th>1138</th>\n",
       "      <td>0.0</td>\n",
       "      <td>951.6</td>\n",
       "      <td>951.6</td>\n",
       "      <td>950.7</td>\n",
       "      <td>55.40</td>\n",
       "      <td>23.3</td>\n",
       "      <td>23.3</td>\n",
       "      <td>23.5</td>\n",
       "      <td>22.4</td>\n",
       "      <td>23.5</td>\n",
       "      <td>...</td>\n",
       "      <td>100.0</td>\n",
       "      <td>100.0</td>\n",
       "      <td>161.0</td>\n",
       "      <td>2.95</td>\n",
       "      <td>1.45</td>\n",
       "      <td>-21.927251</td>\n",
       "      <td>-50.490251</td>\n",
       "      <td>498.0</td>\n",
       "      <td>2021-02-17 10:00:00+00:00</td>\n",
       "      <td>0</td>\n",
       "    </tr>\n",
       "    <tr>\n",
       "      <th>1139</th>\n",
       "      <td>0.0</td>\n",
       "      <td>951.9</td>\n",
       "      <td>951.9</td>\n",
       "      <td>951.6</td>\n",
       "      <td>488.30</td>\n",
       "      <td>25.1</td>\n",
       "      <td>21.8</td>\n",
       "      <td>25.1</td>\n",
       "      <td>23.3</td>\n",
       "      <td>23.7</td>\n",
       "      <td>...</td>\n",
       "      <td>80.0</td>\n",
       "      <td>82.0</td>\n",
       "      <td>174.0</td>\n",
       "      <td>1.95</td>\n",
       "      <td>0.90</td>\n",
       "      <td>-21.927251</td>\n",
       "      <td>-50.490251</td>\n",
       "      <td>498.0</td>\n",
       "      <td>2021-02-17 11:00:00+00:00</td>\n",
       "      <td>0</td>\n",
       "    </tr>\n",
       "    <tr>\n",
       "      <th>1140</th>\n",
       "      <td>0.0</td>\n",
       "      <td>952.5</td>\n",
       "      <td>952.5</td>\n",
       "      <td>951.9</td>\n",
       "      <td>751.50</td>\n",
       "      <td>25.0</td>\n",
       "      <td>21.6</td>\n",
       "      <td>25.7</td>\n",
       "      <td>25.0</td>\n",
       "      <td>21.9</td>\n",
       "      <td>...</td>\n",
       "      <td>73.0</td>\n",
       "      <td>82.0</td>\n",
       "      <td>166.0</td>\n",
       "      <td>4.25</td>\n",
       "      <td>2.00</td>\n",
       "      <td>-21.927251</td>\n",
       "      <td>-50.490251</td>\n",
       "      <td>498.0</td>\n",
       "      <td>2021-02-17 12:00:00+00:00</td>\n",
       "      <td>0</td>\n",
       "    </tr>\n",
       "  </tbody>\n",
       "</table>\n",
       "<p>5 rows × 22 columns</p>\n",
       "</div>"
      ],
      "text/plain": [
       "      Chuva   Pres  Pres_max  Pres_min  Radiacao  Temp  Temp_orvalho  \\\n",
       "1136    0.0  950.5     950.5     950.3      0.00  22.4          22.4   \n",
       "1137    0.0  950.7     950.8     950.4    187.15  22.4          22.4   \n",
       "1138    0.0  951.6     951.6     950.7     55.40  23.3          23.3   \n",
       "1139    0.0  951.9     951.9     951.6    488.30  25.1          21.8   \n",
       "1140    0.0  952.5     952.5     951.9    751.50  25.0          21.6   \n",
       "\n",
       "      Temp_max  Temp_min  Temp_orvalho_max  ...  Umid_min   Umid  Dir_vento  \\\n",
       "1136      23.0      22.2              23.0  ...     100.0  100.0       56.0   \n",
       "1137      22.6      21.7              22.6  ...     100.0  100.0       46.5   \n",
       "1138      23.5      22.4              23.5  ...     100.0  100.0      161.0   \n",
       "1139      25.1      23.3              23.7  ...      80.0   82.0      174.0   \n",
       "1140      25.7      25.0              21.9  ...      73.0   82.0      166.0   \n",
       "\n",
       "      Rajada_vento  Vel_vento   Latitude  Longitude  Altitude  \\\n",
       "1136          3.85       1.50 -21.927251 -50.490251     498.0   \n",
       "1137          5.35       3.10 -21.927251 -50.490251     498.0   \n",
       "1138          2.95       1.45 -21.927251 -50.490251     498.0   \n",
       "1139          1.95       0.90 -21.927251 -50.490251     498.0   \n",
       "1140          4.25       2.00 -21.927251 -50.490251     498.0   \n",
       "\n",
       "                      datahora  classe_chuva  \n",
       "1136 2021-02-17 08:00:00+00:00             0  \n",
       "1137 2021-02-17 09:00:00+00:00             0  \n",
       "1138 2021-02-17 10:00:00+00:00             0  \n",
       "1139 2021-02-17 11:00:00+00:00             0  \n",
       "1140 2021-02-17 12:00:00+00:00             0  \n",
       "\n",
       "[5 rows x 22 columns]"
      ]
     },
     "execution_count": 6,
     "metadata": {},
     "output_type": "execute_result"
    }
   ],
   "source": [
    "df_sample = subsample_sequence(df,48)\n",
    "df_sample.head()"
   ]
  },
  {
   "cell_type": "code",
   "execution_count": 15,
   "id": "d55e10ce",
   "metadata": {},
   "outputs": [],
   "source": [
    "def split_subsample_sequence(df, length):\n",
    "    '''Create one single random (X,y) pair'''\n",
    "    \n",
    "    df_subsample = subsample_sequence(df, length)\n",
    "    y_sample = df_subsample['Chuva'].iloc[length - 24:]\n",
    "    \n",
    "    X_sample = df_subsample.drop(columns= ['classe_chuva', 'datahora'])[0:length -24]\n",
    "    X_sample = X_sample.values\n",
    "   \n",
    "    return np.array(X_sample), np.array(y_sample)"
   ]
  },
  {
   "cell_type": "code",
   "execution_count": 16,
   "id": "70c24d90",
   "metadata": {},
   "outputs": [],
   "source": [
    "def get_X_y(df, n_sequences, length):\n",
    "    '''Return a list of samples (X, y)'''\n",
    "    X, y = [], []\n",
    "\n",
    "    for i in range(n_sequences):\n",
    "        (xi, yi) = split_subsample_sequence(df, length)\n",
    "        X.append(xi)\n",
    "        y.append(yi)\n",
    "        \n",
    "    X = np.array(X)\n",
    "    y = np.array(y)\n",
    "    return X, y"
   ]
  },
  {
   "cell_type": "code",
   "execution_count": 17,
   "id": "573a6309",
   "metadata": {},
   "outputs": [],
   "source": [
    "train_size = int(df.shape[0]*0.8)\n",
    "df_train = df.iloc[:train_size,:]\n",
    "df_test = df.iloc[train_size:,:]"
   ]
  },
  {
   "cell_type": "code",
   "execution_count": 19,
   "id": "36d80602",
   "metadata": {},
   "outputs": [
    {
     "data": {
      "text/plain": [
       "Chuva    \n",
       "0.000000     6580\n",
       "0.118347      174\n",
       "0.200000       71\n",
       "0.400000       34\n",
       "0.600000       19\n",
       "1.000000       16\n",
       "0.800000       11\n",
       "2.600000        8\n",
       "1.600000        8\n",
       "1.400000        7\n",
       "2.000000        7\n",
       "1.200000        7\n",
       "2.200000        6\n",
       "1.800000        4\n",
       "3.000000        4\n",
       "7.600000        4\n",
       "5.400000        4\n",
       "9.800000        3\n",
       "7.000000        3\n",
       "9.000000        3\n",
       "3.200000        3\n",
       "2.400000        3\n",
       "4.600000        2\n",
       "4.800000        2\n",
       "20.800000       2\n",
       "8.600000        2\n",
       "22.600000       1\n",
       "24.800000       1\n",
       "34.200000       1\n",
       "9.200000        1\n",
       "20.200000       1\n",
       "18.800000       1\n",
       "15.400000       1\n",
       "10.200000       1\n",
       "37.800000       1\n",
       "5.000000        1\n",
       "8.800000        1\n",
       "8.200000        1\n",
       "8.000000        1\n",
       "7.800000        1\n",
       "7.400000        1\n",
       "5.800000        1\n",
       "4.400000        1\n",
       "4.000000        1\n",
       "3.800000        1\n",
       "3.600000        1\n",
       "45.000000       1\n",
       "dtype: int64"
      ]
     },
     "execution_count": 19,
     "metadata": {},
     "output_type": "execute_result"
    }
   ],
   "source": [
    "df_train.value_counts(['Chuva'])"
   ]
  },
  {
   "cell_type": "code",
   "execution_count": 20,
   "id": "8e284051",
   "metadata": {},
   "outputs": [
    {
     "data": {
      "text/plain": [
       "(1752, 22)"
      ]
     },
     "execution_count": 20,
     "metadata": {},
     "output_type": "execute_result"
    }
   ],
   "source": [
    "df_test.shape"
   ]
  },
  {
   "cell_type": "code",
   "execution_count": 21,
   "id": "8b9b551e",
   "metadata": {},
   "outputs": [],
   "source": [
    "X_train,y_train = get_X_y(df_train,6000,72)"
   ]
  },
  {
   "cell_type": "code",
   "execution_count": 22,
   "id": "ceec71b3",
   "metadata": {},
   "outputs": [],
   "source": [
    "X_test,y_test = get_X_y(df_test,6000,72)"
   ]
  },
  {
   "cell_type": "code",
   "execution_count": 23,
   "id": "095d857c",
   "metadata": {},
   "outputs": [
    {
     "data": {
      "text/plain": [
       "(6000, 24)"
      ]
     },
     "execution_count": 23,
     "metadata": {},
     "output_type": "execute_result"
    }
   ],
   "source": [
    "y_train.shape"
   ]
  },
  {
   "cell_type": "code",
   "execution_count": 24,
   "id": "871dbb27",
   "metadata": {},
   "outputs": [],
   "source": [
    "# from sklearn.preprocessing import LabelEncoder\n",
    "# from tensorflow.keras.utils import to_categorical\n",
    "\n",
    "# # label = LabelEncoder()\n",
    "# # y_enc = label.fit_transform(y.reshape((-1,)))\n",
    "# y_cat = to_categorical(y_train)\n",
    "# y_cat.shape"
   ]
  },
  {
   "cell_type": "code",
   "execution_count": 25,
   "id": "98ef54f3",
   "metadata": {},
   "outputs": [
    {
     "name": "stderr",
     "output_type": "stream",
     "text": [
      "2022-03-23 17:25:30.794338: I tensorflow/core/platform/cpu_feature_guard.cc:151] This TensorFlow binary is optimized with oneAPI Deep Neural Network Library (oneDNN) to use the following CPU instructions in performance-critical operations:  SSE4.2\n",
      "To enable them in other operations, rebuild TensorFlow with the appropriate compiler flags.\n"
     ]
    }
   ],
   "source": [
    "from tensorflow.keras.layers.experimental.preprocessing import Normalization\n",
    "\n",
    "norm = Normalization()\n",
    "norm.adapt(X_train)"
   ]
  },
  {
   "cell_type": "code",
   "execution_count": 28,
   "id": "a8812018",
   "metadata": {},
   "outputs": [
    {
     "data": {
      "text/plain": [
       "(6000, 48, 20)"
      ]
     },
     "execution_count": 28,
     "metadata": {},
     "output_type": "execute_result"
    }
   ],
   "source": [
    "X_train.shape"
   ]
  },
  {
   "cell_type": "code",
   "execution_count": 42,
   "id": "8c3c7cac",
   "metadata": {},
   "outputs": [
    {
     "name": "stdout",
     "output_type": "stream",
     "text": [
      "Model: \"sequential_3\"\n",
      "_________________________________________________________________\n",
      " Layer (type)                Output Shape              Param #   \n",
      "=================================================================\n",
      " normalization (Normalizatio  (None, None, 20)         41        \n",
      " n)                                                              \n",
      "                                                                 \n",
      " lstm_3 (LSTM)               (None, 20)                3280      \n",
      "                                                                 \n",
      " dense_6 (Dense)             (None, 10)                210       \n",
      "                                                                 \n",
      " dense_7 (Dense)             (None, 24)                264       \n",
      "                                                                 \n",
      "=================================================================\n",
      "Total params: 3,795\n",
      "Trainable params: 3,754\n",
      "Non-trainable params: 41\n",
      "_________________________________________________________________\n"
     ]
    }
   ],
   "source": [
    "model = Sequential()\n",
    "\n",
    "model.add(norm)\n",
    "\n",
    "model.add(LSTM(units=20, activation='tanh'))\n",
    "model.add(Dense(10, activation=\"tanh\"))\n",
    "model.add(Dense(24, activation=\"relu\"))\n",
    "\n",
    "model.compile(loss='mse',\n",
    "                  optimizer='rmsprop',\n",
    "                  metrics=['mae','mse','mape'])\n",
    "\n",
    "model.summary()"
   ]
  },
  {
   "cell_type": "code",
   "execution_count": 43,
   "id": "38972236",
   "metadata": {},
   "outputs": [
    {
     "name": "stdout",
     "output_type": "stream",
     "text": [
      "Epoch 1/10\n",
      "150/150 [==============================] - 3s 12ms/step - loss: 1.4083 - mae: 0.1488 - mse: 1.4083 - mape: 45960188.0000 - val_loss: 1.5048 - val_mae: 0.1456 - val_mse: 1.5048 - val_mape: 39218956.0000\n",
      "Epoch 2/10\n",
      "150/150 [==============================] - 1s 7ms/step - loss: 1.3960 - mae: 0.1517 - mse: 1.3960 - mape: 50271524.0000 - val_loss: 1.5011 - val_mae: 0.1417 - val_mse: 1.5011 - val_mape: 35956456.0000\n",
      "Epoch 3/10\n",
      "150/150 [==============================] - 1s 9ms/step - loss: 1.3873 - mae: 0.1503 - mse: 1.3873 - mape: 49401428.0000 - val_loss: 1.4943 - val_mae: 0.1577 - val_mse: 1.4943 - val_mape: 52616600.0000\n",
      "Epoch 4/10\n",
      "150/150 [==============================] - 1s 7ms/step - loss: 1.3798 - mae: 0.1477 - mse: 1.3798 - mape: 47118800.0000 - val_loss: 1.4863 - val_mae: 0.1502 - val_mse: 1.4863 - val_mape: 45212296.0000\n",
      "Epoch 5/10\n",
      "150/150 [==============================] - 1s 7ms/step - loss: 1.3704 - mae: 0.1438 - mse: 1.3704 - mape: 43352936.0000 - val_loss: 1.4832 - val_mae: 0.1487 - val_mse: 1.4832 - val_mape: 43882216.0000\n",
      "Epoch 6/10\n",
      "150/150 [==============================] - 1s 7ms/step - loss: 1.3599 - mae: 0.1398 - mse: 1.3599 - mape: 39569076.0000 - val_loss: 1.4726 - val_mae: 0.1404 - val_mse: 1.4726 - val_mape: 35747276.0000\n",
      "Epoch 7/10\n",
      "150/150 [==============================] - 1s 7ms/step - loss: 1.3497 - mae: 0.1383 - mse: 1.3497 - mape: 38161320.0000 - val_loss: 1.4658 - val_mae: 0.1318 - val_mse: 1.4658 - val_mape: 26559618.0000\n",
      "Epoch 8/10\n",
      "150/150 [==============================] - 1s 8ms/step - loss: 1.3395 - mae: 0.1377 - mse: 1.3395 - mape: 37916792.0000 - val_loss: 1.4566 - val_mae: 0.1336 - val_mse: 1.4566 - val_mape: 28771880.0000\n",
      "Epoch 9/10\n",
      "150/150 [==============================] - 1s 8ms/step - loss: 1.3300 - mae: 0.1349 - mse: 1.3300 - mape: 35010400.0000 - val_loss: 1.4561 - val_mae: 0.1287 - val_mse: 1.4561 - val_mape: 24069182.0000\n",
      "Epoch 10/10\n",
      "150/150 [==============================] - 1s 8ms/step - loss: 1.3190 - mae: 0.1333 - mse: 1.3190 - mape: 33899552.0000 - val_loss: 1.4534 - val_mae: 0.1266 - val_mse: 1.4534 - val_mape: 21636202.0000\n"
     ]
    },
    {
     "data": {
      "text/plain": [
       "<keras.callbacks.History at 0x1a5ebcac0>"
      ]
     },
     "execution_count": 43,
     "metadata": {},
     "output_type": "execute_result"
    }
   ],
   "source": [
    "from tensorflow.keras.callbacks import EarlyStopping\n",
    "\n",
    "es = EarlyStopping(patience=3, restore_best_weights=True)\n",
    "\n",
    "model.fit(X_train, y_train, batch_size=32, epochs=10, verbose=1,\n",
    "         validation_split=0.2,\n",
    "          callbacks=[es])"
   ]
  },
  {
   "cell_type": "code",
   "execution_count": 44,
   "id": "8405d005",
   "metadata": {},
   "outputs": [
    {
     "data": {
      "text/plain": [
       "array([[1.4073079 , 1.6721784 , 0.        , ..., 0.6364898 , 0.4593822 ,\n",
       "        0.        ],\n",
       "       [0.        , 0.        , 0.07714836, ..., 0.        , 0.        ,\n",
       "        0.        ],\n",
       "       [0.        , 0.        , 0.        , ..., 0.0425825 , 0.        ,\n",
       "        0.        ],\n",
       "       ...,\n",
       "       [0.        , 0.        , 0.        , ..., 0.10916512, 0.        ,\n",
       "        0.        ],\n",
       "       [0.        , 0.        , 0.        , ..., 0.        , 0.        ,\n",
       "        0.        ],\n",
       "       [0.2632447 , 0.17786537, 0.        , ..., 0.39763182, 0.51449025,\n",
       "        0.        ]], dtype=float32)"
      ]
     },
     "execution_count": 44,
     "metadata": {},
     "output_type": "execute_result"
    }
   ],
   "source": [
    "y_pred = model.predict(X_test)\n",
    "y_pred"
   ]
  },
  {
   "cell_type": "code",
   "execution_count": 45,
   "id": "2cd55b3a",
   "metadata": {},
   "outputs": [
    {
     "name": "stdout",
     "output_type": "stream",
     "text": [
      "188/188 [==============================] - 1s 3ms/step - loss: 1.8915 - mae: 0.2292 - mse: 1.8915 - mape: 52473084.0000\n"
     ]
    },
    {
     "data": {
      "text/plain": [
       "[1.89149808883667, 0.2292419970035553, 1.89149808883667, 52473084.0]"
      ]
     },
     "execution_count": 45,
     "metadata": {},
     "output_type": "execute_result"
    }
   ],
   "source": [
    "model.evaluate(X_test,y_test)"
   ]
  },
  {
   "cell_type": "code",
   "execution_count": 65,
   "id": "23974489",
   "metadata": {},
   "outputs": [],
   "source": [
    "df_y_test = pd.DataFrame(y_test).T #cada coluna sera o indice para os dias do futuro -6000 dias"
   ]
  },
  {
   "cell_type": "code",
   "execution_count": 66,
   "id": "8777713c",
   "metadata": {},
   "outputs": [],
   "source": [
    "df_y_pred = pd.DataFrame(y_pred).T"
   ]
  },
  {
   "cell_type": "code",
   "execution_count": 56,
   "id": "77b1a4e7",
   "metadata": {},
   "outputs": [
    {
     "data": {
      "text/html": [
       "<div>\n",
       "<style scoped>\n",
       "    .dataframe tbody tr th:only-of-type {\n",
       "        vertical-align: middle;\n",
       "    }\n",
       "\n",
       "    .dataframe tbody tr th {\n",
       "        vertical-align: top;\n",
       "    }\n",
       "\n",
       "    .dataframe thead th {\n",
       "        text-align: right;\n",
       "    }\n",
       "</style>\n",
       "<table border=\"1\" class=\"dataframe\">\n",
       "  <thead>\n",
       "    <tr style=\"text-align: right;\">\n",
       "      <th></th>\n",
       "      <th>0</th>\n",
       "      <th>1</th>\n",
       "      <th>2</th>\n",
       "      <th>3</th>\n",
       "      <th>4</th>\n",
       "      <th>5</th>\n",
       "      <th>6</th>\n",
       "      <th>7</th>\n",
       "      <th>8</th>\n",
       "      <th>9</th>\n",
       "      <th>...</th>\n",
       "      <th>14</th>\n",
       "      <th>15</th>\n",
       "      <th>16</th>\n",
       "      <th>17</th>\n",
       "      <th>18</th>\n",
       "      <th>19</th>\n",
       "      <th>20</th>\n",
       "      <th>21</th>\n",
       "      <th>22</th>\n",
       "      <th>23</th>\n",
       "    </tr>\n",
       "  </thead>\n",
       "  <tbody>\n",
       "    <tr>\n",
       "      <th>count</th>\n",
       "      <td>6000.000000</td>\n",
       "      <td>6000.000000</td>\n",
       "      <td>6000.000000</td>\n",
       "      <td>6000.000000</td>\n",
       "      <td>6000.000000</td>\n",
       "      <td>6000.000000</td>\n",
       "      <td>6000.000000</td>\n",
       "      <td>6000.000000</td>\n",
       "      <td>6000.000000</td>\n",
       "      <td>6000.000000</td>\n",
       "      <td>...</td>\n",
       "      <td>6000.000000</td>\n",
       "      <td>6000.000000</td>\n",
       "      <td>6000.000000</td>\n",
       "      <td>6000.000000</td>\n",
       "      <td>6000.000000</td>\n",
       "      <td>6000.000000</td>\n",
       "      <td>6000.000000</td>\n",
       "      <td>6000.000000</td>\n",
       "      <td>6000.000000</td>\n",
       "      <td>6000.000000</td>\n",
       "    </tr>\n",
       "    <tr>\n",
       "      <th>mean</th>\n",
       "      <td>0.102326</td>\n",
       "      <td>0.093907</td>\n",
       "      <td>0.010789</td>\n",
       "      <td>0.038967</td>\n",
       "      <td>0.059802</td>\n",
       "      <td>0.058311</td>\n",
       "      <td>0.036377</td>\n",
       "      <td>0.023362</td>\n",
       "      <td>0.027757</td>\n",
       "      <td>0.027284</td>\n",
       "      <td>...</td>\n",
       "      <td>0.039240</td>\n",
       "      <td>0.056136</td>\n",
       "      <td>0.075604</td>\n",
       "      <td>0.087266</td>\n",
       "      <td>0.000164</td>\n",
       "      <td>0.161100</td>\n",
       "      <td>0.167479</td>\n",
       "      <td>0.135534</td>\n",
       "      <td>0.115474</td>\n",
       "      <td>0.000863</td>\n",
       "    </tr>\n",
       "    <tr>\n",
       "      <th>std</th>\n",
       "      <td>0.307448</td>\n",
       "      <td>0.315244</td>\n",
       "      <td>0.036708</td>\n",
       "      <td>0.210054</td>\n",
       "      <td>0.301974</td>\n",
       "      <td>0.183321</td>\n",
       "      <td>0.128109</td>\n",
       "      <td>0.103947</td>\n",
       "      <td>0.129587</td>\n",
       "      <td>0.134687</td>\n",
       "      <td>...</td>\n",
       "      <td>0.113718</td>\n",
       "      <td>0.134614</td>\n",
       "      <td>0.166078</td>\n",
       "      <td>0.173847</td>\n",
       "      <td>0.002638</td>\n",
       "      <td>0.223643</td>\n",
       "      <td>0.221037</td>\n",
       "      <td>0.189152</td>\n",
       "      <td>0.173022</td>\n",
       "      <td>0.008745</td>\n",
       "    </tr>\n",
       "    <tr>\n",
       "      <th>min</th>\n",
       "      <td>0.000000</td>\n",
       "      <td>0.000000</td>\n",
       "      <td>0.000000</td>\n",
       "      <td>0.000000</td>\n",
       "      <td>0.000000</td>\n",
       "      <td>0.000000</td>\n",
       "      <td>0.000000</td>\n",
       "      <td>0.000000</td>\n",
       "      <td>0.000000</td>\n",
       "      <td>0.000000</td>\n",
       "      <td>...</td>\n",
       "      <td>0.000000</td>\n",
       "      <td>0.000000</td>\n",
       "      <td>0.000000</td>\n",
       "      <td>0.000000</td>\n",
       "      <td>0.000000</td>\n",
       "      <td>0.000000</td>\n",
       "      <td>0.000000</td>\n",
       "      <td>0.000000</td>\n",
       "      <td>0.000000</td>\n",
       "      <td>0.000000</td>\n",
       "    </tr>\n",
       "    <tr>\n",
       "      <th>25%</th>\n",
       "      <td>0.000000</td>\n",
       "      <td>0.000000</td>\n",
       "      <td>0.000000</td>\n",
       "      <td>0.000000</td>\n",
       "      <td>0.000000</td>\n",
       "      <td>0.000000</td>\n",
       "      <td>0.000000</td>\n",
       "      <td>0.000000</td>\n",
       "      <td>0.000000</td>\n",
       "      <td>0.000000</td>\n",
       "      <td>...</td>\n",
       "      <td>0.000000</td>\n",
       "      <td>0.000000</td>\n",
       "      <td>0.000000</td>\n",
       "      <td>0.000000</td>\n",
       "      <td>0.000000</td>\n",
       "      <td>0.000000</td>\n",
       "      <td>0.000000</td>\n",
       "      <td>0.000000</td>\n",
       "      <td>0.000000</td>\n",
       "      <td>0.000000</td>\n",
       "    </tr>\n",
       "    <tr>\n",
       "      <th>50%</th>\n",
       "      <td>0.000000</td>\n",
       "      <td>0.000000</td>\n",
       "      <td>0.000000</td>\n",
       "      <td>0.000000</td>\n",
       "      <td>0.000000</td>\n",
       "      <td>0.000000</td>\n",
       "      <td>0.000000</td>\n",
       "      <td>0.000000</td>\n",
       "      <td>0.000000</td>\n",
       "      <td>0.000000</td>\n",
       "      <td>...</td>\n",
       "      <td>0.000000</td>\n",
       "      <td>0.000000</td>\n",
       "      <td>0.000000</td>\n",
       "      <td>0.000000</td>\n",
       "      <td>0.000000</td>\n",
       "      <td>0.074136</td>\n",
       "      <td>0.090874</td>\n",
       "      <td>0.055378</td>\n",
       "      <td>0.023214</td>\n",
       "      <td>0.000000</td>\n",
       "    </tr>\n",
       "    <tr>\n",
       "      <th>75%</th>\n",
       "      <td>0.000000</td>\n",
       "      <td>0.000000</td>\n",
       "      <td>0.000000</td>\n",
       "      <td>0.000000</td>\n",
       "      <td>0.000000</td>\n",
       "      <td>0.000000</td>\n",
       "      <td>0.000000</td>\n",
       "      <td>0.000000</td>\n",
       "      <td>0.000000</td>\n",
       "      <td>0.000000</td>\n",
       "      <td>...</td>\n",
       "      <td>0.000000</td>\n",
       "      <td>0.031146</td>\n",
       "      <td>0.067070</td>\n",
       "      <td>0.118914</td>\n",
       "      <td>0.000000</td>\n",
       "      <td>0.248472</td>\n",
       "      <td>0.237673</td>\n",
       "      <td>0.206544</td>\n",
       "      <td>0.178965</td>\n",
       "      <td>0.000000</td>\n",
       "    </tr>\n",
       "    <tr>\n",
       "      <th>max</th>\n",
       "      <td>2.326106</td>\n",
       "      <td>2.457810</td>\n",
       "      <td>0.314969</td>\n",
       "      <td>1.976095</td>\n",
       "      <td>2.529535</td>\n",
       "      <td>1.337049</td>\n",
       "      <td>0.963521</td>\n",
       "      <td>1.446426</td>\n",
       "      <td>1.370263</td>\n",
       "      <td>1.460431</td>\n",
       "      <td>...</td>\n",
       "      <td>0.847133</td>\n",
       "      <td>0.866307</td>\n",
       "      <td>1.020473</td>\n",
       "      <td>1.216390</td>\n",
       "      <td>0.070429</td>\n",
       "      <td>1.300596</td>\n",
       "      <td>1.192397</td>\n",
       "      <td>1.051156</td>\n",
       "      <td>0.953769</td>\n",
       "      <td>0.181308</td>\n",
       "    </tr>\n",
       "  </tbody>\n",
       "</table>\n",
       "<p>8 rows × 24 columns</p>\n",
       "</div>"
      ],
      "text/plain": [
       "                0            1            2            3            4   \\\n",
       "count  6000.000000  6000.000000  6000.000000  6000.000000  6000.000000   \n",
       "mean      0.102326     0.093907     0.010789     0.038967     0.059802   \n",
       "std       0.307448     0.315244     0.036708     0.210054     0.301974   \n",
       "min       0.000000     0.000000     0.000000     0.000000     0.000000   \n",
       "25%       0.000000     0.000000     0.000000     0.000000     0.000000   \n",
       "50%       0.000000     0.000000     0.000000     0.000000     0.000000   \n",
       "75%       0.000000     0.000000     0.000000     0.000000     0.000000   \n",
       "max       2.326106     2.457810     0.314969     1.976095     2.529535   \n",
       "\n",
       "                5            6            7            8            9   ...  \\\n",
       "count  6000.000000  6000.000000  6000.000000  6000.000000  6000.000000  ...   \n",
       "mean      0.058311     0.036377     0.023362     0.027757     0.027284  ...   \n",
       "std       0.183321     0.128109     0.103947     0.129587     0.134687  ...   \n",
       "min       0.000000     0.000000     0.000000     0.000000     0.000000  ...   \n",
       "25%       0.000000     0.000000     0.000000     0.000000     0.000000  ...   \n",
       "50%       0.000000     0.000000     0.000000     0.000000     0.000000  ...   \n",
       "75%       0.000000     0.000000     0.000000     0.000000     0.000000  ...   \n",
       "max       1.337049     0.963521     1.446426     1.370263     1.460431  ...   \n",
       "\n",
       "                14           15           16           17           18  \\\n",
       "count  6000.000000  6000.000000  6000.000000  6000.000000  6000.000000   \n",
       "mean      0.039240     0.056136     0.075604     0.087266     0.000164   \n",
       "std       0.113718     0.134614     0.166078     0.173847     0.002638   \n",
       "min       0.000000     0.000000     0.000000     0.000000     0.000000   \n",
       "25%       0.000000     0.000000     0.000000     0.000000     0.000000   \n",
       "50%       0.000000     0.000000     0.000000     0.000000     0.000000   \n",
       "75%       0.000000     0.031146     0.067070     0.118914     0.000000   \n",
       "max       0.847133     0.866307     1.020473     1.216390     0.070429   \n",
       "\n",
       "                19           20           21           22           23  \n",
       "count  6000.000000  6000.000000  6000.000000  6000.000000  6000.000000  \n",
       "mean      0.161100     0.167479     0.135534     0.115474     0.000863  \n",
       "std       0.223643     0.221037     0.189152     0.173022     0.008745  \n",
       "min       0.000000     0.000000     0.000000     0.000000     0.000000  \n",
       "25%       0.000000     0.000000     0.000000     0.000000     0.000000  \n",
       "50%       0.074136     0.090874     0.055378     0.023214     0.000000  \n",
       "75%       0.248472     0.237673     0.206544     0.178965     0.000000  \n",
       "max       1.300596     1.192397     1.051156     0.953769     0.181308  \n",
       "\n",
       "[8 rows x 24 columns]"
      ]
     },
     "execution_count": 56,
     "metadata": {},
     "output_type": "execute_result"
    }
   ],
   "source": [
    "pd.DataFrame(y_pred).describe()"
   ]
  },
  {
   "cell_type": "code",
   "execution_count": 68,
   "id": "4e058c84",
   "metadata": {},
   "outputs": [],
   "source": [
    "def classe_chuva(precipitacao):\n",
    "    mm=precipitacao\n",
    "    if np.isnan(mm):\n",
    "        chuva = \"NaN\"\n",
    "    if mm == 0:\n",
    "        chuva = 0 #'nao chove'\n",
    "    elif mm >0 and mm <=5.0:\n",
    "        chuva = 1 #'fraca'\n",
    "    elif mm >5.0 and mm<=25.0:\n",
    "        chuva = 2 #'moderada'\n",
    "    else:\n",
    "        chuva = 3 #'forte'\n",
    "    return chuva"
   ]
  },
  {
   "cell_type": "code",
   "execution_count": 74,
   "id": "d60165d0",
   "metadata": {},
   "outputs": [
    {
     "data": {
      "text/plain": [
       "0  1  2  3  4  5  6  7  8  9  10  11  12  13  14  15  16  17  18  19  20  21  22  23\n",
       "0  0  0  0  0  0  0  0  0  0  0   0   0   0   0   0   0   0   0   0   0   0   0   0     4065\n",
       "1  0  0  0  0  0  0  0  0  0  0   0   0   0   0   0   0   0   0   0   0   0   0   0       33\n",
       "0  0  0  0  0  0  0  0  0  0  0   0   0   0   0   0   0   0   0   0   0   0   0   1       27\n",
       "                                                          1   0   0   0   0   0   0       25\n",
       "   1  0  0  0  0  0  0  0  0  0   0   0   0   0   0   0   0   0   0   0   0   0   0       24\n",
       "                                                                                        ... \n",
       "      1  1  1  2  1  0  0  0  0   0   1   2   0   0   0   1   1   0   1   1   0   0        1\n",
       "               1  1  1  0  0  0   0   0   0   0   0   0   0   0   0   0   0   0   0        1\n",
       "   0  0  0  0  0  2  1  0  0  0   0   0   1   0   0   0   0   0   0   0   0   0   0        1\n",
       "               1  0  0  0  0  0   0   0   0   2   0   0   0   0   1   1   0   0   0        1\n",
       "            1  0  0  0  0  0  0   0   0   0   0   0   0   1   1   1   1   0   1   1        1\n",
       "Length: 432, dtype: int64"
      ]
     },
     "execution_count": 74,
     "metadata": {},
     "output_type": "execute_result"
    }
   ],
   "source": [
    "df_y_test_categorical = df_y_test.applymap(classe_chuva)\n",
    "df_y_test_categorical.T.value_counts()"
   ]
  },
  {
   "cell_type": "code",
   "execution_count": 75,
   "id": "a4fc1130",
   "metadata": {},
   "outputs": [
    {
     "data": {
      "text/plain": [
       "0  1  2  3  4  5  6  7  8  9  10  11  12  13  14  15  16  17  18  19  20  21  22  23\n",
       "0  0  0  0  0  0  0  0  0  0  0   0   0   0   0   0   0   0   0   0   0   0   0   0     597\n",
       "                                                                  1   1   1   1   0     249\n",
       "                                                  1   1   1   0   1   1   1   1   0     232\n",
       "                                                  0   0   0   0   0   0   1   1   0     212\n",
       "                                                                      1   1   1   0     202\n",
       "                                                                                       ... \n",
       "               1  0  0  0  0  0   0   0   0   0   0   0   1   0   0   1   0   0   0       1\n",
       "1  1  0  0  0  1  0  0  0  0  0   0   0   0   0   0   0   0   0   0   1   0   1   0       1\n",
       "0  0  0  0  0  0  0  0  0  0  0   0   0   0   0   1   1   1   0   0   0   0   0   0       1\n",
       "1  0  0  1  0  1  1  0  0  0  0   0   0   0   0   0   0   1   0   1   1   1   1   0       1\n",
       "0  0  0  0  0  0  1  0  1  1  1   1   1   0   1   1   1   1   0   1   1   1   1   0       1\n",
       "Length: 359, dtype: int64"
      ]
     },
     "execution_count": 75,
     "metadata": {},
     "output_type": "execute_result"
    }
   ],
   "source": [
    "df_y_pred_categorical = df_y_pred.applymap(classe_chuva)\n",
    "df_y_pred_categorical.T.value_counts()"
   ]
  },
  {
   "cell_type": "code",
   "execution_count": 78,
   "id": "86b97b0d",
   "metadata": {},
   "outputs": [
    {
     "data": {
      "text/plain": [
       "0        7\n",
       "1       21\n",
       "2       23\n",
       "3       14\n",
       "4       16\n",
       "        ..\n",
       "5995    20\n",
       "5996     5\n",
       "5997    22\n",
       "5998    21\n",
       "5999    14\n",
       "Length: 6000, dtype: int64"
      ]
     },
     "execution_count": 78,
     "metadata": {},
     "output_type": "execute_result"
    }
   ],
   "source": [
    "(df_y_test_categorical == df_y_pred_categorical).sum() # o quanto acertamos por dia"
   ]
  },
  {
   "cell_type": "code",
   "execution_count": 81,
   "id": "94ec8952",
   "metadata": {},
   "outputs": [
    {
     "data": {
      "text/plain": [
       "144000"
      ]
     },
     "execution_count": 81,
     "metadata": {},
     "output_type": "execute_result"
    }
   ],
   "source": [
    "6000*24"
   ]
  },
  {
   "cell_type": "code",
   "execution_count": 82,
   "id": "9d329df6",
   "metadata": {},
   "outputs": [
    {
     "data": {
      "text/plain": [
       "0.7476180555555556"
      ]
     },
     "execution_count": 82,
     "metadata": {},
     "output_type": "execute_result"
    }
   ],
   "source": [
    "(df_y_test_categorical == df_y_pred_categorical).sum().sum()/(6000*24) #accuracy"
   ]
  }
 ],
 "metadata": {
  "kernelspec": {
   "display_name": "Python 3 (ipykernel)",
   "language": "python",
   "name": "python3"
  },
  "language_info": {
   "codemirror_mode": {
    "name": "ipython",
    "version": 3
   },
   "file_extension": ".py",
   "mimetype": "text/x-python",
   "name": "python",
   "nbconvert_exporter": "python",
   "pygments_lexer": "ipython3",
   "version": "3.8.12"
  },
  "toc": {
   "base_numbering": 1,
   "nav_menu": {},
   "number_sections": true,
   "sideBar": true,
   "skip_h1_title": false,
   "title_cell": "Table of Contents",
   "title_sidebar": "Contents",
   "toc_cell": false,
   "toc_position": {},
   "toc_section_display": true,
   "toc_window_display": false
  }
 },
 "nbformat": 4,
 "nbformat_minor": 5
}
