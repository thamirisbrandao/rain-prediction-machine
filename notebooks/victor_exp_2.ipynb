{
 "cells": [
  {
   "cell_type": "markdown",
   "id": "94eb2ee2",
   "metadata": {},
   "source": [
    "# Importações"
   ]
  },
  {
   "cell_type": "code",
   "execution_count": 1,
   "id": "cf612922",
   "metadata": {},
   "outputs": [],
   "source": [
    "import pandas as pd\n",
    "from os import listdir\n",
    "from os.path import isfile, join\n",
    "import numpy as np\n",
    "from sklearn.impute import KNNImputer"
   ]
  },
  {
   "cell_type": "code",
   "execution_count": 1,
   "id": "bfc8fa98",
   "metadata": {},
   "outputs": [
    {
     "data": {
      "text/plain": [
       "'/home/thamirisbrandao/code/thamirisbrandao/rain-prediction-machine/notebooks'"
      ]
     },
     "execution_count": 1,
     "metadata": {},
     "output_type": "execute_result"
    }
   ],
   "source": [
    "from"
   ]
  },
  {
   "cell_type": "markdown",
   "id": "ff13f3c3",
   "metadata": {},
   "source": [
    "# Criando variáveis organizacionais"
   ]
  },
  {
   "cell_type": "code",
   "execution_count": 2,
   "id": "a1e68af9",
   "metadata": {},
   "outputs": [
    {
     "name": "stdout",
     "output_type": "stream",
     "text": [
      "INMET_SE_SP_A768_TUPA_01-01-2021_A_31-12-2021.CSV\n"
     ]
    }
   ],
   "source": [
    "path = '../raw_data/SP' #caminho geral\n",
    "files = [f for f in listdir(path) if isfile(join(path, f))] #lista de nomes de arquivos de dados\n",
    "print(files[0])"
   ]
  },
  {
   "cell_type": "markdown",
   "id": "dc269e2c",
   "metadata": {},
   "source": [
    "# Tratamentos iniciais dos dados"
   ]
  },
  {
   "cell_type": "markdown",
   "id": "2c3a140d",
   "metadata": {},
   "source": [
    "## Tratamentos básicos"
   ]
  },
  {
   "cell_type": "code",
   "execution_count": 3,
   "id": "649ce8fe",
   "metadata": {},
   "outputs": [],
   "source": [
    "#---------------------fazer list com os dataframes---------------------\n",
    "df_list = []\n",
    "for file in range(0,1):\n",
    "    df = pd.read_csv(f'../raw_data/SP/{files[file]}', sep=';', skiprows=8, encoding=\"ISO-8859-1\", decimal=',')\n",
    "    lat_log_alt = pd.read_csv(f'../raw_data/SP/{files[file]}', sep=';', skiprows=4,\n",
    "                          nrows=3, encoding=\"ISO-8859-1\", decimal=',', names=['lat_lon_alt','valor'])\n",
    "    df['Estaçao']=files[file].split('_')[4]\n",
    "    df['Latitude']=lat_log_alt['valor'][0]\n",
    "    df['Longitude']=lat_log_alt['valor'][1]\n",
    "    df['Altitude']=lat_log_alt['valor'][2]\n",
    "    df_list.append(df)\n",
    "df_list\n",
    "\n",
    "#---------------------fundir os dataframes no dataframe vazio---------------------\n",
    "full_df = pd.concat(df_list)\n",
    "full_df\n",
    "df2 = full_df.copy()\n",
    "\n",
    "#---------------------dropar coluna inútil---------------------\n",
    "df2.drop(columns=[\"Unnamed: 19\"],inplace=True)\n",
    "\n",
    "#---------------------mudar nome das colunas---------------------\n",
    "df2= df2.rename(columns={'Data': 'Data',\n",
    "                                            'Hora UTC': 'Hora(UTC)',\n",
    "                                            'PRECIPITAÇÃO TOTAL, HORÁRIO (mm)': 'Chuva',\n",
    "                                            'PRESSAO ATMOSFERICA AO NIVEL DA ESTACAO, HORARIA (mB)': 'Pres',\n",
    "                                            'PRESSÃO ATMOSFERICA MAX.NA HORA ANT. (AUT) (mB)': 'Pres.max',\n",
    "                                            'PRESSÃO ATMOSFERICA MIN. NA HORA ANT. (AUT) (mB)': 'Pres.min',\n",
    "                                            'RADIACAO GLOBAL (Kj/m²)': 'Radiacao',\n",
    "                                            'TEMPERATURA DO AR - BULBO SECO, HORARIA (°C)': 'Temp',\n",
    "                                            'TEMPERATURA DO PONTO DE ORVALHO (°C)': 'Temp.orvalho',\n",
    "                                            'TEMPERATURA MÁXIMA NA HORA ANT. (AUT) (°C)': 'Temp.max',\n",
    "                                            'TEMPERATURA MÍNIMA NA HORA ANT. (AUT) (°C)': 'Temp.min',\n",
    "                                            'TEMPERATURA ORVALHO MAX. NA HORA ANT. (AUT) (°C)': 'Temp.orvalho.max',\n",
    "                                            'TEMPERATURA ORVALHO MIN. NA HORA ANT. (AUT) (°C)': 'Temp.orvalho.min',\n",
    "                                            'UMIDADE REL. MAX. NA HORA ANT. (AUT) (%)': 'Umid.max',\n",
    "                                            'UMIDADE REL. MIN. NA HORA ANT. (AUT) (%)': 'Umid.min',\n",
    "                                            'UMIDADE RELATIVA DO AR, HORARIA (%)': 'Umid',\n",
    "                                            'VENTO, DIREÇÃO HORARIA (gr) (° (gr))': 'Dir.vento',\n",
    "                                            'VENTO, RAJADA MAXIMA (m/s)': 'Rajada.vento',\n",
    "                                            'VENTO, VELOCIDADE HORARIA (m/s)': 'Vel.vento'})"
   ]
  },
  {
   "cell_type": "code",
   "execution_count": 4,
   "id": "c43dbb72",
   "metadata": {},
   "outputs": [
    {
     "data": {
      "text/plain": [
       "Radiacao            0.483219\n",
       "Rajada.vento        0.196347\n",
       "Vel.vento           0.196005\n",
       "Dir.vento           0.196005\n",
       "Temp.orvalho.min    0.042694\n",
       "Temp.orvalho.max    0.042580\n",
       "Umid.max            0.042466\n",
       "Umid.min            0.042466\n",
       "Temp.orvalho        0.042009\n",
       "Umid                0.041895\n",
       "Pres.min            0.041667\n",
       "Pres.max            0.041667\n",
       "Temp.min            0.041553\n",
       "Temp.max            0.041553\n",
       "Pres                0.041210\n",
       "Chuva               0.041210\n",
       "Temp                0.041096\n",
       "Latitude            0.000000\n",
       "Longitude           0.000000\n",
       "Data                0.000000\n",
       "Estaçao             0.000000\n",
       "Hora(UTC)           0.000000\n",
       "Altitude            0.000000\n",
       "dtype: float64"
      ]
     },
     "execution_count": 4,
     "metadata": {},
     "output_type": "execute_result"
    }
   ],
   "source": [
    "#verificando células nulas\n",
    "df2.isnull().sum().sort_values(ascending=False)/len(df2)"
   ]
  },
  {
   "cell_type": "markdown",
   "id": "b5c86185",
   "metadata": {},
   "source": [
    "## Transformação de dados e preenchimento"
   ]
  },
  {
   "cell_type": "markdown",
   "id": "bcaec815",
   "metadata": {},
   "source": [
    "### Formatando data e hora"
   ]
  },
  {
   "cell_type": "code",
   "execution_count": 5,
   "id": "1fc86e43",
   "metadata": {
    "scrolled": true
   },
<<<<<<< HEAD:notebooks/victor_exp-Copy1.ipynb
   "outputs": [
    {
     "data": {
      "text/plain": [
       "0      2021-01-01 00:00:00+00:00\n",
       "1      2021-01-01 01:00:00+00:00\n",
       "2      2021-01-01 02:00:00+00:00\n",
       "3      2021-01-01 03:00:00+00:00\n",
       "4      2021-01-01 04:00:00+00:00\n",
       "                  ...           \n",
       "8755   2021-12-31 19:00:00+00:00\n",
       "8756   2021-12-31 20:00:00+00:00\n",
       "8757   2021-12-31 21:00:00+00:00\n",
       "8758   2021-12-31 22:00:00+00:00\n",
       "8759   2021-12-31 23:00:00+00:00\n",
       "Name: datahora, Length: 8760, dtype: datetime64[ns, UTC]"
      ]
     },
     "execution_count": 5,
     "metadata": {},
     "output_type": "execute_result"
    }
   ],
=======
   "outputs": [],
>>>>>>> master:notebooks/victor_exp_2.ipynb
   "source": [
    "#---------------------colocando data e hora no formato adequado---------------------\n",
    "#df2[\"Data\"] = pd.to_datetime(df2[\"Data\"])\n",
    "df2['datahora'] = df2.apply(lambda row: pd.to_datetime(f'{row[\"Data\"]} {row[\"Hora(UTC)\"]}'), axis=1)\n",
    "df2['datahora']"
   ]
  },
  {
   "cell_type": "markdown",
   "id": "1a930a7f",
   "metadata": {},
   "source": [
    "### Transformando chuva em variável categórica"
   ]
  },
  {
   "cell_type": "code",
   "execution_count": 6,
   "id": "b2f10bc1",
   "metadata": {},
   "outputs": [],
   "source": [
    "#---------------------transformando a chuva em variável categórica---------------------\n",
    "def classe_chuva(precipitacao):\n",
    "    mm=precipitacao\n",
    "    if mm == 0:\n",
    "        chuva = 'nao chove'\n",
    "    elif mm >0 and mm <=2.5:\n",
    "        chuva = 'fraca'\n",
    "    elif mm >2.5 and mm<=7.5:\n",
    "        chuva = 'moderada'\n",
    "    elif mm >7.5 and mm<=50:\n",
    "        chuva = 'forte'\n",
    "    else:\n",
    "        chuva = 'muito forte'\n",
    "    return chuva\n",
    "df2['classe_chuva'] = df2['Chuva'].apply(lambda x: classe_chuva(x))"
   ]
  },
  {
   "cell_type": "markdown",
   "id": "b539269c",
   "metadata": {},
   "source": [
    "### Tratando valores nulos de radiação"
   ]
  },
  {
   "cell_type": "code",
<<<<<<< HEAD:notebooks/victor_exp-Copy1.ipynb
   "execution_count": 7,
   "id": "4490af82",
=======
   "execution_count": null,
   "id": "dc328712",
   "metadata": {},
   "outputs": [],
   "source": [
    "teste = df2(100)"
   ]
  },
  {
   "cell_type": "code",
   "execution_count": 36,
   "id": "94228afe",
>>>>>>> master:notebooks/victor_exp_2.ipynb
   "metadata": {},
   "outputs": [],
   "source": [
    "#---------------------Tratando valores nulos de radiação---------------------\n",
    "def tratar_radiacao(hora,radiacao):\n",
    "    if (hora.hour >= 22) or (hora.hour <= 8):\n",
    "        if np.isnan(radiacao):\n",
    "            radiacao = 0\n",
    "    return radiacao\n",
    "df2['Radiacao'] = df2.apply(lambda x: tratar_radiacao(x['datahora'],x['Radiacao']),axis=1)"
   ]
  },
  {
   "cell_type": "code",
<<<<<<< HEAD:notebooks/victor_exp-Copy1.ipynb
   "execution_count": null,
   "id": "a02f5ccd",
   "metadata": {},
   "outputs": [],
   "source": []
=======
   "execution_count": 19,
   "id": "565f5395",
   "metadata": {},
   "outputs": [
    {
     "name": "stdout",
     "output_type": "stream",
     "text": [
      "2020-01-01 00:00:00+00:00\n"
     ]
    }
   ],
   "source": [
    "hora = df2.iloc[0]['datahora']\n",
    "\n",
    "if (hora.hour >= 22) or (hora.hour <= 8):\n",
    "    print(hora)"
   ]
>>>>>>> master:notebooks/victor_exp_2.ipynb
  },
  {
   "cell_type": "markdown",
   "id": "cef579e5",
   "metadata": {},
   "source": [
    "### Imputer da variável de vento"
   ]
  },
  {
   "cell_type": "code",
   "execution_count": 8,
   "id": "a16ff979",
   "metadata": {
    "scrolled": true
   },
   "outputs": [],
   "source": [
    "#---------------------fazer imputer nas colunas de vento---------------------\n",
    "imputer = KNNImputer(n_neighbors=2)\n",
    "df2[['Rajada.vento', 'Vel.vento', 'Dir.vento', 'Radiacao', 'Temp.orvalho.min', 'Temp.orvalho.max', 'Umid.min', 'Umid.max', 'Temp.orvalho', 'Umid', 'Pres.max', 'Pres.min', 'Temp.max', 'Temp.min', 'Chuva', 'Pres', 'Temp']] = imputer.fit_transform(df2[['Rajada.vento', 'Vel.vento', 'Dir.vento', 'Radiacao', 'Temp.orvalho.min', 'Temp.orvalho.max', 'Umid.min', 'Umid.max',  'Temp.orvalho', 'Umid', 'Pres.max', 'Pres.min', 'Temp.max', 'Temp.min', 'Chuva', 'Pres', 'Temp' ]])"
   ]
  },
  {
   "cell_type": "code",
   "execution_count": 9,
   "id": "fa4bec46",
   "metadata": {},
   "outputs": [],
   "source": [
    "df2.drop(columns=['Data', 'Hora(UTC)'],inplace=True)"
   ]
  },
  {
   "cell_type": "markdown",
   "id": "f0475f48",
   "metadata": {},
   "source": [
    "# Explorando os dados"
   ]
  },
  {
   "cell_type": "code",
<<<<<<< HEAD:notebooks/victor_exp-Copy1.ipynb
   "execution_count": 11,
=======
   "execution_count": 35,
   "id": "68077a93",
   "metadata": {},
   "outputs": [
    {
     "data": {
      "text/plain": [
       "True"
      ]
     },
     "execution_count": 35,
     "metadata": {},
     "output_type": "execute_result"
    }
   ],
   "source": [
    "np.isnan(df2['Radiacao'].iloc[0])"
   ]
  },
  {
   "cell_type": "code",
   "execution_count": null,
   "id": "8eefe998",
   "metadata": {},
   "outputs": [],
   "source": []
  },
  {
   "cell_type": "code",
   "execution_count": 11,
   "id": "e4324e64",
   "metadata": {},
   "outputs": [
    {
     "data": {
      "text/plain": [
       "0        0\n",
       "1        1\n",
       "2        2\n",
       "3        3\n",
       "4        4\n",
       "        ..\n",
       "8779    19\n",
       "8780    20\n",
       "8781    21\n",
       "8782    22\n",
       "8783    23\n",
       "Name: datahora, Length: 771936, dtype: int64"
      ]
     },
     "execution_count": 11,
     "metadata": {},
     "output_type": "execute_result"
    }
   ],
   "source": [
    "df2['datahora'].dt.hour\n"
   ]
  },
  {
   "cell_type": "code",
   "execution_count": 37,
>>>>>>> master:notebooks/victor_exp_2.ipynb
   "id": "29263353",
   "metadata": {
    "scrolled": true
   },
   "outputs": [
    {
     "data": {
      "text/html": [
       "<div>\n",
       "<style scoped>\n",
       "    .dataframe tbody tr th:only-of-type {\n",
       "        vertical-align: middle;\n",
       "    }\n",
       "\n",
       "    .dataframe tbody tr th {\n",
       "        vertical-align: top;\n",
       "    }\n",
       "\n",
       "    .dataframe thead th {\n",
       "        text-align: right;\n",
       "    }\n",
       "</style>\n",
       "<table border=\"1\" class=\"dataframe\">\n",
       "  <thead>\n",
       "    <tr style=\"text-align: right;\">\n",
       "      <th></th>\n",
       "      <th>Chuva</th>\n",
       "      <th>Pres</th>\n",
       "      <th>Pres.max</th>\n",
       "      <th>Pres.min</th>\n",
       "      <th>Radiacao</th>\n",
       "      <th>Temp</th>\n",
       "      <th>Temp.orvalho</th>\n",
       "      <th>Temp.max</th>\n",
       "      <th>Temp.min</th>\n",
       "      <th>Temp.orvalho.max</th>\n",
       "      <th>...</th>\n",
       "      <th>Umid</th>\n",
       "      <th>Dir.vento</th>\n",
       "      <th>Rajada.vento</th>\n",
       "      <th>Vel.vento</th>\n",
       "      <th>Estaçao</th>\n",
       "      <th>Latitude</th>\n",
       "      <th>Longitude</th>\n",
       "      <th>Altitude</th>\n",
       "      <th>datahora</th>\n",
       "      <th>classe_chuva</th>\n",
       "    </tr>\n",
       "  </thead>\n",
       "  <tbody>\n",
       "    <tr>\n",
       "      <th>0</th>\n",
       "      <td>0.0</td>\n",
<<<<<<< HEAD:notebooks/victor_exp-Copy1.ipynb
       "      <td>957.9</td>\n",
       "      <td>957.9</td>\n",
       "      <td>957.1</td>\n",
       "      <td>0.0</td>\n",
       "      <td>21.7</td>\n",
       "      <td>21.7</td>\n",
       "      <td>23.7</td>\n",
       "      <td>21.7</td>\n",
       "      <td>23.7</td>\n",
=======
       "      <td>923.1</td>\n",
       "      <td>923.1</td>\n",
       "      <td>922.1</td>\n",
       "      <td>0.0</td>\n",
       "      <td>22.0</td>\n",
       "      <td>20.5</td>\n",
       "      <td>22.2</td>\n",
>>>>>>> master:notebooks/victor_exp_2.ipynb
       "      <td>...</td>\n",
       "      <td>100.0</td>\n",
       "      <td>130.5</td>\n",
       "      <td>3.75</td>\n",
       "      <td>2.10</td>\n",
       "      <td>TUPA</td>\n",
       "      <td>-21.927251</td>\n",
       "      <td>-50.490251</td>\n",
       "      <td>498.0</td>\n",
       "      <td>2021-01-01 00:00:00+00:00</td>\n",
       "      <td>nao chove</td>\n",
       "    </tr>\n",
       "    <tr>\n",
       "      <th>1</th>\n",
       "      <td>0.0</td>\n",
<<<<<<< HEAD:notebooks/victor_exp-Copy1.ipynb
       "      <td>958.0</td>\n",
       "      <td>958.3</td>\n",
       "      <td>957.9</td>\n",
       "      <td>0.0</td>\n",
       "      <td>21.4</td>\n",
       "      <td>21.4</td>\n",
       "      <td>21.7</td>\n",
       "      <td>21.4</td>\n",
       "      <td>21.6</td>\n",
=======
       "      <td>923.7</td>\n",
       "      <td>923.7</td>\n",
       "      <td>923.1</td>\n",
       "      <td>0.0</td>\n",
       "      <td>22.1</td>\n",
       "      <td>20.7</td>\n",
       "      <td>22.3</td>\n",
>>>>>>> master:notebooks/victor_exp_2.ipynb
       "      <td>...</td>\n",
       "      <td>100.0</td>\n",
       "      <td>109.0</td>\n",
       "      <td>5.40</td>\n",
       "      <td>3.35</td>\n",
       "      <td>TUPA</td>\n",
       "      <td>-21.927251</td>\n",
       "      <td>-50.490251</td>\n",
       "      <td>498.0</td>\n",
       "      <td>2021-01-01 01:00:00+00:00</td>\n",
       "      <td>nao chove</td>\n",
       "    </tr>\n",
       "    <tr>\n",
       "      <th>2</th>\n",
       "      <td>0.0</td>\n",
<<<<<<< HEAD:notebooks/victor_exp-Copy1.ipynb
       "      <td>957.4</td>\n",
       "      <td>958.0</td>\n",
       "      <td>957.4</td>\n",
       "      <td>0.0</td>\n",
       "      <td>21.2</td>\n",
       "      <td>21.2</td>\n",
       "      <td>21.5</td>\n",
       "      <td>21.2</td>\n",
       "      <td>21.5</td>\n",
=======
       "      <td>923.6</td>\n",
       "      <td>923.8</td>\n",
       "      <td>923.6</td>\n",
       "      <td>0.0</td>\n",
       "      <td>23.2</td>\n",
       "      <td>20.1</td>\n",
       "      <td>23.5</td>\n",
>>>>>>> master:notebooks/victor_exp_2.ipynb
       "      <td>...</td>\n",
       "      <td>100.0</td>\n",
       "      <td>160.5</td>\n",
       "      <td>3.20</td>\n",
       "      <td>1.40</td>\n",
       "      <td>TUPA</td>\n",
       "      <td>-21.927251</td>\n",
       "      <td>-50.490251</td>\n",
       "      <td>498.0</td>\n",
       "      <td>2021-01-01 02:00:00+00:00</td>\n",
       "      <td>nao chove</td>\n",
       "    </tr>\n",
       "    <tr>\n",
       "      <th>3</th>\n",
       "      <td>0.0</td>\n",
<<<<<<< HEAD:notebooks/victor_exp-Copy1.ipynb
       "      <td>956.6</td>\n",
       "      <td>957.4</td>\n",
       "      <td>956.6</td>\n",
       "      <td>0.0</td>\n",
       "      <td>21.0</td>\n",
       "      <td>21.0</td>\n",
       "      <td>21.3</td>\n",
       "      <td>20.9</td>\n",
       "      <td>21.3</td>\n",
=======
       "      <td>923.1</td>\n",
       "      <td>923.6</td>\n",
       "      <td>923.1</td>\n",
       "      <td>0.0</td>\n",
       "      <td>23.3</td>\n",
       "      <td>19.5</td>\n",
       "      <td>23.6</td>\n",
>>>>>>> master:notebooks/victor_exp_2.ipynb
       "      <td>...</td>\n",
       "      <td>100.0</td>\n",
       "      <td>160.5</td>\n",
       "      <td>3.20</td>\n",
       "      <td>1.40</td>\n",
       "      <td>TUPA</td>\n",
       "      <td>-21.927251</td>\n",
       "      <td>-50.490251</td>\n",
       "      <td>498.0</td>\n",
       "      <td>2021-01-01 03:00:00+00:00</td>\n",
       "      <td>nao chove</td>\n",
       "    </tr>\n",
       "    <tr>\n",
       "      <th>4</th>\n",
       "      <td>0.0</td>\n",
<<<<<<< HEAD:notebooks/victor_exp-Copy1.ipynb
       "      <td>957.0</td>\n",
       "      <td>957.0</td>\n",
       "      <td>956.6</td>\n",
       "      <td>0.0</td>\n",
       "      <td>21.3</td>\n",
       "      <td>21.3</td>\n",
       "      <td>21.3</td>\n",
       "      <td>21.0</td>\n",
       "      <td>21.3</td>\n",
=======
       "      <td>922.6</td>\n",
       "      <td>923.1</td>\n",
       "      <td>922.6</td>\n",
       "      <td>0.0</td>\n",
       "      <td>22.9</td>\n",
       "      <td>19.0</td>\n",
       "      <td>23.6</td>\n",
>>>>>>> master:notebooks/victor_exp_2.ipynb
       "      <td>...</td>\n",
       "      <td>100.0</td>\n",
       "      <td>160.5</td>\n",
       "      <td>3.20</td>\n",
       "      <td>1.40</td>\n",
       "      <td>TUPA</td>\n",
       "      <td>-21.927251</td>\n",
       "      <td>-50.490251</td>\n",
       "      <td>498.0</td>\n",
       "      <td>2021-01-01 04:00:00+00:00</td>\n",
       "      <td>nao chove</td>\n",
       "    </tr>\n",
       "    <tr>\n",
       "      <th>...</th>\n",
       "      <td>...</td>\n",
       "      <td>...</td>\n",
       "      <td>...</td>\n",
       "      <td>...</td>\n",
       "      <td>...</td>\n",
       "      <td>...</td>\n",
       "      <td>...</td>\n",
       "      <td>...</td>\n",
       "      <td>...</td>\n",
       "      <td>...</td>\n",
       "      <td>...</td>\n",
       "      <td>...</td>\n",
       "      <td>...</td>\n",
       "      <td>...</td>\n",
       "      <td>...</td>\n",
       "      <td>...</td>\n",
       "      <td>...</td>\n",
       "      <td>...</td>\n",
       "      <td>...</td>\n",
       "      <td>...</td>\n",
       "      <td>...</td>\n",
       "    </tr>\n",
       "    <tr>\n",
       "      <th>8755</th>\n",
       "      <td>0.0</td>\n",
       "      <td>947.7</td>\n",
       "      <td>948.2</td>\n",
       "      <td>947.6</td>\n",
       "      <td>2930.5</td>\n",
       "      <td>30.0</td>\n",
       "      <td>18.7</td>\n",
       "      <td>30.4</td>\n",
       "      <td>28.6</td>\n",
       "      <td>20.0</td>\n",
       "      <td>...</td>\n",
       "      <td>51.0</td>\n",
       "      <td>238.0</td>\n",
       "      <td>8.40</td>\n",
       "      <td>2.70</td>\n",
       "      <td>TUPA</td>\n",
       "      <td>-21.927251</td>\n",
       "      <td>-50.490251</td>\n",
       "      <td>498.0</td>\n",
       "      <td>2021-12-31 19:00:00+00:00</td>\n",
       "      <td>nao chove</td>\n",
       "    </tr>\n",
       "    <tr>\n",
       "      <th>8756</th>\n",
       "      <td>0.0</td>\n",
       "      <td>947.6</td>\n",
       "      <td>947.7</td>\n",
       "      <td>947.5</td>\n",
       "      <td>1773.5</td>\n",
       "      <td>29.6</td>\n",
       "      <td>17.9</td>\n",
       "      <td>30.5</td>\n",
       "      <td>29.4</td>\n",
       "      <td>19.1</td>\n",
       "      <td>...</td>\n",
       "      <td>50.0</td>\n",
       "      <td>202.0</td>\n",
       "      <td>6.40</td>\n",
       "      <td>2.00</td>\n",
       "      <td>TUPA</td>\n",
       "      <td>-21.927251</td>\n",
       "      <td>-50.490251</td>\n",
       "      <td>498.0</td>\n",
       "      <td>2021-12-31 20:00:00+00:00</td>\n",
       "      <td>nao chove</td>\n",
       "    </tr>\n",
       "    <tr>\n",
       "      <th>8757</th>\n",
       "      <td>0.0</td>\n",
       "      <td>948.0</td>\n",
       "      <td>948.0</td>\n",
       "      <td>947.6</td>\n",
       "      <td>1157.7</td>\n",
       "      <td>25.7</td>\n",
       "      <td>20.7</td>\n",
       "      <td>29.6</td>\n",
       "      <td>25.7</td>\n",
       "      <td>21.0</td>\n",
       "      <td>...</td>\n",
       "      <td>74.0</td>\n",
       "      <td>19.0</td>\n",
       "      <td>6.20</td>\n",
       "      <td>2.90</td>\n",
       "      <td>TUPA</td>\n",
       "      <td>-21.927251</td>\n",
       "      <td>-50.490251</td>\n",
       "      <td>498.0</td>\n",
       "      <td>2021-12-31 21:00:00+00:00</td>\n",
       "      <td>nao chove</td>\n",
       "    </tr>\n",
       "    <tr>\n",
<<<<<<< HEAD:notebooks/victor_exp-Copy1.ipynb
       "      <th>8758</th>\n",
       "      <td>0.0</td>\n",
       "      <td>948.4</td>\n",
       "      <td>948.4</td>\n",
       "      <td>948.0</td>\n",
       "      <td>219.7</td>\n",
       "      <td>24.7</td>\n",
       "      <td>19.9</td>\n",
       "      <td>26.0</td>\n",
       "      <td>24.7</td>\n",
       "      <td>21.4</td>\n",
=======
       "      <th>8782</th>\n",
       "      <td>2020/12/31</td>\n",
       "      <td>2200 UTC</td>\n",
       "      <td>NaN</td>\n",
       "      <td>NaN</td>\n",
       "      <td>NaN</td>\n",
       "      <td>NaN</td>\n",
       "      <td>0.0</td>\n",
       "      <td>NaN</td>\n",
       "      <td>NaN</td>\n",
       "      <td>NaN</td>\n",
>>>>>>> master:notebooks/victor_exp_2.ipynb
       "      <td>...</td>\n",
       "      <td>75.0</td>\n",
       "      <td>48.0</td>\n",
       "      <td>4.60</td>\n",
       "      <td>1.40</td>\n",
       "      <td>TUPA</td>\n",
       "      <td>-21.927251</td>\n",
       "      <td>-50.490251</td>\n",
       "      <td>498.0</td>\n",
       "      <td>2021-12-31 22:00:00+00:00</td>\n",
       "      <td>nao chove</td>\n",
       "    </tr>\n",
       "    <tr>\n",
       "      <th>8759</th>\n",
       "      <td>0.0</td>\n",
<<<<<<< HEAD:notebooks/victor_exp-Copy1.ipynb
       "      <td>949.1</td>\n",
       "      <td>949.1</td>\n",
       "      <td>948.4</td>\n",
       "      <td>0.0</td>\n",
       "      <td>24.7</td>\n",
       "      <td>19.0</td>\n",
       "      <td>25.2</td>\n",
       "      <td>23.9</td>\n",
       "      <td>20.8</td>\n",
=======
       "      <td>952.5</td>\n",
       "      <td>952.6</td>\n",
       "      <td>952.0</td>\n",
       "      <td>0.0</td>\n",
       "      <td>23.6</td>\n",
       "      <td>22.3</td>\n",
       "      <td>23.6</td>\n",
>>>>>>> master:notebooks/victor_exp_2.ipynb
       "      <td>...</td>\n",
       "      <td>70.0</td>\n",
       "      <td>351.0</td>\n",
       "      <td>2.30</td>\n",
       "      <td>1.00</td>\n",
       "      <td>TUPA</td>\n",
       "      <td>-21.927251</td>\n",
       "      <td>-50.490251</td>\n",
       "      <td>498.0</td>\n",
       "      <td>2021-12-31 23:00:00+00:00</td>\n",
       "      <td>nao chove</td>\n",
       "    </tr>\n",
       "  </tbody>\n",
       "</table>\n",
       "<p>8760 rows × 23 columns</p>\n",
       "</div>"
      ],
      "text/plain": [
<<<<<<< HEAD:notebooks/victor_exp-Copy1.ipynb
       "      Chuva   Pres  Pres.max  Pres.min  Radiacao  Temp  Temp.orvalho  \\\n",
       "0       0.0  957.9     957.9     957.1       0.0  21.7          21.7   \n",
       "1       0.0  958.0     958.3     957.9       0.0  21.4          21.4   \n",
       "2       0.0  957.4     958.0     957.4       0.0  21.2          21.2   \n",
       "3       0.0  956.6     957.4     956.6       0.0  21.0          21.0   \n",
       "4       0.0  957.0     957.0     956.6       0.0  21.3          21.3   \n",
       "...     ...    ...       ...       ...       ...   ...           ...   \n",
       "8755    0.0  947.7     948.2     947.6    2930.5  30.0          18.7   \n",
       "8756    0.0  947.6     947.7     947.5    1773.5  29.6          17.9   \n",
       "8757    0.0  948.0     948.0     947.6    1157.7  25.7          20.7   \n",
       "8758    0.0  948.4     948.4     948.0     219.7  24.7          19.9   \n",
       "8759    0.0  949.1     949.1     948.4       0.0  24.7          19.0   \n",
=======
       "            Data Hora(UTC)  Chuva   Pres  Pres.max  Pres.min  Radiacao  Temp  \\\n",
       "0     2020/01/01  0000 UTC    0.0  923.1     923.1     922.1       0.0  22.0   \n",
       "1     2020/01/01  0100 UTC    0.0  923.7     923.7     923.1       0.0  22.1   \n",
       "2     2020/01/01  0200 UTC    0.0  923.6     923.8     923.6       0.0  23.2   \n",
       "3     2020/01/01  0300 UTC    0.0  923.1     923.6     923.1       0.0  23.3   \n",
       "4     2020/01/01  0400 UTC    0.0  922.6     923.1     922.6       0.0  22.9   \n",
       "...          ...       ...    ...    ...       ...       ...       ...   ...   \n",
       "8779  2020/12/31  1900 UTC    0.0  951.5     951.6     951.3    1477.3  27.8   \n",
       "8780  2020/12/31  2000 UTC    0.0  951.6     951.7     951.3     746.7  27.2   \n",
       "8781  2020/12/31  2100 UTC    0.0  951.4     951.6     951.3     321.1  25.3   \n",
       "8782  2020/12/31  2200 UTC    NaN    NaN       NaN       NaN       0.0   NaN   \n",
       "8783  2020/12/31  2300 UTC    0.0  952.5     952.6     952.0       0.0  23.6   \n",
>>>>>>> master:notebooks/victor_exp_2.ipynb
       "\n",
       "      Temp.max  Temp.min  Temp.orvalho.max  ...   Umid  Dir.vento  \\\n",
       "0         23.7      21.7              23.7  ...  100.0      130.5   \n",
       "1         21.7      21.4              21.6  ...  100.0      109.0   \n",
       "2         21.5      21.2              21.5  ...  100.0      160.5   \n",
       "3         21.3      20.9              21.3  ...  100.0      160.5   \n",
       "4         21.3      21.0              21.3  ...  100.0      160.5   \n",
       "...        ...       ...               ...  ...    ...        ...   \n",
       "8755      30.4      28.6              20.0  ...   51.0      238.0   \n",
       "8756      30.5      29.4              19.1  ...   50.0      202.0   \n",
       "8757      29.6      25.7              21.0  ...   74.0       19.0   \n",
       "8758      26.0      24.7              21.4  ...   75.0       48.0   \n",
       "8759      25.2      23.9              20.8  ...   70.0      351.0   \n",
       "\n",
       "      Rajada.vento  Vel.vento  Estaçao   Latitude  Longitude Altitude  \\\n",
       "0             3.75       2.10     TUPA -21.927251 -50.490251    498.0   \n",
       "1             5.40       3.35     TUPA -21.927251 -50.490251    498.0   \n",
       "2             3.20       1.40     TUPA -21.927251 -50.490251    498.0   \n",
       "3             3.20       1.40     TUPA -21.927251 -50.490251    498.0   \n",
       "4             3.20       1.40     TUPA -21.927251 -50.490251    498.0   \n",
       "...            ...        ...      ...        ...        ...      ...   \n",
       "8755          8.40       2.70     TUPA -21.927251 -50.490251    498.0   \n",
       "8756          6.40       2.00     TUPA -21.927251 -50.490251    498.0   \n",
       "8757          6.20       2.90     TUPA -21.927251 -50.490251    498.0   \n",
       "8758          4.60       1.40     TUPA -21.927251 -50.490251    498.0   \n",
       "8759          2.30       1.00     TUPA -21.927251 -50.490251    498.0   \n",
       "\n",
       "                      datahora  classe_chuva  \n",
       "0    2021-01-01 00:00:00+00:00     nao chove  \n",
       "1    2021-01-01 01:00:00+00:00     nao chove  \n",
       "2    2021-01-01 02:00:00+00:00     nao chove  \n",
       "3    2021-01-01 03:00:00+00:00     nao chove  \n",
       "4    2021-01-01 04:00:00+00:00     nao chove  \n",
       "...                        ...           ...  \n",
       "8755 2021-12-31 19:00:00+00:00     nao chove  \n",
       "8756 2021-12-31 20:00:00+00:00     nao chove  \n",
       "8757 2021-12-31 21:00:00+00:00     nao chove  \n",
       "8758 2021-12-31 22:00:00+00:00     nao chove  \n",
       "8759 2021-12-31 23:00:00+00:00     nao chove  \n",
       "\n",
       "[8760 rows x 23 columns]"
      ]
     },
<<<<<<< HEAD:notebooks/victor_exp-Copy1.ipynb
     "execution_count": 11,
=======
     "execution_count": 37,
>>>>>>> master:notebooks/victor_exp_2.ipynb
     "metadata": {},
     "output_type": "execute_result"
    }
   ],
   "source": [
    "df2"
   ]
  },
  {
   "cell_type": "code",
<<<<<<< HEAD:notebooks/victor_exp-Copy1.ipynb
   "execution_count": null,
   "id": "dab4e1a8",
   "metadata": {},
   "outputs": [],
   "source": []
  },
  {
   "cell_type": "code",
   "execution_count": 12,
   "id": "3a65c88b",
=======
   "execution_count": 38,
   "id": "c43dbb72",
>>>>>>> master:notebooks/victor_exp_2.ipynb
   "metadata": {},
   "outputs": [
    {
     "data": {
      "text/plain": [
<<<<<<< HEAD:notebooks/victor_exp-Copy1.ipynb
       "Chuva               0.0\n",
       "Umid.min            0.0\n",
       "datahora            0.0\n",
       "Altitude            0.0\n",
       "Longitude           0.0\n",
       "Latitude            0.0\n",
       "Estaçao             0.0\n",
       "Vel.vento           0.0\n",
       "Rajada.vento        0.0\n",
       "Dir.vento           0.0\n",
       "Umid                0.0\n",
       "Umid.max            0.0\n",
       "Pres                0.0\n",
       "Temp.orvalho.min    0.0\n",
       "Temp.orvalho.max    0.0\n",
       "Temp.min            0.0\n",
       "Temp.max            0.0\n",
       "Temp.orvalho        0.0\n",
       "Temp                0.0\n",
       "Radiacao            0.0\n",
       "Pres.min            0.0\n",
       "Pres.max            0.0\n",
       "classe_chuva        0.0\n",
       "dtype: float64"
      ]
     },
     "execution_count": 12,
=======
       "Chuva               0.424913\n",
       "Rajada.vento        0.358421\n",
       "Dir.vento           0.356820\n",
       "Vel.vento           0.356813\n",
       "Temp.orvalho.min    0.335100\n",
       "Temp.orvalho.max    0.334880\n",
       "Umid.max            0.334200\n",
       "Umid.min            0.334160\n",
       "Temp.orvalho        0.331385\n",
       "Umid                0.331277\n",
       "Temp.max            0.320122\n",
       "Temp.min            0.320120\n",
       "Pres.min            0.319472\n",
       "Pres.max            0.319459\n",
       "Temp                0.317793\n",
       "Pres                0.317138\n",
       "Radiacao            0.196485\n",
       "datahora            0.000000\n",
       "Longitude           0.000000\n",
       "Altitude            0.000000\n",
       "Data                0.000000\n",
       "Latitude            0.000000\n",
       "Estaçao             0.000000\n",
       "Hora(UTC)           0.000000\n",
       "classe_chuva        0.000000\n",
       "dtype: float64"
      ]
     },
     "execution_count": 38,
>>>>>>> master:notebooks/victor_exp_2.ipynb
     "metadata": {},
     "output_type": "execute_result"
    }
   ],
   "source": [
    "df2.isnull().sum().sort_values(ascending=False)/len(df2)"
   ]
  },
  {
   "cell_type": "code",
   "execution_count": 13,
   "id": "a52fb088",
   "metadata": {},
   "outputs": [
    {
     "data": {
      "text/html": [
       "<div>\n",
       "<style scoped>\n",
       "    .dataframe tbody tr th:only-of-type {\n",
       "        vertical-align: middle;\n",
       "    }\n",
       "\n",
       "    .dataframe tbody tr th {\n",
       "        vertical-align: top;\n",
       "    }\n",
       "\n",
       "    .dataframe thead th {\n",
       "        text-align: right;\n",
       "    }\n",
       "</style>\n",
       "<table border=\"1\" class=\"dataframe\">\n",
       "  <thead>\n",
       "    <tr style=\"text-align: right;\">\n",
       "      <th></th>\n",
       "      <th>Chuva</th>\n",
       "      <th>Pres</th>\n",
       "      <th>Pres.max</th>\n",
       "      <th>Pres.min</th>\n",
       "      <th>Radiacao</th>\n",
       "      <th>Temp</th>\n",
       "      <th>Temp.orvalho</th>\n",
       "      <th>Temp.max</th>\n",
       "      <th>Temp.min</th>\n",
       "      <th>Temp.orvalho.max</th>\n",
       "      <th>...</th>\n",
       "      <th>Umid</th>\n",
       "      <th>Dir.vento</th>\n",
       "      <th>Rajada.vento</th>\n",
       "      <th>Vel.vento</th>\n",
       "      <th>Estaçao</th>\n",
       "      <th>Latitude</th>\n",
       "      <th>Longitude</th>\n",
       "      <th>Altitude</th>\n",
       "      <th>datahora</th>\n",
       "      <th>classe_chuva</th>\n",
       "    </tr>\n",
       "  </thead>\n",
       "  <tbody>\n",
       "  </tbody>\n",
       "</table>\n",
       "<p>0 rows × 23 columns</p>\n",
       "</div>"
      ],
      "text/plain": [
       "Empty DataFrame\n",
       "Columns: [Chuva, Pres, Pres.max, Pres.min, Radiacao, Temp, Temp.orvalho, Temp.max, Temp.min, Temp.orvalho.max, Temp.orvalho.min, Umid.max, Umid.min, Umid, Dir.vento, Rajada.vento, Vel.vento, Estaçao, Latitude, Longitude, Altitude, datahora, classe_chuva]\n",
       "Index: []\n",
       "\n",
       "[0 rows x 23 columns]"
      ]
     },
     "execution_count": 13,
     "metadata": {},
     "output_type": "execute_result"
    }
   ],
   "source": [
    "df2[df2['Radiacao'].isna()]"
   ]
  }
 ],
 "metadata": {
  "kernelspec": {
   "display_name": "Python 3 (ipykernel)",
   "language": "python",
   "name": "python3"
  },
  "language_info": {
   "codemirror_mode": {
    "name": "ipython",
    "version": 3
   },
   "file_extension": ".py",
   "mimetype": "text/x-python",
   "name": "python",
   "nbconvert_exporter": "python",
   "pygments_lexer": "ipython3",
   "version": "3.8.12"
  },
  "toc": {
   "base_numbering": 1,
   "nav_menu": {},
   "number_sections": true,
   "sideBar": true,
   "skip_h1_title": false,
   "title_cell": "Table of Contents",
   "title_sidebar": "Contents",
   "toc_cell": false,
   "toc_position": {},
   "toc_section_display": true,
   "toc_window_display": false
  }
 },
 "nbformat": 4,
 "nbformat_minor": 5
}
