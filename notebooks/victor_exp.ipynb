{
 "cells": [
  {
   "cell_type": "markdown",
   "id": "94eb2ee2",
   "metadata": {},
   "source": [
    "# Importações"
   ]
  },
  {
   "cell_type": "code",
   "execution_count": 1,
   "id": "cf612922",
   "metadata": {},
   "outputs": [],
   "source": [
    "import pandas as pd\n",
    "from os import listdir\n",
    "from os.path import isfile, join\n",
    "import numpy as np\n",
    "from sklearn.impute import KNNImputer"
   ]
  },
  {
   "cell_type": "markdown",
   "id": "ff13f3c3",
   "metadata": {},
   "source": [
    "# Criando variáveis organizacionais"
   ]
  },
  {
   "cell_type": "code",
   "execution_count": 2,
   "id": "a1e68af9",
   "metadata": {},
   "outputs": [
    {
     "name": "stdout",
     "output_type": "stream",
     "text": [
      "INMET_SE_SP_A768_TUPA_01-01-2021_A_31-12-2021.CSV\n"
     ]
    }
   ],
   "source": [
    "path = '../raw_data/SP' #caminho geral\n",
    "files = [f for f in listdir(path) if isfile(join(path, f))] #lista de nomes de arquivos de dados\n",
    "print(files[0])"
   ]
  },
  {
   "cell_type": "markdown",
   "id": "dc269e2c",
   "metadata": {},
   "source": [
    "# Tratamentos iniciais dos dados"
   ]
  },
  {
   "cell_type": "markdown",
   "id": "2c3a140d",
   "metadata": {},
   "source": [
    "## Tratamentos básicos"
   ]
  },
  {
   "cell_type": "code",
   "execution_count": 3,
   "id": "649ce8fe",
   "metadata": {},
   "outputs": [],
   "source": [
    "#---------------------fazer list com os dataframes---------------------\n",
    "df_list = []\n",
    "for file in range(0,88):\n",
    "    df = pd.read_csv(f'../raw_data/SP/{files[file]}', sep=';', skiprows=8, encoding=\"ISO-8859-1\", decimal=',')\n",
    "    lat_log_alt = pd.read_csv(f'../raw_data/SP/{files[file]}', sep=';', skiprows=4,\n",
    "                          nrows=3, encoding=\"ISO-8859-1\", decimal=',', names=['lat_lon_alt','valor'])\n",
    "    df['Estaçao']=files[file].split('_')[4]\n",
    "    df['Latitude']=lat_log_alt['valor'][0]\n",
    "    df['Longitude']=lat_log_alt['valor'][1]\n",
    "    df['Altitude']=lat_log_alt['valor'][2]\n",
    "    df_list.append(df)\n",
    "df_list\n",
    "\n",
    "#---------------------fundir os dataframes no dataframe vazio---------------------\n",
    "full_df = pd.concat(df_list)\n",
    "full_df\n",
    "df2 = full_df.copy()\n",
    "\n",
    "#---------------------dropar coluna inútil---------------------\n",
    "df2.drop(columns=[\"Unnamed: 19\"],inplace=True)\n",
    "\n",
    "#---------------------mudar nome das colunas---------------------\n",
    "df2= df2.rename(columns={'Data': 'Data',\n",
    "                                            'Hora UTC': 'Hora(UTC)',\n",
    "                                            'PRECIPITAÇÃO TOTAL, HORÁRIO (mm)': 'Chuva',\n",
    "                                            'PRESSAO ATMOSFERICA AO NIVEL DA ESTACAO, HORARIA (mB)': 'Pres',\n",
    "                                            'PRESSÃO ATMOSFERICA MAX.NA HORA ANT. (AUT) (mB)': 'Pres.max',\n",
    "                                            'PRESSÃO ATMOSFERICA MIN. NA HORA ANT. (AUT) (mB)': 'Pres.min',\n",
    "                                            'RADIACAO GLOBAL (Kj/m²)': 'Radiacao',\n",
    "                                            'TEMPERATURA DO AR - BULBO SECO, HORARIA (°C)': 'Temp',\n",
    "                                            'TEMPERATURA DO PONTO DE ORVALHO (°C)': 'Temp.orvalho',\n",
    "                                            'TEMPERATURA MÁXIMA NA HORA ANT. (AUT) (°C)': 'Temp.max',\n",
    "                                            'TEMPERATURA MÍNIMA NA HORA ANT. (AUT) (°C)': 'Temp.min',\n",
    "                                            'TEMPERATURA ORVALHO MAX. NA HORA ANT. (AUT) (°C)': 'Temp.orvalho.max',\n",
    "                                            'TEMPERATURA ORVALHO MIN. NA HORA ANT. (AUT) (°C)': 'Temp.orvalho.min',\n",
    "                                            'UMIDADE REL. MAX. NA HORA ANT. (AUT) (%)': 'Umid.max',\n",
    "                                            'UMIDADE REL. MIN. NA HORA ANT. (AUT) (%)': 'Umid.min',\n",
    "                                            'UMIDADE RELATIVA DO AR, HORARIA (%)': 'Umid',\n",
    "                                            'VENTO, DIREÇÃO HORARIA (gr) (° (gr))': 'Dir.vento',\n",
    "                                            'VENTO, RAJADA MAXIMA (m/s)': 'Rajada.vento',\n",
    "                                            'VENTO, VELOCIDADE HORARIA (m/s)': 'Vel.vento'})"
   ]
  },
  {
   "cell_type": "markdown",
   "id": "b5c86185",
   "metadata": {},
   "source": [
    "## Transformação de dados e preenchimento"
   ]
  },
  {
   "cell_type": "markdown",
   "id": "bcaec815",
   "metadata": {},
   "source": [
    "### Formatando data e hora"
   ]
  },
  {
   "cell_type": "code",
   "execution_count": 4,
   "id": "1fc86e43",
   "metadata": {
    "scrolled": true
   },
   "outputs": [],
   "source": [
    "#---------------------colocando data e hora no formato adequado---------------------\n",
    "#df2[\"Data\"] = pd.to_datetime(df2[\"Data\"])\n",
    "df2['datahora'] = df2.apply(lambda row: pd.to_datetime(f'{row[\"Data\"]} {row[\"Hora(UTC)\"]}'), axis=1)"
   ]
  },
  {
   "cell_type": "markdown",
   "id": "1a930a7f",
   "metadata": {},
   "source": [
    "### Transformando chuva em variável categórica"
   ]
  },
  {
   "cell_type": "code",
   "execution_count": 5,
   "id": "b2f10bc1",
   "metadata": {},
   "outputs": [],
   "source": [
    "#---------------------transformando a chuva em variável categórica---------------------\n",
    "def classe_chuva(precipitacao):\n",
    "    mm=precipitacao\n",
    "    if mm == \"NaN\":\n",
    "        chuva = \"NaN\"\n",
    "    if mm == 0:\n",
    "        chuva = 'nao chove'\n",
    "    elif mm >0 and mm <=2.5:\n",
    "        chuva = 'fraca'\n",
    "    elif mm >2.5 and mm<=7.5:\n",
    "        chuva = 'moderada'\n",
    "    elif mm >7.5 and mm<=50:\n",
    "        chuva = 'forte'\n",
    "    else:\n",
    "        chuva = 'muito forte'\n",
    "    return chuva\n",
    "df2['classe_chuva'] = df2['Chuva'].apply(lambda x: classe_chuva(x))"
   ]
  },
  {
   "cell_type": "markdown",
   "id": "b539269c",
   "metadata": {},
   "source": [
    "### Tratando valores nulos de radiação"
   ]
  },
  {
   "cell_type": "code",
   "execution_count": 6,
   "id": "94228afe",
   "metadata": {},
   "outputs": [],
   "source": [
    "#---------------------Tratando valores nulos de radiação---------------------\n",
    "def tratar_radiacao(hora,radiacao):\n",
    "    if (hora.hour >= 22) and (hora.hour <= 8):\n",
    "        if str(radiacao) == \"NaN\":\n",
    "            radiacao = 0\n",
    "    return radiacao\n",
    "df2['Radiacao'] = df2.apply(lambda x: tratar_radiacao(x['datahora'],x['Radiacao']),axis=1)"
   ]
  },
  {
   "cell_type": "markdown",
   "id": "cef579e5",
   "metadata": {},
   "source": [
    "### Imputer da variável de vento"
   ]
  },
  {
   "cell_type": "code",
   "execution_count": 7,
   "id": "a16ff979",
   "metadata": {
    "scrolled": true
   },
   "outputs": [
    {
     "ename": "KeyboardInterrupt",
     "evalue": "",
     "output_type": "error",
     "traceback": [
      "\u001b[0;31m---------------------------------------------------------------------------\u001b[0m",
      "\u001b[0;31mKeyboardInterrupt\u001b[0m                         Traceback (most recent call last)",
      "Input \u001b[0;32mIn [7]\u001b[0m, in \u001b[0;36m<cell line: 3>\u001b[0;34m()\u001b[0m\n\u001b[1;32m      1\u001b[0m \u001b[38;5;66;03m#---------------------fazer imputer nas colunas de vento---------------------\u001b[39;00m\n\u001b[1;32m      2\u001b[0m imputer \u001b[38;5;241m=\u001b[39m KNNImputer(n_neighbors\u001b[38;5;241m=\u001b[39m\u001b[38;5;241m2\u001b[39m)\n\u001b[0;32m----> 3\u001b[0m \u001b[43mimputer\u001b[49m\u001b[38;5;241;43m.\u001b[39;49m\u001b[43mfit_transform\u001b[49m\u001b[43m(\u001b[49m\u001b[43mdf2\u001b[49m\u001b[43m[\u001b[49m\u001b[43m[\u001b[49m\u001b[38;5;124;43m'\u001b[39;49m\u001b[38;5;124;43mRajada.vento\u001b[39;49m\u001b[38;5;124;43m'\u001b[39;49m\u001b[43m,\u001b[49m\u001b[43m \u001b[49m\u001b[38;5;124;43m'\u001b[39;49m\u001b[38;5;124;43mVel.vento\u001b[39;49m\u001b[38;5;124;43m'\u001b[39;49m\u001b[43m,\u001b[49m\u001b[43m \u001b[49m\u001b[38;5;124;43m'\u001b[39;49m\u001b[38;5;124;43mDir.vento\u001b[39;49m\u001b[38;5;124;43m'\u001b[39;49m\u001b[43m]\u001b[49m\u001b[43m]\u001b[49m\u001b[43m)\u001b[49m\n",
      "File \u001b[0;32m~/.pyenv/versions/3.8.12/envs/rain-prediction-machine/lib/python3.8/site-packages/sklearn/base.py:852\u001b[0m, in \u001b[0;36mTransformerMixin.fit_transform\u001b[0;34m(self, X, y, **fit_params)\u001b[0m\n\u001b[1;32m    848\u001b[0m \u001b[38;5;66;03m# non-optimized default implementation; override when a better\u001b[39;00m\n\u001b[1;32m    849\u001b[0m \u001b[38;5;66;03m# method is possible for a given clustering algorithm\u001b[39;00m\n\u001b[1;32m    850\u001b[0m \u001b[38;5;28;01mif\u001b[39;00m y \u001b[38;5;129;01mis\u001b[39;00m \u001b[38;5;28;01mNone\u001b[39;00m:\n\u001b[1;32m    851\u001b[0m     \u001b[38;5;66;03m# fit method of arity 1 (unsupervised transformation)\u001b[39;00m\n\u001b[0;32m--> 852\u001b[0m     \u001b[38;5;28;01mreturn\u001b[39;00m \u001b[38;5;28;43mself\u001b[39;49m\u001b[38;5;241;43m.\u001b[39;49m\u001b[43mfit\u001b[49m\u001b[43m(\u001b[49m\u001b[43mX\u001b[49m\u001b[43m,\u001b[49m\u001b[43m \u001b[49m\u001b[38;5;241;43m*\u001b[39;49m\u001b[38;5;241;43m*\u001b[39;49m\u001b[43mfit_params\u001b[49m\u001b[43m)\u001b[49m\u001b[38;5;241;43m.\u001b[39;49m\u001b[43mtransform\u001b[49m\u001b[43m(\u001b[49m\u001b[43mX\u001b[49m\u001b[43m)\u001b[49m\n\u001b[1;32m    853\u001b[0m \u001b[38;5;28;01melse\u001b[39;00m:\n\u001b[1;32m    854\u001b[0m     \u001b[38;5;66;03m# fit method of arity 2 (supervised transformation)\u001b[39;00m\n\u001b[1;32m    855\u001b[0m     \u001b[38;5;28;01mreturn\u001b[39;00m \u001b[38;5;28mself\u001b[39m\u001b[38;5;241m.\u001b[39mfit(X, y, \u001b[38;5;241m*\u001b[39m\u001b[38;5;241m*\u001b[39mfit_params)\u001b[38;5;241m.\u001b[39mtransform(X)\n",
      "File \u001b[0;32m~/.pyenv/versions/3.8.12/envs/rain-prediction-machine/lib/python3.8/site-packages/sklearn/impute/_knn.py:336\u001b[0m, in \u001b[0;36mKNNImputer.transform\u001b[0;34m(self, X)\u001b[0m\n\u001b[1;32m    327\u001b[0m \u001b[38;5;66;03m# process in fixed-memory chunks\u001b[39;00m\n\u001b[1;32m    328\u001b[0m gen \u001b[38;5;241m=\u001b[39m pairwise_distances_chunked(\n\u001b[1;32m    329\u001b[0m     X[row_missing_idx, :],\n\u001b[1;32m    330\u001b[0m     \u001b[38;5;28mself\u001b[39m\u001b[38;5;241m.\u001b[39m_fit_X,\n\u001b[0;32m   (...)\u001b[0m\n\u001b[1;32m    334\u001b[0m     reduce_func\u001b[38;5;241m=\u001b[39mprocess_chunk,\n\u001b[1;32m    335\u001b[0m )\n\u001b[0;32m--> 336\u001b[0m \u001b[38;5;28;01mfor\u001b[39;00m chunk \u001b[38;5;129;01min\u001b[39;00m gen:\n\u001b[1;32m    337\u001b[0m     \u001b[38;5;66;03m# process_chunk modifies X in place. No return value.\u001b[39;00m\n\u001b[1;32m    338\u001b[0m     \u001b[38;5;28;01mpass\u001b[39;00m\n\u001b[1;32m    340\u001b[0m \u001b[38;5;28;01mreturn\u001b[39;00m \u001b[38;5;28msuper\u001b[39m()\u001b[38;5;241m.\u001b[39m_concatenate_indicator(X[:, valid_mask], X_indicator)\n",
      "File \u001b[0;32m~/.pyenv/versions/3.8.12/envs/rain-prediction-machine/lib/python3.8/site-packages/sklearn/metrics/pairwise.py:1717\u001b[0m, in \u001b[0;36mpairwise_distances_chunked\u001b[0;34m(X, Y, reduce_func, metric, n_jobs, working_memory, **kwds)\u001b[0m\n\u001b[1;32m   1715\u001b[0m \u001b[38;5;28;01melse\u001b[39;00m:\n\u001b[1;32m   1716\u001b[0m     X_chunk \u001b[38;5;241m=\u001b[39m X[sl]\n\u001b[0;32m-> 1717\u001b[0m D_chunk \u001b[38;5;241m=\u001b[39m \u001b[43mpairwise_distances\u001b[49m\u001b[43m(\u001b[49m\u001b[43mX_chunk\u001b[49m\u001b[43m,\u001b[49m\u001b[43m \u001b[49m\u001b[43mY\u001b[49m\u001b[43m,\u001b[49m\u001b[43m \u001b[49m\u001b[43mmetric\u001b[49m\u001b[38;5;241;43m=\u001b[39;49m\u001b[43mmetric\u001b[49m\u001b[43m,\u001b[49m\u001b[43m \u001b[49m\u001b[43mn_jobs\u001b[49m\u001b[38;5;241;43m=\u001b[39;49m\u001b[43mn_jobs\u001b[49m\u001b[43m,\u001b[49m\u001b[43m \u001b[49m\u001b[38;5;241;43m*\u001b[39;49m\u001b[38;5;241;43m*\u001b[39;49m\u001b[43mkwds\u001b[49m\u001b[43m)\u001b[49m\n\u001b[1;32m   1718\u001b[0m \u001b[38;5;28;01mif\u001b[39;00m (X \u001b[38;5;129;01mis\u001b[39;00m Y \u001b[38;5;129;01mor\u001b[39;00m Y \u001b[38;5;129;01mis\u001b[39;00m \u001b[38;5;28;01mNone\u001b[39;00m) \u001b[38;5;129;01mand\u001b[39;00m PAIRWISE_DISTANCE_FUNCTIONS\u001b[38;5;241m.\u001b[39mget(\n\u001b[1;32m   1719\u001b[0m     metric, \u001b[38;5;28;01mNone\u001b[39;00m\n\u001b[1;32m   1720\u001b[0m ) \u001b[38;5;129;01mis\u001b[39;00m euclidean_distances:\n\u001b[1;32m   1721\u001b[0m     \u001b[38;5;66;03m# zeroing diagonal, taking care of aliases of \"euclidean\",\u001b[39;00m\n\u001b[1;32m   1722\u001b[0m     \u001b[38;5;66;03m# i.e. \"l2\"\u001b[39;00m\n\u001b[1;32m   1723\u001b[0m     D_chunk\u001b[38;5;241m.\u001b[39mflat[sl\u001b[38;5;241m.\u001b[39mstart :: _num_samples(X) \u001b[38;5;241m+\u001b[39m \u001b[38;5;241m1\u001b[39m] \u001b[38;5;241m=\u001b[39m \u001b[38;5;241m0\u001b[39m\n",
      "File \u001b[0;32m~/.pyenv/versions/3.8.12/envs/rain-prediction-machine/lib/python3.8/site-packages/sklearn/metrics/pairwise.py:1889\u001b[0m, in \u001b[0;36mpairwise_distances\u001b[0;34m(X, Y, metric, n_jobs, force_all_finite, **kwds)\u001b[0m\n\u001b[1;32m   1886\u001b[0m         \u001b[38;5;28;01mreturn\u001b[39;00m distance\u001b[38;5;241m.\u001b[39msquareform(distance\u001b[38;5;241m.\u001b[39mpdist(X, metric\u001b[38;5;241m=\u001b[39mmetric, \u001b[38;5;241m*\u001b[39m\u001b[38;5;241m*\u001b[39mkwds))\n\u001b[1;32m   1887\u001b[0m     func \u001b[38;5;241m=\u001b[39m partial(distance\u001b[38;5;241m.\u001b[39mcdist, metric\u001b[38;5;241m=\u001b[39mmetric, \u001b[38;5;241m*\u001b[39m\u001b[38;5;241m*\u001b[39mkwds)\n\u001b[0;32m-> 1889\u001b[0m \u001b[38;5;28;01mreturn\u001b[39;00m \u001b[43m_parallel_pairwise\u001b[49m\u001b[43m(\u001b[49m\u001b[43mX\u001b[49m\u001b[43m,\u001b[49m\u001b[43m \u001b[49m\u001b[43mY\u001b[49m\u001b[43m,\u001b[49m\u001b[43m \u001b[49m\u001b[43mfunc\u001b[49m\u001b[43m,\u001b[49m\u001b[43m \u001b[49m\u001b[43mn_jobs\u001b[49m\u001b[43m,\u001b[49m\u001b[43m \u001b[49m\u001b[38;5;241;43m*\u001b[39;49m\u001b[38;5;241;43m*\u001b[39;49m\u001b[43mkwds\u001b[49m\u001b[43m)\u001b[49m\n",
      "File \u001b[0;32m~/.pyenv/versions/3.8.12/envs/rain-prediction-machine/lib/python3.8/site-packages/sklearn/metrics/pairwise.py:1430\u001b[0m, in \u001b[0;36m_parallel_pairwise\u001b[0;34m(X, Y, func, n_jobs, **kwds)\u001b[0m\n\u001b[1;32m   1427\u001b[0m X, Y, dtype \u001b[38;5;241m=\u001b[39m _return_float_dtype(X, Y)\n\u001b[1;32m   1429\u001b[0m \u001b[38;5;28;01mif\u001b[39;00m effective_n_jobs(n_jobs) \u001b[38;5;241m==\u001b[39m \u001b[38;5;241m1\u001b[39m:\n\u001b[0;32m-> 1430\u001b[0m     \u001b[38;5;28;01mreturn\u001b[39;00m \u001b[43mfunc\u001b[49m\u001b[43m(\u001b[49m\u001b[43mX\u001b[49m\u001b[43m,\u001b[49m\u001b[43m \u001b[49m\u001b[43mY\u001b[49m\u001b[43m,\u001b[49m\u001b[43m \u001b[49m\u001b[38;5;241;43m*\u001b[39;49m\u001b[38;5;241;43m*\u001b[39;49m\u001b[43mkwds\u001b[49m\u001b[43m)\u001b[49m\n\u001b[1;32m   1432\u001b[0m \u001b[38;5;66;03m# enforce a threading backend to prevent data communication overhead\u001b[39;00m\n\u001b[1;32m   1433\u001b[0m fd \u001b[38;5;241m=\u001b[39m delayed(_dist_wrapper)\n",
      "\u001b[0;31mKeyboardInterrupt\u001b[0m: "
     ]
    }
   ],
   "source": [
    "#---------------------fazer imputer nas colunas de vento---------------------\n",
    "imputer = KNNImputer(n_neighbors=2)\n",
    "imputer.fit_transform(df2[['Rajada.vento', 'Vel.vento', 'Dir.vento']])"
   ]
  },
  {
   "cell_type": "markdown",
   "id": "f0475f48",
   "metadata": {},
   "source": [
    "# Explorando os dados"
   ]
  },
  {
   "cell_type": "code",
   "execution_count": null,
   "id": "68077a93",
   "metadata": {},
   "outputs": [],
   "source": [
    "df2"
   ]
  },
  {
   "cell_type": "code",
   "execution_count": null,
   "id": "e4324e64",
   "metadata": {},
   "outputs": [],
   "source": [
    "df2['datahora'].dt.hour\n"
   ]
  },
  {
   "cell_type": "code",
   "execution_count": null,
   "id": "29263353",
   "metadata": {
    "scrolled": true
   },
   "outputs": [],
   "source": [
    "df2"
   ]
  },
  {
   "cell_type": "code",
   "execution_count": null,
   "id": "c43dbb72",
   "metadata": {},
   "outputs": [],
   "source": [
    "#verificando células nulas\n",
    "df2.isnull().sum().sort_values(ascending=False)/len(df2)"
   ]
  }
 ],
 "metadata": {
  "kernelspec": {
   "display_name": "Python 3 (ipykernel)",
   "language": "python",
   "name": "python3"
  },
  "language_info": {
   "codemirror_mode": {
    "name": "ipython",
    "version": 3
   },
   "file_extension": ".py",
   "mimetype": "text/x-python",
   "name": "python",
   "nbconvert_exporter": "python",
   "pygments_lexer": "ipython3",
   "version": "3.8.12"
  },
  "toc": {
   "base_numbering": 1,
   "nav_menu": {},
   "number_sections": true,
   "sideBar": true,
   "skip_h1_title": false,
   "title_cell": "Table of Contents",
   "title_sidebar": "Contents",
   "toc_cell": false,
   "toc_position": {},
   "toc_section_display": true,
   "toc_window_display": false
  }
 },
 "nbformat": 4,
 "nbformat_minor": 5
}
