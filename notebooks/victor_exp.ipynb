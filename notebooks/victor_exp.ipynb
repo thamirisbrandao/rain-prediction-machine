{
 "cells": [
  {
   "cell_type": "markdown",
   "id": "94eb2ee2",
   "metadata": {},
   "source": [
    "# Importações"
   ]
  },
  {
   "cell_type": "code",
   "execution_count": 1,
   "id": "cf612922",
   "metadata": {},
   "outputs": [],
   "source": [
    "import pandas as pd\n",
    "from os import listdir\n",
    "from os.path import isfile, join\n",
    "import numpy as np\n",
    "from sklearn.impute import KNNImputer"
   ]
  },
  {
   "cell_type": "markdown",
   "id": "ff13f3c3",
   "metadata": {},
   "source": [
    "# Criando variáveis organizacionais"
   ]
  },
  {
   "cell_type": "code",
   "execution_count": 2,
   "id": "a1e68af9",
   "metadata": {},
   "outputs": [],
   "source": [
    "path = '../raw_data/SP' #caminho geral\n",
    "files = [f for f in listdir(path) if isfile(join(path, f))] #lista de nomes de arquivos de dados"
   ]
  },
  {
   "cell_type": "markdown",
   "id": "dc269e2c",
   "metadata": {},
   "source": [
    "# Tratamentos iniciais dos dados"
   ]
  },
  {
   "cell_type": "markdown",
   "id": "2c3a140d",
   "metadata": {},
   "source": [
    "## Tratamentos básicos"
   ]
  },
  {
   "cell_type": "code",
   "execution_count": 3,
   "id": "649ce8fe",
   "metadata": {},
   "outputs": [],
   "source": [
    "#---------------------fazer list com os dataframes---------------------\n",
    "df_list = []\n",
    "for file in range(0,88):\n",
    "    df = pd.read_csv(f'../raw_data/SP/{files[file]}', sep=';', skiprows=8, encoding=\"ISO-8859-1\", decimal=',')\n",
    "    lat_log_alt = pd.read_csv(f'../raw_data/SP/{files[file]}', sep=';', skiprows=4,\n",
    "                          nrows=3, encoding=\"ISO-8859-1\", decimal=',', names=['lat_lon_alt','valor'])\n",
    "    df['Estaçao']=files[file].split('_')[4]\n",
    "    df['Latitude']=lat_log_alt['valor'][0]\n",
    "    df['Longitude']=lat_log_alt['valor'][1]\n",
    "    df['Altitude']=lat_log_alt['valor'][2]\n",
    "    df_list.append(df)\n",
    "df_list\n",
    "\n",
    "#---------------------fundir os dataframes no dataframe vazio---------------------\n",
    "full_df = pd.concat(df_list)\n",
    "full_df\n",
    "df2 = full_df.copy()\n",
    "\n",
    "#---------------------dropar coluna inútil---------------------\n",
    "df2.drop(columns=[\"Unnamed: 19\"],inplace=True)\n",
    "\n",
    "#---------------------mudar nome das colunas---------------------\n",
    "df2= df2.rename(columns={'Data': 'Data',\n",
    "                                            'Hora UTC': 'Hora(UTC)',\n",
    "                                            'PRECIPITAÇÃO TOTAL, HORÁRIO (mm)': 'Chuva',\n",
    "                                            'PRESSAO ATMOSFERICA AO NIVEL DA ESTACAO, HORARIA (mB)': 'Pres',\n",
    "                                            'PRESSÃO ATMOSFERICA MAX.NA HORA ANT. (AUT) (mB)': 'Pres.max',\n",
    "                                            'PRESSÃO ATMOSFERICA MIN. NA HORA ANT. (AUT) (mB)': 'Pres.min',\n",
    "                                            'RADIACAO GLOBAL (Kj/m²)': 'Radiacao',\n",
    "                                            'TEMPERATURA DO AR - BULBO SECO, HORARIA (°C)': 'Temp',\n",
    "                                            'TEMPERATURA DO PONTO DE ORVALHO (°C)': 'Temp.orvalho',\n",
    "                                            'TEMPERATURA MÁXIMA NA HORA ANT. (AUT) (°C)': 'Temp.max',\n",
    "                                            'TEMPERATURA MÍNIMA NA HORA ANT. (AUT) (°C)': 'Temp.min',\n",
    "                                            'TEMPERATURA ORVALHO MAX. NA HORA ANT. (AUT) (°C)': 'Temp.orvalho.max',\n",
    "                                            'TEMPERATURA ORVALHO MIN. NA HORA ANT. (AUT) (°C)': 'Temp.orvalho.min',\n",
    "                                            'UMIDADE REL. MAX. NA HORA ANT. (AUT) (%)': 'Umid.max',\n",
    "                                            'UMIDADE REL. MIN. NA HORA ANT. (AUT) (%)': 'Umid.min',\n",
    "                                            'UMIDADE RELATIVA DO AR, HORARIA (%)': 'Umid',\n",
    "                                            'VENTO, DIREÇÃO HORARIA (gr) (° (gr))': 'Dir.vento',\n",
    "                                            'VENTO, RAJADA MAXIMA (m/s)': 'Rajada.vento',\n",
    "                                            'VENTO, VELOCIDADE HORARIA (m/s)': 'Vel.vento'})"
   ]
  },
  {
   "cell_type": "markdown",
   "id": "b5c86185",
   "metadata": {},
   "source": [
    "## Transformação de dados e preenchimento"
   ]
  },
  {
   "cell_type": "markdown",
   "id": "bcaec815",
   "metadata": {},
   "source": [
    "### Formatando data e hora"
   ]
  },
  {
   "cell_type": "code",
   "execution_count": 4,
   "id": "1fc86e43",
   "metadata": {
    "scrolled": true
   },
   "outputs": [],
   "source": [
    "#---------------------colocando data e hora no formato adequado---------------------\n",
    "#df2[\"Data\"] = pd.to_datetime(df2[\"Data\"])\n",
    "df2['datahora'] = df2.apply(lambda row: pd.to_datetime(f'{row[\"Data\"]} {row[\"Hora(UTC)\"]}'), axis=1)"
   ]
  },
  {
   "cell_type": "markdown",
   "id": "1a930a7f",
   "metadata": {},
   "source": [
    "### Transformando chuva em variável categórica"
   ]
  },
  {
   "cell_type": "code",
   "execution_count": 5,
   "id": "b2f10bc1",
   "metadata": {},
   "outputs": [],
   "source": [
    "#---------------------transformando a chuva em variável categórica---------------------\n",
    "def classe_chuva(precipitacao):\n",
    "    mm=precipitacao\n",
    "    if mm == \"NaN\":\n",
    "        chuva = \"NaN\"\n",
    "    if mm == 0:\n",
    "        chuva = 'nao chove'\n",
    "    elif mm >0 and mm <=2.5:\n",
    "        chuva = 'fraca'\n",
    "    elif mm >2.5 and mm<=7.5:\n",
    "        chuva = 'moderada'\n",
    "    elif mm >7.5 and mm<=50:\n",
    "        chuva = 'forte'\n",
    "    else:\n",
    "        chuva = 'muito forte'\n",
    "    return chuva\n",
    "df2['classe_chuva'] = df2['Chuva'].apply(lambda x: classe_chuva(x))"
   ]
  },
  {
   "cell_type": "markdown",
   "id": "b539269c",
   "metadata": {},
   "source": [
    "### Tratando valores nulos de radiação"
   ]
  },
  {
   "cell_type": "code",
   "execution_count": 6,
   "id": "94228afe",
   "metadata": {},
   "outputs": [],
   "source": [
    "#---------------------Tratando valores nulos de radiação---------------------\n",
    "def tratar_radiacao(hora,radiacao):\n",
    "    if (hora.hour >= 22) and (hora.hour <= 8):\n",
    "        if str(radiacao) == \"NaN\":\n",
    "            radiacao = 0\n",
    "    return radiacao\n",
    "df2['Radiacao'] = df2.apply(lambda x: tratar_radiacao(x['datahora'],x['Radiacao']),axis=1)"
   ]
  },
  {
   "cell_type": "markdown",
   "id": "cef579e5",
   "metadata": {},
   "source": [
    "### Imputer da variável de vento"
   ]
  },
  {
   "cell_type": "code",
   "execution_count": null,
   "id": "a16ff979",
   "metadata": {
    "scrolled": true
   },
   "outputs": [],
   "source": [
    "#---------------------fazer imputer nas colunas de vento---------------------\n",
    "imputer = KNNImputer(n_neighbors=2)\n",
    "imputer.fit_transform(df2[['Rajada.vento', 'Vel.vento', 'Dir.vento']])"
   ]
  },
  {
   "cell_type": "markdown",
   "id": "f0475f48",
   "metadata": {},
   "source": [
    "# Explorando os dados"
   ]
  },
  {
   "cell_type": "code",
   "execution_count": null,
   "id": "68077a93",
   "metadata": {},
   "outputs": [],
   "source": [
    "df2"
   ]
  },
  {
   "cell_type": "code",
   "execution_count": null,
   "id": "e4324e64",
   "metadata": {},
   "outputs": [],
   "source": [
    "df2['datahora'].dt.hour\n"
   ]
  },
  {
   "cell_type": "code",
   "execution_count": null,
   "id": "29263353",
   "metadata": {
    "scrolled": true
   },
   "outputs": [],
   "source": [
    "df2"
   ]
  },
  {
   "cell_type": "code",
   "execution_count": null,
   "id": "c43dbb72",
   "metadata": {},
   "outputs": [],
   "source": [
    "#verificando células nulas\n",
    "df2.isnull().sum().sort_values(ascending=False)/len(df2)"
   ]
  }
 ],
 "metadata": {
  "kernelspec": {
   "display_name": "Python 3 (ipykernel)",
   "language": "python",
   "name": "python3"
  },
  "language_info": {
   "codemirror_mode": {
    "name": "ipython",
    "version": 3
   },
   "file_extension": ".py",
   "mimetype": "text/x-python",
   "name": "python",
   "nbconvert_exporter": "python",
   "pygments_lexer": "ipython3",
   "version": "3.8.12"
  },
  "toc": {
   "base_numbering": 1,
   "nav_menu": {},
   "number_sections": true,
   "sideBar": true,
   "skip_h1_title": false,
   "title_cell": "Table of Contents",
   "title_sidebar": "Contents",
   "toc_cell": false,
   "toc_position": {},
   "toc_section_display": true,
   "toc_window_display": false
  }
 },
 "nbformat": 4,
 "nbformat_minor": 5
}
