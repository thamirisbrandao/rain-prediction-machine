{
 "cells": [
  {
   "cell_type": "markdown",
   "id": "ed0187a2",
   "metadata": {},
   "source": [
    "# Importações"
   ]
  },
  {
   "cell_type": "code",
   "execution_count": 1,
   "id": "e98d75e5",
   "metadata": {
    "scrolled": true
   },
   "outputs": [
    {
     "name": "stderr",
     "output_type": "stream",
     "text": [
      "2022-03-22 15:06:51.183531: W tensorflow/stream_executor/platform/default/dso_loader.cc:64] Could not load dynamic library 'libcudart.so.11.0'; dlerror: libcudart.so.11.0: cannot open shared object file: No such file or directory\n",
      "2022-03-22 15:06:51.183598: I tensorflow/stream_executor/cuda/cudart_stub.cc:29] Ignore above cudart dlerror if you do not have a GPU set up on your machine.\n"
     ]
    }
   ],
   "source": [
    "%load_ext autoreload\n",
    "%autoreload 2\n",
    "from tensorflow.keras.layers.experimental.preprocessing import Normalization\n",
    "from tensorflow.keras.models import Sequential\n",
    "from tensorflow.keras.layers import Dense, SimpleRNN, Flatten, LSTM\n",
    "import pandas as pd\n",
    "import numpy as np"
   ]
  },
  {
   "cell_type": "markdown",
   "id": "13f8648e",
   "metadata": {},
   "source": [
    "# Aquisição de dados"
   ]
  },
  {
   "cell_type": "code",
   "execution_count": 2,
   "id": "6d2b9037",
   "metadata": {},
   "outputs": [
    {
     "data": {
      "text/plain": [
       "(8784, 23)"
      ]
     },
     "execution_count": 2,
     "metadata": {},
     "output_type": "execute_result"
    }
   ],
   "source": [
    "from RainPredictionMachine.data import CleanDataRpm\n",
    "clean_data = CleanDataRpm()\n",
    "df = clean_data.clean_data(1)\n",
    "df.shape"
   ]
  },
  {
   "cell_type": "markdown",
   "id": "3502112c",
   "metadata": {},
   "source": [
    "# Processamento"
   ]
  },
  {
   "cell_type": "code",
   "execution_count": 3,
   "id": "8980c44b",
   "metadata": {
    "scrolled": true
   },
   "outputs": [
    {
     "name": "stderr",
     "output_type": "stream",
     "text": [
      "/home/victor/.pyenv/versions/3.8.12/envs/rain-prediction-machine/lib/python3.8/site-packages/sklearn/preprocessing/_label.py:115: DataConversionWarning: A column-vector y was passed when a 1d array was expected. Please change the shape of y to (n_samples, ), for example using ravel().\n",
      "  y = column_or_1d(y, warn=True)\n"
     ]
    },
    {
     "data": {
      "text/html": [
       "<style>#sk-afcb74c5-24e6-4b73-a29d-daadb9319754 {color: black;background-color: white;}#sk-afcb74c5-24e6-4b73-a29d-daadb9319754 pre{padding: 0;}#sk-afcb74c5-24e6-4b73-a29d-daadb9319754 div.sk-toggleable {background-color: white;}#sk-afcb74c5-24e6-4b73-a29d-daadb9319754 label.sk-toggleable__label {cursor: pointer;display: block;width: 100%;margin-bottom: 0;padding: 0.3em;box-sizing: border-box;text-align: center;}#sk-afcb74c5-24e6-4b73-a29d-daadb9319754 label.sk-toggleable__label-arrow:before {content: \"▸\";float: left;margin-right: 0.25em;color: #696969;}#sk-afcb74c5-24e6-4b73-a29d-daadb9319754 label.sk-toggleable__label-arrow:hover:before {color: black;}#sk-afcb74c5-24e6-4b73-a29d-daadb9319754 div.sk-estimator:hover label.sk-toggleable__label-arrow:before {color: black;}#sk-afcb74c5-24e6-4b73-a29d-daadb9319754 div.sk-toggleable__content {max-height: 0;max-width: 0;overflow: hidden;text-align: left;background-color: #f0f8ff;}#sk-afcb74c5-24e6-4b73-a29d-daadb9319754 div.sk-toggleable__content pre {margin: 0.2em;color: black;border-radius: 0.25em;background-color: #f0f8ff;}#sk-afcb74c5-24e6-4b73-a29d-daadb9319754 input.sk-toggleable__control:checked~div.sk-toggleable__content {max-height: 200px;max-width: 100%;overflow: auto;}#sk-afcb74c5-24e6-4b73-a29d-daadb9319754 input.sk-toggleable__control:checked~label.sk-toggleable__label-arrow:before {content: \"▾\";}#sk-afcb74c5-24e6-4b73-a29d-daadb9319754 div.sk-estimator input.sk-toggleable__control:checked~label.sk-toggleable__label {background-color: #d4ebff;}#sk-afcb74c5-24e6-4b73-a29d-daadb9319754 div.sk-label input.sk-toggleable__control:checked~label.sk-toggleable__label {background-color: #d4ebff;}#sk-afcb74c5-24e6-4b73-a29d-daadb9319754 input.sk-hidden--visually {border: 0;clip: rect(1px 1px 1px 1px);clip: rect(1px, 1px, 1px, 1px);height: 1px;margin: -1px;overflow: hidden;padding: 0;position: absolute;width: 1px;}#sk-afcb74c5-24e6-4b73-a29d-daadb9319754 div.sk-estimator {font-family: monospace;background-color: #f0f8ff;border: 1px dotted black;border-radius: 0.25em;box-sizing: border-box;margin-bottom: 0.5em;}#sk-afcb74c5-24e6-4b73-a29d-daadb9319754 div.sk-estimator:hover {background-color: #d4ebff;}#sk-afcb74c5-24e6-4b73-a29d-daadb9319754 div.sk-parallel-item::after {content: \"\";width: 100%;border-bottom: 1px solid gray;flex-grow: 1;}#sk-afcb74c5-24e6-4b73-a29d-daadb9319754 div.sk-label:hover label.sk-toggleable__label {background-color: #d4ebff;}#sk-afcb74c5-24e6-4b73-a29d-daadb9319754 div.sk-serial::before {content: \"\";position: absolute;border-left: 1px solid gray;box-sizing: border-box;top: 2em;bottom: 0;left: 50%;}#sk-afcb74c5-24e6-4b73-a29d-daadb9319754 div.sk-serial {display: flex;flex-direction: column;align-items: center;background-color: white;padding-right: 0.2em;padding-left: 0.2em;}#sk-afcb74c5-24e6-4b73-a29d-daadb9319754 div.sk-item {z-index: 1;}#sk-afcb74c5-24e6-4b73-a29d-daadb9319754 div.sk-parallel {display: flex;align-items: stretch;justify-content: center;background-color: white;}#sk-afcb74c5-24e6-4b73-a29d-daadb9319754 div.sk-parallel::before {content: \"\";position: absolute;border-left: 1px solid gray;box-sizing: border-box;top: 2em;bottom: 0;left: 50%;}#sk-afcb74c5-24e6-4b73-a29d-daadb9319754 div.sk-parallel-item {display: flex;flex-direction: column;position: relative;background-color: white;}#sk-afcb74c5-24e6-4b73-a29d-daadb9319754 div.sk-parallel-item:first-child::after {align-self: flex-end;width: 50%;}#sk-afcb74c5-24e6-4b73-a29d-daadb9319754 div.sk-parallel-item:last-child::after {align-self: flex-start;width: 50%;}#sk-afcb74c5-24e6-4b73-a29d-daadb9319754 div.sk-parallel-item:only-child::after {width: 0;}#sk-afcb74c5-24e6-4b73-a29d-daadb9319754 div.sk-dashed-wrapped {border: 1px dashed gray;margin: 0 0.4em 0.5em 0.4em;box-sizing: border-box;padding-bottom: 0.4em;background-color: white;position: relative;}#sk-afcb74c5-24e6-4b73-a29d-daadb9319754 div.sk-label label {font-family: monospace;font-weight: bold;background-color: white;display: inline-block;line-height: 1.2em;}#sk-afcb74c5-24e6-4b73-a29d-daadb9319754 div.sk-label-container {position: relative;z-index: 2;text-align: center;}#sk-afcb74c5-24e6-4b73-a29d-daadb9319754 div.sk-container {/* jupyter's `normalize.less` sets `[hidden] { display: none; }` but bootstrap.min.css set `[hidden] { display: none !important; }` so we also need the `!important` here to be able to override the default hidden behavior on the sphinx rendered scikit-learn.org. See: https://github.com/scikit-learn/scikit-learn/issues/21755 */display: inline-block !important;position: relative;}#sk-afcb74c5-24e6-4b73-a29d-daadb9319754 div.sk-text-repr-fallback {display: none;}</style><div id=\"sk-afcb74c5-24e6-4b73-a29d-daadb9319754\" class=\"sk-top-container\"><div class=\"sk-text-repr-fallback\"><pre>Pipeline(steps=[(&#x27;column_stransformer&#x27;,\n",
       "                 ColumnTransformer(transformers=[(&#x27;scaling &#x27;,\n",
       "                                                  Pipeline(steps=[(&#x27;stdscaler&#x27;,\n",
       "                                                                   StandardScaler())]),\n",
       "                                                  [&#x27;Pres&#x27;, &#x27;Pres_max&#x27;,\n",
       "                                                   &#x27;Pres_min&#x27;, &#x27;Radiacao&#x27;,\n",
       "                                                   &#x27;Temp&#x27;, &#x27;Temp_orvalho&#x27;,\n",
       "                                                   &#x27;Temp_max&#x27;, &#x27;Temp_min&#x27;,\n",
       "                                                   &#x27;Temp_orvalho_max&#x27;,\n",
       "                                                   &#x27;Temp_orvalho_min&#x27;,\n",
       "                                                   &#x27;Umid_max&#x27;, &#x27;Umid_min&#x27;,\n",
       "                                                   &#x27;Umid&#x27;, &#x27;Rajada_vento&#x27;,\n",
       "                                                   &#x27;Vel_vento&#x27;])]))])</pre><b>Please rerun this cell to show the HTML repr or trust the notebook.</b></div><div class=\"sk-container\" hidden><div class=\"sk-item sk-dashed-wrapped\"><div class=\"sk-label-container\"><div class=\"sk-label sk-toggleable\"><input class=\"sk-toggleable__control sk-hidden--visually\" id=\"3553830a-5927-4672-9a7d-882da892fbd8\" type=\"checkbox\" ><label for=\"3553830a-5927-4672-9a7d-882da892fbd8\" class=\"sk-toggleable__label sk-toggleable__label-arrow\">Pipeline</label><div class=\"sk-toggleable__content\"><pre>Pipeline(steps=[(&#x27;column_stransformer&#x27;,\n",
       "                 ColumnTransformer(transformers=[(&#x27;scaling &#x27;,\n",
       "                                                  Pipeline(steps=[(&#x27;stdscaler&#x27;,\n",
       "                                                                   StandardScaler())]),\n",
       "                                                  [&#x27;Pres&#x27;, &#x27;Pres_max&#x27;,\n",
       "                                                   &#x27;Pres_min&#x27;, &#x27;Radiacao&#x27;,\n",
       "                                                   &#x27;Temp&#x27;, &#x27;Temp_orvalho&#x27;,\n",
       "                                                   &#x27;Temp_max&#x27;, &#x27;Temp_min&#x27;,\n",
       "                                                   &#x27;Temp_orvalho_max&#x27;,\n",
       "                                                   &#x27;Temp_orvalho_min&#x27;,\n",
       "                                                   &#x27;Umid_max&#x27;, &#x27;Umid_min&#x27;,\n",
       "                                                   &#x27;Umid&#x27;, &#x27;Rajada_vento&#x27;,\n",
       "                                                   &#x27;Vel_vento&#x27;])]))])</pre></div></div></div><div class=\"sk-serial\"><div class=\"sk-item sk-dashed-wrapped\"><div class=\"sk-label-container\"><div class=\"sk-label sk-toggleable\"><input class=\"sk-toggleable__control sk-hidden--visually\" id=\"35d01aac-70b9-4e9d-bf55-1ea8ea554896\" type=\"checkbox\" ><label for=\"35d01aac-70b9-4e9d-bf55-1ea8ea554896\" class=\"sk-toggleable__label sk-toggleable__label-arrow\">column_stransformer: ColumnTransformer</label><div class=\"sk-toggleable__content\"><pre>ColumnTransformer(transformers=[(&#x27;scaling &#x27;,\n",
       "                                 Pipeline(steps=[(&#x27;stdscaler&#x27;,\n",
       "                                                  StandardScaler())]),\n",
       "                                 [&#x27;Pres&#x27;, &#x27;Pres_max&#x27;, &#x27;Pres_min&#x27;, &#x27;Radiacao&#x27;,\n",
       "                                  &#x27;Temp&#x27;, &#x27;Temp_orvalho&#x27;, &#x27;Temp_max&#x27;,\n",
       "                                  &#x27;Temp_min&#x27;, &#x27;Temp_orvalho_max&#x27;,\n",
       "                                  &#x27;Temp_orvalho_min&#x27;, &#x27;Umid_max&#x27;, &#x27;Umid_min&#x27;,\n",
       "                                  &#x27;Umid&#x27;, &#x27;Rajada_vento&#x27;, &#x27;Vel_vento&#x27;])])</pre></div></div></div><div class=\"sk-parallel\"><div class=\"sk-parallel-item\"><div class=\"sk-item\"><div class=\"sk-label-container\"><div class=\"sk-label sk-toggleable\"><input class=\"sk-toggleable__control sk-hidden--visually\" id=\"88dbe0b3-4cfa-4012-b696-e71855edc37e\" type=\"checkbox\" ><label for=\"88dbe0b3-4cfa-4012-b696-e71855edc37e\" class=\"sk-toggleable__label sk-toggleable__label-arrow\">scaling </label><div class=\"sk-toggleable__content\"><pre>[&#x27;Pres&#x27;, &#x27;Pres_max&#x27;, &#x27;Pres_min&#x27;, &#x27;Radiacao&#x27;, &#x27;Temp&#x27;, &#x27;Temp_orvalho&#x27;, &#x27;Temp_max&#x27;, &#x27;Temp_min&#x27;, &#x27;Temp_orvalho_max&#x27;, &#x27;Temp_orvalho_min&#x27;, &#x27;Umid_max&#x27;, &#x27;Umid_min&#x27;, &#x27;Umid&#x27;, &#x27;Rajada_vento&#x27;, &#x27;Vel_vento&#x27;]</pre></div></div></div><div class=\"sk-serial\"><div class=\"sk-item\"><div class=\"sk-serial\"><div class=\"sk-item\"><div class=\"sk-estimator sk-toggleable\"><input class=\"sk-toggleable__control sk-hidden--visually\" id=\"60d8e72c-9ab8-434f-af07-2b14d75ddfda\" type=\"checkbox\" ><label for=\"60d8e72c-9ab8-434f-af07-2b14d75ddfda\" class=\"sk-toggleable__label sk-toggleable__label-arrow\">StandardScaler</label><div class=\"sk-toggleable__content\"><pre>StandardScaler()</pre></div></div></div></div></div></div></div></div></div></div></div></div></div></div>"
      ],
      "text/plain": [
       "Pipeline(steps=[('column_stransformer',\n",
       "                 ColumnTransformer(transformers=[('scaling ',\n",
       "                                                  Pipeline(steps=[('stdscaler',\n",
       "                                                                   StandardScaler())]),\n",
       "                                                  ['Pres', 'Pres_max',\n",
       "                                                   'Pres_min', 'Radiacao',\n",
       "                                                   'Temp', 'Temp_orvalho',\n",
       "                                                   'Temp_max', 'Temp_min',\n",
       "                                                   'Temp_orvalho_max',\n",
       "                                                   'Temp_orvalho_min',\n",
       "                                                   'Umid_max', 'Umid_min',\n",
       "                                                   'Umid', 'Rajada_vento',\n",
       "                                                   'Vel_vento'])]))])"
      ]
     },
     "execution_count": 3,
     "metadata": {},
     "output_type": "execute_result"
    }
   ],
   "source": [
    "from RainPredictionMachine.Trainer import pipe_creator\n",
    "from sklearn import set_config\n",
    "full_pipe, X_train, y_train  = pipe_creator(df)\n",
    "set_config(display=\"diagram\")\n",
    "full_pipe"
   ]
  },
  {
   "cell_type": "code",
   "execution_count": 4,
   "id": "451ee028",
   "metadata": {},
   "outputs": [],
   "source": [
    "X = pd.DataFrame(full_pipe.transform(X_train))"
   ]
  },
  {
   "cell_type": "code",
   "execution_count": 6,
   "id": "367d8fe4",
   "metadata": {
    "scrolled": false
   },
   "outputs": [
    {
     "data": {
      "text/plain": [
       "(6148, 15)"
      ]
     },
     "execution_count": 6,
     "metadata": {},
     "output_type": "execute_result"
    }
   ],
   "source": [
    "X.shape\n"
   ]
  },
  {
   "cell_type": "markdown",
   "id": "bfe0fdf4",
   "metadata": {},
   "source": [
    "expandindo dimensões"
   ]
  },
  {
   "cell_type": "code",
   "execution_count": 7,
   "id": "462ea603",
   "metadata": {},
   "outputs": [
    {
     "data": {
      "text/plain": [
       "array([[[ 0.93561264],\n",
       "        [ 0.87425622],\n",
       "        [ 0.91392514],\n",
       "        ...,\n",
       "        [ 0.20770711],\n",
       "        [-1.85252268],\n",
       "        [-1.29311197]],\n",
       "\n",
       "       [[-0.10775067],\n",
       "        [-0.17683258],\n",
       "        [-0.09692017],\n",
       "        ...,\n",
       "        [-1.27395271],\n",
       "        [-0.5529953 ],\n",
       "        [-0.81992555]],\n",
       "\n",
       "       [[-0.78452687],\n",
       "        [-0.74498869],\n",
       "        [-0.71465898],\n",
       "        ...,\n",
       "        [-0.38495682],\n",
       "        [-0.80451673],\n",
       "        [-1.19847469]],\n",
       "\n",
       "       ...,\n",
       "\n",
       "       [[-0.5589348 ],\n",
       "        [-0.46091064],\n",
       "        [-0.49002669],\n",
       "        ...,\n",
       "        [-2.51854697],\n",
       "        [ 0.07580826],\n",
       "        [ 0.03181001]],\n",
       "\n",
       "       [[-0.05135265],\n",
       "        [-0.12001697],\n",
       "        [-0.15307825],\n",
       "        ...,\n",
       "        [-0.85908796],\n",
       "        [-0.93027744],\n",
       "        [-0.91456283]],\n",
       "\n",
       "       [[-1.48950208],\n",
       "        [-1.56881505],\n",
       "        [-1.44471393],\n",
       "        ...,\n",
       "        [ 0.74110465],\n",
       "        [-0.63683578],\n",
       "        [-0.34673913]]])"
      ]
     },
     "execution_count": 7,
     "metadata": {},
     "output_type": "execute_result"
    }
   ],
   "source": [
    "X_train_t1 = np.expand_dims(X, 2)\n",
    "#X_test_t1 = np.expand_dims(X_test, 2)\n",
    "X_train_t1"
   ]
  },
  {
   "cell_type": "code",
   "execution_count": 8,
   "id": "2f44d95f",
   "metadata": {},
   "outputs": [
    {
     "data": {
      "text/plain": [
       "(6148, 15, 1)"
      ]
     },
     "execution_count": 8,
     "metadata": {},
     "output_type": "execute_result"
    }
   ],
   "source": [
    "X_train_t1.shape"
   ]
  },
  {
   "cell_type": "markdown",
   "id": "3444cd7a",
   "metadata": {},
   "source": [
    "# construção da RNN"
   ]
  },
  {
   "cell_type": "markdown",
   "id": "dafbe8ec",
   "metadata": {},
   "source": [
    "## normalização"
   ]
  },
  {
   "cell_type": "code",
   "execution_count": 9,
   "id": "80ffe50a",
   "metadata": {
    "scrolled": true
   },
   "outputs": [
    {
     "name": "stderr",
     "output_type": "stream",
     "text": [
      "2022-03-22 15:07:55.065171: W tensorflow/stream_executor/platform/default/dso_loader.cc:64] Could not load dynamic library 'libcuda.so.1'; dlerror: libcuda.so.1: cannot open shared object file: No such file or directory\n",
      "2022-03-22 15:07:55.065263: W tensorflow/stream_executor/cuda/cuda_driver.cc:269] failed call to cuInit: UNKNOWN ERROR (303)\n",
      "2022-03-22 15:07:55.065338: I tensorflow/stream_executor/cuda/cuda_diagnostics.cc:156] kernel driver does not appear to be running on this host (DESKTOP-9BMAD68): /proc/driver/nvidia/version does not exist\n",
      "2022-03-22 15:07:55.065824: I tensorflow/core/platform/cpu_feature_guard.cc:151] This TensorFlow binary is optimized with oneAPI Deep Neural Network Library (oneDNN) to use the following CPU instructions in performance-critical operations:  AVX2 FMA\n",
      "To enable them in other operations, rebuild TensorFlow with the appropriate compiler flags.\n"
     ]
    },
    {
     "name": "stdout",
     "output_type": "stream",
     "text": [
      "193/193 [==============================] - 12s 29ms/step - loss: 0.4910 - accuracy: 0.8941\n",
      "Model: \"sequential\"\n",
      "_________________________________________________________________\n",
      " Layer (type)                Output Shape              Param #   \n",
      "=================================================================\n",
      " normalization (Normalizatio  (None, 15, 1)            3         \n",
      " n)                                                              \n",
      "                                                                 \n",
      " lstm (LSTM)                 (None, 20)                1760      \n",
      "                                                                 \n",
      " dense (Dense)               (None, 10)                210       \n",
      "                                                                 \n",
      " dense_1 (Dense)             (None, 4)                 44        \n",
      "                                                                 \n",
      "=================================================================\n",
      "Total params: 2,017\n",
      "Trainable params: 2,014\n",
      "Non-trainable params: 3\n",
      "_________________________________________________________________\n"
     ]
    }
   ],
   "source": [
    "\n",
    "#normalizer = Normalization()\n",
    "#normalizer.adapt(X_train_t1)\n",
    "#normalizer(X_train_t1)[0]\n",
    "\n",
    "norm = Normalization()\n",
    "\n",
    "model = Sequential()\n",
    "\n",
    "model.add(norm)\n",
    "\n",
    "model.add(LSTM(units=20, activation='tanh'))\n",
    "model.add(Dense(10, activation=\"tanh\"))\n",
    "model.add(Dense(4, activation=\"softmax\"))\n",
    "\n",
    "model.compile(loss='categorical_crossentropy',\n",
    "                  optimizer='rmsprop', \n",
    "                  metrics=['accuracy'])\n",
    "model.fit(X_train_t1,y_train)\n",
    "\n",
    "\n",
    "model.summary()"
   ]
  },
  {
   "cell_type": "markdown",
   "id": "4d538ec2",
   "metadata": {},
   "source": [
    "## camadas da RNN"
   ]
  },
  {
   "cell_type": "code",
   "execution_count": 36,
   "id": "31034efe",
   "metadata": {},
   "outputs": [
    {
     "ename": "TypeError",
     "evalue": "int() argument must be a string, a bytes-like object or a number, not 'NoneType'",
     "output_type": "error",
     "traceback": [
      "\u001b[0;31m---------------------------------------------------------------------------\u001b[0m",
      "\u001b[0;31mTypeError\u001b[0m                                 Traceback (most recent call last)",
      "Input \u001b[0;32mIn [36]\u001b[0m, in \u001b[0;36m<cell line: 3>\u001b[0;34m()\u001b[0m\n\u001b[1;32m      1\u001b[0m model \u001b[38;5;241m=\u001b[39m Sequential()\n\u001b[1;32m      2\u001b[0m model\u001b[38;5;241m.\u001b[39madd(normalizer)\n\u001b[0;32m----> 3\u001b[0m \u001b[43mmodel\u001b[49m\u001b[38;5;241;43m.\u001b[39;49m\u001b[43madd\u001b[49m\u001b[43m(\u001b[49m\u001b[43mLSTM\u001b[49m\u001b[43m(\u001b[49m\u001b[43munits\u001b[49m\u001b[38;5;241;43m=\u001b[39;49m\u001b[38;5;241;43m15\u001b[39;49m\u001b[43m,\u001b[49m\u001b[43m \u001b[49m\u001b[43mactivation\u001b[49m\u001b[38;5;241;43m=\u001b[39;49m\u001b[38;5;124;43m'\u001b[39;49m\u001b[38;5;124;43mtanh\u001b[39;49m\u001b[38;5;124;43m'\u001b[39;49m\u001b[43m)\u001b[49m\u001b[43m)\u001b[49m\n\u001b[1;32m      4\u001b[0m model\u001b[38;5;241m.\u001b[39madd(Dense(\u001b[38;5;241m10\u001b[39m, activation\u001b[38;5;241m=\u001b[39m\u001b[38;5;124m'\u001b[39m\u001b[38;5;124mtanh\u001b[39m\u001b[38;5;124m'\u001b[39m))\n\u001b[1;32m      5\u001b[0m model\u001b[38;5;241m.\u001b[39madd(Dense(\u001b[38;5;241m4\u001b[39m, activation\u001b[38;5;241m=\u001b[39m\u001b[38;5;124m'\u001b[39m\u001b[38;5;124msoftmax\u001b[39m\u001b[38;5;124m'\u001b[39m))\n",
      "File \u001b[0;32m~/.pyenv/versions/3.8.12/envs/rain-prediction-machine/lib/python3.8/site-packages/tensorflow/python/training/tracking/base.py:629\u001b[0m, in \u001b[0;36mno_automatic_dependency_tracking.<locals>._method_wrapper\u001b[0;34m(self, *args, **kwargs)\u001b[0m\n\u001b[1;32m    627\u001b[0m \u001b[38;5;28mself\u001b[39m\u001b[38;5;241m.\u001b[39m_self_setattr_tracking \u001b[38;5;241m=\u001b[39m \u001b[38;5;28;01mFalse\u001b[39;00m  \u001b[38;5;66;03m# pylint: disable=protected-access\u001b[39;00m\n\u001b[1;32m    628\u001b[0m \u001b[38;5;28;01mtry\u001b[39;00m:\n\u001b[0;32m--> 629\u001b[0m   result \u001b[38;5;241m=\u001b[39m \u001b[43mmethod\u001b[49m\u001b[43m(\u001b[49m\u001b[38;5;28;43mself\u001b[39;49m\u001b[43m,\u001b[49m\u001b[43m \u001b[49m\u001b[38;5;241;43m*\u001b[39;49m\u001b[43margs\u001b[49m\u001b[43m,\u001b[49m\u001b[43m \u001b[49m\u001b[38;5;241;43m*\u001b[39;49m\u001b[38;5;241;43m*\u001b[39;49m\u001b[43mkwargs\u001b[49m\u001b[43m)\u001b[49m\n\u001b[1;32m    630\u001b[0m \u001b[38;5;28;01mfinally\u001b[39;00m:\n\u001b[1;32m    631\u001b[0m   \u001b[38;5;28mself\u001b[39m\u001b[38;5;241m.\u001b[39m_self_setattr_tracking \u001b[38;5;241m=\u001b[39m previous_value  \u001b[38;5;66;03m# pylint: disable=protected-access\u001b[39;00m\n",
      "File \u001b[0;32m~/.pyenv/versions/3.8.12/envs/rain-prediction-machine/lib/python3.8/site-packages/keras/utils/traceback_utils.py:67\u001b[0m, in \u001b[0;36mfilter_traceback.<locals>.error_handler\u001b[0;34m(*args, **kwargs)\u001b[0m\n\u001b[1;32m     65\u001b[0m \u001b[38;5;28;01mexcept\u001b[39;00m \u001b[38;5;167;01mException\u001b[39;00m \u001b[38;5;28;01mas\u001b[39;00m e:  \u001b[38;5;66;03m# pylint: disable=broad-except\u001b[39;00m\n\u001b[1;32m     66\u001b[0m   filtered_tb \u001b[38;5;241m=\u001b[39m _process_traceback_frames(e\u001b[38;5;241m.\u001b[39m__traceback__)\n\u001b[0;32m---> 67\u001b[0m   \u001b[38;5;28;01mraise\u001b[39;00m e\u001b[38;5;241m.\u001b[39mwith_traceback(filtered_tb) \u001b[38;5;28;01mfrom\u001b[39;00m \u001b[38;5;28mNone\u001b[39m\n\u001b[1;32m     68\u001b[0m \u001b[38;5;28;01mfinally\u001b[39;00m:\n\u001b[1;32m     69\u001b[0m   \u001b[38;5;28;01mdel\u001b[39;00m filtered_tb\n",
      "File \u001b[0;32m~/.pyenv/versions/3.8.12/envs/rain-prediction-machine/lib/python3.8/site-packages/keras/initializers/initializers_v2.py:997\u001b[0m, in \u001b[0;36m_compute_fans\u001b[0;34m(shape)\u001b[0m\n\u001b[1;32m    995\u001b[0m   fan_in \u001b[38;5;241m=\u001b[39m shape[\u001b[38;5;241m-\u001b[39m\u001b[38;5;241m2\u001b[39m] \u001b[38;5;241m*\u001b[39m receptive_field_size\n\u001b[1;32m    996\u001b[0m   fan_out \u001b[38;5;241m=\u001b[39m shape[\u001b[38;5;241m-\u001b[39m\u001b[38;5;241m1\u001b[39m] \u001b[38;5;241m*\u001b[39m receptive_field_size\n\u001b[0;32m--> 997\u001b[0m \u001b[38;5;28;01mreturn\u001b[39;00m \u001b[38;5;28;43mint\u001b[39;49m\u001b[43m(\u001b[49m\u001b[43mfan_in\u001b[49m\u001b[43m)\u001b[49m, \u001b[38;5;28mint\u001b[39m(fan_out)\n",
      "\u001b[0;31mTypeError\u001b[0m: int() argument must be a string, a bytes-like object or a number, not 'NoneType'"
     ]
    }
   ],
   "source": [
    "#model = Sequential()\n",
    "#model.add(normalizer)\n",
    "#model.add(LSTM(units=15, activation='tanh'))\n",
    "#model.add(Dense(10, activation='tanh'))\n",
    "#model.add(Dense(4, activation='softmax'))\n"
   ]
  },
  {
   "cell_type": "markdown",
   "id": "23a6ef1a",
   "metadata": {},
   "source": [
    "## compilando"
   ]
  },
  {
   "cell_type": "code",
   "execution_count": null,
   "id": "f247901a",
   "metadata": {},
   "outputs": [],
   "source": [
    "def compile_model(model):\n",
    "    model.compile(loss='categorical_crossentropy',\n",
    "                  optimizer='rmsprop', \n",
    "                  metrics=['accuracy'])\n",
    "    return model\n",
    "\n",
    "model = compile_model(model)"
   ]
  },
  {
   "cell_type": "markdown",
   "id": "a9b5b50b",
   "metadata": {},
   "source": [
    "# Ajuste da RNN"
   ]
  },
  {
   "cell_type": "markdown",
   "id": "2df609f2",
   "metadata": {},
   "source": [
    "Fazendo um early stopping"
   ]
  },
  {
   "cell_type": "code",
   "execution_count": null,
   "id": "88f3aaba",
   "metadata": {},
   "outputs": [],
   "source": [
    "from keras.callbacks import EarlyStopping\n",
    "\n",
    "es = EarlyStopping(patience=3, restore_best_weights=True)"
   ]
  },
  {
   "cell_type": "markdown",
   "id": "6c843863",
   "metadata": {},
   "source": [
    "Ajustando o modelo"
   ]
  },
  {
   "cell_type": "code",
   "execution_count": null,
   "id": "3b0fa602",
   "metadata": {
    "scrolled": true
   },
   "outputs": [],
   "source": [
    "model.fit(X_train, y_train,\n",
    "          epochs=100, \n",
    "          batch_size=32, \n",
    "          validation_split=0.2,\n",
    "          callbacks=[es])"
   ]
  },
  {
   "cell_type": "code",
   "execution_count": null,
   "id": "43dc03aa",
   "metadata": {},
   "outputs": [],
   "source": [
    "df\n"
   ]
  },
  {
   "cell_type": "code",
   "execution_count": null,
   "id": "9bc642ec",
   "metadata": {},
   "outputs": [],
   "source": [
    "df['classe_chuva'].shift(-1)"
   ]
  }
 ],
 "metadata": {
  "kernelspec": {
   "display_name": "Python 3 (ipykernel)",
   "language": "python",
   "name": "python3"
  },
  "language_info": {
   "codemirror_mode": {
    "name": "ipython",
    "version": 3
   },
   "file_extension": ".py",
   "mimetype": "text/x-python",
   "name": "python",
   "nbconvert_exporter": "python",
   "pygments_lexer": "ipython3",
   "version": "3.8.12"
  },
  "toc": {
   "base_numbering": 1,
   "nav_menu": {},
   "number_sections": true,
   "sideBar": true,
   "skip_h1_title": false,
   "title_cell": "Table of Contents",
   "title_sidebar": "Contents",
   "toc_cell": false,
   "toc_position": {},
   "toc_section_display": true,
   "toc_window_display": false
  }
 },
 "nbformat": 4,
 "nbformat_minor": 5
}
