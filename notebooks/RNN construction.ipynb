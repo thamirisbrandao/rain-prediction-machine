{
 "cells": [
  {
   "cell_type": "markdown",
   "id": "ed0187a2",
   "metadata": {},
   "source": [
    "# Importações"
   ]
  },
  {
   "cell_type": "code",
<<<<<<< HEAD
   "execution_count": 9,
=======
   "execution_count": 1,
>>>>>>> f77ea5f26692097dcafd2601fd4c8c305c846938
   "id": "e98d75e5",
   "metadata": {
    "scrolled": true
   },
<<<<<<< HEAD
   "outputs": [
    {
<<<<<<< HEAD
     "name": "stdout",
     "output_type": "stream",
     "text": [
      "The autoreload extension is already loaded. To reload it, use:\n",
      "  %reload_ext autoreload\n"
=======
     "name": "stderr",
     "output_type": "stream",
     "text": [
      "2022-03-22 15:06:51.183531: W tensorflow/stream_executor/platform/default/dso_loader.cc:64] Could not load dynamic library 'libcudart.so.11.0'; dlerror: libcudart.so.11.0: cannot open shared object file: No such file or directory\n",
      "2022-03-22 15:06:51.183598: I tensorflow/stream_executor/cuda/cudart_stub.cc:29] Ignore above cudart dlerror if you do not have a GPU set up on your machine.\n"
>>>>>>> f77ea5f26692097dcafd2601fd4c8c305c846938
     ]
    }
   ],
   "source": [
    "%load_ext autoreload\n",
    "%autoreload 2\n",
    "from tensorflow.keras.layers.experimental.preprocessing import Normalization\n",
    "from tensorflow.keras.models import Sequential\n",
    "from tensorflow.keras.layers import Dense, SimpleRNN, Flatten, LSTM\n",
    "import pandas as pd\n",
    "import numpy as np"
=======
   "outputs": [],
   "source": [
    "%load_ext autoreload\n",
    "%autoreload 2\n",
    "# from tensorflow.keras.layers.experimental.preprocessing import Normalization\n",
    "# from tensorflow.keras.models import Sequential\n",
    "# from tensorflow.keras.layers import Dense, SimpleRNN, Flatten\n",
    "import pandas as pd"
<<<<<<< HEAD
>>>>>>> 3f29fe4debe151320174930323b786b74a1d6fcb
=======
>>>>>>> f59f2672547d658166a93ee897f15ec95a0f8a40
>>>>>>> f77ea5f26692097dcafd2601fd4c8c305c846938
   ]
  },
  {
   "cell_type": "markdown",
<<<<<<< HEAD
   "id": "263d890c",
=======
   "id": "13f8648e",
>>>>>>> f77ea5f26692097dcafd2601fd4c8c305c846938
   "metadata": {},
   "source": [
    "# Aquisição de dados"
   ]
  },
  {
   "cell_type": "code",
<<<<<<< HEAD
   "execution_count": 11,
   "id": "e5f13dd0",
   "metadata": {},
   "outputs": [],
   "source": [
    "from RainPredictionMachine.data import CleanDataRpm\n",
    "clean_data = CleanDataRpm()\n",
    "df = clean_data.clean_data(1)"
   ]
  },
  {
   "cell_type": "code",
   "execution_count": 13,
   "id": "e1dee60f",
   "metadata": {},
   "outputs": [
    {
     "data": {
      "text/plain": [
       "0       nao chove\n",
       "1       nao chove\n",
       "2       nao chove\n",
       "3       nao chove\n",
       "4       nao chove\n",
       "          ...    \n",
       "8779    nao chove\n",
       "8780    nao chove\n",
       "8781        fraca\n",
       "8782     moderada\n",
       "8783    nao chove\n",
       "Name: classe_chuva, Length: 8784, dtype: object"
      ]
     },
     "execution_count": 13,
     "metadata": {},
     "output_type": "execute_result"
    }
   ],
   "source": [
    "df1[\"classe_chuva\"]"
   ]
  },
  {
   "cell_type": "markdown",
   "id": "3502112c",
   "metadata": {},
   "source": [
    "# Processamento"
   ]
  },
  {
   "cell_type": "code",
   "execution_count": 30,
   "id": "8980c44b",
   "metadata": {
    "scrolled": true
   },
   "outputs": [
    {
     "name": "stderr",
     "output_type": "stream",
     "text": [
      "/home/victor/.pyenv/versions/3.8.12/envs/rain-prediction-machine/lib/python3.8/site-packages/sklearn/preprocessing/_label.py:115: DataConversionWarning: A column-vector y was passed when a 1d array was expected. Please change the shape of y to (n_samples, ), for example using ravel().\n",
      "  y = column_or_1d(y, warn=True)\n"
     ]
    },
    {
     "data": {
      "text/html": [
       "<style>#sk-9f7d86b8-f152-4f4a-a298-be55bf3d79f6 {color: black;background-color: white;}#sk-9f7d86b8-f152-4f4a-a298-be55bf3d79f6 pre{padding: 0;}#sk-9f7d86b8-f152-4f4a-a298-be55bf3d79f6 div.sk-toggleable {background-color: white;}#sk-9f7d86b8-f152-4f4a-a298-be55bf3d79f6 label.sk-toggleable__label {cursor: pointer;display: block;width: 100%;margin-bottom: 0;padding: 0.3em;box-sizing: border-box;text-align: center;}#sk-9f7d86b8-f152-4f4a-a298-be55bf3d79f6 label.sk-toggleable__label-arrow:before {content: \"▸\";float: left;margin-right: 0.25em;color: #696969;}#sk-9f7d86b8-f152-4f4a-a298-be55bf3d79f6 label.sk-toggleable__label-arrow:hover:before {color: black;}#sk-9f7d86b8-f152-4f4a-a298-be55bf3d79f6 div.sk-estimator:hover label.sk-toggleable__label-arrow:before {color: black;}#sk-9f7d86b8-f152-4f4a-a298-be55bf3d79f6 div.sk-toggleable__content {max-height: 0;max-width: 0;overflow: hidden;text-align: left;background-color: #f0f8ff;}#sk-9f7d86b8-f152-4f4a-a298-be55bf3d79f6 div.sk-toggleable__content pre {margin: 0.2em;color: black;border-radius: 0.25em;background-color: #f0f8ff;}#sk-9f7d86b8-f152-4f4a-a298-be55bf3d79f6 input.sk-toggleable__control:checked~div.sk-toggleable__content {max-height: 200px;max-width: 100%;overflow: auto;}#sk-9f7d86b8-f152-4f4a-a298-be55bf3d79f6 input.sk-toggleable__control:checked~label.sk-toggleable__label-arrow:before {content: \"▾\";}#sk-9f7d86b8-f152-4f4a-a298-be55bf3d79f6 div.sk-estimator input.sk-toggleable__control:checked~label.sk-toggleable__label {background-color: #d4ebff;}#sk-9f7d86b8-f152-4f4a-a298-be55bf3d79f6 div.sk-label input.sk-toggleable__control:checked~label.sk-toggleable__label {background-color: #d4ebff;}#sk-9f7d86b8-f152-4f4a-a298-be55bf3d79f6 input.sk-hidden--visually {border: 0;clip: rect(1px 1px 1px 1px);clip: rect(1px, 1px, 1px, 1px);height: 1px;margin: -1px;overflow: hidden;padding: 0;position: absolute;width: 1px;}#sk-9f7d86b8-f152-4f4a-a298-be55bf3d79f6 div.sk-estimator {font-family: monospace;background-color: #f0f8ff;border: 1px dotted black;border-radius: 0.25em;box-sizing: border-box;margin-bottom: 0.5em;}#sk-9f7d86b8-f152-4f4a-a298-be55bf3d79f6 div.sk-estimator:hover {background-color: #d4ebff;}#sk-9f7d86b8-f152-4f4a-a298-be55bf3d79f6 div.sk-parallel-item::after {content: \"\";width: 100%;border-bottom: 1px solid gray;flex-grow: 1;}#sk-9f7d86b8-f152-4f4a-a298-be55bf3d79f6 div.sk-label:hover label.sk-toggleable__label {background-color: #d4ebff;}#sk-9f7d86b8-f152-4f4a-a298-be55bf3d79f6 div.sk-serial::before {content: \"\";position: absolute;border-left: 1px solid gray;box-sizing: border-box;top: 2em;bottom: 0;left: 50%;}#sk-9f7d86b8-f152-4f4a-a298-be55bf3d79f6 div.sk-serial {display: flex;flex-direction: column;align-items: center;background-color: white;padding-right: 0.2em;padding-left: 0.2em;}#sk-9f7d86b8-f152-4f4a-a298-be55bf3d79f6 div.sk-item {z-index: 1;}#sk-9f7d86b8-f152-4f4a-a298-be55bf3d79f6 div.sk-parallel {display: flex;align-items: stretch;justify-content: center;background-color: white;}#sk-9f7d86b8-f152-4f4a-a298-be55bf3d79f6 div.sk-parallel::before {content: \"\";position: absolute;border-left: 1px solid gray;box-sizing: border-box;top: 2em;bottom: 0;left: 50%;}#sk-9f7d86b8-f152-4f4a-a298-be55bf3d79f6 div.sk-parallel-item {display: flex;flex-direction: column;position: relative;background-color: white;}#sk-9f7d86b8-f152-4f4a-a298-be55bf3d79f6 div.sk-parallel-item:first-child::after {align-self: flex-end;width: 50%;}#sk-9f7d86b8-f152-4f4a-a298-be55bf3d79f6 div.sk-parallel-item:last-child::after {align-self: flex-start;width: 50%;}#sk-9f7d86b8-f152-4f4a-a298-be55bf3d79f6 div.sk-parallel-item:only-child::after {width: 0;}#sk-9f7d86b8-f152-4f4a-a298-be55bf3d79f6 div.sk-dashed-wrapped {border: 1px dashed gray;margin: 0 0.4em 0.5em 0.4em;box-sizing: border-box;padding-bottom: 0.4em;background-color: white;position: relative;}#sk-9f7d86b8-f152-4f4a-a298-be55bf3d79f6 div.sk-label label {font-family: monospace;font-weight: bold;background-color: white;display: inline-block;line-height: 1.2em;}#sk-9f7d86b8-f152-4f4a-a298-be55bf3d79f6 div.sk-label-container {position: relative;z-index: 2;text-align: center;}#sk-9f7d86b8-f152-4f4a-a298-be55bf3d79f6 div.sk-container {/* jupyter's `normalize.less` sets `[hidden] { display: none; }` but bootstrap.min.css set `[hidden] { display: none !important; }` so we also need the `!important` here to be able to override the default hidden behavior on the sphinx rendered scikit-learn.org. See: https://github.com/scikit-learn/scikit-learn/issues/21755 */display: inline-block !important;position: relative;}#sk-9f7d86b8-f152-4f4a-a298-be55bf3d79f6 div.sk-text-repr-fallback {display: none;}</style><div id=\"sk-9f7d86b8-f152-4f4a-a298-be55bf3d79f6\" class=\"sk-top-container\"><div class=\"sk-text-repr-fallback\"><pre>Pipeline(steps=[(&#x27;column_stransformer&#x27;,\n",
       "                 ColumnTransformer(transformers=[(&#x27;scaling &#x27;,\n",
       "                                                  Pipeline(steps=[(&#x27;stdscaler&#x27;,\n",
       "                                                                   StandardScaler())]),\n",
       "                                                  [&#x27;Pres&#x27;, &#x27;Pres_max&#x27;,\n",
       "                                                   &#x27;Pres_min&#x27;, &#x27;Radiacao&#x27;,\n",
       "                                                   &#x27;Temp&#x27;, &#x27;Temp_orvalho&#x27;,\n",
       "                                                   &#x27;Temp_max&#x27;, &#x27;Temp_min&#x27;,\n",
       "                                                   &#x27;Temp_orvalho_max&#x27;,\n",
       "                                                   &#x27;Temp_orvalho_min&#x27;,\n",
       "                                                   &#x27;Umid_max&#x27;, &#x27;Umid_min&#x27;,\n",
       "                                                   &#x27;Umid&#x27;, &#x27;Rajada_vento&#x27;,\n",
       "                                                   &#x27;Vel_vento&#x27;])]))])</pre><b>Please rerun this cell to show the HTML repr or trust the notebook.</b></div><div class=\"sk-container\" hidden><div class=\"sk-item sk-dashed-wrapped\"><div class=\"sk-label-container\"><div class=\"sk-label sk-toggleable\"><input class=\"sk-toggleable__control sk-hidden--visually\" id=\"ac4987cd-70dd-42d3-88ae-6447370b5835\" type=\"checkbox\" ><label for=\"ac4987cd-70dd-42d3-88ae-6447370b5835\" class=\"sk-toggleable__label sk-toggleable__label-arrow\">Pipeline</label><div class=\"sk-toggleable__content\"><pre>Pipeline(steps=[(&#x27;column_stransformer&#x27;,\n",
       "                 ColumnTransformer(transformers=[(&#x27;scaling &#x27;,\n",
       "                                                  Pipeline(steps=[(&#x27;stdscaler&#x27;,\n",
       "                                                                   StandardScaler())]),\n",
       "                                                  [&#x27;Pres&#x27;, &#x27;Pres_max&#x27;,\n",
       "                                                   &#x27;Pres_min&#x27;, &#x27;Radiacao&#x27;,\n",
       "                                                   &#x27;Temp&#x27;, &#x27;Temp_orvalho&#x27;,\n",
       "                                                   &#x27;Temp_max&#x27;, &#x27;Temp_min&#x27;,\n",
       "                                                   &#x27;Temp_orvalho_max&#x27;,\n",
       "                                                   &#x27;Temp_orvalho_min&#x27;,\n",
       "                                                   &#x27;Umid_max&#x27;, &#x27;Umid_min&#x27;,\n",
       "                                                   &#x27;Umid&#x27;, &#x27;Rajada_vento&#x27;,\n",
       "                                                   &#x27;Vel_vento&#x27;])]))])</pre></div></div></div><div class=\"sk-serial\"><div class=\"sk-item sk-dashed-wrapped\"><div class=\"sk-label-container\"><div class=\"sk-label sk-toggleable\"><input class=\"sk-toggleable__control sk-hidden--visually\" id=\"8fdbcd85-beba-4083-a2db-642cddced06c\" type=\"checkbox\" ><label for=\"8fdbcd85-beba-4083-a2db-642cddced06c\" class=\"sk-toggleable__label sk-toggleable__label-arrow\">column_stransformer: ColumnTransformer</label><div class=\"sk-toggleable__content\"><pre>ColumnTransformer(transformers=[(&#x27;scaling &#x27;,\n",
       "                                 Pipeline(steps=[(&#x27;stdscaler&#x27;,\n",
       "                                                  StandardScaler())]),\n",
       "                                 [&#x27;Pres&#x27;, &#x27;Pres_max&#x27;, &#x27;Pres_min&#x27;, &#x27;Radiacao&#x27;,\n",
       "                                  &#x27;Temp&#x27;, &#x27;Temp_orvalho&#x27;, &#x27;Temp_max&#x27;,\n",
       "                                  &#x27;Temp_min&#x27;, &#x27;Temp_orvalho_max&#x27;,\n",
       "                                  &#x27;Temp_orvalho_min&#x27;, &#x27;Umid_max&#x27;, &#x27;Umid_min&#x27;,\n",
       "                                  &#x27;Umid&#x27;, &#x27;Rajada_vento&#x27;, &#x27;Vel_vento&#x27;])])</pre></div></div></div><div class=\"sk-parallel\"><div class=\"sk-parallel-item\"><div class=\"sk-item\"><div class=\"sk-label-container\"><div class=\"sk-label sk-toggleable\"><input class=\"sk-toggleable__control sk-hidden--visually\" id=\"7cc8fec1-6266-4758-9833-2c46340e9149\" type=\"checkbox\" ><label for=\"7cc8fec1-6266-4758-9833-2c46340e9149\" class=\"sk-toggleable__label sk-toggleable__label-arrow\">scaling </label><div class=\"sk-toggleable__content\"><pre>[&#x27;Pres&#x27;, &#x27;Pres_max&#x27;, &#x27;Pres_min&#x27;, &#x27;Radiacao&#x27;, &#x27;Temp&#x27;, &#x27;Temp_orvalho&#x27;, &#x27;Temp_max&#x27;, &#x27;Temp_min&#x27;, &#x27;Temp_orvalho_max&#x27;, &#x27;Temp_orvalho_min&#x27;, &#x27;Umid_max&#x27;, &#x27;Umid_min&#x27;, &#x27;Umid&#x27;, &#x27;Rajada_vento&#x27;, &#x27;Vel_vento&#x27;]</pre></div></div></div><div class=\"sk-serial\"><div class=\"sk-item\"><div class=\"sk-serial\"><div class=\"sk-item\"><div class=\"sk-estimator sk-toggleable\"><input class=\"sk-toggleable__control sk-hidden--visually\" id=\"0bce68c9-6b69-4db5-a7f0-52388301b502\" type=\"checkbox\" ><label for=\"0bce68c9-6b69-4db5-a7f0-52388301b502\" class=\"sk-toggleable__label sk-toggleable__label-arrow\">StandardScaler</label><div class=\"sk-toggleable__content\"><pre>StandardScaler()</pre></div></div></div></div></div></div></div></div></div></div></div></div></div></div>"
      ],
      "text/plain": [
       "Pipeline(steps=[('column_stransformer',\n",
       "                 ColumnTransformer(transformers=[('scaling ',\n",
       "                                                  Pipeline(steps=[('stdscaler',\n",
       "                                                                   StandardScaler())]),\n",
       "                                                  ['Pres', 'Pres_max',\n",
       "                                                   'Pres_min', 'Radiacao',\n",
       "                                                   'Temp', 'Temp_orvalho',\n",
       "                                                   'Temp_max', 'Temp_min',\n",
       "                                                   'Temp_orvalho_max',\n",
       "                                                   'Temp_orvalho_min',\n",
       "                                                   'Umid_max', 'Umid_min',\n",
       "                                                   'Umid', 'Rajada_vento',\n",
       "                                                   'Vel_vento'])]))])"
      ]
     },
     "execution_count": 30,
     "metadata": {},
     "output_type": "execute_result"
    }
   ],
   "source": [
    "from RainPredictionMachine.Trainer import pipe_creator\n",
    "from sklearn import set_config\n",
    "full_pipe, y_train  = pipe_creator(df)\n",
    "set_config(display=\"diagram\")\n",
    "full_pipe"
   ]
  },
  {
   "cell_type": "code",
   "execution_count": 31,
   "id": "cb07accb",
   "metadata": {},
   "outputs": [],
   "source": [
    "X = pd.DataFrame(full_pipe.transform(df1))"
   ]
  },
  {
   "cell_type": "code",
   "execution_count": 32,
   "id": "ed8671f0",
   "metadata": {
    "scrolled": true
   },
=======
   "execution_count": 2,
<<<<<<< HEAD
   "id": "6d2b9037",
=======
   "id": "beebe769",
>>>>>>> f59f2672547d658166a93ee897f15ec95a0f8a40
   "metadata": {},
>>>>>>> 3f29fe4debe151320174930323b786b74a1d6fcb
   "outputs": [
    {
     "data": {
<<<<<<< HEAD
      "text/plain": [
       "(8784, 23)"
=======
      "text/html": [
       "<div>\n",
       "<style scoped>\n",
       "    .dataframe tbody tr th:only-of-type {\n",
       "        vertical-align: middle;\n",
       "    }\n",
       "\n",
       "    .dataframe tbody tr th {\n",
       "        vertical-align: top;\n",
       "    }\n",
       "\n",
       "    .dataframe thead th {\n",
       "        text-align: right;\n",
       "    }\n",
       "</style>\n",
       "<table border=\"1\" class=\"dataframe\">\n",
       "  <thead>\n",
       "    <tr style=\"text-align: right;\">\n",
       "      <th></th>\n",
       "      <th>0</th>\n",
       "      <th>1</th>\n",
       "      <th>2</th>\n",
       "      <th>3</th>\n",
       "      <th>4</th>\n",
       "      <th>5</th>\n",
       "      <th>6</th>\n",
       "      <th>7</th>\n",
       "      <th>8</th>\n",
       "      <th>9</th>\n",
       "      <th>10</th>\n",
       "      <th>11</th>\n",
       "      <th>12</th>\n",
       "      <th>13</th>\n",
       "      <th>14</th>\n",
       "    </tr>\n",
       "  </thead>\n",
       "  <tbody>\n",
       "    <tr>\n",
       "      <th>0</th>\n",
<<<<<<< HEAD
       "      <td>-1.515046</td>\n",
       "      <td>-1.591825</td>\n",
       "      <td>-1.719316</td>\n",
       "      <td>-0.676492</td>\n",
       "      <td>0.597996</td>\n",
       "      <td>1.490701</td>\n",
       "      <td>0.484901</td>\n",
       "      <td>0.714038</td>\n",
       "      <td>1.331434</td>\n",
       "      <td>1.553226</td>\n",
       "      <td>0.501064</td>\n",
       "      <td>0.631076</td>\n",
       "      <td>0.622406</td>\n",
       "      <td>-1.005377</td>\n",
       "      <td>-1.487184</td>\n",
       "    </tr>\n",
       "    <tr>\n",
       "      <th>1</th>\n",
       "      <td>-1.347243</td>\n",
       "      <td>-1.422985</td>\n",
       "      <td>-1.440926</td>\n",
       "      <td>-0.676492</td>\n",
       "      <td>0.621026</td>\n",
       "      <td>1.552971</td>\n",
       "      <td>0.506742</td>\n",
       "      <td>0.762803</td>\n",
       "      <td>1.425297</td>\n",
       "      <td>1.583979</td>\n",
       "      <td>0.501064</td>\n",
       "      <td>0.631076</td>\n",
       "      <td>0.622406</td>\n",
       "      <td>-1.421439</td>\n",
       "      <td>-1.015611</td>\n",
       "    </tr>\n",
       "    <tr>\n",
       "      <th>2</th>\n",
       "      <td>-1.375210</td>\n",
       "      <td>-1.394845</td>\n",
       "      <td>-1.301731</td>\n",
       "      <td>-0.676492</td>\n",
       "      <td>0.874361</td>\n",
       "      <td>1.366159</td>\n",
       "      <td>0.768836</td>\n",
       "      <td>0.787186</td>\n",
       "      <td>1.425297</td>\n",
       "      <td>1.491719</td>\n",
       "      <td>0.501064</td>\n",
       "      <td>0.183536</td>\n",
       "      <td>0.023426</td>\n",
       "      <td>-0.797347</td>\n",
       "      <td>-0.732668</td>\n",
       "    </tr>\n",
       "    <tr>\n",
       "      <th>3</th>\n",
       "      <td>-1.515046</td>\n",
       "      <td>-1.451125</td>\n",
       "      <td>-1.440926</td>\n",
       "      <td>-0.676492</td>\n",
       "      <td>0.897392</td>\n",
       "      <td>1.179347</td>\n",
       "      <td>0.790677</td>\n",
       "      <td>1.031012</td>\n",
       "      <td>1.206283</td>\n",
       "      <td>1.276446</td>\n",
       "      <td>-0.092201</td>\n",
       "      <td>-0.040233</td>\n",
       "      <td>-0.156268</td>\n",
       "      <td>-0.922165</td>\n",
       "      <td>-0.732668</td>\n",
       "    </tr>\n",
       "    <tr>\n",
       "      <th>4</th>\n",
       "      <td>-1.654882</td>\n",
       "      <td>-1.591825</td>\n",
       "      <td>-1.580121</td>\n",
       "      <td>-0.676492</td>\n",
       "      <td>0.805270</td>\n",
       "      <td>1.023671</td>\n",
       "      <td>0.790677</td>\n",
       "      <td>0.957864</td>\n",
       "      <td>1.018557</td>\n",
       "      <td>1.153432</td>\n",
       "      <td>-0.355874</td>\n",
       "      <td>-0.152118</td>\n",
       "      <td>-0.156268</td>\n",
       "      <td>-0.714134</td>\n",
       "      <td>-1.298555</td>\n",
=======
       "      <td>0.0</td>\n",
       "      <td>957.9</td>\n",
       "      <td>957.9</td>\n",
       "      <td>957.1</td>\n",
       "      <td>0.0</td>\n",
       "      <td>21.7</td>\n",
       "      <td>21.7</td>\n",
       "      <td>23.7</td>\n",
       "      <td>21.7</td>\n",
       "      <td>23.7</td>\n",
       "      <td>...</td>\n",
       "      <td>100.0</td>\n",
       "      <td>130.5</td>\n",
       "      <td>3.75</td>\n",
       "      <td>2.10</td>\n",
       "      <td>TUPA</td>\n",
       "      <td>-21.927251</td>\n",
       "      <td>-50.490251</td>\n",
       "      <td>498.0</td>\n",
       "      <td>2021-01-01 00:00:00+00:00</td>\n",
       "      <td>nao chove</td>\n",
       "    </tr>\n",
       "    <tr>\n",
       "      <th>1</th>\n",
       "      <td>0.0</td>\n",
       "      <td>958.0</td>\n",
       "      <td>958.3</td>\n",
       "      <td>957.9</td>\n",
       "      <td>0.0</td>\n",
       "      <td>21.4</td>\n",
       "      <td>21.4</td>\n",
       "      <td>21.7</td>\n",
       "      <td>21.4</td>\n",
       "      <td>21.6</td>\n",
       "      <td>...</td>\n",
       "      <td>100.0</td>\n",
       "      <td>109.0</td>\n",
       "      <td>5.40</td>\n",
       "      <td>3.35</td>\n",
       "      <td>TUPA</td>\n",
       "      <td>-21.927251</td>\n",
       "      <td>-50.490251</td>\n",
       "      <td>498.0</td>\n",
       "      <td>2021-01-01 01:00:00+00:00</td>\n",
       "      <td>nao chove</td>\n",
       "    </tr>\n",
       "    <tr>\n",
       "      <th>2</th>\n",
       "      <td>0.0</td>\n",
       "      <td>957.4</td>\n",
       "      <td>958.0</td>\n",
       "      <td>957.4</td>\n",
       "      <td>0.0</td>\n",
       "      <td>21.2</td>\n",
       "      <td>21.2</td>\n",
       "      <td>21.5</td>\n",
       "      <td>21.2</td>\n",
       "      <td>21.5</td>\n",
       "      <td>...</td>\n",
       "      <td>100.0</td>\n",
       "      <td>160.5</td>\n",
       "      <td>3.20</td>\n",
       "      <td>1.40</td>\n",
       "      <td>TUPA</td>\n",
       "      <td>-21.927251</td>\n",
       "      <td>-50.490251</td>\n",
       "      <td>498.0</td>\n",
       "      <td>2021-01-01 02:00:00+00:00</td>\n",
       "      <td>nao chove</td>\n",
       "    </tr>\n",
       "    <tr>\n",
       "      <th>3</th>\n",
       "      <td>0.0</td>\n",
       "      <td>956.6</td>\n",
       "      <td>957.4</td>\n",
       "      <td>956.6</td>\n",
       "      <td>0.0</td>\n",
       "      <td>21.0</td>\n",
       "      <td>21.0</td>\n",
       "      <td>21.3</td>\n",
       "      <td>20.9</td>\n",
       "      <td>21.3</td>\n",
       "      <td>...</td>\n",
       "      <td>100.0</td>\n",
       "      <td>160.5</td>\n",
       "      <td>3.20</td>\n",
       "      <td>1.40</td>\n",
       "      <td>TUPA</td>\n",
       "      <td>-21.927251</td>\n",
       "      <td>-50.490251</td>\n",
       "      <td>498.0</td>\n",
       "      <td>2021-01-01 03:00:00+00:00</td>\n",
       "      <td>nao chove</td>\n",
       "    </tr>\n",
       "    <tr>\n",
       "      <th>4</th>\n",
       "      <td>0.0</td>\n",
       "      <td>957.0</td>\n",
       "      <td>957.0</td>\n",
       "      <td>956.6</td>\n",
       "      <td>0.0</td>\n",
       "      <td>21.3</td>\n",
       "      <td>21.3</td>\n",
       "      <td>21.3</td>\n",
       "      <td>21.0</td>\n",
       "      <td>21.3</td>\n",
       "      <td>...</td>\n",
       "      <td>100.0</td>\n",
       "      <td>160.5</td>\n",
       "      <td>3.20</td>\n",
       "      <td>1.40</td>\n",
       "      <td>TUPA</td>\n",
       "      <td>-21.927251</td>\n",
       "      <td>-50.490251</td>\n",
       "      <td>498.0</td>\n",
       "      <td>2021-01-01 04:00:00+00:00</td>\n",
       "      <td>nao chove</td>\n",
>>>>>>> 3f29fe4debe151320174930323b786b74a1d6fcb
       "    </tr>\n",
       "    <tr>\n",
       "      <th>...</th>\n",
       "      <td>...</td>\n",
       "      <td>...</td>\n",
       "      <td>...</td>\n",
       "      <td>...</td>\n",
       "      <td>...</td>\n",
       "      <td>...</td>\n",
       "      <td>...</td>\n",
       "      <td>...</td>\n",
       "      <td>...</td>\n",
       "      <td>...</td>\n",
       "      <td>...</td>\n",
       "      <td>...</td>\n",
       "      <td>...</td>\n",
       "      <td>...</td>\n",
       "      <td>...</td>\n",
       "    </tr>\n",
       "    <tr>\n",
<<<<<<< HEAD
       "      <th>8779</th>\n",
       "      <td>-1.179440</td>\n",
       "      <td>-1.169725</td>\n",
       "      <td>-1.134698</td>\n",
       "      <td>0.167480</td>\n",
       "      <td>1.173757</td>\n",
       "      <td>0.961400</td>\n",
       "      <td>1.205660</td>\n",
       "      <td>1.372368</td>\n",
       "      <td>1.112420</td>\n",
       "      <td>1.030419</td>\n",
       "      <td>-0.817302</td>\n",
       "      <td>-0.655601</td>\n",
       "      <td>-0.635452</td>\n",
       "      <td>0.866899</td>\n",
       "      <td>0.210478</td>\n",
       "    </tr>\n",
       "    <tr>\n",
       "      <th>8780</th>\n",
       "      <td>-0.787899</td>\n",
       "      <td>-0.860185</td>\n",
       "      <td>-1.106859</td>\n",
       "      <td>-0.346874</td>\n",
       "      <td>1.035574</td>\n",
       "      <td>1.085942</td>\n",
       "      <td>1.096454</td>\n",
       "      <td>1.226072</td>\n",
       "      <td>1.018557</td>\n",
       "      <td>0.999666</td>\n",
       "      <td>-0.619547</td>\n",
       "      <td>-0.599658</td>\n",
       "      <td>-0.395860</td>\n",
       "      <td>0.409232</td>\n",
       "      <td>-0.638353</td>\n",
       "    </tr>\n",
       "    <tr>\n",
       "      <th>8781</th>\n",
       "      <td>-0.620096</td>\n",
       "      <td>-0.691345</td>\n",
       "      <td>-0.717113</td>\n",
       "      <td>-0.557449</td>\n",
       "      <td>0.574965</td>\n",
       "      <td>1.646377</td>\n",
       "      <td>0.856201</td>\n",
       "      <td>0.738421</td>\n",
       "      <td>1.487873</td>\n",
       "      <td>1.153432</td>\n",
       "      <td>0.632900</td>\n",
       "      <td>-0.264003</td>\n",
       "      <td>0.742202</td>\n",
       "      <td>-0.256467</td>\n",
       "      <td>-1.109926</td>\n",
       "    </tr>\n",
       "    <tr>\n",
       "      <th>8782</th>\n",
       "      <td>-0.564161</td>\n",
       "      <td>-0.606925</td>\n",
       "      <td>-0.577919</td>\n",
       "      <td>-0.665299</td>\n",
       "      <td>0.229509</td>\n",
       "      <td>1.303889</td>\n",
       "      <td>0.419377</td>\n",
       "      <td>0.348300</td>\n",
       "      <td>1.519160</td>\n",
       "      <td>1.399459</td>\n",
       "      <td>0.830655</td>\n",
       "      <td>0.687019</td>\n",
       "      <td>0.921896</td>\n",
       "      <td>1.366173</td>\n",
       "      <td>-0.261095</td>\n",
       "    </tr>\n",
       "    <tr>\n",
       "      <th>8783</th>\n",
       "      <td>-0.703997</td>\n",
       "      <td>-0.635065</td>\n",
       "      <td>-0.633597</td>\n",
       "      <td>-0.676492</td>\n",
       "      <td>0.114357</td>\n",
       "      <td>1.148212</td>\n",
       "      <td>0.091759</td>\n",
       "      <td>0.226387</td>\n",
       "      <td>1.143708</td>\n",
       "      <td>1.276446</td>\n",
       "      <td>0.896573</td>\n",
       "      <td>0.966731</td>\n",
       "      <td>0.921896</td>\n",
       "      <td>0.201201</td>\n",
       "      <td>-0.072466</td>\n",
       "    </tr>\n",
       "  </tbody>\n",
       "</table>\n",
       "<p>8784 rows × 15 columns</p>\n",
       "</div>"
      ],
      "text/plain": [
       "            0         1         2         3         4         5         6   \\\n",
       "0    -1.515046 -1.591825 -1.719316 -0.676492  0.597996  1.490701  0.484901   \n",
       "1    -1.347243 -1.422985 -1.440926 -0.676492  0.621026  1.552971  0.506742   \n",
       "2    -1.375210 -1.394845 -1.301731 -0.676492  0.874361  1.366159  0.768836   \n",
       "3    -1.515046 -1.451125 -1.440926 -0.676492  0.897392  1.179347  0.790677   \n",
       "4    -1.654882 -1.591825 -1.580121 -0.676492  0.805270  1.023671  0.790677   \n",
       "...        ...       ...       ...       ...       ...       ...       ...   \n",
       "8779 -1.179440 -1.169725 -1.134698  0.167480  1.173757  0.961400  1.205660   \n",
       "8780 -0.787899 -0.860185 -1.106859 -0.346874  1.035574  1.085942  1.096454   \n",
       "8781 -0.620096 -0.691345 -0.717113 -0.557449  0.574965  1.646377  0.856201   \n",
       "8782 -0.564161 -0.606925 -0.577919 -0.665299  0.229509  1.303889  0.419377   \n",
       "8783 -0.703997 -0.635065 -0.633597 -0.676492  0.114357  1.148212  0.091759   \n",
       "\n",
       "            7         8         9         10        11        12        13  \\\n",
       "0     0.714038  1.331434  1.553226  0.501064  0.631076  0.622406 -1.005377   \n",
       "1     0.762803  1.425297  1.583979  0.501064  0.631076  0.622406 -1.421439   \n",
       "2     0.787186  1.425297  1.491719  0.501064  0.183536  0.023426 -0.797347   \n",
       "3     1.031012  1.206283  1.276446 -0.092201 -0.040233 -0.156268 -0.922165   \n",
       "4     0.957864  1.018557  1.153432 -0.355874 -0.152118 -0.156268 -0.714134   \n",
       "...        ...       ...       ...       ...       ...       ...       ...   \n",
       "8779  1.372368  1.112420  1.030419 -0.817302 -0.655601 -0.635452  0.866899   \n",
       "8780  1.226072  1.018557  0.999666 -0.619547 -0.599658 -0.395860  0.409232   \n",
       "8781  0.738421  1.487873  1.153432  0.632900 -0.264003  0.742202 -0.256467   \n",
       "8782  0.348300  1.519160  1.399459  0.830655  0.687019  0.921896  1.366173   \n",
       "8783  0.226387  1.143708  1.276446  0.896573  0.966731  0.921896  0.201201   \n",
       "\n",
       "            14  \n",
       "0    -1.487184  \n",
       "1    -1.015611  \n",
       "2    -0.732668  \n",
       "3    -0.732668  \n",
       "4    -1.298555  \n",
       "...        ...  \n",
       "8779  0.210478  \n",
       "8780 -0.638353  \n",
       "8781 -1.109926  \n",
       "8782 -0.261095  \n",
       "8783 -0.072466  \n",
       "\n",
       "[8784 rows x 15 columns]"
      ]
     },
     "execution_count": 32,
=======
       "      <th>8755</th>\n",
       "      <td>0.0</td>\n",
       "      <td>947.7</td>\n",
       "      <td>948.2</td>\n",
       "      <td>947.6</td>\n",
       "      <td>2930.5</td>\n",
       "      <td>30.0</td>\n",
       "      <td>18.7</td>\n",
       "      <td>30.4</td>\n",
       "      <td>28.6</td>\n",
       "      <td>20.0</td>\n",
       "      <td>...</td>\n",
       "      <td>51.0</td>\n",
       "      <td>238.0</td>\n",
       "      <td>8.40</td>\n",
       "      <td>2.70</td>\n",
       "      <td>TUPA</td>\n",
       "      <td>-21.927251</td>\n",
       "      <td>-50.490251</td>\n",
       "      <td>498.0</td>\n",
       "      <td>2021-12-31 19:00:00+00:00</td>\n",
       "      <td>nao chove</td>\n",
       "    </tr>\n",
       "    <tr>\n",
       "      <th>8756</th>\n",
       "      <td>0.0</td>\n",
       "      <td>947.6</td>\n",
       "      <td>947.7</td>\n",
       "      <td>947.5</td>\n",
       "      <td>1773.5</td>\n",
       "      <td>29.6</td>\n",
       "      <td>17.9</td>\n",
       "      <td>30.5</td>\n",
       "      <td>29.4</td>\n",
       "      <td>19.1</td>\n",
       "      <td>...</td>\n",
       "      <td>50.0</td>\n",
       "      <td>202.0</td>\n",
       "      <td>6.40</td>\n",
       "      <td>2.00</td>\n",
       "      <td>TUPA</td>\n",
       "      <td>-21.927251</td>\n",
       "      <td>-50.490251</td>\n",
       "      <td>498.0</td>\n",
       "      <td>2021-12-31 20:00:00+00:00</td>\n",
       "      <td>nao chove</td>\n",
       "    </tr>\n",
       "    <tr>\n",
       "      <th>8757</th>\n",
       "      <td>0.0</td>\n",
       "      <td>948.0</td>\n",
       "      <td>948.0</td>\n",
       "      <td>947.6</td>\n",
       "      <td>1157.7</td>\n",
       "      <td>25.7</td>\n",
       "      <td>20.7</td>\n",
       "      <td>29.6</td>\n",
       "      <td>25.7</td>\n",
       "      <td>21.0</td>\n",
       "      <td>...</td>\n",
       "      <td>74.0</td>\n",
       "      <td>19.0</td>\n",
       "      <td>6.20</td>\n",
       "      <td>2.90</td>\n",
       "      <td>TUPA</td>\n",
       "      <td>-21.927251</td>\n",
       "      <td>-50.490251</td>\n",
       "      <td>498.0</td>\n",
       "      <td>2021-12-31 21:00:00+00:00</td>\n",
       "      <td>nao chove</td>\n",
       "    </tr>\n",
       "    <tr>\n",
       "      <th>8758</th>\n",
       "      <td>0.0</td>\n",
       "      <td>948.4</td>\n",
       "      <td>948.4</td>\n",
       "      <td>948.0</td>\n",
       "      <td>219.7</td>\n",
       "      <td>24.7</td>\n",
       "      <td>19.9</td>\n",
       "      <td>26.0</td>\n",
       "      <td>24.7</td>\n",
       "      <td>21.4</td>\n",
       "      <td>...</td>\n",
       "      <td>75.0</td>\n",
       "      <td>48.0</td>\n",
       "      <td>4.60</td>\n",
       "      <td>1.40</td>\n",
       "      <td>TUPA</td>\n",
       "      <td>-21.927251</td>\n",
       "      <td>-50.490251</td>\n",
       "      <td>498.0</td>\n",
       "      <td>2021-12-31 22:00:00+00:00</td>\n",
       "      <td>nao chove</td>\n",
       "    </tr>\n",
       "    <tr>\n",
       "      <th>8759</th>\n",
       "      <td>0.0</td>\n",
       "      <td>949.1</td>\n",
       "      <td>949.1</td>\n",
       "      <td>948.4</td>\n",
       "      <td>0.0</td>\n",
       "      <td>24.7</td>\n",
       "      <td>19.0</td>\n",
       "      <td>25.2</td>\n",
       "      <td>23.9</td>\n",
       "      <td>20.8</td>\n",
       "      <td>...</td>\n",
       "      <td>70.0</td>\n",
       "      <td>351.0</td>\n",
       "      <td>2.30</td>\n",
       "      <td>1.00</td>\n",
       "      <td>TUPA</td>\n",
       "      <td>-21.927251</td>\n",
       "      <td>-50.490251</td>\n",
       "      <td>498.0</td>\n",
       "      <td>2021-12-31 23:00:00+00:00</td>\n",
       "      <td>nao chove</td>\n",
       "    </tr>\n",
       "  </tbody>\n",
       "</table>\n",
       "<p>8760 rows × 23 columns</p>\n",
       "</div>"
      ],
      "text/plain": [
       "      Chuva   Pres  Pres_max  Pres_min  Radiacao  Temp  Temp_orvalho  \\\n",
       "0       0.0  957.9     957.9     957.1       0.0  21.7          21.7   \n",
       "1       0.0  958.0     958.3     957.9       0.0  21.4          21.4   \n",
       "2       0.0  957.4     958.0     957.4       0.0  21.2          21.2   \n",
       "3       0.0  956.6     957.4     956.6       0.0  21.0          21.0   \n",
       "4       0.0  957.0     957.0     956.6       0.0  21.3          21.3   \n",
       "...     ...    ...       ...       ...       ...   ...           ...   \n",
       "8755    0.0  947.7     948.2     947.6    2930.5  30.0          18.7   \n",
       "8756    0.0  947.6     947.7     947.5    1773.5  29.6          17.9   \n",
       "8757    0.0  948.0     948.0     947.6    1157.7  25.7          20.7   \n",
       "8758    0.0  948.4     948.4     948.0     219.7  24.7          19.9   \n",
       "8759    0.0  949.1     949.1     948.4       0.0  24.7          19.0   \n",
       "\n",
       "      Temp_max  Temp_min  Temp_orvalho_max  ...   Umid  Dir_vento  \\\n",
       "0         23.7      21.7              23.7  ...  100.0      130.5   \n",
       "1         21.7      21.4              21.6  ...  100.0      109.0   \n",
       "2         21.5      21.2              21.5  ...  100.0      160.5   \n",
       "3         21.3      20.9              21.3  ...  100.0      160.5   \n",
       "4         21.3      21.0              21.3  ...  100.0      160.5   \n",
       "...        ...       ...               ...  ...    ...        ...   \n",
       "8755      30.4      28.6              20.0  ...   51.0      238.0   \n",
       "8756      30.5      29.4              19.1  ...   50.0      202.0   \n",
       "8757      29.6      25.7              21.0  ...   74.0       19.0   \n",
       "8758      26.0      24.7              21.4  ...   75.0       48.0   \n",
       "8759      25.2      23.9              20.8  ...   70.0      351.0   \n",
       "\n",
       "      Rajada_vento  Vel_vento  Estaçao   Latitude  Longitude Altitude  \\\n",
       "0             3.75       2.10     TUPA -21.927251 -50.490251    498.0   \n",
       "1             5.40       3.35     TUPA -21.927251 -50.490251    498.0   \n",
       "2             3.20       1.40     TUPA -21.927251 -50.490251    498.0   \n",
       "3             3.20       1.40     TUPA -21.927251 -50.490251    498.0   \n",
       "4             3.20       1.40     TUPA -21.927251 -50.490251    498.0   \n",
       "...            ...        ...      ...        ...        ...      ...   \n",
       "8755          8.40       2.70     TUPA -21.927251 -50.490251    498.0   \n",
       "8756          6.40       2.00     TUPA -21.927251 -50.490251    498.0   \n",
       "8757          6.20       2.90     TUPA -21.927251 -50.490251    498.0   \n",
       "8758          4.60       1.40     TUPA -21.927251 -50.490251    498.0   \n",
       "8759          2.30       1.00     TUPA -21.927251 -50.490251    498.0   \n",
       "\n",
       "                      datahora  classe_chuva  \n",
       "0    2021-01-01 00:00:00+00:00     nao chove  \n",
       "1    2021-01-01 01:00:00+00:00     nao chove  \n",
       "2    2021-01-01 02:00:00+00:00     nao chove  \n",
       "3    2021-01-01 03:00:00+00:00     nao chove  \n",
       "4    2021-01-01 04:00:00+00:00     nao chove  \n",
       "...                        ...           ...  \n",
       "8755 2021-12-31 19:00:00+00:00     nao chove  \n",
       "8756 2021-12-31 20:00:00+00:00     nao chove  \n",
       "8757 2021-12-31 21:00:00+00:00     nao chove  \n",
       "8758 2021-12-31 22:00:00+00:00     nao chove  \n",
       "8759 2021-12-31 23:00:00+00:00     nao chove  \n",
       "\n",
       "[8760 rows x 23 columns]"
>>>>>>> f59f2672547d658166a93ee897f15ec95a0f8a40
      ]
     },
     "execution_count": 2,
>>>>>>> 3f29fe4debe151320174930323b786b74a1d6fcb
     "metadata": {},
     "output_type": "execute_result"
    }
   ],
   "source": [
<<<<<<< HEAD
<<<<<<< HEAD
    "X"
=======
    "from RainPredictionMachine.data import CleanDataRpm\n",
    "clean_data = CleanDataRpm()\n",
    "df = clean_data.clean_data(1)\n",
    "df.shape"
>>>>>>> f77ea5f26692097dcafd2601fd4c8c305c846938
=======
    "from RainPredictionMachine.data import clean_data_rpm\n",
    "df = clean_data_rpm()\n",
    "df = df.clean_data(1)\n",
    "df"
<<<<<<< HEAD
>>>>>>> 3f29fe4debe151320174930323b786b74a1d6fcb
=======
>>>>>>> f59f2672547d658166a93ee897f15ec95a0f8a40
>>>>>>> f77ea5f26692097dcafd2601fd4c8c305c846938
   ]
  },
  {
   "cell_type": "markdown",
<<<<<<< HEAD
   "id": "a99d1cf6",
=======
   "id": "3502112c",
>>>>>>> f77ea5f26692097dcafd2601fd4c8c305c846938
   "metadata": {},
   "source": [
    "expandindo dimensões"
   ]
  },
  {
   "cell_type": "code",
<<<<<<< HEAD
<<<<<<< HEAD
   "execution_count": 33,
   "id": "462ea603",
=======
   "execution_count": null,
   "id": "d164d0f9",
>>>>>>> 3f29fe4debe151320174930323b786b74a1d6fcb
=======
   "execution_count": 3,
   "id": "8980c44b",
=======
   "execution_count": null,
   "id": "d164d0f9",
>>>>>>> f59f2672547d658166a93ee897f15ec95a0f8a40
>>>>>>> f77ea5f26692097dcafd2601fd4c8c305c846938
   "metadata": {
    "scrolled": true
   },
<<<<<<< HEAD
   "outputs": [
    {
<<<<<<< HEAD
     "data": {
      "text/plain": [
       "array([[[-1.5150464 ],\n",
       "        [-1.59182459],\n",
       "        [-1.71931561],\n",
       "        ...,\n",
       "        [ 0.62240632],\n",
       "        [-1.00537738],\n",
       "        [-1.48718427]],\n",
       "\n",
       "       [[-1.34724315],\n",
       "        [-1.42298461],\n",
       "        [-1.44092613],\n",
       "        ...,\n",
       "        [ 0.62240632],\n",
       "        [-1.42143886],\n",
       "        [-1.01561136]],\n",
       "\n",
       "       [[-1.37521036],\n",
       "        [-1.39484461],\n",
       "        [-1.30173139],\n",
       "        ...,\n",
       "        [ 0.02342602],\n",
       "        [-0.79734664],\n",
       "        [-0.73266761]],\n",
       "\n",
       "       ...,\n",
       "\n",
       "       [[-0.62009573],\n",
       "        [-0.69134469],\n",
       "        [-0.71711348],\n",
       "        ...,\n",
       "        [ 0.74220238],\n",
       "        [-0.25646671],\n",
       "        [-1.10992594]],\n",
       "\n",
       "       [[-0.56416131],\n",
       "        [-0.6069247 ],\n",
       "        [-0.57791873],\n",
       "        ...,\n",
       "        [ 0.92189647],\n",
       "        [ 1.36617307],\n",
       "        [-0.26109469]],\n",
       "\n",
       "       [[-0.70399736],\n",
       "        [-0.6350647 ],\n",
       "        [-0.63359663],\n",
       "        ...,\n",
       "        [ 0.92189647],\n",
       "        [ 0.20120092],\n",
       "        [-0.07246552]]])"
      ]
     },
     "execution_count": 33,
=======
     "name": "stderr",
     "output_type": "stream",
     "text": [
      "/home/victor/.pyenv/versions/3.8.12/envs/rain-prediction-machine/lib/python3.8/site-packages/sklearn/preprocessing/_label.py:115: DataConversionWarning: A column-vector y was passed when a 1d array was expected. Please change the shape of y to (n_samples, ), for example using ravel().\n",
      "  y = column_or_1d(y, warn=True)\n"
     ]
    },
    {
     "data": {
      "text/html": [
       "<style>#sk-afcb74c5-24e6-4b73-a29d-daadb9319754 {color: black;background-color: white;}#sk-afcb74c5-24e6-4b73-a29d-daadb9319754 pre{padding: 0;}#sk-afcb74c5-24e6-4b73-a29d-daadb9319754 div.sk-toggleable {background-color: white;}#sk-afcb74c5-24e6-4b73-a29d-daadb9319754 label.sk-toggleable__label {cursor: pointer;display: block;width: 100%;margin-bottom: 0;padding: 0.3em;box-sizing: border-box;text-align: center;}#sk-afcb74c5-24e6-4b73-a29d-daadb9319754 label.sk-toggleable__label-arrow:before {content: \"▸\";float: left;margin-right: 0.25em;color: #696969;}#sk-afcb74c5-24e6-4b73-a29d-daadb9319754 label.sk-toggleable__label-arrow:hover:before {color: black;}#sk-afcb74c5-24e6-4b73-a29d-daadb9319754 div.sk-estimator:hover label.sk-toggleable__label-arrow:before {color: black;}#sk-afcb74c5-24e6-4b73-a29d-daadb9319754 div.sk-toggleable__content {max-height: 0;max-width: 0;overflow: hidden;text-align: left;background-color: #f0f8ff;}#sk-afcb74c5-24e6-4b73-a29d-daadb9319754 div.sk-toggleable__content pre {margin: 0.2em;color: black;border-radius: 0.25em;background-color: #f0f8ff;}#sk-afcb74c5-24e6-4b73-a29d-daadb9319754 input.sk-toggleable__control:checked~div.sk-toggleable__content {max-height: 200px;max-width: 100%;overflow: auto;}#sk-afcb74c5-24e6-4b73-a29d-daadb9319754 input.sk-toggleable__control:checked~label.sk-toggleable__label-arrow:before {content: \"▾\";}#sk-afcb74c5-24e6-4b73-a29d-daadb9319754 div.sk-estimator input.sk-toggleable__control:checked~label.sk-toggleable__label {background-color: #d4ebff;}#sk-afcb74c5-24e6-4b73-a29d-daadb9319754 div.sk-label input.sk-toggleable__control:checked~label.sk-toggleable__label {background-color: #d4ebff;}#sk-afcb74c5-24e6-4b73-a29d-daadb9319754 input.sk-hidden--visually {border: 0;clip: rect(1px 1px 1px 1px);clip: rect(1px, 1px, 1px, 1px);height: 1px;margin: -1px;overflow: hidden;padding: 0;position: absolute;width: 1px;}#sk-afcb74c5-24e6-4b73-a29d-daadb9319754 div.sk-estimator {font-family: monospace;background-color: #f0f8ff;border: 1px dotted black;border-radius: 0.25em;box-sizing: border-box;margin-bottom: 0.5em;}#sk-afcb74c5-24e6-4b73-a29d-daadb9319754 div.sk-estimator:hover {background-color: #d4ebff;}#sk-afcb74c5-24e6-4b73-a29d-daadb9319754 div.sk-parallel-item::after {content: \"\";width: 100%;border-bottom: 1px solid gray;flex-grow: 1;}#sk-afcb74c5-24e6-4b73-a29d-daadb9319754 div.sk-label:hover label.sk-toggleable__label {background-color: #d4ebff;}#sk-afcb74c5-24e6-4b73-a29d-daadb9319754 div.sk-serial::before {content: \"\";position: absolute;border-left: 1px solid gray;box-sizing: border-box;top: 2em;bottom: 0;left: 50%;}#sk-afcb74c5-24e6-4b73-a29d-daadb9319754 div.sk-serial {display: flex;flex-direction: column;align-items: center;background-color: white;padding-right: 0.2em;padding-left: 0.2em;}#sk-afcb74c5-24e6-4b73-a29d-daadb9319754 div.sk-item {z-index: 1;}#sk-afcb74c5-24e6-4b73-a29d-daadb9319754 div.sk-parallel {display: flex;align-items: stretch;justify-content: center;background-color: white;}#sk-afcb74c5-24e6-4b73-a29d-daadb9319754 div.sk-parallel::before {content: \"\";position: absolute;border-left: 1px solid gray;box-sizing: border-box;top: 2em;bottom: 0;left: 50%;}#sk-afcb74c5-24e6-4b73-a29d-daadb9319754 div.sk-parallel-item {display: flex;flex-direction: column;position: relative;background-color: white;}#sk-afcb74c5-24e6-4b73-a29d-daadb9319754 div.sk-parallel-item:first-child::after {align-self: flex-end;width: 50%;}#sk-afcb74c5-24e6-4b73-a29d-daadb9319754 div.sk-parallel-item:last-child::after {align-self: flex-start;width: 50%;}#sk-afcb74c5-24e6-4b73-a29d-daadb9319754 div.sk-parallel-item:only-child::after {width: 0;}#sk-afcb74c5-24e6-4b73-a29d-daadb9319754 div.sk-dashed-wrapped {border: 1px dashed gray;margin: 0 0.4em 0.5em 0.4em;box-sizing: border-box;padding-bottom: 0.4em;background-color: white;position: relative;}#sk-afcb74c5-24e6-4b73-a29d-daadb9319754 div.sk-label label {font-family: monospace;font-weight: bold;background-color: white;display: inline-block;line-height: 1.2em;}#sk-afcb74c5-24e6-4b73-a29d-daadb9319754 div.sk-label-container {position: relative;z-index: 2;text-align: center;}#sk-afcb74c5-24e6-4b73-a29d-daadb9319754 div.sk-container {/* jupyter's `normalize.less` sets `[hidden] { display: none; }` but bootstrap.min.css set `[hidden] { display: none !important; }` so we also need the `!important` here to be able to override the default hidden behavior on the sphinx rendered scikit-learn.org. See: https://github.com/scikit-learn/scikit-learn/issues/21755 */display: inline-block !important;position: relative;}#sk-afcb74c5-24e6-4b73-a29d-daadb9319754 div.sk-text-repr-fallback {display: none;}</style><div id=\"sk-afcb74c5-24e6-4b73-a29d-daadb9319754\" class=\"sk-top-container\"><div class=\"sk-text-repr-fallback\"><pre>Pipeline(steps=[(&#x27;column_stransformer&#x27;,\n",
       "                 ColumnTransformer(transformers=[(&#x27;scaling &#x27;,\n",
       "                                                  Pipeline(steps=[(&#x27;stdscaler&#x27;,\n",
       "                                                                   StandardScaler())]),\n",
       "                                                  [&#x27;Pres&#x27;, &#x27;Pres_max&#x27;,\n",
       "                                                   &#x27;Pres_min&#x27;, &#x27;Radiacao&#x27;,\n",
       "                                                   &#x27;Temp&#x27;, &#x27;Temp_orvalho&#x27;,\n",
       "                                                   &#x27;Temp_max&#x27;, &#x27;Temp_min&#x27;,\n",
       "                                                   &#x27;Temp_orvalho_max&#x27;,\n",
       "                                                   &#x27;Temp_orvalho_min&#x27;,\n",
       "                                                   &#x27;Umid_max&#x27;, &#x27;Umid_min&#x27;,\n",
       "                                                   &#x27;Umid&#x27;, &#x27;Rajada_vento&#x27;,\n",
       "                                                   &#x27;Vel_vento&#x27;])]))])</pre><b>Please rerun this cell to show the HTML repr or trust the notebook.</b></div><div class=\"sk-container\" hidden><div class=\"sk-item sk-dashed-wrapped\"><div class=\"sk-label-container\"><div class=\"sk-label sk-toggleable\"><input class=\"sk-toggleable__control sk-hidden--visually\" id=\"3553830a-5927-4672-9a7d-882da892fbd8\" type=\"checkbox\" ><label for=\"3553830a-5927-4672-9a7d-882da892fbd8\" class=\"sk-toggleable__label sk-toggleable__label-arrow\">Pipeline</label><div class=\"sk-toggleable__content\"><pre>Pipeline(steps=[(&#x27;column_stransformer&#x27;,\n",
       "                 ColumnTransformer(transformers=[(&#x27;scaling &#x27;,\n",
       "                                                  Pipeline(steps=[(&#x27;stdscaler&#x27;,\n",
       "                                                                   StandardScaler())]),\n",
       "                                                  [&#x27;Pres&#x27;, &#x27;Pres_max&#x27;,\n",
       "                                                   &#x27;Pres_min&#x27;, &#x27;Radiacao&#x27;,\n",
       "                                                   &#x27;Temp&#x27;, &#x27;Temp_orvalho&#x27;,\n",
       "                                                   &#x27;Temp_max&#x27;, &#x27;Temp_min&#x27;,\n",
       "                                                   &#x27;Temp_orvalho_max&#x27;,\n",
       "                                                   &#x27;Temp_orvalho_min&#x27;,\n",
       "                                                   &#x27;Umid_max&#x27;, &#x27;Umid_min&#x27;,\n",
       "                                                   &#x27;Umid&#x27;, &#x27;Rajada_vento&#x27;,\n",
       "                                                   &#x27;Vel_vento&#x27;])]))])</pre></div></div></div><div class=\"sk-serial\"><div class=\"sk-item sk-dashed-wrapped\"><div class=\"sk-label-container\"><div class=\"sk-label sk-toggleable\"><input class=\"sk-toggleable__control sk-hidden--visually\" id=\"35d01aac-70b9-4e9d-bf55-1ea8ea554896\" type=\"checkbox\" ><label for=\"35d01aac-70b9-4e9d-bf55-1ea8ea554896\" class=\"sk-toggleable__label sk-toggleable__label-arrow\">column_stransformer: ColumnTransformer</label><div class=\"sk-toggleable__content\"><pre>ColumnTransformer(transformers=[(&#x27;scaling &#x27;,\n",
       "                                 Pipeline(steps=[(&#x27;stdscaler&#x27;,\n",
       "                                                  StandardScaler())]),\n",
       "                                 [&#x27;Pres&#x27;, &#x27;Pres_max&#x27;, &#x27;Pres_min&#x27;, &#x27;Radiacao&#x27;,\n",
       "                                  &#x27;Temp&#x27;, &#x27;Temp_orvalho&#x27;, &#x27;Temp_max&#x27;,\n",
       "                                  &#x27;Temp_min&#x27;, &#x27;Temp_orvalho_max&#x27;,\n",
       "                                  &#x27;Temp_orvalho_min&#x27;, &#x27;Umid_max&#x27;, &#x27;Umid_min&#x27;,\n",
       "                                  &#x27;Umid&#x27;, &#x27;Rajada_vento&#x27;, &#x27;Vel_vento&#x27;])])</pre></div></div></div><div class=\"sk-parallel\"><div class=\"sk-parallel-item\"><div class=\"sk-item\"><div class=\"sk-label-container\"><div class=\"sk-label sk-toggleable\"><input class=\"sk-toggleable__control sk-hidden--visually\" id=\"88dbe0b3-4cfa-4012-b696-e71855edc37e\" type=\"checkbox\" ><label for=\"88dbe0b3-4cfa-4012-b696-e71855edc37e\" class=\"sk-toggleable__label sk-toggleable__label-arrow\">scaling </label><div class=\"sk-toggleable__content\"><pre>[&#x27;Pres&#x27;, &#x27;Pres_max&#x27;, &#x27;Pres_min&#x27;, &#x27;Radiacao&#x27;, &#x27;Temp&#x27;, &#x27;Temp_orvalho&#x27;, &#x27;Temp_max&#x27;, &#x27;Temp_min&#x27;, &#x27;Temp_orvalho_max&#x27;, &#x27;Temp_orvalho_min&#x27;, &#x27;Umid_max&#x27;, &#x27;Umid_min&#x27;, &#x27;Umid&#x27;, &#x27;Rajada_vento&#x27;, &#x27;Vel_vento&#x27;]</pre></div></div></div><div class=\"sk-serial\"><div class=\"sk-item\"><div class=\"sk-serial\"><div class=\"sk-item\"><div class=\"sk-estimator sk-toggleable\"><input class=\"sk-toggleable__control sk-hidden--visually\" id=\"60d8e72c-9ab8-434f-af07-2b14d75ddfda\" type=\"checkbox\" ><label for=\"60d8e72c-9ab8-434f-af07-2b14d75ddfda\" class=\"sk-toggleable__label sk-toggleable__label-arrow\">StandardScaler</label><div class=\"sk-toggleable__content\"><pre>StandardScaler()</pre></div></div></div></div></div></div></div></div></div></div></div></div></div></div>"
      ],
      "text/plain": [
       "Pipeline(steps=[('column_stransformer',\n",
       "                 ColumnTransformer(transformers=[('scaling ',\n",
       "                                                  Pipeline(steps=[('stdscaler',\n",
       "                                                                   StandardScaler())]),\n",
       "                                                  ['Pres', 'Pres_max',\n",
       "                                                   'Pres_min', 'Radiacao',\n",
       "                                                   'Temp', 'Temp_orvalho',\n",
       "                                                   'Temp_max', 'Temp_min',\n",
       "                                                   'Temp_orvalho_max',\n",
       "                                                   'Temp_orvalho_min',\n",
       "                                                   'Umid_max', 'Umid_min',\n",
       "                                                   'Umid', 'Rajada_vento',\n",
       "                                                   'Vel_vento'])]))])"
      ]
     },
     "execution_count": 3,
>>>>>>> f77ea5f26692097dcafd2601fd4c8c305c846938
     "metadata": {},
     "output_type": "execute_result"
    }
   ],
=======
   "outputs": [],
<<<<<<< HEAD
>>>>>>> 3f29fe4debe151320174930323b786b74a1d6fcb
   "source": [
=======
>>>>>>> f59f2672547d658166a93ee897f15ec95a0f8a40
   "source": [
    "from RainPredictionMachine.Trainer import pipe_creator\n",
    "from sklearn import set_config\n",
    "full_pipe, X_train, y_train  = pipe_creator(df)\n",
    "set_config(display=\"diagram\")\n",
    "full_pipe"
   ]
  },
  {
   "cell_type": "code",
   "execution_count": 4,
   "id": "451ee028",
   "metadata": {},
   "outputs": [],
   "source": [
    "X = pd.DataFrame(full_pipe.transform(X_train))"
   ]
  },
  {
   "cell_type": "code",
   "execution_count": 6,
   "id": "367d8fe4",
   "metadata": {
    "scrolled": false
   },
   "outputs": [
    {
     "data": {
      "text/plain": [
       "(6148, 15)"
      ]
     },
     "execution_count": 6,
     "metadata": {},
     "output_type": "execute_result"
    }
   ],
   "source": [
    "X.shape\n"
   ]
  },
  {
   "cell_type": "markdown",
   "id": "bfe0fdf4",
   "metadata": {},
   "source": [
    "expandindo dimensões"
   ]
  },
  {
   "cell_type": "code",
   "execution_count": 7,
   "id": "462ea603",
   "metadata": {},
   "outputs": [
    {
     "data": {
      "text/plain": [
       "array([[[ 0.93561264],\n",
       "        [ 0.87425622],\n",
       "        [ 0.91392514],\n",
       "        ...,\n",
       "        [ 0.20770711],\n",
       "        [-1.85252268],\n",
       "        [-1.29311197]],\n",
       "\n",
       "       [[-0.10775067],\n",
       "        [-0.17683258],\n",
       "        [-0.09692017],\n",
       "        ...,\n",
       "        [-1.27395271],\n",
       "        [-0.5529953 ],\n",
       "        [-0.81992555]],\n",
       "\n",
       "       [[-0.78452687],\n",
       "        [-0.74498869],\n",
       "        [-0.71465898],\n",
       "        ...,\n",
       "        [-0.38495682],\n",
       "        [-0.80451673],\n",
       "        [-1.19847469]],\n",
       "\n",
       "       ...,\n",
       "\n",
       "       [[-0.5589348 ],\n",
       "        [-0.46091064],\n",
       "        [-0.49002669],\n",
       "        ...,\n",
       "        [-2.51854697],\n",
       "        [ 0.07580826],\n",
       "        [ 0.03181001]],\n",
       "\n",
       "       [[-0.05135265],\n",
       "        [-0.12001697],\n",
       "        [-0.15307825],\n",
       "        ...,\n",
       "        [-0.85908796],\n",
       "        [-0.93027744],\n",
       "        [-0.91456283]],\n",
       "\n",
       "       [[-1.48950208],\n",
       "        [-1.56881505],\n",
       "        [-1.44471393],\n",
       "        ...,\n",
       "        [ 0.74110465],\n",
       "        [-0.63683578],\n",
       "        [-0.34673913]]])"
      ]
     },
     "execution_count": 7,
     "metadata": {},
     "output_type": "execute_result"
    }
   ],
   "source": [
>>>>>>> f77ea5f26692097dcafd2601fd4c8c305c846938
    "X_train_t1 = np.expand_dims(X, 2)\n",
    "#X_test_t1 = np.expand_dims(X_test, 2)\n",
    "X_train_t1"
   ]
  },
  {
   "cell_type": "code",
<<<<<<< HEAD
<<<<<<< HEAD
   "execution_count": 34,
   "id": "68d40fee",
=======
   "execution_count": 8,
   "id": "2f44d95f",
>>>>>>> f77ea5f26692097dcafd2601fd4c8c305c846938
   "metadata": {},
   "outputs": [
    {
     "data": {
      "text/plain": [
<<<<<<< HEAD
       "(8784, 15, 1)"
      ]
     },
     "execution_count": 34,
=======
       "(6148, 15, 1)"
      ]
     },
     "execution_count": 8,
>>>>>>> f77ea5f26692097dcafd2601fd4c8c305c846938
     "metadata": {},
     "output_type": "execute_result"
=======
   "execution_count": 1,
   "id": "df5e84fc",
   "metadata": {},
   "outputs": [
    {
     "ename": "NameError",
     "evalue": "name 'X_train_t' is not defined",
     "output_type": "error",
     "traceback": [
      "\u001b[0;31m---------------------------------------------------------------------------\u001b[0m",
      "\u001b[0;31mNameError\u001b[0m                                 Traceback (most recent call last)",
      "Input \u001b[0;32mIn [1]\u001b[0m, in \u001b[0;36m<cell line: 1>\u001b[0;34m()\u001b[0m\n\u001b[0;32m----> 1\u001b[0m \u001b[43mX_train_t\u001b[49m\u001b[38;5;241m.\u001b[39mshape\n",
      "\u001b[0;31mNameError\u001b[0m: name 'X_train_t' is not defined"
     ]
<<<<<<< HEAD
>>>>>>> 3f29fe4debe151320174930323b786b74a1d6fcb
=======
>>>>>>> f59f2672547d658166a93ee897f15ec95a0f8a40
>>>>>>> f77ea5f26692097dcafd2601fd4c8c305c846938
    }
   ],
   "source": [
    "X_train_t1.shape"
   ]
  },
  {
   "cell_type": "markdown",
   "id": "3444cd7a",
   "metadata": {},
   "source": [
    "# construção da RNN"
   ]
  },
  {
   "cell_type": "markdown",
   "id": "dafbe8ec",
   "metadata": {},
   "source": [
    "## normalização"
   ]
  },
  {
   "cell_type": "code",
<<<<<<< HEAD
   "execution_count": 38,
=======
   "execution_count": 9,
>>>>>>> f77ea5f26692097dcafd2601fd4c8c305c846938
   "id": "80ffe50a",
   "metadata": {
    "scrolled": true
   },
<<<<<<< HEAD
   "outputs": [],
=======
   "outputs": [
    {
     "name": "stderr",
     "output_type": "stream",
     "text": [
      "2022-03-22 15:07:55.065171: W tensorflow/stream_executor/platform/default/dso_loader.cc:64] Could not load dynamic library 'libcuda.so.1'; dlerror: libcuda.so.1: cannot open shared object file: No such file or directory\n",
      "2022-03-22 15:07:55.065263: W tensorflow/stream_executor/cuda/cuda_driver.cc:269] failed call to cuInit: UNKNOWN ERROR (303)\n",
      "2022-03-22 15:07:55.065338: I tensorflow/stream_executor/cuda/cuda_diagnostics.cc:156] kernel driver does not appear to be running on this host (DESKTOP-9BMAD68): /proc/driver/nvidia/version does not exist\n",
      "2022-03-22 15:07:55.065824: I tensorflow/core/platform/cpu_feature_guard.cc:151] This TensorFlow binary is optimized with oneAPI Deep Neural Network Library (oneDNN) to use the following CPU instructions in performance-critical operations:  AVX2 FMA\n",
      "To enable them in other operations, rebuild TensorFlow with the appropriate compiler flags.\n"
     ]
    },
    {
     "name": "stdout",
     "output_type": "stream",
     "text": [
      "193/193 [==============================] - 12s 29ms/step - loss: 0.4910 - accuracy: 0.8941\n",
      "Model: \"sequential\"\n",
      "_________________________________________________________________\n",
      " Layer (type)                Output Shape              Param #   \n",
      "=================================================================\n",
      " normalization (Normalizatio  (None, 15, 1)            3         \n",
      " n)                                                              \n",
      "                                                                 \n",
      " lstm (LSTM)                 (None, 20)                1760      \n",
      "                                                                 \n",
      " dense (Dense)               (None, 10)                210       \n",
      "                                                                 \n",
      " dense_1 (Dense)             (None, 4)                 44        \n",
      "                                                                 \n",
      "=================================================================\n",
      "Total params: 2,017\n",
      "Trainable params: 2,014\n",
      "Non-trainable params: 3\n",
      "_________________________________________________________________\n"
     ]
    }
   ],
>>>>>>> f77ea5f26692097dcafd2601fd4c8c305c846938
   "source": [
    "\n",
    "#normalizer = Normalization()\n",
    "#normalizer.adapt(X_train_t1)\n",
    "#normalizer(X_train_t1)[0]\n",
    "\n",
    "norm = Normalization()\n",
    "\n",
    "model = Sequential()\n",
    "\n",
    "model.add(norm)\n",
    "\n",
    "model.add(LSTM(units=20, activation='tanh'))\n",
    "model.add(Dense(10, activation=\"tanh\"))\n",
    "model.add(Dense(4, activation=\"softmax\"))\n",
    "\n",
    "model.compile(loss='categorical_crossentropy',\n",
    "                  optimizer='rmsprop', \n",
    "                  metrics=['accuracy'])\n",
<<<<<<< HEAD
    "\n"
   ]
  },
  {
   "cell_type": "code",
   "execution_count": 41,
   "id": "6d58c0c6",
   "metadata": {},
   "outputs": [
    {
     "ename": "ValueError",
     "evalue": "This model has not yet been built. Build the model first by calling `build()` or by calling the model on a batch of data.",
     "output_type": "error",
     "traceback": [
      "\u001b[0;31m---------------------------------------------------------------------------\u001b[0m",
      "\u001b[0;31mValueError\u001b[0m                                Traceback (most recent call last)",
      "Input \u001b[0;32mIn [41]\u001b[0m, in \u001b[0;36m<cell line: 1>\u001b[0;34m()\u001b[0m\n\u001b[0;32m----> 1\u001b[0m \u001b[43mmodel\u001b[49m\u001b[38;5;241;43m.\u001b[39;49m\u001b[43msummary\u001b[49m\u001b[43m(\u001b[49m\u001b[43m)\u001b[49m\n",
      "File \u001b[0;32m~/.pyenv/versions/3.8.12/envs/rain-prediction-machine/lib/python3.8/site-packages/keras/engine/training.py:2775\u001b[0m, in \u001b[0;36mModel.summary\u001b[0;34m(self, line_length, positions, print_fn, expand_nested, show_trainable)\u001b[0m\n\u001b[1;32m   2753\u001b[0m \u001b[38;5;124;03m\"\"\"Prints a string summary of the network.\u001b[39;00m\n\u001b[1;32m   2754\u001b[0m \n\u001b[1;32m   2755\u001b[0m \u001b[38;5;124;03mArgs:\u001b[39;00m\n\u001b[0;32m   (...)\u001b[0m\n\u001b[1;32m   2772\u001b[0m \u001b[38;5;124;03m    ValueError: if `summary()` is called before the model is built.\u001b[39;00m\n\u001b[1;32m   2773\u001b[0m \u001b[38;5;124;03m\"\"\"\u001b[39;00m\n\u001b[1;32m   2774\u001b[0m \u001b[38;5;28;01mif\u001b[39;00m \u001b[38;5;129;01mnot\u001b[39;00m \u001b[38;5;28mself\u001b[39m\u001b[38;5;241m.\u001b[39mbuilt:\n\u001b[0;32m-> 2775\u001b[0m   \u001b[38;5;28;01mraise\u001b[39;00m \u001b[38;5;167;01mValueError\u001b[39;00m(\n\u001b[1;32m   2776\u001b[0m       \u001b[38;5;124m'\u001b[39m\u001b[38;5;124mThis model has not yet been built. \u001b[39m\u001b[38;5;124m'\u001b[39m\n\u001b[1;32m   2777\u001b[0m       \u001b[38;5;124m'\u001b[39m\u001b[38;5;124mBuild the model first by calling `build()` or by calling \u001b[39m\u001b[38;5;124m'\u001b[39m\n\u001b[1;32m   2778\u001b[0m       \u001b[38;5;124m'\u001b[39m\u001b[38;5;124mthe model on a batch of data.\u001b[39m\u001b[38;5;124m'\u001b[39m)\n\u001b[1;32m   2779\u001b[0m layer_utils\u001b[38;5;241m.\u001b[39mprint_summary(\n\u001b[1;32m   2780\u001b[0m     \u001b[38;5;28mself\u001b[39m,\n\u001b[1;32m   2781\u001b[0m     line_length\u001b[38;5;241m=\u001b[39mline_length,\n\u001b[0;32m   (...)\u001b[0m\n\u001b[1;32m   2784\u001b[0m     expand_nested\u001b[38;5;241m=\u001b[39mexpand_nested,\n\u001b[1;32m   2785\u001b[0m     show_trainable\u001b[38;5;241m=\u001b[39mshow_trainable)\n",
      "\u001b[0;31mValueError\u001b[0m: This model has not yet been built. Build the model first by calling `build()` or by calling the model on a batch of data."
     ]
    }
   ],
   "source": [
=======
    "model.fit(X_train_t1,y_train)\n",
    "\n",
    "\n",
>>>>>>> f77ea5f26692097dcafd2601fd4c8c305c846938
    "model.summary()"
   ]
  },
  {
   "cell_type": "markdown",
   "id": "4d538ec2",
   "metadata": {},
   "source": [
    "## camadas da RNN"
   ]
  },
  {
   "cell_type": "code",
   "execution_count": 36,
   "id": "31034efe",
   "metadata": {},
   "outputs": [
    {
     "ename": "TypeError",
     "evalue": "int() argument must be a string, a bytes-like object or a number, not 'NoneType'",
     "output_type": "error",
     "traceback": [
      "\u001b[0;31m---------------------------------------------------------------------------\u001b[0m",
      "\u001b[0;31mTypeError\u001b[0m                                 Traceback (most recent call last)",
      "Input \u001b[0;32mIn [36]\u001b[0m, in \u001b[0;36m<cell line: 3>\u001b[0;34m()\u001b[0m\n\u001b[1;32m      1\u001b[0m model \u001b[38;5;241m=\u001b[39m Sequential()\n\u001b[1;32m      2\u001b[0m model\u001b[38;5;241m.\u001b[39madd(normalizer)\n\u001b[0;32m----> 3\u001b[0m \u001b[43mmodel\u001b[49m\u001b[38;5;241;43m.\u001b[39;49m\u001b[43madd\u001b[49m\u001b[43m(\u001b[49m\u001b[43mLSTM\u001b[49m\u001b[43m(\u001b[49m\u001b[43munits\u001b[49m\u001b[38;5;241;43m=\u001b[39;49m\u001b[38;5;241;43m15\u001b[39;49m\u001b[43m,\u001b[49m\u001b[43m \u001b[49m\u001b[43mactivation\u001b[49m\u001b[38;5;241;43m=\u001b[39;49m\u001b[38;5;124;43m'\u001b[39;49m\u001b[38;5;124;43mtanh\u001b[39;49m\u001b[38;5;124;43m'\u001b[39;49m\u001b[43m)\u001b[49m\u001b[43m)\u001b[49m\n\u001b[1;32m      4\u001b[0m model\u001b[38;5;241m.\u001b[39madd(Dense(\u001b[38;5;241m10\u001b[39m, activation\u001b[38;5;241m=\u001b[39m\u001b[38;5;124m'\u001b[39m\u001b[38;5;124mtanh\u001b[39m\u001b[38;5;124m'\u001b[39m))\n\u001b[1;32m      5\u001b[0m model\u001b[38;5;241m.\u001b[39madd(Dense(\u001b[38;5;241m4\u001b[39m, activation\u001b[38;5;241m=\u001b[39m\u001b[38;5;124m'\u001b[39m\u001b[38;5;124msoftmax\u001b[39m\u001b[38;5;124m'\u001b[39m))\n",
      "File \u001b[0;32m~/.pyenv/versions/3.8.12/envs/rain-prediction-machine/lib/python3.8/site-packages/tensorflow/python/training/tracking/base.py:629\u001b[0m, in \u001b[0;36mno_automatic_dependency_tracking.<locals>._method_wrapper\u001b[0;34m(self, *args, **kwargs)\u001b[0m\n\u001b[1;32m    627\u001b[0m \u001b[38;5;28mself\u001b[39m\u001b[38;5;241m.\u001b[39m_self_setattr_tracking \u001b[38;5;241m=\u001b[39m \u001b[38;5;28;01mFalse\u001b[39;00m  \u001b[38;5;66;03m# pylint: disable=protected-access\u001b[39;00m\n\u001b[1;32m    628\u001b[0m \u001b[38;5;28;01mtry\u001b[39;00m:\n\u001b[0;32m--> 629\u001b[0m   result \u001b[38;5;241m=\u001b[39m \u001b[43mmethod\u001b[49m\u001b[43m(\u001b[49m\u001b[38;5;28;43mself\u001b[39;49m\u001b[43m,\u001b[49m\u001b[43m \u001b[49m\u001b[38;5;241;43m*\u001b[39;49m\u001b[43margs\u001b[49m\u001b[43m,\u001b[49m\u001b[43m \u001b[49m\u001b[38;5;241;43m*\u001b[39;49m\u001b[38;5;241;43m*\u001b[39;49m\u001b[43mkwargs\u001b[49m\u001b[43m)\u001b[49m\n\u001b[1;32m    630\u001b[0m \u001b[38;5;28;01mfinally\u001b[39;00m:\n\u001b[1;32m    631\u001b[0m   \u001b[38;5;28mself\u001b[39m\u001b[38;5;241m.\u001b[39m_self_setattr_tracking \u001b[38;5;241m=\u001b[39m previous_value  \u001b[38;5;66;03m# pylint: disable=protected-access\u001b[39;00m\n",
      "File \u001b[0;32m~/.pyenv/versions/3.8.12/envs/rain-prediction-machine/lib/python3.8/site-packages/keras/utils/traceback_utils.py:67\u001b[0m, in \u001b[0;36mfilter_traceback.<locals>.error_handler\u001b[0;34m(*args, **kwargs)\u001b[0m\n\u001b[1;32m     65\u001b[0m \u001b[38;5;28;01mexcept\u001b[39;00m \u001b[38;5;167;01mException\u001b[39;00m \u001b[38;5;28;01mas\u001b[39;00m e:  \u001b[38;5;66;03m# pylint: disable=broad-except\u001b[39;00m\n\u001b[1;32m     66\u001b[0m   filtered_tb \u001b[38;5;241m=\u001b[39m _process_traceback_frames(e\u001b[38;5;241m.\u001b[39m__traceback__)\n\u001b[0;32m---> 67\u001b[0m   \u001b[38;5;28;01mraise\u001b[39;00m e\u001b[38;5;241m.\u001b[39mwith_traceback(filtered_tb) \u001b[38;5;28;01mfrom\u001b[39;00m \u001b[38;5;28mNone\u001b[39m\n\u001b[1;32m     68\u001b[0m \u001b[38;5;28;01mfinally\u001b[39;00m:\n\u001b[1;32m     69\u001b[0m   \u001b[38;5;28;01mdel\u001b[39;00m filtered_tb\n",
      "File \u001b[0;32m~/.pyenv/versions/3.8.12/envs/rain-prediction-machine/lib/python3.8/site-packages/keras/initializers/initializers_v2.py:997\u001b[0m, in \u001b[0;36m_compute_fans\u001b[0;34m(shape)\u001b[0m\n\u001b[1;32m    995\u001b[0m   fan_in \u001b[38;5;241m=\u001b[39m shape[\u001b[38;5;241m-\u001b[39m\u001b[38;5;241m2\u001b[39m] \u001b[38;5;241m*\u001b[39m receptive_field_size\n\u001b[1;32m    996\u001b[0m   fan_out \u001b[38;5;241m=\u001b[39m shape[\u001b[38;5;241m-\u001b[39m\u001b[38;5;241m1\u001b[39m] \u001b[38;5;241m*\u001b[39m receptive_field_size\n\u001b[0;32m--> 997\u001b[0m \u001b[38;5;28;01mreturn\u001b[39;00m \u001b[38;5;28;43mint\u001b[39;49m\u001b[43m(\u001b[49m\u001b[43mfan_in\u001b[49m\u001b[43m)\u001b[49m, \u001b[38;5;28mint\u001b[39m(fan_out)\n",
      "\u001b[0;31mTypeError\u001b[0m: int() argument must be a string, a bytes-like object or a number, not 'NoneType'"
     ]
    }
   ],
   "source": [
    "#model = Sequential()\n",
    "#model.add(normalizer)\n",
    "#model.add(LSTM(units=15, activation='tanh'))\n",
    "#model.add(Dense(10, activation='tanh'))\n",
    "#model.add(Dense(4, activation='softmax'))\n"
   ]
  },
  {
   "cell_type": "markdown",
   "id": "23a6ef1a",
   "metadata": {},
   "source": [
    "## compilando"
   ]
  },
  {
   "cell_type": "code",
   "execution_count": null,
   "id": "f247901a",
   "metadata": {},
   "outputs": [],
   "source": [
    "def compile_model(model):\n",
    "    model.compile(loss='categorical_crossentropy',\n",
    "                  optimizer='rmsprop', \n",
    "                  metrics=['accuracy'])\n",
    "    return model\n",
    "\n",
    "model = compile_model(model)"
   ]
  },
  {
   "cell_type": "markdown",
   "id": "a9b5b50b",
   "metadata": {},
   "source": [
    "# Ajuste da RNN"
   ]
  },
  {
   "cell_type": "markdown",
   "id": "2df609f2",
   "metadata": {},
   "source": [
    "Fazendo um early stopping"
   ]
  },
  {
   "cell_type": "code",
   "execution_count": null,
   "id": "88f3aaba",
   "metadata": {},
   "outputs": [],
   "source": [
    "from keras.callbacks import EarlyStopping\n",
    "\n",
    "es = EarlyStopping(patience=3, restore_best_weights=True)"
   ]
  },
  {
   "cell_type": "markdown",
   "id": "6c843863",
   "metadata": {},
   "source": [
    "Ajustando o modelo"
   ]
  },
  {
   "cell_type": "code",
   "execution_count": null,
   "id": "3b0fa602",
   "metadata": {
    "scrolled": true
   },
   "outputs": [],
   "source": [
    "model.fit(X_train, y_train,\n",
    "          epochs=100, \n",
    "          batch_size=32, \n",
    "          validation_split=0.2,\n",
    "          callbacks=[es])"
   ]
  },
  {
   "cell_type": "code",
   "execution_count": null,
   "id": "43dc03aa",
   "metadata": {},
   "outputs": [],
   "source": [
    "df\n"
   ]
  },
  {
   "cell_type": "code",
   "execution_count": null,
   "id": "9bc642ec",
   "metadata": {},
   "outputs": [],
   "source": [
    "df['classe_chuva'].shift(-1)"
   ]
  }
 ],
 "metadata": {
  "kernelspec": {
   "display_name": "Python 3 (ipykernel)",
   "language": "python",
   "name": "python3"
  },
  "language_info": {
   "codemirror_mode": {
    "name": "ipython",
    "version": 3
   },
   "file_extension": ".py",
   "mimetype": "text/x-python",
   "name": "python",
   "nbconvert_exporter": "python",
   "pygments_lexer": "ipython3",
   "version": "3.8.12"
  },
  "toc": {
   "base_numbering": 1,
   "nav_menu": {},
   "number_sections": true,
   "sideBar": true,
   "skip_h1_title": false,
   "title_cell": "Table of Contents",
   "title_sidebar": "Contents",
   "toc_cell": false,
   "toc_position": {},
   "toc_section_display": true,
   "toc_window_display": false
  }
 },
 "nbformat": 4,
 "nbformat_minor": 5
}
