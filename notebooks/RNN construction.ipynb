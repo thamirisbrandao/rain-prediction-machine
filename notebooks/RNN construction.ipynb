{
 "cells": [
  {
   "cell_type": "markdown",
   "id": "f3880d6d",
   "metadata": {},
   "source": [
    "# Importações"
   ]
  },
  {
   "cell_type": "code",
   "execution_count": 1,
   "id": "9ee29291",
   "metadata": {
    "scrolled": true
   },
   "outputs": [
    {
     "name": "stderr",
     "output_type": "stream",
     "text": [
      "2022-03-21 16:47:49.159356: W tensorflow/stream_executor/platform/default/dso_loader.cc:64] Could not load dynamic library 'libcudart.so.11.0'; dlerror: libcudart.so.11.0: cannot open shared object file: No such file or directory\n",
      "2022-03-21 16:47:49.159621: I tensorflow/stream_executor/cuda/cudart_stub.cc:29] Ignore above cudart dlerror if you do not have a GPU set up on your machine.\n"
     ]
    }
   ],
   "source": [
    "%load_ext autoreload\n",
    "%autoreload 2\n",
    "from tensorflow.keras.layers.experimental.preprocessing import Normalization\n",
    "from tensorflow.keras.models import Sequential\n",
    "from tensorflow.keras.layers import Dense, SimpleRNN, Flatten\n",
    "import pandas as pd"
   ]
  },
  {
   "cell_type": "markdown",
   "id": "bf1e664b",
   "metadata": {},
   "source": [
    "# Aquisição de dados"
   ]
  },
  {
   "cell_type": "code",
   "execution_count": 3,
   "id": "beebe769",
   "metadata": {
    "collapsed": true
   },
   "outputs": [
    {
     "data": {
      "text/html": [
       "<div>\n",
       "<style scoped>\n",
       "    .dataframe tbody tr th:only-of-type {\n",
       "        vertical-align: middle;\n",
       "    }\n",
       "\n",
       "    .dataframe tbody tr th {\n",
       "        vertical-align: top;\n",
       "    }\n",
       "\n",
       "    .dataframe thead th {\n",
       "        text-align: right;\n",
       "    }\n",
       "</style>\n",
       "<table border=\"1\" class=\"dataframe\">\n",
       "  <thead>\n",
       "    <tr style=\"text-align: right;\">\n",
       "      <th></th>\n",
       "      <th>Chuva</th>\n",
       "      <th>Pres</th>\n",
       "      <th>Pres_max</th>\n",
       "      <th>Pres_min</th>\n",
       "      <th>Radiacao</th>\n",
       "      <th>Temp</th>\n",
       "      <th>Temp_orvalho</th>\n",
       "      <th>Temp_max</th>\n",
       "      <th>Temp_min</th>\n",
       "      <th>Temp_orvalho_max</th>\n",
       "      <th>...</th>\n",
       "      <th>Umid</th>\n",
       "      <th>Dir_vento</th>\n",
       "      <th>Rajada_vento</th>\n",
       "      <th>Vel_vento</th>\n",
       "      <th>Estaçao</th>\n",
       "      <th>Latitude</th>\n",
       "      <th>Longitude</th>\n",
       "      <th>Altitude</th>\n",
       "      <th>datahora</th>\n",
       "      <th>classe_chuva</th>\n",
       "    </tr>\n",
       "  </thead>\n",
       "  <tbody>\n",
       "    <tr>\n",
       "      <th>0</th>\n",
       "      <td>0.0</td>\n",
       "      <td>923.1</td>\n",
       "      <td>923.1</td>\n",
       "      <td>922.1</td>\n",
       "      <td>0.0</td>\n",
       "      <td>22.0</td>\n",
       "      <td>20.5</td>\n",
       "      <td>22.2</td>\n",
       "      <td>21.8</td>\n",
       "      <td>20.5</td>\n",
       "      <td>...</td>\n",
       "      <td>92.0</td>\n",
       "      <td>172.0</td>\n",
       "      <td>2.8</td>\n",
       "      <td>0.4</td>\n",
       "      <td>SAO PAULO - INTERLAGOS</td>\n",
       "      <td>-23.724501</td>\n",
       "      <td>-46.677501</td>\n",
       "      <td>771.00</td>\n",
       "      <td>2020-01-01 00:00:00+00:00</td>\n",
       "      <td>nao chove</td>\n",
       "    </tr>\n",
       "    <tr>\n",
       "      <th>1</th>\n",
       "      <td>0.0</td>\n",
       "      <td>923.7</td>\n",
       "      <td>923.7</td>\n",
       "      <td>923.1</td>\n",
       "      <td>0.0</td>\n",
       "      <td>22.1</td>\n",
       "      <td>20.7</td>\n",
       "      <td>22.3</td>\n",
       "      <td>22.0</td>\n",
       "      <td>20.8</td>\n",
       "      <td>...</td>\n",
       "      <td>92.0</td>\n",
       "      <td>101.0</td>\n",
       "      <td>1.8</td>\n",
       "      <td>0.9</td>\n",
       "      <td>SAO PAULO - INTERLAGOS</td>\n",
       "      <td>-23.724501</td>\n",
       "      <td>-46.677501</td>\n",
       "      <td>771.00</td>\n",
       "      <td>2020-01-01 01:00:00+00:00</td>\n",
       "      <td>nao chove</td>\n",
       "    </tr>\n",
       "    <tr>\n",
       "      <th>2</th>\n",
       "      <td>0.0</td>\n",
       "      <td>923.6</td>\n",
       "      <td>923.8</td>\n",
       "      <td>923.6</td>\n",
       "      <td>0.0</td>\n",
       "      <td>23.2</td>\n",
       "      <td>20.1</td>\n",
       "      <td>23.5</td>\n",
       "      <td>22.1</td>\n",
       "      <td>20.8</td>\n",
       "      <td>...</td>\n",
       "      <td>82.0</td>\n",
       "      <td>7.0</td>\n",
       "      <td>3.3</td>\n",
       "      <td>1.2</td>\n",
       "      <td>SAO PAULO - INTERLAGOS</td>\n",
       "      <td>-23.724501</td>\n",
       "      <td>-46.677501</td>\n",
       "      <td>771.00</td>\n",
       "      <td>2020-01-01 02:00:00+00:00</td>\n",
       "      <td>nao chove</td>\n",
       "    </tr>\n",
       "    <tr>\n",
       "      <th>3</th>\n",
       "      <td>0.0</td>\n",
       "      <td>923.1</td>\n",
       "      <td>923.6</td>\n",
       "      <td>923.1</td>\n",
       "      <td>0.0</td>\n",
       "      <td>23.3</td>\n",
       "      <td>19.5</td>\n",
       "      <td>23.6</td>\n",
       "      <td>23.1</td>\n",
       "      <td>20.1</td>\n",
       "      <td>...</td>\n",
       "      <td>79.0</td>\n",
       "      <td>6.0</td>\n",
       "      <td>3.0</td>\n",
       "      <td>1.2</td>\n",
       "      <td>SAO PAULO - INTERLAGOS</td>\n",
       "      <td>-23.724501</td>\n",
       "      <td>-46.677501</td>\n",
       "      <td>771.00</td>\n",
       "      <td>2020-01-01 03:00:00+00:00</td>\n",
       "      <td>nao chove</td>\n",
       "    </tr>\n",
       "    <tr>\n",
       "      <th>4</th>\n",
       "      <td>0.0</td>\n",
       "      <td>922.6</td>\n",
       "      <td>923.1</td>\n",
       "      <td>922.6</td>\n",
       "      <td>0.0</td>\n",
       "      <td>22.9</td>\n",
       "      <td>19.0</td>\n",
       "      <td>23.6</td>\n",
       "      <td>22.8</td>\n",
       "      <td>19.5</td>\n",
       "      <td>...</td>\n",
       "      <td>79.0</td>\n",
       "      <td>345.0</td>\n",
       "      <td>3.5</td>\n",
       "      <td>0.6</td>\n",
       "      <td>SAO PAULO - INTERLAGOS</td>\n",
       "      <td>-23.724501</td>\n",
       "      <td>-46.677501</td>\n",
       "      <td>771.00</td>\n",
       "      <td>2020-01-01 04:00:00+00:00</td>\n",
       "      <td>nao chove</td>\n",
       "    </tr>\n",
       "    <tr>\n",
       "      <th>...</th>\n",
       "      <td>...</td>\n",
       "      <td>...</td>\n",
       "      <td>...</td>\n",
       "      <td>...</td>\n",
       "      <td>...</td>\n",
       "      <td>...</td>\n",
       "      <td>...</td>\n",
       "      <td>...</td>\n",
       "      <td>...</td>\n",
       "      <td>...</td>\n",
       "      <td>...</td>\n",
       "      <td>...</td>\n",
       "      <td>...</td>\n",
       "      <td>...</td>\n",
       "      <td>...</td>\n",
       "      <td>...</td>\n",
       "      <td>...</td>\n",
       "      <td>...</td>\n",
       "      <td>...</td>\n",
       "      <td>...</td>\n",
       "      <td>...</td>\n",
       "    </tr>\n",
       "    <tr>\n",
       "      <th>8779</th>\n",
       "      <td>0.0</td>\n",
       "      <td>965.8</td>\n",
       "      <td>966.0</td>\n",
       "      <td>965.6</td>\n",
       "      <td>1636.0</td>\n",
       "      <td>26.7</td>\n",
       "      <td>22.2</td>\n",
       "      <td>27.6</td>\n",
       "      <td>26.2</td>\n",
       "      <td>23.3</td>\n",
       "      <td>...</td>\n",
       "      <td>76.0</td>\n",
       "      <td>310.0</td>\n",
       "      <td>6.3</td>\n",
       "      <td>2.4</td>\n",
       "      <td>RANCHARIA</td>\n",
       "      <td>-22.372832</td>\n",
       "      <td>-50.974710</td>\n",
       "      <td>398.75</td>\n",
       "      <td>2020-12-31 19:00:00+00:00</td>\n",
       "      <td>nao chove</td>\n",
       "    </tr>\n",
       "    <tr>\n",
       "      <th>8780</th>\n",
       "      <td>0.0</td>\n",
       "      <td>966.2</td>\n",
       "      <td>966.2</td>\n",
       "      <td>965.8</td>\n",
       "      <td>751.1</td>\n",
       "      <td>25.7</td>\n",
       "      <td>21.8</td>\n",
       "      <td>27.0</td>\n",
       "      <td>25.7</td>\n",
       "      <td>22.8</td>\n",
       "      <td>...</td>\n",
       "      <td>79.0</td>\n",
       "      <td>308.0</td>\n",
       "      <td>5.5</td>\n",
       "      <td>2.8</td>\n",
       "      <td>RANCHARIA</td>\n",
       "      <td>-22.372832</td>\n",
       "      <td>-50.974710</td>\n",
       "      <td>398.75</td>\n",
       "      <td>2020-12-31 20:00:00+00:00</td>\n",
       "      <td>nao chove</td>\n",
       "    </tr>\n",
       "    <tr>\n",
       "      <th>8781</th>\n",
       "      <td>0.0</td>\n",
       "      <td>966.6</td>\n",
       "      <td>966.6</td>\n",
       "      <td>966.0</td>\n",
       "      <td>94.1</td>\n",
       "      <td>24.6</td>\n",
       "      <td>21.8</td>\n",
       "      <td>25.7</td>\n",
       "      <td>24.6</td>\n",
       "      <td>21.8</td>\n",
       "      <td>...</td>\n",
       "      <td>84.0</td>\n",
       "      <td>312.0</td>\n",
       "      <td>5.4</td>\n",
       "      <td>1.2</td>\n",
       "      <td>RANCHARIA</td>\n",
       "      <td>-22.372832</td>\n",
       "      <td>-50.974710</td>\n",
       "      <td>398.75</td>\n",
       "      <td>2020-12-31 21:00:00+00:00</td>\n",
       "      <td>nao chove</td>\n",
       "    </tr>\n",
       "    <tr>\n",
       "      <th>8782</th>\n",
       "      <td>1.0</td>\n",
       "      <td>967.5</td>\n",
       "      <td>967.5</td>\n",
       "      <td>966.6</td>\n",
       "      <td>10.5</td>\n",
       "      <td>22.6</td>\n",
       "      <td>20.1</td>\n",
       "      <td>24.6</td>\n",
       "      <td>22.6</td>\n",
       "      <td>21.8</td>\n",
       "      <td>...</td>\n",
       "      <td>86.0</td>\n",
       "      <td>204.0</td>\n",
       "      <td>5.9</td>\n",
       "      <td>0.5</td>\n",
       "      <td>RANCHARIA</td>\n",
       "      <td>-22.372832</td>\n",
       "      <td>-50.974710</td>\n",
       "      <td>398.75</td>\n",
       "      <td>2020-12-31 22:00:00+00:00</td>\n",
       "      <td>fraca</td>\n",
       "    </tr>\n",
       "    <tr>\n",
       "      <th>8783</th>\n",
       "      <td>3.4</td>\n",
       "      <td>968.2</td>\n",
       "      <td>968.2</td>\n",
       "      <td>967.5</td>\n",
       "      <td>1.3</td>\n",
       "      <td>21.9</td>\n",
       "      <td>20.0</td>\n",
       "      <td>22.6</td>\n",
       "      <td>21.9</td>\n",
       "      <td>20.2</td>\n",
       "      <td>...</td>\n",
       "      <td>88.0</td>\n",
       "      <td>88.0</td>\n",
       "      <td>2.6</td>\n",
       "      <td>0.7</td>\n",
       "      <td>RANCHARIA</td>\n",
       "      <td>-22.372832</td>\n",
       "      <td>-50.974710</td>\n",
       "      <td>398.75</td>\n",
       "      <td>2020-12-31 23:00:00+00:00</td>\n",
       "      <td>fraca</td>\n",
       "    </tr>\n",
       "  </tbody>\n",
       "</table>\n",
       "<p>17568 rows × 23 columns</p>\n",
       "</div>"
      ],
      "text/plain": [
       "      Chuva   Pres  Pres_max  Pres_min  Radiacao  Temp  Temp_orvalho  \\\n",
       "0       0.0  923.1     923.1     922.1       0.0  22.0          20.5   \n",
       "1       0.0  923.7     923.7     923.1       0.0  22.1          20.7   \n",
       "2       0.0  923.6     923.8     923.6       0.0  23.2          20.1   \n",
       "3       0.0  923.1     923.6     923.1       0.0  23.3          19.5   \n",
       "4       0.0  922.6     923.1     922.6       0.0  22.9          19.0   \n",
       "...     ...    ...       ...       ...       ...   ...           ...   \n",
       "8779    0.0  965.8     966.0     965.6    1636.0  26.7          22.2   \n",
       "8780    0.0  966.2     966.2     965.8     751.1  25.7          21.8   \n",
       "8781    0.0  966.6     966.6     966.0      94.1  24.6          21.8   \n",
       "8782    1.0  967.5     967.5     966.6      10.5  22.6          20.1   \n",
       "8783    3.4  968.2     968.2     967.5       1.3  21.9          20.0   \n",
       "\n",
       "      Temp_max  Temp_min  Temp_orvalho_max  ...  Umid  Dir_vento  \\\n",
       "0         22.2      21.8              20.5  ...  92.0      172.0   \n",
       "1         22.3      22.0              20.8  ...  92.0      101.0   \n",
       "2         23.5      22.1              20.8  ...  82.0        7.0   \n",
       "3         23.6      23.1              20.1  ...  79.0        6.0   \n",
       "4         23.6      22.8              19.5  ...  79.0      345.0   \n",
       "...        ...       ...               ...  ...   ...        ...   \n",
       "8779      27.6      26.2              23.3  ...  76.0      310.0   \n",
       "8780      27.0      25.7              22.8  ...  79.0      308.0   \n",
       "8781      25.7      24.6              21.8  ...  84.0      312.0   \n",
       "8782      24.6      22.6              21.8  ...  86.0      204.0   \n",
       "8783      22.6      21.9              20.2  ...  88.0       88.0   \n",
       "\n",
       "      Rajada_vento  Vel_vento                 Estaçao   Latitude  Longitude  \\\n",
       "0              2.8        0.4  SAO PAULO - INTERLAGOS -23.724501 -46.677501   \n",
       "1              1.8        0.9  SAO PAULO - INTERLAGOS -23.724501 -46.677501   \n",
       "2              3.3        1.2  SAO PAULO - INTERLAGOS -23.724501 -46.677501   \n",
       "3              3.0        1.2  SAO PAULO - INTERLAGOS -23.724501 -46.677501   \n",
       "4              3.5        0.6  SAO PAULO - INTERLAGOS -23.724501 -46.677501   \n",
       "...            ...        ...                     ...        ...        ...   \n",
       "8779           6.3        2.4               RANCHARIA -22.372832 -50.974710   \n",
       "8780           5.5        2.8               RANCHARIA -22.372832 -50.974710   \n",
       "8781           5.4        1.2               RANCHARIA -22.372832 -50.974710   \n",
       "8782           5.9        0.5               RANCHARIA -22.372832 -50.974710   \n",
       "8783           2.6        0.7               RANCHARIA -22.372832 -50.974710   \n",
       "\n",
       "     Altitude                  datahora  classe_chuva  \n",
       "0      771.00 2020-01-01 00:00:00+00:00     nao chove  \n",
       "1      771.00 2020-01-01 01:00:00+00:00     nao chove  \n",
       "2      771.00 2020-01-01 02:00:00+00:00     nao chove  \n",
       "3      771.00 2020-01-01 03:00:00+00:00     nao chove  \n",
       "4      771.00 2020-01-01 04:00:00+00:00     nao chove  \n",
       "...       ...                       ...           ...  \n",
       "8779   398.75 2020-12-31 19:00:00+00:00     nao chove  \n",
       "8780   398.75 2020-12-31 20:00:00+00:00     nao chove  \n",
       "8781   398.75 2020-12-31 21:00:00+00:00     nao chove  \n",
       "8782   398.75 2020-12-31 22:00:00+00:00         fraca  \n",
       "8783   398.75 2020-12-31 23:00:00+00:00         fraca  \n",
       "\n",
       "[17568 rows x 23 columns]"
      ]
     },
     "execution_count": 3,
     "metadata": {},
     "output_type": "execute_result"
    }
   ],
   "source": [
    "from RainPredictionMachine.data import clean_data_rpm\n",
    "df = clean_data_rpm()\n",
    "df = df.clean_data(2)\n",
    "df"
   ]
  },
  {
   "cell_type": "markdown",
   "id": "7a50f5bd",
   "metadata": {},
   "source": [
    "# Processamento"
   ]
  },
  {
   "cell_type": "code",
   "execution_count": 4,
   "id": "d164d0f9",
   "metadata": {
    "scrolled": false
   },
   "outputs": [
    {
     "name": "stderr",
     "output_type": "stream",
     "text": [
      "/home/victor/.pyenv/versions/3.8.12/envs/rain-prediction-machine/lib/python3.8/site-packages/sklearn/preprocessing/_label.py:115: DataConversionWarning: A column-vector y was passed when a 1d array was expected. Please change the shape of y to (n_samples, ), for example using ravel().\n",
      "  y = column_or_1d(y, warn=True)\n"
     ]
    }
   ],
   "source": [
    "from RainPredictionMachine.Trainer import pipe_creator\n",
    "X_train_t, X_test_t  = pipe_creator(df)"
   ]
  },
  {
   "cell_type": "code",
   "execution_count": 8,
   "id": "df5e84fc",
   "metadata": {},
   "outputs": [
    {
     "data": {
      "text/plain": [
       "(12297, 20)"
      ]
     },
     "execution_count": 8,
     "metadata": {},
     "output_type": "execute_result"
    }
   ],
   "source": [
    "X_train_t.shape"
   ]
  },
  {
   "cell_type": "markdown",
   "id": "fd22d731",
   "metadata": {},
   "source": [
    "# construção da RNN"
   ]
  },
  {
   "cell_type": "markdown",
   "id": "7d9c2f2c",
   "metadata": {},
   "source": [
    "## normalização"
   ]
  },
  {
   "cell_type": "code",
   "execution_count": null,
   "id": "7d51c590",
   "metadata": {},
   "outputs": [],
   "source": [
    "normalizer = Normalization()\n",
    "normalizer.adapt(X_train)\n",
    "normalizer(X_train)[0]"
   ]
  },
  {
   "cell_type": "markdown",
   "id": "83f600e6",
   "metadata": {},
   "source": [
    "## camadas da RNN"
   ]
  },
  {
   "cell_type": "code",
   "execution_count": null,
   "id": "ee02ade2",
   "metadata": {},
   "outputs": [],
   "source": [
    "model = Sequential()\n",
    "model.add(normalizer)\n",
    "model.add(SimpleRNN(units=20, activation='tanh'))\n",
    "model.add(Dense(10, activation='relu'))\n",
    "model.add(Dense(5, activation='softmax'))"
   ]
  },
  {
   "cell_type": "markdown",
   "id": "8007a20a",
   "metadata": {},
   "source": [
    "## compilando"
   ]
  },
  {
   "cell_type": "code",
   "execution_count": null,
   "id": "449f4860",
   "metadata": {},
   "outputs": [],
   "source": [
    "def compile_model(model):\n",
    "    model.compile(loss='categorical_crossentropy',\n",
    "                  optimizer='rmsprop', \n",
    "                  metrics=['accuracy'])\n",
    "    return model\n",
    "\n",
    "model = compile_model(model)"
   ]
  },
  {
   "cell_type": "markdown",
   "id": "81018b95",
   "metadata": {},
   "source": [
    "# Ajuste da RNN"
   ]
  },
  {
   "cell_type": "markdown",
   "id": "7a6c8e48",
   "metadata": {},
   "source": [
    "Fazendo um early stopping"
   ]
  },
  {
   "cell_type": "code",
   "execution_count": null,
   "id": "078a0dc7",
   "metadata": {},
   "outputs": [],
   "source": [
    "from keras.callbacks import EarlyStopping\n",
    "\n",
    "es = EarlyStopping(patience=3, restore_best_weights=True)"
   ]
  },
  {
   "cell_type": "markdown",
   "id": "fbfe2ce3",
   "metadata": {},
   "source": [
    "Ajustando o modelo"
   ]
  },
  {
   "cell_type": "code",
   "execution_count": null,
   "id": "91ce85bb",
   "metadata": {
    "scrolled": true
   },
   "outputs": [],
   "source": [
    "model.fit(X_train, y_train,\n",
    "          epochs=100, \n",
    "          batch_size=32, \n",
    "          validation_split=0.2,\n",
    "          callbacks=[es])"
   ]
  },
  {
   "cell_type": "code",
   "execution_count": null,
   "id": "d2270ffe",
   "metadata": {},
   "outputs": [],
   "source": [
    "df\n"
   ]
  },
  {
   "cell_type": "code",
   "execution_count": null,
   "id": "704d9a07",
   "metadata": {},
   "outputs": [],
   "source": [
    "df['classe_chuva'].shift(-1)"
   ]
  }
 ],
 "metadata": {
  "kernelspec": {
   "display_name": "Python 3 (ipykernel)",
   "language": "python",
   "name": "python3"
  },
  "language_info": {
   "codemirror_mode": {
    "name": "ipython",
    "version": 3
   },
   "file_extension": ".py",
   "mimetype": "text/x-python",
   "name": "python",
   "nbconvert_exporter": "python",
   "pygments_lexer": "ipython3",
   "version": "3.8.12"
  },
  "toc": {
   "base_numbering": 1,
   "nav_menu": {},
   "number_sections": true,
   "sideBar": true,
   "skip_h1_title": false,
   "title_cell": "Table of Contents",
   "title_sidebar": "Contents",
   "toc_cell": false,
   "toc_position": {},
   "toc_section_display": true,
   "toc_window_display": false
  }
 },
 "nbformat": 4,
 "nbformat_minor": 5
}
