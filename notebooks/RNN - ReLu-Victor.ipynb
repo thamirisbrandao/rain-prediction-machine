{
 "cells": [
  {
   "cell_type": "markdown",
   "id": "0f9e3d53",
   "metadata": {
    "heading_collapsed": true
   },
   "source": [
    "# preparação"
   ]
  },
  {
   "cell_type": "markdown",
   "id": "e91292ae",
   "metadata": {
    "heading_collapsed": true,
    "hidden": true
   },
   "source": [
    "## importações"
   ]
  },
  {
   "cell_type": "code",
   "execution_count": 1,
   "id": "df6c9d8e",
   "metadata": {
    "hidden": true
   },
   "outputs": [
    {
     "name": "stderr",
     "output_type": "stream",
     "text": [
      "2022-03-24 14:38:59.452189: W tensorflow/stream_executor/platform/default/dso_loader.cc:64] Could not load dynamic library 'libcudart.so.11.0'; dlerror: libcudart.so.11.0: cannot open shared object file: No such file or directory\n",
      "2022-03-24 14:38:59.452287: I tensorflow/stream_executor/cuda/cudart_stub.cc:29] Ignore above cudart dlerror if you do not have a GPU set up on your machine.\n"
     ]
    },
    {
     "name": "stdout",
     "output_type": "stream",
     "text": [
      "CPU times: user 13.7 s, sys: 4.52 s, total: 18.2 s\n",
      "Wall time: 17.1 s\n"
     ]
    }
   ],
   "source": [
    "%%time\n",
    "%load_ext autoreload\n",
    "%autoreload 2\n",
    "from tensorflow.keras.models import Sequential\n",
    "from tensorflow.keras.layers import Dense, SimpleRNN, Flatten, LSTM, GRU\n",
    "import pandas as pd\n",
    "import numpy as np"
   ]
  },
  {
   "cell_type": "markdown",
   "id": "73c39413",
   "metadata": {
    "heading_collapsed": true,
    "hidden": true
   },
   "source": [
    "## Aquisição de dados"
   ]
  },
  {
   "cell_type": "code",
   "execution_count": null,
   "id": "d1a004ac",
   "metadata": {
    "hidden": true
   },
   "outputs": [],
   "source": [
    "from RainPredictionMachine.data import CleanDataRpm\n",
    "cleaner = CleanDataRpm()\n",
    "df = cleaner.clean_data(0)\n",
    "df"
   ]
  },
  {
   "cell_type": "markdown",
   "id": "678cb308",
   "metadata": {
    "heading_collapsed": true,
    "hidden": true
   },
   "source": [
    "## visualização"
   ]
  },
  {
   "cell_type": "code",
   "execution_count": null,
   "id": "4849d88c",
   "metadata": {
    "hidden": true
   },
   "outputs": [],
   "source": [
    "len(df.columns)"
   ]
  },
  {
   "cell_type": "code",
   "execution_count": null,
   "id": "75017ffd",
   "metadata": {
    "hidden": true
   },
   "outputs": [],
   "source": [
    "df.head(2).to_dict()"
   ]
  },
  {
   "cell_type": "code",
   "execution_count": null,
   "id": "1c2d7f0e",
   "metadata": {
    "hidden": true
   },
   "outputs": [],
   "source": [
    "df.isnull().sum()"
   ]
  },
  {
   "cell_type": "markdown",
   "id": "111e4049",
   "metadata": {
    "heading_collapsed": true,
    "hidden": true
   },
   "source": [
    "## Funções de Amostragem"
   ]
  },
  {
   "cell_type": "code",
   "execution_count": null,
   "id": "93c52361",
   "metadata": {
    "hidden": true
   },
   "outputs": [],
   "source": [
    "def subsample_sequence(df, length):\n",
    "    '''returns a random sample sequence from inside a dataframe'''\n",
    "    index = np.random.randint(0, df.shape[0] - length)\n",
    "    df_sample = df.iloc[index:index+length]\n",
    "    \n",
    "    return df_sample"
   ]
  },
  {
   "cell_type": "code",
   "execution_count": null,
   "id": "3e7737f3",
   "metadata": {
    "hidden": true
   },
   "outputs": [],
   "source": [
    "df_sample = subsample_sequence(df,48)\n",
    "df_sample.head()"
   ]
  },
  {
   "cell_type": "code",
   "execution_count": null,
   "id": "d55e10ce",
   "metadata": {
    "hidden": true
   },
   "outputs": [],
   "source": [
    "def split_subsample_sequence(df, length):\n",
    "    '''Create one single random (X,y) pair'''\n",
    "    \n",
    "    df_subsample = subsample_sequence(df, length)\n",
    "    y_sample = df_subsample['Chuva'].iloc[length - 24:]\n",
    "    \n",
    "    X_sample = df_subsample.drop(columns= ['classe_chuva', 'datahora'])[0:length -24]\n",
    "    X_sample = X_sample.values\n",
    "   \n",
    "    return np.array(X_sample), np.array(y_sample)"
   ]
  },
  {
   "cell_type": "code",
   "execution_count": null,
   "id": "70c24d90",
   "metadata": {
    "hidden": true
   },
   "outputs": [],
   "source": [
    "def get_X_y(df, n_sequences, length):\n",
    "    '''Return a list of samples (X, y)'''\n",
    "    X, y = [], []\n",
    "\n",
    "    for i in range(n_sequences):\n",
    "        (xi, yi) = split_subsample_sequence(df, length)\n",
    "        X.append(xi)\n",
    "        y.append(yi)\n",
    "        \n",
    "    X = np.array(X)\n",
    "    y = np.array(y)\n",
    "    return X, y"
   ]
  },
  {
   "cell_type": "markdown",
   "id": "ef63ac36",
   "metadata": {
    "heading_collapsed": true,
    "hidden": true
   },
   "source": [
    "## Train-test split"
   ]
  },
  {
   "cell_type": "code",
   "execution_count": null,
   "id": "573a6309",
   "metadata": {
    "hidden": true
   },
   "outputs": [],
   "source": [
    "train_size = int(df.shape[0]*0.8)\n",
    "df_train = df.iloc[:train_size,:]\n",
    "df_test = df.iloc[train_size:,:]"
   ]
  },
  {
   "cell_type": "code",
   "execution_count": null,
   "id": "36d80602",
   "metadata": {
    "hidden": true
   },
   "outputs": [],
   "source": [
    "df_train.value_counts(['Chuva'])"
   ]
  },
  {
   "cell_type": "code",
   "execution_count": null,
   "id": "8e284051",
   "metadata": {
    "hidden": true
   },
   "outputs": [],
   "source": [
    "df_test.shape"
   ]
  },
  {
   "cell_type": "code",
   "execution_count": null,
   "id": "8b9b551e",
   "metadata": {
    "hidden": true
   },
   "outputs": [],
   "source": [
    "X_train,y_train = get_X_y(df_train,200,72)"
   ]
  },
  {
   "cell_type": "code",
   "execution_count": null,
   "id": "ceec71b3",
   "metadata": {
    "hidden": true
   },
   "outputs": [],
   "source": [
    "X_test,y_test = get_X_y(df_test,200,72)"
   ]
  },
  {
   "cell_type": "code",
   "execution_count": null,
   "id": "095d857c",
   "metadata": {
    "hidden": true
   },
   "outputs": [],
   "source": [
    "y_train.shape"
   ]
  },
  {
   "cell_type": "code",
   "execution_count": null,
   "id": "871dbb27",
   "metadata": {
    "hidden": true
   },
   "outputs": [],
   "source": [
    "# from sklearn.preprocessing import LabelEncoder\n",
    "# from tensorflow.keras.utils import to_categorical\n",
    "\n",
    "# # label = LabelEncoder()\n",
    "# # y_enc = label.fit_transform(y.reshape((-1,)))\n",
    "# y_cat = to_categorical(y_train)\n",
    "# y_cat.shape"
   ]
  },
  {
   "cell_type": "markdown",
   "id": "4cc85880",
   "metadata": {
    "heading_collapsed": true,
    "hidden": true
   },
   "source": [
    "## normalização"
   ]
  },
  {
   "cell_type": "code",
   "execution_count": null,
   "id": "98ef54f3",
   "metadata": {
    "hidden": true
   },
   "outputs": [],
   "source": [
    "from tensorflow.keras.layers.experimental.preprocessing import Normalization\n",
    "\n",
    "norm = Normalization()\n",
    "norm.adapt(X_train)"
   ]
  },
  {
   "cell_type": "code",
   "execution_count": null,
   "id": "a8812018",
   "metadata": {
    "hidden": true
   },
   "outputs": [],
   "source": [
    "X_train.shape"
   ]
  },
  {
   "cell_type": "markdown",
   "id": "d55cf1ac",
   "metadata": {},
   "source": [
    "# Modelagem"
   ]
  },
  {
   "cell_type": "markdown",
   "id": "97d77d0c",
   "metadata": {},
   "source": [
    "## Arquitetura da rede"
   ]
  },
  {
   "cell_type": "code",
   "execution_count": null,
   "id": "8c3c7cac",
   "metadata": {},
   "outputs": [],
   "source": [
    "model1 = Sequential()\n",
    "\n",
    "model1.add(norm)\n",
    "\n",
    "model1.add(LSTM(units=100, activation='tanh',return_sequences=False))\n",
    "model1.add(Dense(80, activation=\"tanh\"))\n",
    "model1.add(Dense(50, activation=\"tanh\"))\n",
    "model1.add(Dense(24, activation=\"relu\"))\n",
    "\n",
    "model1.compile(loss='mape',\n",
    "                  optimizer='rmsprop',\n",
    "                  metrics=['mae','mse','mape'])\n",
    "\n",
    "model1.summary()"
   ]
  },
  {
   "cell_type": "code",
   "execution_count": null,
   "id": "cc8fd479",
   "metadata": {},
   "outputs": [],
   "source": [
    "model2 = Sequential()\n",
    "\n",
    "model2.add(norm)\n",
    "\n",
    "model2.add(LSTM(units=100, activation='tanh',return_sequences=True))\n",
    "model2.add(LSTM(units=50, activation='tanh',return_sequences=False))\n",
    "model2.add(Dense(30, activation=\"tanh\"))\n",
    "model2.add(Dense(24, activation=\"relu\"))\n",
    "\n",
    "model2.compile(loss='mape',\n",
    "                  optimizer='rmsprop',\n",
    "                  metrics=['mae','mse','mape'])\n",
    "\n",
    "model2.summary()"
   ]
  },
  {
   "cell_type": "code",
   "execution_count": null,
   "id": "2f026770",
   "metadata": {},
   "outputs": [],
   "source": [
    "model3 = Sequential()\n",
    "\n",
    "model3.add(norm)\n",
    "\n",
    "model2.add(LSTM(units=100, activation='tanh',return_sequences=True))\n",
    "model2.add(LSTM(units=80, activation='tanh',return_sequences=False))\n",
    "model2.add(Dense(60, activation=\"tanh\"))\n",
    "model2.add(Dense(40, activation=\"tanh\"))\n",
    "model2.add(Dense(24, activation=\"relu\"))\n",
    "\n",
    "model3.compile(loss='mape',\n",
    "                  optimizer='rmsprop',\n",
    "                  metrics=['mae','mse','mape'])\n",
    "\n",
    "model3.summary()"
   ]
  },
  {
   "cell_type": "markdown",
   "id": "67957259",
   "metadata": {
    "heading_collapsed": true
   },
   "source": [
    "## ajuste"
   ]
  },
  {
   "cell_type": "code",
   "execution_count": null,
   "id": "7e061bf0",
   "metadata": {
    "hidden": true
   },
   "outputs": [],
   "source": [
    "from tensorflow.keras.callbacks import EarlyStopping\n",
    "\n",
    "es = EarlyStopping(patience=3, restore_best_weights=True)"
   ]
  },
  {
   "cell_type": "code",
   "execution_count": null,
   "id": "e8e688d6",
   "metadata": {
    "hidden": true
   },
   "outputs": [],
   "source": [
    "%%time\n",
    "model1.fit(X_train, y_train, batch_size=32, epochs=10, verbose=1,\n",
    "         validation_split=0.2,\n",
    "          callbacks=[es])"
   ]
  },
  {
   "cell_type": "code",
   "execution_count": null,
   "id": "ce02dabc",
   "metadata": {
    "hidden": true
   },
   "outputs": [],
   "source": [
    "%%time\n",
    "model2.fit(X_train, y_train, batch_size=32, epochs=10, verbose=1,\n",
    "         validation_split=0.2,\n",
    "          callbacks=[es])"
   ]
  },
  {
   "cell_type": "code",
   "execution_count": null,
   "id": "38972236",
   "metadata": {
    "hidden": true
   },
   "outputs": [],
   "source": [
    "%%time\n",
    "model3.fit(X_train, y_train, batch_size=32, epochs=10, verbose=1,\n",
    "         validation_split=0.2,\n",
    "          callbacks=[es])"
   ]
  },
  {
   "cell_type": "markdown",
   "id": "1d6888be",
   "metadata": {},
   "source": [
    "# Avaliação"
   ]
  },
  {
   "cell_type": "markdown",
   "id": "4c8ccc02",
   "metadata": {
    "heading_collapsed": true
   },
   "source": [
    "## Tratamento de resultado"
   ]
  },
  {
   "cell_type": "code",
   "execution_count": null,
   "id": "8405d005",
   "metadata": {
    "hidden": true
   },
   "outputs": [],
   "source": [
    "y_pred1 = model1.predict(X_test)\n",
    "y_pred2 = model2.predict(X_test)\n",
    "y_pred3 = model3.predict(X_test)"
   ]
  },
  {
   "cell_type": "code",
   "execution_count": null,
   "id": "2cd55b3a",
   "metadata": {
    "hidden": true
   },
   "outputs": [],
   "source": [
    "model1.evaluate(X_test,y_test)\n",
    "model2.evaluate(X_test,y_test)\n",
    "model3.evaluate(X_test,y_test)"
   ]
  },
  {
   "cell_type": "code",
   "execution_count": null,
   "id": "23974489",
   "metadata": {
    "hidden": true
   },
   "outputs": [],
   "source": [
    "df_y_test = pd.DataFrame(y_test).T #cada coluna sera o indice para os dias do futuro -6000 dias"
   ]
  },
  {
   "cell_type": "code",
   "execution_count": null,
   "id": "8777713c",
   "metadata": {
    "hidden": true
   },
   "outputs": [],
   "source": [
    "df_y_pred1 = pd.DataFrame(y_pred1).T\n",
    "df_y_pred2 = pd.DataFrame(y_pred2).T\n",
    "df_y_pred3 = pd.DataFrame(y_pred3).T"
   ]
  },
  {
   "cell_type": "code",
   "execution_count": null,
   "id": "77b1a4e7",
   "metadata": {
    "hidden": true
   },
   "outputs": [],
   "source": [
    "pd.DataFrame(y_pred1).describe()\n",
    "pd.DataFrame(y_pred2).describe()\n",
    "pd.DataFrame(y_pred3).describe()"
   ]
  },
  {
   "cell_type": "markdown",
   "id": "b4e10500",
   "metadata": {
    "hidden": true
   },
   "source": [
    "Função de categorização"
   ]
  },
  {
   "cell_type": "code",
   "execution_count": null,
   "id": "4e058c84",
   "metadata": {
    "hidden": true
   },
   "outputs": [],
   "source": [
    "def classe_chuva(precipitacao):\n",
    "    mm=precipitacao\n",
    "    if np.isnan(mm):\n",
    "        chuva = \"NaN\"\n",
    "    if mm == 0:\n",
    "        chuva = 0 #'nao chove'\n",
    "    elif mm >0 and mm <=5.0:\n",
    "        chuva = 1 #'fraca'\n",
    "    elif mm >5.0 and mm<=25.0:\n",
    "        chuva = 2 #'moderada'\n",
    "    else:\n",
    "        chuva = 3 #'forte'\n",
    "    return chuva"
   ]
  },
  {
   "cell_type": "markdown",
   "id": "c1209492",
   "metadata": {
    "hidden": true
   },
   "source": [
    "dataframe com o y test"
   ]
  },
  {
   "cell_type": "code",
   "execution_count": null,
   "id": "d60165d0",
   "metadata": {
    "hidden": true
   },
   "outputs": [],
   "source": [
    "df_y_test_categorical = df_y_test.applymap(classe_chuva)"
   ]
  },
  {
   "cell_type": "markdown",
   "id": "19083074",
   "metadata": {
    "hidden": true
   },
   "source": [
    "categorizando as previsões"
   ]
  },
  {
   "cell_type": "code",
   "execution_count": null,
   "id": "a4fc1130",
   "metadata": {
    "hidden": true
   },
   "outputs": [],
   "source": [
    "df_y_pred_categorical1 = df_y_pred1.applymap(classe_chuva)\n",
    "df_y_pred_categorical2 = df_y_pred2.applymap(classe_chuva)\n",
    "df_y_pred_categorical3 = df_y_pred3.applymap(classe_chuva)"
   ]
  },
  {
   "cell_type": "code",
   "execution_count": null,
   "id": "86b97b0d",
   "metadata": {
    "hidden": true
   },
   "outputs": [],
   "source": [
    "(df_y_test_categorical == df_y_pred_categorical1).sum() # o quanto acertamos por dia"
   ]
  },
  {
   "cell_type": "code",
   "execution_count": null,
   "id": "9d329df6",
   "metadata": {
    "hidden": true
   },
   "outputs": [],
   "source": [
    "m1acc = (df_y_test_categorical == df_y_pred_categorical1).sum().sum()/(6000*24)\n",
    "m2acc = (df_y_test_categorical == df_y_pred_categorical2).sum().sum()/(6000*24)\n",
    "m3acc = (df_y_test_categorical == df_y_pred_categorical3).sum().sum()/(6000*24)"
   ]
  },
  {
   "cell_type": "markdown",
   "id": "4bcb5fdd",
   "metadata": {},
   "source": [
    "## Avaliação"
   ]
  },
  {
   "cell_type": "code",
   "execution_count": null,
   "id": "049bfcaa",
   "metadata": {
    "scrolled": true
   },
   "outputs": [],
   "source": [
    "print(f'model 1 accuracy: {m1acc}')\n",
    "print(f'model 2 accuracy: {m2acc}')\n",
    "print(f'model 3 accuracy: {m3acc}')"
   ]
  },
  {
   "cell_type": "code",
   "execution_count": null,
   "id": "a5f6bb12",
   "metadata": {
    "scrolled": true
   },
   "outputs": [],
   "source": [
    "model1.evaluate(X_test,y_test)"
   ]
  },
  {
   "cell_type": "code",
   "execution_count": null,
   "id": "002f8533",
   "metadata": {},
   "outputs": [],
   "source": [
    "model2.evaluate(X_test,y_test)"
   ]
  },
  {
   "cell_type": "code",
   "execution_count": null,
   "id": "2013f321",
   "metadata": {},
   "outputs": [],
   "source": [
    "model3.evaluate(X_test,y_test)"
   ]
  }
 ],
 "metadata": {
  "kernelspec": {
   "display_name": "Python 3 (ipykernel)",
   "language": "python",
   "name": "python3"
  },
  "language_info": {
   "codemirror_mode": {
    "name": "ipython",
    "version": 3
   },
   "file_extension": ".py",
   "mimetype": "text/x-python",
   "name": "python",
   "nbconvert_exporter": "python",
   "pygments_lexer": "ipython3",
   "version": "3.8.12"
  },
  "toc": {
   "base_numbering": 1,
   "nav_menu": {},
   "number_sections": true,
   "sideBar": true,
   "skip_h1_title": false,
   "title_cell": "Table of Contents",
   "title_sidebar": "Contents",
   "toc_cell": false,
   "toc_position": {},
   "toc_section_display": true,
   "toc_window_display": false
  }
 },
 "nbformat": 4,
 "nbformat_minor": 5
}
