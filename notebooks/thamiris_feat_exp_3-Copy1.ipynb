{
 "cells": [
  {
   "cell_type": "markdown",
   "id": "94eb2ee2",
   "metadata": {},
   "source": [
    "# Importações"
   ]
  },
  {
   "cell_type": "code",
   "execution_count": 1,
   "id": "cf612922",
   "metadata": {},
   "outputs": [],
   "source": [
    "import pandas as pd\n",
    "from os import listdir\n",
    "from os.path import isfile, join\n",
    "import numpy as np"
   ]
  },
  {
   "cell_type": "markdown",
   "id": "ff13f3c3",
   "metadata": {},
   "source": [
    "# Criando variáveis organizacionais"
   ]
  },
  {
   "cell_type": "markdown",
   "id": "dc269e2c",
   "metadata": {},
   "source": [
    "# Tratamentos iniciais dos dados"
   ]
  },
  {
   "cell_type": "markdown",
   "id": "2c3a140d",
   "metadata": {},
   "source": [
    "## Tratamentos básicos"
   ]
  },
  {
   "cell_type": "markdown",
   "id": "b5c86185",
   "metadata": {},
   "source": [
    "## Transformação de dados e preenchimento"
   ]
  },
  {
   "cell_type": "markdown",
   "id": "bcaec815",
   "metadata": {},
   "source": [
    "### Formatando data e hora"
   ]
  },
  {
   "cell_type": "markdown",
   "id": "b539269c",
   "metadata": {},
   "source": [
    "### Tratando valores nulos de radiação"
   ]
  },
  {
   "cell_type": "markdown",
   "id": "cef579e5",
   "metadata": {},
   "source": [
    "### Imputer da variável de vento"
   ]
  },
  {
   "cell_type": "markdown",
   "id": "1a930a7f",
   "metadata": {},
   "source": [
    "### Transformando chuva em variável categórica"
   ]
  },
  {
   "cell_type": "code",
   "execution_count": 2,
   "id": "94b9cc71",
   "metadata": {},
   "outputs": [],
   "source": [
    "from RainPredictionMachine.data import CleanDataRpm"
   ]
  },
  {
   "cell_type": "code",
   "execution_count": null,
   "id": "890e9e24",
   "metadata": {},
   "outputs": [],
   "source": []
  },
  {
   "cell_type": "code",
   "execution_count": 7,
   "id": "5c27afb7",
   "metadata": {},
   "outputs": [],
   "source": [
    "cleaner = CleanDataRpm()\n",
    "\n",
    "df= cleaner.clean_data(2)"
   ]
  },
  {
   "cell_type": "code",
   "execution_count": 18,
   "id": "cc7d0728",
   "metadata": {
    "scrolled": false
   },
   "outputs": [
    {
     "data": {
      "text/plain": [
       "25.1"
      ]
     },
     "execution_count": 18,
     "metadata": {},
     "output_type": "execute_result"
    }
   ],
   "source": [
    "df.Temp.iloc[-50]\n",
    "df.Umid"
   ]
  },
  {
   "cell_type": "code",
   "execution_count": null,
   "id": "4c893acf",
   "metadata": {},
   "outputs": [],
   "source": [
    "lat,lon,estaca = cleaner.get_lat_lon(6)\n",
    "lat"
   ]
  },
  {
   "cell_type": "code",
   "execution_count": null,
   "id": "6f872ffe",
   "metadata": {},
   "outputs": [],
   "source": [
    "def get_lat_lon(n_files):\n",
    "    pathh = '../raw_data/SP' #caminho geral\n",
    "    files = [f for f in listdir(pathh) if isfile(join(pathh, f))]\n",
    "    estacao, lat, lon = [], [], []\n",
    "    \n",
    "    for file in range(0,n_files):\n",
    "        lat_lon_alt = pd.read_csv(f'../raw_data/SP/{files[file]}', sep=';', skiprows=4,\n",
    "                         nrows=3, encoding=\"ISO-8859-1\", decimal=',', names=['lat_lon_alt','valor'])\n",
    "        est=files[file].split('_')[4]\n",
    "        latt=lat_lon_alt['valor'][0]\n",
    "        lonn=lat_lon_alt['valor'][1]\n",
    "        estacao.append(est)\n",
    "        lat.append(latt)\n",
    "        lon.append(lonn)\n",
    "    \n",
    "    return lat, lon, estacao\n",
    "\n"
   ]
  },
  {
   "cell_type": "code",
   "execution_count": null,
   "id": "e491fb82",
   "metadata": {},
   "outputs": [],
   "source": [
    "lat, lon, estacao =lat_lon(63)\n"
   ]
  },
  {
   "cell_type": "code",
   "execution_count": null,
   "id": "8f4df127",
   "metadata": {},
   "outputs": [],
   "source": [
    "coord=pd.DataFrame(lat, columns=['lat'])\n",
    "coord['lon']=lon\n",
    "coord['estacao']=estaca\n",
    "coord"
   ]
  },
  {
   "cell_type": "code",
   "execution_count": null,
   "id": "bce43743",
   "metadata": {
    "scrolled": true
   },
   "outputs": [],
   "source": [
    "\n",
    "coord=pd.DataFrame(lat,columns='lat')\n",
    "coord['lon']=lon\n",
    "coord['estacao']=estacao\n",
    "coord.drop_duplicates('estacao')\n"
   ]
  },
  {
   "cell_type": "code",
   "execution_count": null,
   "id": "f269a344",
   "metadata": {},
   "outputs": [],
   "source": [
    "lat_lon2=lat_lon(63)\n",
    "lat=lat_lon2.groupby(by=lat_lon2['latitude'])\n",
    "lon=lat_lon2.groupby(by=lat_lon2['longitude'])\n",
    "nomes=lat_lon2.groupby(by=lat_lon2['estacao'])\n",
    "\n",
    "lat_lon2=lat_lon(63)\n",
    "lat=lat_lon2.latitude.unique()\n",
    "lon=lat_lon2.longitude.unique()\n",
    "nomes=lat_lon2.estacao.unique()"
   ]
  },
  {
   "cell_type": "markdown",
   "id": "f0475f48",
   "metadata": {},
   "source": [
    "# Explorando os dados"
   ]
  },
  {
   "cell_type": "markdown",
   "id": "110e8de3",
   "metadata": {},
   "source": [
    "## Verificando células nulas"
   ]
  },
  {
   "cell_type": "code",
   "execution_count": null,
   "id": "c43dbb72",
   "metadata": {},
   "outputs": [],
   "source": [
    "df2.isnull().sum().sort_values(ascending=False)/len(df2)"
   ]
  },
  {
   "cell_type": "markdown",
   "id": "28ae01fe",
   "metadata": {},
   "source": [
    "## Scale sensitivity"
   ]
  },
  {
   "cell_type": "code",
   "execution_count": null,
   "id": "772899fa",
   "metadata": {},
   "outputs": [],
   "source": [
    "from RainPredictionMachine.Trainer import pipe_creator\n"
   ]
  },
  {
   "cell_type": "code",
   "execution_count": null,
   "id": "a9f9ba09",
   "metadata": {},
   "outputs": [],
   "source": []
  },
  {
   "cell_type": "code",
   "execution_count": null,
   "id": "dfede463",
   "metadata": {},
   "outputs": [],
   "source": [
    "df2[['Radiacao']].boxplot(figsize=(20,6));"
   ]
  },
  {
   "cell_type": "code",
   "execution_count": null,
   "id": "06b5956a",
   "metadata": {},
   "outputs": [],
   "source": [
    "df2[['Chuva']].boxplot(figsize=(20,6));"
   ]
  },
  {
   "cell_type": "code",
   "execution_count": null,
   "id": "3a368f57",
   "metadata": {},
   "outputs": [],
   "source": [
    "df2[['Umid_min']].boxplot(figsize=(20,6));"
   ]
  },
  {
   "cell_type": "code",
   "execution_count": null,
   "id": "548a0ffd",
   "metadata": {},
   "outputs": [],
   "source": [
    "df2[['Vel_vento']].boxplot(figsize=(20,6));"
   ]
  },
  {
   "cell_type": "code",
   "execution_count": null,
   "id": "f0887961",
   "metadata": {},
   "outputs": [],
   "source": [
    "df2[['Rajada_vento']].boxplot(figsize=(20,6));"
   ]
  },
  {
   "cell_type": "code",
   "execution_count": null,
   "id": "f9fc1431",
   "metadata": {},
   "outputs": [],
   "source": [
    "df2[['Dir_vento']].boxplot(figsize=(20,6));"
   ]
  },
  {
   "cell_type": "code",
   "execution_count": null,
   "id": "7afe15fd",
   "metadata": {},
   "outputs": [],
   "source": [
    "df2[['Umid']].boxplot(figsize=(20,6));"
   ]
  },
  {
   "cell_type": "code",
   "execution_count": null,
   "id": "34209db0",
   "metadata": {},
   "outputs": [],
   "source": [
    "df2[['Umid_max']].boxplot(figsize=(20,6));"
   ]
  },
  {
   "cell_type": "code",
   "execution_count": null,
   "id": "97e68a54",
   "metadata": {},
   "outputs": [],
   "source": [
    "df2[['Pres']].boxplot(figsize=(20,6));"
   ]
  },
  {
   "cell_type": "code",
   "execution_count": null,
   "id": "6adcbe73",
   "metadata": {},
   "outputs": [],
   "source": [
    "df2[['Temp_orvalho_min']].boxplot(figsize=(20,6));"
   ]
  },
  {
   "cell_type": "code",
   "execution_count": null,
   "id": "d3f2a192",
   "metadata": {},
   "outputs": [],
   "source": [
    "df2[['Temp_min']].boxplot(figsize=(20,6));"
   ]
  },
  {
   "cell_type": "code",
   "execution_count": null,
   "id": "21367e63",
   "metadata": {},
   "outputs": [],
   "source": [
    "df2[['Temp_max']].boxplot(figsize=(20,6));"
   ]
  },
  {
   "cell_type": "code",
   "execution_count": null,
   "id": "7081ea0e",
   "metadata": {},
   "outputs": [],
   "source": [
    "df2[['Temp_orvalho']].boxplot(figsize=(20,6));"
   ]
  },
  {
   "cell_type": "code",
   "execution_count": null,
   "id": "bfb1d082",
   "metadata": {},
   "outputs": [],
   "source": [
    "df2[['Temp']].boxplot(figsize=(20,6));"
   ]
  },
  {
   "cell_type": "code",
   "execution_count": null,
   "id": "7fdef5bc",
   "metadata": {},
   "outputs": [],
   "source": [
    "df2[['Radiacao']].boxplot(figsize=(20,6));"
   ]
  },
  {
   "cell_type": "code",
   "execution_count": null,
   "id": "41ab8bbe",
   "metadata": {},
   "outputs": [],
   "source": [
    "df2[['Pres_min']].boxplot(figsize=(20,6));"
   ]
  },
  {
   "cell_type": "code",
   "execution_count": null,
   "id": "922ea44d",
   "metadata": {},
   "outputs": [],
   "source": [
    "df2[['Pres_max']].boxplot(figsize=(20,6));"
   ]
  },
  {
   "cell_type": "code",
   "execution_count": null,
   "id": "71b6c6aa",
   "metadata": {},
   "outputs": [],
   "source": [
    "df2['classe_chuva'].value_counts"
   ]
  },
  {
   "cell_type": "markdown",
   "id": "3f1876e1",
   "metadata": {},
   "source": [
    "## Contando a quantidade de eventos de intensidade de chuva"
   ]
  },
  {
   "cell_type": "code",
   "execution_count": null,
   "id": "8eefe998",
   "metadata": {},
   "outputs": [],
   "source": [
    "chuva_zero = df2[df2['classe_chuva']  == 'nao chove']\n",
    "chuva_zero"
   ]
  },
  {
   "cell_type": "code",
   "execution_count": null,
   "id": "68077a93",
   "metadata": {},
   "outputs": [],
   "source": [
    "chuva_fraca = df2[df2['classe_chuva']  == 'fraca']\n",
    "chuva_fraca"
   ]
  },
  {
   "cell_type": "code",
   "execution_count": null,
   "id": "e4324e64",
   "metadata": {},
   "outputs": [],
   "source": [
    "chuva_moderada = df2[df2['classe_chuva']  == 'moderada']\n",
    "chuva_moderada"
   ]
  },
  {
   "cell_type": "code",
   "execution_count": null,
   "id": "29263353",
   "metadata": {
    "scrolled": true
   },
   "outputs": [],
   "source": [
    "chuva_forte = df2[df2['classe_chuva']  == 'forte']\n",
    "chuva_forte"
   ]
  },
  {
   "cell_type": "code",
   "execution_count": null,
   "id": "70ab5bb7",
   "metadata": {},
   "outputs": [],
   "source": [
    "chuva_muitoforte = df2[df2['classe_chuva']  == 'muito forte']\n",
    "chuva_muitoforte"
   ]
  },
  {
   "cell_type": "markdown",
   "id": "0d5f5569",
   "metadata": {},
   "source": [
    "## Verificando padrão de temperatura, pressão e umidade antes da chuva"
   ]
  },
  {
   "cell_type": "code",
   "execution_count": null,
   "id": "d4bd99b9",
   "metadata": {},
   "outputs": [],
   "source": [
    "# a. encontra o tempo que a intensidade da chuva estava muito forte\n",
    "tempo_chv_muito_forte = df2[df2['classe_chuva']  == 'forte']['datahora']\n",
    "lista = list(tempo_chv_muito_forte.index)\n",
    "lista"
   ]
  },
  {
   "cell_type": "code",
   "execution_count": null,
   "id": "f559fa39",
   "metadata": {},
   "outputs": [],
   "source": [
    "# b. captura a partir do padrão de T, P e U das 5 horas anteriores e posteriores de a \n",
    "df2.iloc[lista[0] - 5: lista[0] + 6][['Temp', 'Umid']].plot()\n",
    "# c. plotar T, P, U e chuva como bolinha"
   ]
  },
  {
   "cell_type": "code",
   "execution_count": null,
   "id": "35868f2f",
   "metadata": {},
   "outputs": [],
   "source": [
    "df2.iloc[lista[0] - 5: lista[0] + 6][['Temp', 'Umid']].plot()"
   ]
  },
  {
   "cell_type": "code",
   "execution_count": null,
   "id": "e6a348da",
   "metadata": {},
   "outputs": [],
   "source": [
    "for i in lista:\n",
    "    df2.iloc[i - 5: i + 6][['Temp', 'Umid']].plot()"
   ]
  },
  {
   "cell_type": "code",
   "execution_count": null,
   "id": "78c0bbd8",
   "metadata": {},
   "outputs": [],
   "source": [
    "df2['datahora'] == tempo_chv_muito_forte"
   ]
  },
  {
   "cell_type": "code",
   "execution_count": null,
   "id": "01787f61",
   "metadata": {},
   "outputs": [],
   "source": [
    "tempo_chv_muito_forte"
   ]
  },
  {
   "cell_type": "markdown",
   "id": "3d54b129",
   "metadata": {},
   "source": [
    "## Heatmap of the Pearson Correlation between the dataset columns."
   ]
  },
  {
   "cell_type": "code",
   "execution_count": null,
   "id": "f1e31eb5",
   "metadata": {},
   "outputs": [],
   "source": [
    "import seaborn as sns\n",
    "\n",
    "# Heatmap\n",
    "corr = df2.corr()\n",
    "sns.heatmap(corr, \n",
    "        xticklabels=corr.columns,\n",
    "        yticklabels=corr.columns,\n",
    "        cmap= \"YlGnBu\");"
   ]
  },
  {
   "cell_type": "markdown",
   "id": "4714143e",
   "metadata": {},
   "source": [
    "## Correlation between column pairs in a dataframe"
   ]
  },
  {
   "cell_type": "code",
   "execution_count": null,
   "id": "e88181da",
   "metadata": {},
   "outputs": [],
   "source": []
  }
 ],
 "metadata": {
  "kernelspec": {
   "display_name": "Python 3 (ipykernel)",
   "language": "python",
   "name": "python3"
  },
  "language_info": {
   "codemirror_mode": {
    "name": "ipython",
    "version": 3
   },
   "file_extension": ".py",
   "mimetype": "text/x-python",
   "name": "python",
   "nbconvert_exporter": "python",
   "pygments_lexer": "ipython3",
   "version": "3.8.12"
  },
  "toc": {
   "base_numbering": 1,
   "nav_menu": {},
   "number_sections": true,
   "sideBar": true,
   "skip_h1_title": false,
   "title_cell": "Table of Contents",
   "title_sidebar": "Contents",
   "toc_cell": false,
   "toc_position": {},
   "toc_section_display": true,
   "toc_window_display": false
  }
 },
 "nbformat": 4,
 "nbformat_minor": 5
}
