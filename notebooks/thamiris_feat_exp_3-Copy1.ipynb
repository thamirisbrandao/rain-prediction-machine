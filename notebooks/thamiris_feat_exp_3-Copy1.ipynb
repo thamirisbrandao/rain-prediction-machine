{
 "cells": [
  {
   "cell_type": "markdown",
   "id": "94eb2ee2",
   "metadata": {},
   "source": [
    "# Importações"
   ]
  },
  {
   "cell_type": "code",
   "execution_count": 1,
   "id": "cf612922",
   "metadata": {},
   "outputs": [],
   "source": [
    "import pandas as pd\n",
    "from os import listdir\n",
    "from os.path import isfile, join\n",
    "import numpy as np"
   ]
  },
  {
   "cell_type": "markdown",
   "id": "ff13f3c3",
   "metadata": {},
   "source": [
    "# Criando variáveis organizacionais"
   ]
  },
  {
   "cell_type": "markdown",
   "id": "dc269e2c",
   "metadata": {},
   "source": [
    "# Tratamentos iniciais dos dados"
   ]
  },
  {
   "cell_type": "markdown",
   "id": "2c3a140d",
   "metadata": {},
   "source": [
    "## Tratamentos básicos"
   ]
  },
  {
   "cell_type": "markdown",
   "id": "b5c86185",
   "metadata": {},
   "source": [
    "## Transformação de dados e preenchimento"
   ]
  },
  {
   "cell_type": "markdown",
   "id": "bcaec815",
   "metadata": {},
   "source": [
    "### Formatando data e hora"
   ]
  },
  {
   "cell_type": "markdown",
   "id": "b539269c",
   "metadata": {},
   "source": [
    "### Tratando valores nulos de radiação"
   ]
  },
  {
   "cell_type": "markdown",
   "id": "cef579e5",
   "metadata": {},
   "source": [
    "### Imputer da variável de vento"
   ]
  },
  {
   "cell_type": "markdown",
   "id": "1a930a7f",
   "metadata": {},
   "source": [
    "### Transformando chuva em variável categórica"
   ]
  },
  {
   "cell_type": "code",
   "execution_count": 2,
   "id": "94b9cc71",
   "metadata": {},
   "outputs": [],
   "source": [
    "from RainPredictionMachine.data import CleanDataRpm"
   ]
  },
  {
   "cell_type": "code",
   "execution_count": null,
   "id": "890e9e24",
   "metadata": {},
   "outputs": [],
   "source": []
  },
  {
   "cell_type": "code",
   "execution_count": 7,
   "id": "5c27afb7",
   "metadata": {},
   "outputs": [],
   "source": [
    "cleaner = CleanDataRpm()\n",
    "\n",
    "df= cleaner.clean_data(2)"
   ]
  },
  {
   "cell_type": "code",
   "execution_count": 9,
   "id": "cc7d0728",
   "metadata": {
    "scrolled": false
   },
   "outputs": [
    {
     "data": {
      "text/html": [
       "<div>\n",
       "<style scoped>\n",
       "    .dataframe tbody tr th:only-of-type {\n",
       "        vertical-align: middle;\n",
       "    }\n",
       "\n",
       "    .dataframe tbody tr th {\n",
       "        vertical-align: top;\n",
       "    }\n",
       "\n",
       "    .dataframe thead th {\n",
       "        text-align: right;\n",
       "    }\n",
       "</style>\n",
       "<table border=\"1\" class=\"dataframe\">\n",
       "  <thead>\n",
       "    <tr style=\"text-align: right;\">\n",
       "      <th></th>\n",
       "      <th>Chuva</th>\n",
       "      <th>Pres</th>\n",
       "      <th>Pres_max</th>\n",
       "      <th>Pres_min</th>\n",
       "      <th>Radiacao</th>\n",
       "      <th>Temp</th>\n",
       "      <th>Temp_orvalho</th>\n",
       "      <th>Temp_max</th>\n",
       "      <th>Temp_min</th>\n",
       "      <th>Temp_orvalho_max</th>\n",
       "      <th>...</th>\n",
       "      <th>Umid</th>\n",
       "      <th>Dir_vento</th>\n",
       "      <th>Rajada_vento</th>\n",
       "      <th>Vel_vento</th>\n",
       "      <th>Estaçao</th>\n",
       "      <th>Latitude</th>\n",
       "      <th>Longitude</th>\n",
       "      <th>Altitude</th>\n",
       "      <th>datahora</th>\n",
       "      <th>classe_chuva</th>\n",
       "    </tr>\n",
       "  </thead>\n",
       "  <tbody>\n",
       "    <tr>\n",
       "      <th>0</th>\n",
       "      <td>0.0</td>\n",
       "      <td>938.0</td>\n",
       "      <td>938.1</td>\n",
       "      <td>937.5</td>\n",
       "      <td>0.0</td>\n",
       "      <td>24.1</td>\n",
       "      <td>19.9</td>\n",
       "      <td>26.0</td>\n",
       "      <td>23.9</td>\n",
       "      <td>19.9</td>\n",
       "      <td>...</td>\n",
       "      <td>77.0</td>\n",
       "      <td>169.0</td>\n",
       "      <td>7.1</td>\n",
       "      <td>1.0</td>\n",
       "      <td>BAURU</td>\n",
       "      <td>-22.358052</td>\n",
       "      <td>-49.028877</td>\n",
       "      <td>636.17</td>\n",
       "      <td>2020-01-01 00:00:00+00:00</td>\n",
       "      <td>nao chove</td>\n",
       "    </tr>\n",
       "    <tr>\n",
       "      <th>1</th>\n",
       "      <td>0.0</td>\n",
       "      <td>938.7</td>\n",
       "      <td>938.7</td>\n",
       "      <td>937.9</td>\n",
       "      <td>0.0</td>\n",
       "      <td>24.6</td>\n",
       "      <td>19.3</td>\n",
       "      <td>25.3</td>\n",
       "      <td>24.1</td>\n",
       "      <td>19.9</td>\n",
       "      <td>...</td>\n",
       "      <td>73.0</td>\n",
       "      <td>126.0</td>\n",
       "      <td>5.3</td>\n",
       "      <td>0.4</td>\n",
       "      <td>BAURU</td>\n",
       "      <td>-22.358052</td>\n",
       "      <td>-49.028877</td>\n",
       "      <td>636.17</td>\n",
       "      <td>2020-01-01 01:00:00+00:00</td>\n",
       "      <td>nao chove</td>\n",
       "    </tr>\n",
       "    <tr>\n",
       "      <th>2</th>\n",
       "      <td>0.0</td>\n",
       "      <td>938.4</td>\n",
       "      <td>938.7</td>\n",
       "      <td>938.4</td>\n",
       "      <td>0.0</td>\n",
       "      <td>23.3</td>\n",
       "      <td>19.0</td>\n",
       "      <td>24.8</td>\n",
       "      <td>23.3</td>\n",
       "      <td>19.4</td>\n",
       "      <td>...</td>\n",
       "      <td>77.0</td>\n",
       "      <td>107.0</td>\n",
       "      <td>2.7</td>\n",
       "      <td>0.0</td>\n",
       "      <td>BAURU</td>\n",
       "      <td>-22.358052</td>\n",
       "      <td>-49.028877</td>\n",
       "      <td>636.17</td>\n",
       "      <td>2020-01-01 02:00:00+00:00</td>\n",
       "      <td>nao chove</td>\n",
       "    </tr>\n",
       "    <tr>\n",
       "      <th>3</th>\n",
       "      <td>0.0</td>\n",
       "      <td>938.0</td>\n",
       "      <td>938.4</td>\n",
       "      <td>938.0</td>\n",
       "      <td>0.0</td>\n",
       "      <td>22.4</td>\n",
       "      <td>19.1</td>\n",
       "      <td>23.3</td>\n",
       "      <td>22.4</td>\n",
       "      <td>19.1</td>\n",
       "      <td>...</td>\n",
       "      <td>81.0</td>\n",
       "      <td>330.0</td>\n",
       "      <td>0.9</td>\n",
       "      <td>0.0</td>\n",
       "      <td>BAURU</td>\n",
       "      <td>-22.358052</td>\n",
       "      <td>-49.028877</td>\n",
       "      <td>636.17</td>\n",
       "      <td>2020-01-01 03:00:00+00:00</td>\n",
       "      <td>nao chove</td>\n",
       "    </tr>\n",
       "    <tr>\n",
       "      <th>4</th>\n",
       "      <td>0.0</td>\n",
       "      <td>937.9</td>\n",
       "      <td>938.0</td>\n",
       "      <td>937.9</td>\n",
       "      <td>0.0</td>\n",
       "      <td>23.1</td>\n",
       "      <td>19.0</td>\n",
       "      <td>23.2</td>\n",
       "      <td>22.1</td>\n",
       "      <td>19.2</td>\n",
       "      <td>...</td>\n",
       "      <td>77.0</td>\n",
       "      <td>308.0</td>\n",
       "      <td>1.4</td>\n",
       "      <td>0.0</td>\n",
       "      <td>BAURU</td>\n",
       "      <td>-22.358052</td>\n",
       "      <td>-49.028877</td>\n",
       "      <td>636.17</td>\n",
       "      <td>2020-01-01 04:00:00+00:00</td>\n",
       "      <td>nao chove</td>\n",
       "    </tr>\n",
       "    <tr>\n",
       "      <th>...</th>\n",
       "      <td>...</td>\n",
       "      <td>...</td>\n",
       "      <td>...</td>\n",
       "      <td>...</td>\n",
       "      <td>...</td>\n",
       "      <td>...</td>\n",
       "      <td>...</td>\n",
       "      <td>...</td>\n",
       "      <td>...</td>\n",
       "      <td>...</td>\n",
       "      <td>...</td>\n",
       "      <td>...</td>\n",
       "      <td>...</td>\n",
       "      <td>...</td>\n",
       "      <td>...</td>\n",
       "      <td>...</td>\n",
       "      <td>...</td>\n",
       "      <td>...</td>\n",
       "      <td>...</td>\n",
       "      <td>...</td>\n",
       "      <td>...</td>\n",
       "    </tr>\n",
       "    <tr>\n",
       "      <th>8779</th>\n",
       "      <td>2.8</td>\n",
       "      <td>941.1</td>\n",
       "      <td>942.1</td>\n",
       "      <td>941.1</td>\n",
       "      <td>76.0</td>\n",
       "      <td>20.9</td>\n",
       "      <td>20.3</td>\n",
       "      <td>22.2</td>\n",
       "      <td>20.8</td>\n",
       "      <td>21.5</td>\n",
       "      <td>...</td>\n",
       "      <td>96.0</td>\n",
       "      <td>135.0</td>\n",
       "      <td>4.6</td>\n",
       "      <td>0.0</td>\n",
       "      <td>BAURU</td>\n",
       "      <td>-22.358052</td>\n",
       "      <td>-49.028877</td>\n",
       "      <td>636.17</td>\n",
       "      <td>2020-12-31 19:00:00+00:00</td>\n",
       "      <td>fraca</td>\n",
       "    </tr>\n",
       "    <tr>\n",
       "      <th>8780</th>\n",
       "      <td>0.8</td>\n",
       "      <td>941.3</td>\n",
       "      <td>941.3</td>\n",
       "      <td>940.9</td>\n",
       "      <td>134.7</td>\n",
       "      <td>21.4</td>\n",
       "      <td>20.8</td>\n",
       "      <td>21.4</td>\n",
       "      <td>20.9</td>\n",
       "      <td>20.8</td>\n",
       "      <td>...</td>\n",
       "      <td>96.0</td>\n",
       "      <td>97.0</td>\n",
       "      <td>0.0</td>\n",
       "      <td>0.0</td>\n",
       "      <td>BAURU</td>\n",
       "      <td>-22.358052</td>\n",
       "      <td>-49.028877</td>\n",
       "      <td>636.17</td>\n",
       "      <td>2020-12-31 20:00:00+00:00</td>\n",
       "      <td>fraca</td>\n",
       "    </tr>\n",
       "    <tr>\n",
       "      <th>8781</th>\n",
       "      <td>0.0</td>\n",
       "      <td>941.7</td>\n",
       "      <td>941.7</td>\n",
       "      <td>941.1</td>\n",
       "      <td>198.8</td>\n",
       "      <td>21.8</td>\n",
       "      <td>21.2</td>\n",
       "      <td>22.0</td>\n",
       "      <td>21.4</td>\n",
       "      <td>21.3</td>\n",
       "      <td>...</td>\n",
       "      <td>96.0</td>\n",
       "      <td>155.0</td>\n",
       "      <td>0.0</td>\n",
       "      <td>0.0</td>\n",
       "      <td>BAURU</td>\n",
       "      <td>-22.358052</td>\n",
       "      <td>-49.028877</td>\n",
       "      <td>636.17</td>\n",
       "      <td>2020-12-31 21:00:00+00:00</td>\n",
       "      <td>nao chove</td>\n",
       "    </tr>\n",
       "    <tr>\n",
       "      <th>8782</th>\n",
       "      <td>0.8</td>\n",
       "      <td>942.5</td>\n",
       "      <td>942.5</td>\n",
       "      <td>941.7</td>\n",
       "      <td>31.3</td>\n",
       "      <td>20.9</td>\n",
       "      <td>20.2</td>\n",
       "      <td>21.9</td>\n",
       "      <td>20.9</td>\n",
       "      <td>21.3</td>\n",
       "      <td>...</td>\n",
       "      <td>96.0</td>\n",
       "      <td>124.0</td>\n",
       "      <td>4.7</td>\n",
       "      <td>0.0</td>\n",
       "      <td>BAURU</td>\n",
       "      <td>-22.358052</td>\n",
       "      <td>-49.028877</td>\n",
       "      <td>636.17</td>\n",
       "      <td>2020-12-31 22:00:00+00:00</td>\n",
       "      <td>fraca</td>\n",
       "    </tr>\n",
       "    <tr>\n",
       "      <th>8783</th>\n",
       "      <td>1.8</td>\n",
       "      <td>942.4</td>\n",
       "      <td>942.6</td>\n",
       "      <td>942.2</td>\n",
       "      <td>0.6</td>\n",
       "      <td>20.4</td>\n",
       "      <td>19.8</td>\n",
       "      <td>20.9</td>\n",
       "      <td>20.4</td>\n",
       "      <td>20.2</td>\n",
       "      <td>...</td>\n",
       "      <td>97.0</td>\n",
       "      <td>88.0</td>\n",
       "      <td>0.0</td>\n",
       "      <td>0.0</td>\n",
       "      <td>BAURU</td>\n",
       "      <td>-22.358052</td>\n",
       "      <td>-49.028877</td>\n",
       "      <td>636.17</td>\n",
       "      <td>2020-12-31 23:00:00+00:00</td>\n",
       "      <td>fraca</td>\n",
       "    </tr>\n",
       "  </tbody>\n",
       "</table>\n",
       "<p>8784 rows × 23 columns</p>\n",
       "</div>"
      ],
      "text/plain": [
       "      Chuva   Pres  Pres_max  Pres_min  Radiacao  Temp  Temp_orvalho  \\\n",
       "0       0.0  938.0     938.1     937.5       0.0  24.1          19.9   \n",
       "1       0.0  938.7     938.7     937.9       0.0  24.6          19.3   \n",
       "2       0.0  938.4     938.7     938.4       0.0  23.3          19.0   \n",
       "3       0.0  938.0     938.4     938.0       0.0  22.4          19.1   \n",
       "4       0.0  937.9     938.0     937.9       0.0  23.1          19.0   \n",
       "...     ...    ...       ...       ...       ...   ...           ...   \n",
       "8779    2.8  941.1     942.1     941.1      76.0  20.9          20.3   \n",
       "8780    0.8  941.3     941.3     940.9     134.7  21.4          20.8   \n",
       "8781    0.0  941.7     941.7     941.1     198.8  21.8          21.2   \n",
       "8782    0.8  942.5     942.5     941.7      31.3  20.9          20.2   \n",
       "8783    1.8  942.4     942.6     942.2       0.6  20.4          19.8   \n",
       "\n",
       "      Temp_max  Temp_min  Temp_orvalho_max  ...  Umid  Dir_vento  \\\n",
       "0         26.0      23.9              19.9  ...  77.0      169.0   \n",
       "1         25.3      24.1              19.9  ...  73.0      126.0   \n",
       "2         24.8      23.3              19.4  ...  77.0      107.0   \n",
       "3         23.3      22.4              19.1  ...  81.0      330.0   \n",
       "4         23.2      22.1              19.2  ...  77.0      308.0   \n",
       "...        ...       ...               ...  ...   ...        ...   \n",
       "8779      22.2      20.8              21.5  ...  96.0      135.0   \n",
       "8780      21.4      20.9              20.8  ...  96.0       97.0   \n",
       "8781      22.0      21.4              21.3  ...  96.0      155.0   \n",
       "8782      21.9      20.9              21.3  ...  96.0      124.0   \n",
       "8783      20.9      20.4              20.2  ...  97.0       88.0   \n",
       "\n",
       "      Rajada_vento  Vel_vento  Estaçao   Latitude  Longitude Altitude  \\\n",
       "0              7.1        1.0    BAURU -22.358052 -49.028877   636.17   \n",
       "1              5.3        0.4    BAURU -22.358052 -49.028877   636.17   \n",
       "2              2.7        0.0    BAURU -22.358052 -49.028877   636.17   \n",
       "3              0.9        0.0    BAURU -22.358052 -49.028877   636.17   \n",
       "4              1.4        0.0    BAURU -22.358052 -49.028877   636.17   \n",
       "...            ...        ...      ...        ...        ...      ...   \n",
       "8779           4.6        0.0    BAURU -22.358052 -49.028877   636.17   \n",
       "8780           0.0        0.0    BAURU -22.358052 -49.028877   636.17   \n",
       "8781           0.0        0.0    BAURU -22.358052 -49.028877   636.17   \n",
       "8782           4.7        0.0    BAURU -22.358052 -49.028877   636.17   \n",
       "8783           0.0        0.0    BAURU -22.358052 -49.028877   636.17   \n",
       "\n",
       "                      datahora  classe_chuva  \n",
       "0    2020-01-01 00:00:00+00:00     nao chove  \n",
       "1    2020-01-01 01:00:00+00:00     nao chove  \n",
       "2    2020-01-01 02:00:00+00:00     nao chove  \n",
       "3    2020-01-01 03:00:00+00:00     nao chove  \n",
       "4    2020-01-01 04:00:00+00:00     nao chove  \n",
       "...                        ...           ...  \n",
       "8779 2020-12-31 19:00:00+00:00         fraca  \n",
       "8780 2020-12-31 20:00:00+00:00         fraca  \n",
       "8781 2020-12-31 21:00:00+00:00     nao chove  \n",
       "8782 2020-12-31 22:00:00+00:00         fraca  \n",
       "8783 2020-12-31 23:00:00+00:00         fraca  \n",
       "\n",
       "[8784 rows x 23 columns]"
      ]
     },
     "execution_count": 9,
     "metadata": {},
     "output_type": "execute_result"
    }
   ],
   "source": [
    "df"
   ]
  },
  {
   "cell_type": "code",
   "execution_count": null,
   "id": "4c893acf",
   "metadata": {},
   "outputs": [],
   "source": [
    "lat,lon,estaca = cleaner.get_lat_lon(6)\n",
    "lat"
   ]
  },
  {
   "cell_type": "code",
   "execution_count": null,
   "id": "6f872ffe",
   "metadata": {},
   "outputs": [],
   "source": [
    "def get_lat_lon(n_files):\n",
    "    pathh = '../raw_data/SP' #caminho geral\n",
    "    files = [f for f in listdir(pathh) if isfile(join(pathh, f))]\n",
    "    estacao, lat, lon = [], [], []\n",
    "    \n",
    "    for file in range(0,n_files):\n",
    "        lat_lon_alt = pd.read_csv(f'../raw_data/SP/{files[file]}', sep=';', skiprows=4,\n",
    "                         nrows=3, encoding=\"ISO-8859-1\", decimal=',', names=['lat_lon_alt','valor'])\n",
    "        est=files[file].split('_')[4]\n",
    "        latt=lat_lon_alt['valor'][0]\n",
    "        lonn=lat_lon_alt['valor'][1]\n",
    "        estacao.append(est)\n",
    "        lat.append(latt)\n",
    "        lon.append(lonn)\n",
    "    \n",
    "    return lat, lon, estacao\n",
    "\n"
   ]
  },
  {
   "cell_type": "code",
   "execution_count": null,
   "id": "e491fb82",
   "metadata": {},
   "outputs": [],
   "source": [
    "lat, lon, estacao =lat_lon(63)\n"
   ]
  },
  {
   "cell_type": "code",
   "execution_count": null,
   "id": "8f4df127",
   "metadata": {},
   "outputs": [],
   "source": [
    "coord=pd.DataFrame(lat, columns=['lat'])\n",
    "coord['lon']=lon\n",
    "coord['estacao']=estaca\n",
    "coord"
   ]
  },
  {
   "cell_type": "code",
   "execution_count": null,
   "id": "bce43743",
   "metadata": {
    "scrolled": true
   },
   "outputs": [],
   "source": [
    "\n",
    "coord=pd.DataFrame(lat,columns='lat')\n",
    "coord['lon']=lon\n",
    "coord['estacao']=estacao\n",
    "coord.drop_duplicates('estacao')\n"
   ]
  },
  {
   "cell_type": "code",
   "execution_count": null,
   "id": "f269a344",
   "metadata": {},
   "outputs": [],
   "source": [
    "lat_lon2=lat_lon(63)\n",
    "lat=lat_lon2.groupby(by=lat_lon2['latitude'])\n",
    "lon=lat_lon2.groupby(by=lat_lon2['longitude'])\n",
    "nomes=lat_lon2.groupby(by=lat_lon2['estacao'])\n",
    "\n",
    "lat_lon2=lat_lon(63)\n",
    "lat=lat_lon2.latitude.unique()\n",
    "lon=lat_lon2.longitude.unique()\n",
    "nomes=lat_lon2.estacao.unique()"
   ]
  },
  {
   "cell_type": "markdown",
   "id": "f0475f48",
   "metadata": {},
   "source": [
    "# Explorando os dados"
   ]
  },
  {
   "cell_type": "markdown",
   "id": "110e8de3",
   "metadata": {},
   "source": [
    "## Verificando células nulas"
   ]
  },
  {
   "cell_type": "code",
   "execution_count": null,
   "id": "c43dbb72",
   "metadata": {},
   "outputs": [],
   "source": [
    "df2.isnull().sum().sort_values(ascending=False)/len(df2)"
   ]
  },
  {
   "cell_type": "markdown",
   "id": "28ae01fe",
   "metadata": {},
   "source": [
    "## Scale sensitivity"
   ]
  },
  {
   "cell_type": "code",
   "execution_count": null,
   "id": "772899fa",
   "metadata": {},
   "outputs": [],
   "source": [
    "from RainPredictionMachine.Trainer import pipe_creator\n"
   ]
  },
  {
   "cell_type": "code",
   "execution_count": null,
   "id": "a9f9ba09",
   "metadata": {},
   "outputs": [],
   "source": []
  },
  {
   "cell_type": "code",
   "execution_count": null,
   "id": "dfede463",
   "metadata": {},
   "outputs": [],
   "source": [
    "df2[['Radiacao']].boxplot(figsize=(20,6));"
   ]
  },
  {
   "cell_type": "code",
   "execution_count": null,
   "id": "06b5956a",
   "metadata": {},
   "outputs": [],
   "source": [
    "df2[['Chuva']].boxplot(figsize=(20,6));"
   ]
  },
  {
   "cell_type": "code",
   "execution_count": null,
   "id": "3a368f57",
   "metadata": {},
   "outputs": [],
   "source": [
    "df2[['Umid_min']].boxplot(figsize=(20,6));"
   ]
  },
  {
   "cell_type": "code",
   "execution_count": null,
   "id": "548a0ffd",
   "metadata": {},
   "outputs": [],
   "source": [
    "df2[['Vel_vento']].boxplot(figsize=(20,6));"
   ]
  },
  {
   "cell_type": "code",
   "execution_count": null,
   "id": "f0887961",
   "metadata": {},
   "outputs": [],
   "source": [
    "df2[['Rajada_vento']].boxplot(figsize=(20,6));"
   ]
  },
  {
   "cell_type": "code",
   "execution_count": null,
   "id": "f9fc1431",
   "metadata": {},
   "outputs": [],
   "source": [
    "df2[['Dir_vento']].boxplot(figsize=(20,6));"
   ]
  },
  {
   "cell_type": "code",
   "execution_count": null,
   "id": "7afe15fd",
   "metadata": {},
   "outputs": [],
   "source": [
    "df2[['Umid']].boxplot(figsize=(20,6));"
   ]
  },
  {
   "cell_type": "code",
   "execution_count": null,
   "id": "34209db0",
   "metadata": {},
   "outputs": [],
   "source": [
    "df2[['Umid_max']].boxplot(figsize=(20,6));"
   ]
  },
  {
   "cell_type": "code",
   "execution_count": null,
   "id": "97e68a54",
   "metadata": {},
   "outputs": [],
   "source": [
    "df2[['Pres']].boxplot(figsize=(20,6));"
   ]
  },
  {
   "cell_type": "code",
   "execution_count": null,
   "id": "6adcbe73",
   "metadata": {},
   "outputs": [],
   "source": [
    "df2[['Temp_orvalho_min']].boxplot(figsize=(20,6));"
   ]
  },
  {
   "cell_type": "code",
   "execution_count": null,
   "id": "d3f2a192",
   "metadata": {},
   "outputs": [],
   "source": [
    "df2[['Temp_min']].boxplot(figsize=(20,6));"
   ]
  },
  {
   "cell_type": "code",
   "execution_count": null,
   "id": "21367e63",
   "metadata": {},
   "outputs": [],
   "source": [
    "df2[['Temp_max']].boxplot(figsize=(20,6));"
   ]
  },
  {
   "cell_type": "code",
   "execution_count": null,
   "id": "7081ea0e",
   "metadata": {},
   "outputs": [],
   "source": [
    "df2[['Temp_orvalho']].boxplot(figsize=(20,6));"
   ]
  },
  {
   "cell_type": "code",
   "execution_count": null,
   "id": "bfb1d082",
   "metadata": {},
   "outputs": [],
   "source": [
    "df2[['Temp']].boxplot(figsize=(20,6));"
   ]
  },
  {
   "cell_type": "code",
   "execution_count": null,
   "id": "7fdef5bc",
   "metadata": {},
   "outputs": [],
   "source": [
    "df2[['Radiacao']].boxplot(figsize=(20,6));"
   ]
  },
  {
   "cell_type": "code",
   "execution_count": null,
   "id": "41ab8bbe",
   "metadata": {},
   "outputs": [],
   "source": [
    "df2[['Pres_min']].boxplot(figsize=(20,6));"
   ]
  },
  {
   "cell_type": "code",
   "execution_count": null,
   "id": "922ea44d",
   "metadata": {},
   "outputs": [],
   "source": [
    "df2[['Pres_max']].boxplot(figsize=(20,6));"
   ]
  },
  {
   "cell_type": "code",
   "execution_count": null,
   "id": "71b6c6aa",
   "metadata": {},
   "outputs": [],
   "source": [
    "df2['classe_chuva'].value_counts"
   ]
  },
  {
   "cell_type": "markdown",
   "id": "3f1876e1",
   "metadata": {},
   "source": [
    "## Contando a quantidade de eventos de intensidade de chuva"
   ]
  },
  {
   "cell_type": "code",
   "execution_count": null,
   "id": "8eefe998",
   "metadata": {},
   "outputs": [],
   "source": [
    "chuva_zero = df2[df2['classe_chuva']  == 'nao chove']\n",
    "chuva_zero"
   ]
  },
  {
   "cell_type": "code",
   "execution_count": null,
   "id": "68077a93",
   "metadata": {},
   "outputs": [],
   "source": [
    "chuva_fraca = df2[df2['classe_chuva']  == 'fraca']\n",
    "chuva_fraca"
   ]
  },
  {
   "cell_type": "code",
   "execution_count": null,
   "id": "e4324e64",
   "metadata": {},
   "outputs": [],
   "source": [
    "chuva_moderada = df2[df2['classe_chuva']  == 'moderada']\n",
    "chuva_moderada"
   ]
  },
  {
   "cell_type": "code",
   "execution_count": null,
   "id": "29263353",
   "metadata": {
    "scrolled": true
   },
   "outputs": [],
   "source": [
    "chuva_forte = df2[df2['classe_chuva']  == 'forte']\n",
    "chuva_forte"
   ]
  },
  {
   "cell_type": "code",
   "execution_count": null,
   "id": "70ab5bb7",
   "metadata": {},
   "outputs": [],
   "source": [
    "chuva_muitoforte = df2[df2['classe_chuva']  == 'muito forte']\n",
    "chuva_muitoforte"
   ]
  },
  {
   "cell_type": "markdown",
   "id": "0d5f5569",
   "metadata": {},
   "source": [
    "## Verificando padrão de temperatura, pressão e umidade antes da chuva"
   ]
  },
  {
   "cell_type": "code",
   "execution_count": null,
   "id": "d4bd99b9",
   "metadata": {},
   "outputs": [],
   "source": [
    "# a. encontra o tempo que a intensidade da chuva estava muito forte\n",
    "tempo_chv_muito_forte = df2[df2['classe_chuva']  == 'forte']['datahora']\n",
    "lista = list(tempo_chv_muito_forte.index)\n",
    "lista"
   ]
  },
  {
   "cell_type": "code",
   "execution_count": null,
   "id": "f559fa39",
   "metadata": {},
   "outputs": [],
   "source": [
    "# b. captura a partir do padrão de T, P e U das 5 horas anteriores e posteriores de a \n",
    "df2.iloc[lista[0] - 5: lista[0] + 6][['Temp', 'Umid']].plot()\n",
    "# c. plotar T, P, U e chuva como bolinha"
   ]
  },
  {
   "cell_type": "code",
   "execution_count": null,
   "id": "35868f2f",
   "metadata": {},
   "outputs": [],
   "source": [
    "df2.iloc[lista[0] - 5: lista[0] + 6][['Temp', 'Umid']].plot()"
   ]
  },
  {
   "cell_type": "code",
   "execution_count": null,
   "id": "e6a348da",
   "metadata": {},
   "outputs": [],
   "source": [
    "for i in lista:\n",
    "    df2.iloc[i - 5: i + 6][['Temp', 'Umid']].plot()"
   ]
  },
  {
   "cell_type": "code",
   "execution_count": null,
   "id": "78c0bbd8",
   "metadata": {},
   "outputs": [],
   "source": [
    "df2['datahora'] == tempo_chv_muito_forte"
   ]
  },
  {
   "cell_type": "code",
   "execution_count": null,
   "id": "01787f61",
   "metadata": {},
   "outputs": [],
   "source": [
    "tempo_chv_muito_forte"
   ]
  },
  {
   "cell_type": "markdown",
   "id": "3d54b129",
   "metadata": {},
   "source": [
    "## Heatmap of the Pearson Correlation between the dataset columns."
   ]
  },
  {
   "cell_type": "code",
   "execution_count": null,
   "id": "f1e31eb5",
   "metadata": {},
   "outputs": [],
   "source": [
    "import seaborn as sns\n",
    "\n",
    "# Heatmap\n",
    "corr = df2.corr()\n",
    "sns.heatmap(corr, \n",
    "        xticklabels=corr.columns,\n",
    "        yticklabels=corr.columns,\n",
    "        cmap= \"YlGnBu\");"
   ]
  },
  {
   "cell_type": "markdown",
   "id": "4714143e",
   "metadata": {},
   "source": [
    "## Correlation between column pairs in a dataframe"
   ]
  },
  {
   "cell_type": "code",
   "execution_count": null,
   "id": "e88181da",
   "metadata": {},
   "outputs": [],
   "source": []
  }
 ],
 "metadata": {
  "kernelspec": {
   "display_name": "Python 3 (ipykernel)",
   "language": "python",
   "name": "python3"
  },
  "language_info": {
   "codemirror_mode": {
    "name": "ipython",
    "version": 3
   },
   "file_extension": ".py",
   "mimetype": "text/x-python",
   "name": "python",
   "nbconvert_exporter": "python",
   "pygments_lexer": "ipython3",
   "version": "3.8.12"
  },
  "toc": {
   "base_numbering": 1,
   "nav_menu": {},
   "number_sections": true,
   "sideBar": true,
   "skip_h1_title": false,
   "title_cell": "Table of Contents",
   "title_sidebar": "Contents",
   "toc_cell": false,
   "toc_position": {},
   "toc_section_display": true,
   "toc_window_display": false
  }
 },
 "nbformat": 4,
 "nbformat_minor": 5
}
