{
 "cells": [
  {
   "cell_type": "markdown",
   "id": "94eb2ee2",
   "metadata": {},
   "source": [
    "# Importações"
   ]
  },
  {
   "cell_type": "code",
   "execution_count": null,
   "id": "cf612922",
   "metadata": {},
   "outputs": [],
   "source": [
    "import pandas as pd\n",
    "from os import listdir\n",
    "from os.path import isfile, join\n",
    "import numpy as np"
   ]
  },
  {
   "cell_type": "markdown",
   "id": "ff13f3c3",
   "metadata": {},
   "source": [
    "# Criando variáveis organizacionais"
   ]
  },
  {
   "cell_type": "markdown",
   "id": "dc269e2c",
   "metadata": {},
   "source": [
    "# Tratamentos iniciais dos dados"
   ]
  },
  {
   "cell_type": "markdown",
   "id": "2c3a140d",
   "metadata": {},
   "source": [
    "## Tratamentos básicos"
   ]
  },
  {
   "cell_type": "markdown",
   "id": "b5c86185",
   "metadata": {},
   "source": [
    "## Transformação de dados e preenchimento"
   ]
  },
  {
   "cell_type": "markdown",
   "id": "bcaec815",
   "metadata": {},
   "source": [
    "### Formatando data e hora"
   ]
  },
  {
   "cell_type": "markdown",
   "id": "b539269c",
   "metadata": {},
   "source": [
    "### Tratando valores nulos de radiação"
   ]
  },
  {
   "cell_type": "markdown",
   "id": "cef579e5",
   "metadata": {},
   "source": [
    "### Imputer da variável de vento"
   ]
  },
  {
   "cell_type": "markdown",
   "id": "1a930a7f",
   "metadata": {},
   "source": [
    "### Transformando chuva em variável categórica"
   ]
  },
  {
   "cell_type": "code",
   "execution_count": 2,
   "id": "94b9cc71",
   "metadata": {},
   "outputs": [],
   "source": [
    "from RainPredictionMachine.data import CleanDataRpm"
   ]
  },
  {
   "cell_type": "code",
   "execution_count": null,
   "id": "5c27afb7",
   "metadata": {},
   "outputs": [],
   "source": [
    "cleaner = CleanDataRpm()\n",
    "\n",
    "df= cleaner.clean_data(63)"
   ]
  },
  {
   "cell_type": "code",
   "execution_count": null,
   "id": "cc7d0728",
   "metadata": {},
   "outputs": [],
   "source": [
    "from os import listdir\n",
    "from os.path import isfile, join\n",
    "import pandas as pd"
   ]
  },
  {
   "cell_type": "code",
   "execution_count": 5,
   "id": "6f872ffe",
   "metadata": {},
   "outputs": [],
   "source": [
    "def get_lat_lon(n_files):\n",
    "    pathh = '../raw_data/SP' #caminho geral\n",
    "    files = [f for f in listdir(pathh) if isfile(join(pathh, f))]\n",
    "    estacao, lat, lon = [], [], []\n",
    "    \n",
    "    for file in range(0,n_files):\n",
    "        lat_lon_alt = pd.read_csv(f'../raw_data/SP/{files[file]}', sep=';', skiprows=4,\n",
    "                         nrows=3, encoding=\"ISO-8859-1\", decimal=',', names=['lat_lon_alt','valor'])\n",
    "        est=files[file].split('_')[4]\n",
    "        latt=lat_lon_alt['valor'][0]\n",
    "        lonn=lat_lon_alt['valor'][1]\n",
    "        estacao.append(est)\n",
    "        lat.append(latt)\n",
    "        lon.append(lonn)\n",
    "    \n",
    "    return lat, lon, estacao\n",
    "\n"
   ]
  },
  {
   "cell_type": "code",
   "execution_count": 11,
   "id": "e491fb82",
   "metadata": {},
   "outputs": [
    {
     "data": {
      "text/plain": [
       "[-22.415,\n",
       " -21.78056,\n",
       " -23.4261111,\n",
       " -21.980353,\n",
       " -22.75027777,\n",
       " -21.457699,\n",
       " -22.358052,\n",
       " -23.85194444,\n",
       " -21.980353,\n",
       " -23.04166666,\n",
       " -21.46111111,\n",
       " -22.951944,\n",
       " -23.81083333,\n",
       " -23.98194443,\n",
       " -22.119867,\n",
       " -23.426035,\n",
       " -22.358052,\n",
       " -21.46111111,\n",
       " -21.31916666,\n",
       " -22.235222,\n",
       " -20.55916666,\n",
       " -23.2236111,\n",
       " -23.52388888,\n",
       " -22.75027777,\n",
       " -22.415062,\n",
       " -21.33833333,\n",
       " -21.66611111,\n",
       " -22.37388888,\n",
       " -22.37277777,\n",
       " -20.403221,\n",
       " -21.33833333,\n",
       " -21.927251,\n",
       " -22.372832,\n",
       " -20.35972222,\n",
       " -22.949,\n",
       " -23.2236111,\n",
       " -23.041668,\n",
       " -24.67166666,\n",
       " -22.235222,\n",
       " -20.94916666,\n",
       " -24.671654,\n",
       " -20.58444444,\n",
       " -23.85194444,\n",
       " -22.951944,\n",
       " -22.70305555,\n",
       " -20.40333333,\n",
       " -20.55916666,\n",
       " -20.94916666,\n",
       " -20.35972222,\n",
       " -22.373944,\n",
       " -22.119867,\n",
       " -23.496294,\n",
       " -23.724501,\n",
       " -23.98194443,\n",
       " -21.45777777,\n",
       " -21.927251,\n",
       " -23.22833332,\n",
       " -22.68888888,\n",
       " -23.84472221,\n",
       " -21.31916666,\n",
       " -23.496294,\n",
       " -23.724501,\n",
       " -20.58444444]"
      ]
     },
     "execution_count": 11,
     "metadata": {},
     "output_type": "execute_result"
    }
   ],
   "source": [
    "lat, lon, estacao =lat_lon(63)\n"
   ]
  },
  {
   "cell_type": "code",
   "execution_count": 19,
   "id": "bce43743",
   "metadata": {
    "scrolled": true
   },
   "outputs": [
    {
     "ename": "ValueError",
     "evalue": "3 columns passed, passed data had 63 columns",
     "output_type": "error",
     "traceback": [
      "\u001b[0;31m---------------------------------------------------------------------------\u001b[0m",
      "\u001b[0;31mAssertionError\u001b[0m                            Traceback (most recent call last)",
      "File \u001b[0;32m~/.pyenv/versions/3.8.12/envs/rain-prediction-machine/lib/python3.8/site-packages/pandas/core/internals/construction.py:982\u001b[0m, in \u001b[0;36m_finalize_columns_and_data\u001b[0;34m(content, columns, dtype)\u001b[0m\n\u001b[1;32m    981\u001b[0m \u001b[38;5;28;01mtry\u001b[39;00m:\n\u001b[0;32m--> 982\u001b[0m     columns \u001b[38;5;241m=\u001b[39m \u001b[43m_validate_or_indexify_columns\u001b[49m\u001b[43m(\u001b[49m\u001b[43mcontents\u001b[49m\u001b[43m,\u001b[49m\u001b[43m \u001b[49m\u001b[43mcolumns\u001b[49m\u001b[43m)\u001b[49m\n\u001b[1;32m    983\u001b[0m \u001b[38;5;28;01mexcept\u001b[39;00m \u001b[38;5;167;01mAssertionError\u001b[39;00m \u001b[38;5;28;01mas\u001b[39;00m err:\n\u001b[1;32m    984\u001b[0m     \u001b[38;5;66;03m# GH#26429 do not raise user-facing AssertionError\u001b[39;00m\n",
      "File \u001b[0;32m~/.pyenv/versions/3.8.12/envs/rain-prediction-machine/lib/python3.8/site-packages/pandas/core/internals/construction.py:1030\u001b[0m, in \u001b[0;36m_validate_or_indexify_columns\u001b[0;34m(content, columns)\u001b[0m\n\u001b[1;32m   1028\u001b[0m \u001b[38;5;28;01mif\u001b[39;00m \u001b[38;5;129;01mnot\u001b[39;00m is_mi_list \u001b[38;5;129;01mand\u001b[39;00m \u001b[38;5;28mlen\u001b[39m(columns) \u001b[38;5;241m!=\u001b[39m \u001b[38;5;28mlen\u001b[39m(content):  \u001b[38;5;66;03m# pragma: no cover\u001b[39;00m\n\u001b[1;32m   1029\u001b[0m     \u001b[38;5;66;03m# caller's responsibility to check for this...\u001b[39;00m\n\u001b[0;32m-> 1030\u001b[0m     \u001b[38;5;28;01mraise\u001b[39;00m \u001b[38;5;167;01mAssertionError\u001b[39;00m(\n\u001b[1;32m   1031\u001b[0m         \u001b[38;5;124mf\u001b[39m\u001b[38;5;124m\"\u001b[39m\u001b[38;5;132;01m{\u001b[39;00m\u001b[38;5;28mlen\u001b[39m(columns)\u001b[38;5;132;01m}\u001b[39;00m\u001b[38;5;124m columns passed, passed data had \u001b[39m\u001b[38;5;124m\"\u001b[39m\n\u001b[1;32m   1032\u001b[0m         \u001b[38;5;124mf\u001b[39m\u001b[38;5;124m\"\u001b[39m\u001b[38;5;132;01m{\u001b[39;00m\u001b[38;5;28mlen\u001b[39m(content)\u001b[38;5;132;01m}\u001b[39;00m\u001b[38;5;124m columns\u001b[39m\u001b[38;5;124m\"\u001b[39m\n\u001b[1;32m   1033\u001b[0m     )\n\u001b[1;32m   1034\u001b[0m \u001b[38;5;28;01melif\u001b[39;00m is_mi_list:\n\u001b[1;32m   1035\u001b[0m \n\u001b[1;32m   1036\u001b[0m     \u001b[38;5;66;03m# check if nested list column, length of each sub-list should be equal\u001b[39;00m\n",
      "\u001b[0;31mAssertionError\u001b[0m: 3 columns passed, passed data had 63 columns",
      "\nThe above exception was the direct cause of the following exception:\n",
      "\u001b[0;31mValueError\u001b[0m                                Traceback (most recent call last)",
      "Input \u001b[0;32mIn [19]\u001b[0m, in \u001b[0;36m<cell line: 1>\u001b[0;34m()\u001b[0m\n\u001b[0;32m----> 1\u001b[0m x\u001b[38;5;241m=\u001b[39m\u001b[43mpd\u001b[49m\u001b[38;5;241;43m.\u001b[39;49m\u001b[43mDataFrame\u001b[49m\u001b[43m(\u001b[49m\u001b[43m[\u001b[49m\u001b[43mlat\u001b[49m\u001b[43m,\u001b[49m\u001b[43m \u001b[49m\u001b[43mlon\u001b[49m\u001b[43m,\u001b[49m\u001b[43m \u001b[49m\u001b[43mestacao\u001b[49m\u001b[43m]\u001b[49m\u001b[43m,\u001b[49m\u001b[43m \u001b[49m\u001b[43mcolumns\u001b[49m\u001b[38;5;241;43m=\u001b[39;49m\u001b[43m[\u001b[49m\u001b[38;5;124;43m'\u001b[39;49m\u001b[38;5;124;43mlat\u001b[39;49m\u001b[38;5;124;43m'\u001b[39;49m\u001b[43m,\u001b[49m\u001b[43m \u001b[49m\u001b[38;5;124;43m'\u001b[39;49m\u001b[38;5;124;43mlon\u001b[39;49m\u001b[38;5;124;43m'\u001b[39;49m\u001b[43m,\u001b[49m\u001b[43m \u001b[49m\u001b[38;5;124;43m'\u001b[39;49m\u001b[38;5;124;43mestacao\u001b[39;49m\u001b[38;5;124;43m'\u001b[39;49m\u001b[43m]\u001b[49m\u001b[43m)\u001b[49m\n\u001b[1;32m      2\u001b[0m \u001b[38;5;66;03m# x['lon']=lon\u001b[39;00m\n\u001b[1;32m      3\u001b[0m \u001b[38;5;66;03m# x['estacao']=estacao\u001b[39;00m\n\u001b[1;32m      4\u001b[0m x\u001b[38;5;241m.\u001b[39mdrop_duplicates(\u001b[38;5;124m'\u001b[39m\u001b[38;5;124mestacao\u001b[39m\u001b[38;5;124m'\u001b[39m)\n",
      "File \u001b[0;32m~/.pyenv/versions/3.8.12/envs/rain-prediction-machine/lib/python3.8/site-packages/pandas/core/frame.py:721\u001b[0m, in \u001b[0;36mDataFrame.__init__\u001b[0;34m(self, data, index, columns, dtype, copy)\u001b[0m\n\u001b[1;32m    716\u001b[0m     \u001b[38;5;28;01mif\u001b[39;00m columns \u001b[38;5;129;01mis\u001b[39;00m \u001b[38;5;129;01mnot\u001b[39;00m \u001b[38;5;28;01mNone\u001b[39;00m:\n\u001b[1;32m    717\u001b[0m         \u001b[38;5;66;03m# error: Argument 1 to \"ensure_index\" has incompatible type\u001b[39;00m\n\u001b[1;32m    718\u001b[0m         \u001b[38;5;66;03m# \"Collection[Any]\"; expected \"Union[Union[Union[ExtensionArray,\u001b[39;00m\n\u001b[1;32m    719\u001b[0m         \u001b[38;5;66;03m# ndarray], Index, Series], Sequence[Any]]\"\u001b[39;00m\n\u001b[1;32m    720\u001b[0m         columns \u001b[38;5;241m=\u001b[39m ensure_index(columns)  \u001b[38;5;66;03m# type: ignore[arg-type]\u001b[39;00m\n\u001b[0;32m--> 721\u001b[0m     arrays, columns, index \u001b[38;5;241m=\u001b[39m \u001b[43mnested_data_to_arrays\u001b[49m\u001b[43m(\u001b[49m\n\u001b[1;32m    722\u001b[0m \u001b[43m        \u001b[49m\u001b[38;5;66;43;03m# error: Argument 3 to \"nested_data_to_arrays\" has incompatible\u001b[39;49;00m\n\u001b[1;32m    723\u001b[0m \u001b[43m        \u001b[49m\u001b[38;5;66;43;03m# type \"Optional[Collection[Any]]\"; expected \"Optional[Index]\"\u001b[39;49;00m\n\u001b[1;32m    724\u001b[0m \u001b[43m        \u001b[49m\u001b[43mdata\u001b[49m\u001b[43m,\u001b[49m\n\u001b[1;32m    725\u001b[0m \u001b[43m        \u001b[49m\u001b[43mcolumns\u001b[49m\u001b[43m,\u001b[49m\n\u001b[1;32m    726\u001b[0m \u001b[43m        \u001b[49m\u001b[43mindex\u001b[49m\u001b[43m,\u001b[49m\u001b[43m  \u001b[49m\u001b[38;5;66;43;03m# type: ignore[arg-type]\u001b[39;49;00m\n\u001b[1;32m    727\u001b[0m \u001b[43m        \u001b[49m\u001b[43mdtype\u001b[49m\u001b[43m,\u001b[49m\n\u001b[1;32m    728\u001b[0m \u001b[43m    \u001b[49m\u001b[43m)\u001b[49m\n\u001b[1;32m    729\u001b[0m     mgr \u001b[38;5;241m=\u001b[39m arrays_to_mgr(\n\u001b[1;32m    730\u001b[0m         arrays,\n\u001b[1;32m    731\u001b[0m         columns,\n\u001b[0;32m   (...)\u001b[0m\n\u001b[1;32m    734\u001b[0m         typ\u001b[38;5;241m=\u001b[39mmanager,\n\u001b[1;32m    735\u001b[0m     )\n\u001b[1;32m    736\u001b[0m \u001b[38;5;28;01melse\u001b[39;00m:\n",
      "File \u001b[0;32m~/.pyenv/versions/3.8.12/envs/rain-prediction-machine/lib/python3.8/site-packages/pandas/core/internals/construction.py:519\u001b[0m, in \u001b[0;36mnested_data_to_arrays\u001b[0;34m(data, columns, index, dtype)\u001b[0m\n\u001b[1;32m    516\u001b[0m \u001b[38;5;28;01mif\u001b[39;00m is_named_tuple(data[\u001b[38;5;241m0\u001b[39m]) \u001b[38;5;129;01mand\u001b[39;00m columns \u001b[38;5;129;01mis\u001b[39;00m \u001b[38;5;28;01mNone\u001b[39;00m:\n\u001b[1;32m    517\u001b[0m     columns \u001b[38;5;241m=\u001b[39m ensure_index(data[\u001b[38;5;241m0\u001b[39m]\u001b[38;5;241m.\u001b[39m_fields)\n\u001b[0;32m--> 519\u001b[0m arrays, columns \u001b[38;5;241m=\u001b[39m \u001b[43mto_arrays\u001b[49m\u001b[43m(\u001b[49m\u001b[43mdata\u001b[49m\u001b[43m,\u001b[49m\u001b[43m \u001b[49m\u001b[43mcolumns\u001b[49m\u001b[43m,\u001b[49m\u001b[43m \u001b[49m\u001b[43mdtype\u001b[49m\u001b[38;5;241;43m=\u001b[39;49m\u001b[43mdtype\u001b[49m\u001b[43m)\u001b[49m\n\u001b[1;32m    520\u001b[0m columns \u001b[38;5;241m=\u001b[39m ensure_index(columns)\n\u001b[1;32m    522\u001b[0m \u001b[38;5;28;01mif\u001b[39;00m index \u001b[38;5;129;01mis\u001b[39;00m \u001b[38;5;28;01mNone\u001b[39;00m:\n",
      "File \u001b[0;32m~/.pyenv/versions/3.8.12/envs/rain-prediction-machine/lib/python3.8/site-packages/pandas/core/internals/construction.py:883\u001b[0m, in \u001b[0;36mto_arrays\u001b[0;34m(data, columns, dtype)\u001b[0m\n\u001b[1;32m    880\u001b[0m     data \u001b[38;5;241m=\u001b[39m [\u001b[38;5;28mtuple\u001b[39m(x) \u001b[38;5;28;01mfor\u001b[39;00m x \u001b[38;5;129;01min\u001b[39;00m data]\n\u001b[1;32m    881\u001b[0m     arr \u001b[38;5;241m=\u001b[39m _list_to_arrays(data)\n\u001b[0;32m--> 883\u001b[0m content, columns \u001b[38;5;241m=\u001b[39m \u001b[43m_finalize_columns_and_data\u001b[49m\u001b[43m(\u001b[49m\u001b[43marr\u001b[49m\u001b[43m,\u001b[49m\u001b[43m \u001b[49m\u001b[43mcolumns\u001b[49m\u001b[43m,\u001b[49m\u001b[43m \u001b[49m\u001b[43mdtype\u001b[49m\u001b[43m)\u001b[49m\n\u001b[1;32m    884\u001b[0m \u001b[38;5;28;01mreturn\u001b[39;00m content, columns\n",
      "File \u001b[0;32m~/.pyenv/versions/3.8.12/envs/rain-prediction-machine/lib/python3.8/site-packages/pandas/core/internals/construction.py:985\u001b[0m, in \u001b[0;36m_finalize_columns_and_data\u001b[0;34m(content, columns, dtype)\u001b[0m\n\u001b[1;32m    982\u001b[0m     columns \u001b[38;5;241m=\u001b[39m _validate_or_indexify_columns(contents, columns)\n\u001b[1;32m    983\u001b[0m \u001b[38;5;28;01mexcept\u001b[39;00m \u001b[38;5;167;01mAssertionError\u001b[39;00m \u001b[38;5;28;01mas\u001b[39;00m err:\n\u001b[1;32m    984\u001b[0m     \u001b[38;5;66;03m# GH#26429 do not raise user-facing AssertionError\u001b[39;00m\n\u001b[0;32m--> 985\u001b[0m     \u001b[38;5;28;01mraise\u001b[39;00m \u001b[38;5;167;01mValueError\u001b[39;00m(err) \u001b[38;5;28;01mfrom\u001b[39;00m \u001b[38;5;21;01merr\u001b[39;00m\n\u001b[1;32m    987\u001b[0m \u001b[38;5;28;01mif\u001b[39;00m \u001b[38;5;28mlen\u001b[39m(contents) \u001b[38;5;129;01mand\u001b[39;00m contents[\u001b[38;5;241m0\u001b[39m]\u001b[38;5;241m.\u001b[39mdtype \u001b[38;5;241m==\u001b[39m np\u001b[38;5;241m.\u001b[39mobject_:\n\u001b[1;32m    988\u001b[0m     contents \u001b[38;5;241m=\u001b[39m _convert_object_array(contents, dtype\u001b[38;5;241m=\u001b[39mdtype)\n",
      "\u001b[0;31mValueError\u001b[0m: 3 columns passed, passed data had 63 columns"
     ]
    }
   ],
   "source": [
    "\n",
    "coord=pd.DataFrame([lat, lon, est] columns=['lat'])\n",
    "coord['lon']=lon\n",
    "coord['estacao']=estacao\n",
    "coord.drop_duplicates('estacao')\n"
   ]
  },
  {
   "cell_type": "code",
   "execution_count": null,
   "id": "f269a344",
   "metadata": {},
   "outputs": [],
   "source": [
    "lat_lon2=lat_lon(63)\n",
    "lat=lat_lon2.groupby(by=lat_lon2['latitude'])\n",
    "lon=lat_lon2.groupby(by=lat_lon2['longitude'])\n",
    "nomes=lat_lon2.groupby(by=lat_lon2['estacao'])\n",
    "\n",
    "lat_lon2=lat_lon(63)\n",
    "lat=lat_lon2.latitude.unique()\n",
    "lon=lat_lon2.longitude.unique()\n",
    "nomes=lat_lon2.estacao.unique()"
   ]
  },
  {
   "cell_type": "markdown",
   "id": "f0475f48",
   "metadata": {},
   "source": [
    "# Explorando os dados"
   ]
  },
  {
   "cell_type": "markdown",
   "id": "110e8de3",
   "metadata": {},
   "source": [
    "## Verificando células nulas"
   ]
  },
  {
   "cell_type": "code",
   "execution_count": null,
   "id": "c43dbb72",
   "metadata": {},
   "outputs": [],
   "source": [
    "df2.isnull().sum().sort_values(ascending=False)/len(df2)"
   ]
  },
  {
   "cell_type": "markdown",
   "id": "28ae01fe",
   "metadata": {},
   "source": [
    "## Scale sensitivity"
   ]
  },
  {
   "cell_type": "code",
   "execution_count": null,
   "id": "772899fa",
   "metadata": {},
   "outputs": [],
   "source": [
    "from RainPredictionMachine.Trainer import pipe_creator\n"
   ]
  },
  {
   "cell_type": "code",
   "execution_count": null,
   "id": "a9f9ba09",
   "metadata": {},
   "outputs": [],
   "source": []
  },
  {
   "cell_type": "code",
   "execution_count": null,
   "id": "dfede463",
   "metadata": {},
   "outputs": [],
   "source": [
    "df2[['Radiacao']].boxplot(figsize=(20,6));"
   ]
  },
  {
   "cell_type": "code",
   "execution_count": null,
   "id": "06b5956a",
   "metadata": {},
   "outputs": [],
   "source": [
    "df2[['Chuva']].boxplot(figsize=(20,6));"
   ]
  },
  {
   "cell_type": "code",
   "execution_count": null,
   "id": "3a368f57",
   "metadata": {},
   "outputs": [],
   "source": [
    "df2[['Umid_min']].boxplot(figsize=(20,6));"
   ]
  },
  {
   "cell_type": "code",
   "execution_count": null,
   "id": "548a0ffd",
   "metadata": {},
   "outputs": [],
   "source": [
    "df2[['Vel_vento']].boxplot(figsize=(20,6));"
   ]
  },
  {
   "cell_type": "code",
   "execution_count": null,
   "id": "f0887961",
   "metadata": {},
   "outputs": [],
   "source": [
    "df2[['Rajada_vento']].boxplot(figsize=(20,6));"
   ]
  },
  {
   "cell_type": "code",
   "execution_count": null,
   "id": "f9fc1431",
   "metadata": {},
   "outputs": [],
   "source": [
    "df2[['Dir_vento']].boxplot(figsize=(20,6));"
   ]
  },
  {
   "cell_type": "code",
   "execution_count": null,
   "id": "7afe15fd",
   "metadata": {},
   "outputs": [],
   "source": [
    "df2[['Umid']].boxplot(figsize=(20,6));"
   ]
  },
  {
   "cell_type": "code",
   "execution_count": null,
   "id": "34209db0",
   "metadata": {},
   "outputs": [],
   "source": [
    "df2[['Umid_max']].boxplot(figsize=(20,6));"
   ]
  },
  {
   "cell_type": "code",
   "execution_count": null,
   "id": "97e68a54",
   "metadata": {},
   "outputs": [],
   "source": [
    "df2[['Pres']].boxplot(figsize=(20,6));"
   ]
  },
  {
   "cell_type": "code",
   "execution_count": null,
   "id": "6adcbe73",
   "metadata": {},
   "outputs": [],
   "source": [
    "df2[['Temp_orvalho_min']].boxplot(figsize=(20,6));"
   ]
  },
  {
   "cell_type": "code",
   "execution_count": null,
   "id": "d3f2a192",
   "metadata": {},
   "outputs": [],
   "source": [
    "df2[['Temp_min']].boxplot(figsize=(20,6));"
   ]
  },
  {
   "cell_type": "code",
   "execution_count": null,
   "id": "21367e63",
   "metadata": {},
   "outputs": [],
   "source": [
    "df2[['Temp_max']].boxplot(figsize=(20,6));"
   ]
  },
  {
   "cell_type": "code",
   "execution_count": null,
   "id": "7081ea0e",
   "metadata": {},
   "outputs": [],
   "source": [
    "df2[['Temp_orvalho']].boxplot(figsize=(20,6));"
   ]
  },
  {
   "cell_type": "code",
   "execution_count": null,
   "id": "bfb1d082",
   "metadata": {},
   "outputs": [],
   "source": [
    "df2[['Temp']].boxplot(figsize=(20,6));"
   ]
  },
  {
   "cell_type": "code",
   "execution_count": null,
   "id": "7fdef5bc",
   "metadata": {},
   "outputs": [],
   "source": [
    "df2[['Radiacao']].boxplot(figsize=(20,6));"
   ]
  },
  {
   "cell_type": "code",
   "execution_count": null,
   "id": "41ab8bbe",
   "metadata": {},
   "outputs": [],
   "source": [
    "df2[['Pres_min']].boxplot(figsize=(20,6));"
   ]
  },
  {
   "cell_type": "code",
   "execution_count": null,
   "id": "922ea44d",
   "metadata": {},
   "outputs": [],
   "source": [
    "df2[['Pres_max']].boxplot(figsize=(20,6));"
   ]
  },
  {
   "cell_type": "code",
   "execution_count": null,
   "id": "71b6c6aa",
   "metadata": {},
   "outputs": [],
   "source": [
    "df2['classe_chuva'].value_counts"
   ]
  },
  {
   "cell_type": "markdown",
   "id": "3f1876e1",
   "metadata": {},
   "source": [
    "## Contando a quantidade de eventos de intensidade de chuva"
   ]
  },
  {
   "cell_type": "code",
   "execution_count": null,
   "id": "8eefe998",
   "metadata": {},
   "outputs": [],
   "source": [
    "chuva_zero = df2[df2['classe_chuva']  == 'nao chove']\n",
    "chuva_zero"
   ]
  },
  {
   "cell_type": "code",
   "execution_count": null,
   "id": "68077a93",
   "metadata": {},
   "outputs": [],
   "source": [
    "chuva_fraca = df2[df2['classe_chuva']  == 'fraca']\n",
    "chuva_fraca"
   ]
  },
  {
   "cell_type": "code",
   "execution_count": null,
   "id": "e4324e64",
   "metadata": {},
   "outputs": [],
   "source": [
    "chuva_moderada = df2[df2['classe_chuva']  == 'moderada']\n",
    "chuva_moderada"
   ]
  },
  {
   "cell_type": "code",
   "execution_count": null,
   "id": "29263353",
   "metadata": {
    "scrolled": true
   },
   "outputs": [],
   "source": [
    "chuva_forte = df2[df2['classe_chuva']  == 'forte']\n",
    "chuva_forte"
   ]
  },
  {
   "cell_type": "code",
   "execution_count": null,
   "id": "70ab5bb7",
   "metadata": {},
   "outputs": [],
   "source": [
    "chuva_muitoforte = df2[df2['classe_chuva']  == 'muito forte']\n",
    "chuva_muitoforte"
   ]
  },
  {
   "cell_type": "markdown",
   "id": "0d5f5569",
   "metadata": {},
   "source": [
    "## Verificando padrão de temperatura, pressão e umidade antes da chuva"
   ]
  },
  {
   "cell_type": "code",
   "execution_count": null,
   "id": "d4bd99b9",
   "metadata": {},
   "outputs": [],
   "source": [
    "# a. encontra o tempo que a intensidade da chuva estava muito forte\n",
    "tempo_chv_muito_forte = df2[df2['classe_chuva']  == 'forte']['datahora']\n",
    "lista = list(tempo_chv_muito_forte.index)\n",
    "lista"
   ]
  },
  {
   "cell_type": "code",
   "execution_count": null,
   "id": "f559fa39",
   "metadata": {},
   "outputs": [],
   "source": [
    "# b. captura a partir do padrão de T, P e U das 5 horas anteriores e posteriores de a \n",
    "df2.iloc[lista[0] - 5: lista[0] + 6][['Temp', 'Umid']].plot()\n",
    "# c. plotar T, P, U e chuva como bolinha"
   ]
  },
  {
   "cell_type": "code",
   "execution_count": null,
   "id": "35868f2f",
   "metadata": {},
   "outputs": [],
   "source": [
    "df2.iloc[lista[0] - 5: lista[0] + 6][['Temp', 'Umid']].plot()"
   ]
  },
  {
   "cell_type": "code",
   "execution_count": null,
   "id": "e6a348da",
   "metadata": {},
   "outputs": [],
   "source": [
    "for i in lista:\n",
    "    df2.iloc[i - 5: i + 6][['Temp', 'Umid']].plot()"
   ]
  },
  {
   "cell_type": "code",
   "execution_count": null,
   "id": "78c0bbd8",
   "metadata": {},
   "outputs": [],
   "source": [
    "df2['datahora'] == tempo_chv_muito_forte"
   ]
  },
  {
   "cell_type": "code",
   "execution_count": null,
   "id": "01787f61",
   "metadata": {},
   "outputs": [],
   "source": [
    "tempo_chv_muito_forte"
   ]
  },
  {
   "cell_type": "markdown",
   "id": "3d54b129",
   "metadata": {},
   "source": [
    "## Heatmap of the Pearson Correlation between the dataset columns."
   ]
  },
  {
   "cell_type": "code",
   "execution_count": null,
   "id": "f1e31eb5",
   "metadata": {},
   "outputs": [],
   "source": [
    "import seaborn as sns\n",
    "\n",
    "# Heatmap\n",
    "corr = df2.corr()\n",
    "sns.heatmap(corr, \n",
    "        xticklabels=corr.columns,\n",
    "        yticklabels=corr.columns,\n",
    "        cmap= \"YlGnBu\");"
   ]
  },
  {
   "cell_type": "markdown",
   "id": "4714143e",
   "metadata": {},
   "source": [
    "## Correlation between column pairs in a dataframe"
   ]
  },
  {
   "cell_type": "code",
   "execution_count": null,
   "id": "e88181da",
   "metadata": {},
   "outputs": [],
   "source": []
  }
 ],
 "metadata": {
  "kernelspec": {
   "display_name": "Python 3 (ipykernel)",
   "language": "python",
   "name": "python3"
  },
  "language_info": {
   "codemirror_mode": {
    "name": "ipython",
    "version": 3
   },
   "file_extension": ".py",
   "mimetype": "text/x-python",
   "name": "python",
   "nbconvert_exporter": "python",
   "pygments_lexer": "ipython3",
   "version": "3.8.12"
  },
  "toc": {
   "base_numbering": 1,
   "nav_menu": {},
   "number_sections": true,
   "sideBar": true,
   "skip_h1_title": false,
   "title_cell": "Table of Contents",
   "title_sidebar": "Contents",
   "toc_cell": false,
   "toc_position": {},
   "toc_section_display": true,
   "toc_window_display": false
  }
 },
 "nbformat": 4,
 "nbformat_minor": 5
}
